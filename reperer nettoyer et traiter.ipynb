{
 "cells": [
  {
   "cell_type": "code",
   "execution_count": 2,
   "metadata": {
    "collapsed": true
   },
   "outputs": [],
   "source": [
    "import pandas as pa\n",
    "arbres = pa.read_csv(\"./p2-arbres-fr.csv\", sep=\";\")"
   ]
  },
  {
   "cell_type": "markdown",
   "metadata": {},
   "source": [
    "# [Cleaning Big Data: Most Time-Consuming, Least Enjoyable Data Science Task, Survey Says](https://www.forbes.com/sites/gilpress/2016/03/23/data-preparation-most-time-consuming-least-enjoyable-data-science-task-survey-says/?sh=271dee696f63)\n",
    "\n",
    "<img style=\"display: flex;\" src=\"https://thumbor.forbes.com/thumbor/960x0/https%3A%2F%2Fblogs-images.forbes.com%2Fgilpress%2Ffiles%2F2016%2F03%2FTime-1200x511.jpg\" alt=\"Time\" width=\"auto\" margin=\"200\">\n",
    "\n",
    "Sur [Wikipedia](https://fr.wikipedia.org/wiki/Nettoyage_de_donn%C3%A9es) nous trouvons un ensemble de definition et de solution\n",
    "parmis les erreurs :\n",
    "    syntaxe\n",
    "        lexicale\n",
    "        formatage\n",
    "        irrégularité\n",
    "    sémantique\n",
    "        Violation des contraintes d'intégrité\n",
    "        contradiction\n",
    "        duplication\n",
    "        donnée invalide\n",
    "    couverture\n",
    "        valeur manquante\n",
    "        donnée manquante\n",
    "\n",
    "les Methodes :\n",
    "    parsing (regex)\n",
    "    transformation de donnée\n",
    "    renforcement de contraintes d'integrité\n",
    "    statistique\n",
    "    crowdsourcing\n",
    "\n",
    "les solutions :\n",
    "    Potter's wheel\n",
    "    AJAX\n",
    "    IntelliClean\n",
    "    FraQl\n",
    "    ARKTOS\n",
    "    KATARA"
   ]
  },
  {
   "cell_type": "markdown",
   "metadata": {},
   "source": [
    "# Premiere commande\n",
    "## la taille de notre DataFrame\n",
    "la fonction shape de numpy nous retourne un tuple equivalent de la fonction len(), mais nous retourne en plus les nb de colonne"
   ]
  },
  {
   "cell_type": "code",
   "execution_count": 3,
   "metadata": {
    "pycharm": {
     "name": "#%%\n"
    }
   },
   "outputs": [
    {
     "data": {
      "text/plain": "(200137, 18)"
     },
     "execution_count": 3,
     "metadata": {},
     "output_type": "execute_result"
    }
   ],
   "source": [
    "arbres.shape"
   ]
  },
  {
   "cell_type": "markdown",
   "source": [
    "## Description et affichage des en-tetes\n",
    "Pour une première approche on utilise deux fonctions de Pandas [head()](https://pandas.pydata.org/docs/reference/api/pandas.DataFrame.head.html?highlight=head#pandas.DataFrame.head) et [describe()](https://pandas.pydata.org/docs/reference/api/pandas.DataFrame.describe.html?highlight=describe#pandas.DataFrame.describe).\n",
    "La fonction describe() va pourvoir nous donner une indication au-delà des statistiques, des colonnes vides ou encore grace a max de certaines valeurs aberrantes"
   ],
   "metadata": {
    "collapsed": false
   }
  },
  {
   "cell_type": "code",
   "execution_count": 4,
   "outputs": [
    {
     "data": {
      "text/plain": "      id type_emplacement domanialite   arrondissement complement_addresse  \\\n0  99874            Arbre      Jardin   PARIS 7E ARRDT                 NaN   \n1  99875            Arbre      Jardin   PARIS 7E ARRDT                 NaN   \n2  99876            Arbre      Jardin   PARIS 7E ARRDT                 NaN   \n3  99877            Arbre      Jardin   PARIS 7E ARRDT                 NaN   \n4  99878            Arbre      Jardin  PARIS 17E ARRDT                 NaN   \n\n   numero                                        lieu id_emplacement  \\\n0     NaN   MAIRIE DU 7E 116 RUE DE GRENELLE PARIS 7E             19   \n1     NaN   MAIRIE DU 7E 116 RUE DE GRENELLE PARIS 7E             20   \n2     NaN   MAIRIE DU 7E 116 RUE DE GRENELLE PARIS 7E             21   \n3     NaN   MAIRIE DU 7E 116 RUE DE GRENELLE PARIS 7E             22   \n4     NaN  PARC CLICHY-BATIGNOLLES-MARTIN LUTHER KING       000G0037   \n\n  libelle_francais      genre         espece variete  circonference_cm  \\\n0       Marronnier   Aesculus  hippocastanum     NaN                20   \n1               If      Taxus        baccata     NaN                65   \n2               If      Taxus        baccata     NaN                90   \n3           Erable       Acer        negundo     NaN                60   \n4     Arbre à miel  Tetradium      daniellii     NaN                38   \n\n   hauteur_m stade_developpement  remarquable  geo_point_2d_a  geo_point_2d_b  \n0          5                 NaN          0.0       48.857620        2.320962  \n1          8                   A          NaN       48.857656        2.321031  \n2         10                   A          NaN       48.857705        2.321061  \n3          8                   A          NaN       48.857722        2.321006  \n4          0                 NaN          NaN       48.890435        2.315289  ",
      "text/html": "<div>\n<style scoped>\n    .dataframe tbody tr th:only-of-type {\n        vertical-align: middle;\n    }\n\n    .dataframe tbody tr th {\n        vertical-align: top;\n    }\n\n    .dataframe thead th {\n        text-align: right;\n    }\n</style>\n<table border=\"1\" class=\"dataframe\">\n  <thead>\n    <tr style=\"text-align: right;\">\n      <th></th>\n      <th>id</th>\n      <th>type_emplacement</th>\n      <th>domanialite</th>\n      <th>arrondissement</th>\n      <th>complement_addresse</th>\n      <th>numero</th>\n      <th>lieu</th>\n      <th>id_emplacement</th>\n      <th>libelle_francais</th>\n      <th>genre</th>\n      <th>espece</th>\n      <th>variete</th>\n      <th>circonference_cm</th>\n      <th>hauteur_m</th>\n      <th>stade_developpement</th>\n      <th>remarquable</th>\n      <th>geo_point_2d_a</th>\n      <th>geo_point_2d_b</th>\n    </tr>\n  </thead>\n  <tbody>\n    <tr>\n      <th>0</th>\n      <td>99874</td>\n      <td>Arbre</td>\n      <td>Jardin</td>\n      <td>PARIS 7E ARRDT</td>\n      <td>NaN</td>\n      <td>NaN</td>\n      <td>MAIRIE DU 7E 116 RUE DE GRENELLE PARIS 7E</td>\n      <td>19</td>\n      <td>Marronnier</td>\n      <td>Aesculus</td>\n      <td>hippocastanum</td>\n      <td>NaN</td>\n      <td>20</td>\n      <td>5</td>\n      <td>NaN</td>\n      <td>0.0</td>\n      <td>48.857620</td>\n      <td>2.320962</td>\n    </tr>\n    <tr>\n      <th>1</th>\n      <td>99875</td>\n      <td>Arbre</td>\n      <td>Jardin</td>\n      <td>PARIS 7E ARRDT</td>\n      <td>NaN</td>\n      <td>NaN</td>\n      <td>MAIRIE DU 7E 116 RUE DE GRENELLE PARIS 7E</td>\n      <td>20</td>\n      <td>If</td>\n      <td>Taxus</td>\n      <td>baccata</td>\n      <td>NaN</td>\n      <td>65</td>\n      <td>8</td>\n      <td>A</td>\n      <td>NaN</td>\n      <td>48.857656</td>\n      <td>2.321031</td>\n    </tr>\n    <tr>\n      <th>2</th>\n      <td>99876</td>\n      <td>Arbre</td>\n      <td>Jardin</td>\n      <td>PARIS 7E ARRDT</td>\n      <td>NaN</td>\n      <td>NaN</td>\n      <td>MAIRIE DU 7E 116 RUE DE GRENELLE PARIS 7E</td>\n      <td>21</td>\n      <td>If</td>\n      <td>Taxus</td>\n      <td>baccata</td>\n      <td>NaN</td>\n      <td>90</td>\n      <td>10</td>\n      <td>A</td>\n      <td>NaN</td>\n      <td>48.857705</td>\n      <td>2.321061</td>\n    </tr>\n    <tr>\n      <th>3</th>\n      <td>99877</td>\n      <td>Arbre</td>\n      <td>Jardin</td>\n      <td>PARIS 7E ARRDT</td>\n      <td>NaN</td>\n      <td>NaN</td>\n      <td>MAIRIE DU 7E 116 RUE DE GRENELLE PARIS 7E</td>\n      <td>22</td>\n      <td>Erable</td>\n      <td>Acer</td>\n      <td>negundo</td>\n      <td>NaN</td>\n      <td>60</td>\n      <td>8</td>\n      <td>A</td>\n      <td>NaN</td>\n      <td>48.857722</td>\n      <td>2.321006</td>\n    </tr>\n    <tr>\n      <th>4</th>\n      <td>99878</td>\n      <td>Arbre</td>\n      <td>Jardin</td>\n      <td>PARIS 17E ARRDT</td>\n      <td>NaN</td>\n      <td>NaN</td>\n      <td>PARC CLICHY-BATIGNOLLES-MARTIN LUTHER KING</td>\n      <td>000G0037</td>\n      <td>Arbre à miel</td>\n      <td>Tetradium</td>\n      <td>daniellii</td>\n      <td>NaN</td>\n      <td>38</td>\n      <td>0</td>\n      <td>NaN</td>\n      <td>NaN</td>\n      <td>48.890435</td>\n      <td>2.315289</td>\n    </tr>\n  </tbody>\n</table>\n</div>"
     },
     "execution_count": 4,
     "metadata": {},
     "output_type": "execute_result"
    }
   ],
   "source": [
    "arbres.head(5)"
   ],
   "metadata": {
    "collapsed": false,
    "pycharm": {
     "name": "#%%\n"
    }
   }
  },
  {
   "cell_type": "code",
   "execution_count": 5,
   "outputs": [
    {
     "data": {
      "text/plain": "                 id  numero  circonference_cm      hauteur_m    remarquable  \\\ncount  2.001370e+05     0.0     200137.000000  200137.000000  137039.000000   \nmean   3.872027e+05     NaN         83.380479      13.110509       0.001343   \nstd    5.456032e+05     NaN        673.190213    1971.217387       0.036618   \nmin    9.987400e+04     NaN          0.000000       0.000000       0.000000   \n25%    1.559270e+05     NaN         30.000000       5.000000       0.000000   \n50%    2.210780e+05     NaN         70.000000       8.000000       0.000000   \n75%    2.741020e+05     NaN        115.000000      12.000000       0.000000   \nmax    2.024745e+06     NaN     250255.000000  881818.000000       1.000000   \n\n       geo_point_2d_a  geo_point_2d_b  \ncount   200137.000000   200137.000000  \nmean        48.854491        2.348208  \nstd          0.030234        0.051220  \nmin         48.742290        2.210241  \n25%         48.835021        2.307530  \n50%         48.854162        2.351095  \n75%         48.876447        2.386838  \nmax         48.911485        2.469759  ",
      "text/html": "<div>\n<style scoped>\n    .dataframe tbody tr th:only-of-type {\n        vertical-align: middle;\n    }\n\n    .dataframe tbody tr th {\n        vertical-align: top;\n    }\n\n    .dataframe thead th {\n        text-align: right;\n    }\n</style>\n<table border=\"1\" class=\"dataframe\">\n  <thead>\n    <tr style=\"text-align: right;\">\n      <th></th>\n      <th>id</th>\n      <th>numero</th>\n      <th>circonference_cm</th>\n      <th>hauteur_m</th>\n      <th>remarquable</th>\n      <th>geo_point_2d_a</th>\n      <th>geo_point_2d_b</th>\n    </tr>\n  </thead>\n  <tbody>\n    <tr>\n      <th>count</th>\n      <td>2.001370e+05</td>\n      <td>0.0</td>\n      <td>200137.000000</td>\n      <td>200137.000000</td>\n      <td>137039.000000</td>\n      <td>200137.000000</td>\n      <td>200137.000000</td>\n    </tr>\n    <tr>\n      <th>mean</th>\n      <td>3.872027e+05</td>\n      <td>NaN</td>\n      <td>83.380479</td>\n      <td>13.110509</td>\n      <td>0.001343</td>\n      <td>48.854491</td>\n      <td>2.348208</td>\n    </tr>\n    <tr>\n      <th>std</th>\n      <td>5.456032e+05</td>\n      <td>NaN</td>\n      <td>673.190213</td>\n      <td>1971.217387</td>\n      <td>0.036618</td>\n      <td>0.030234</td>\n      <td>0.051220</td>\n    </tr>\n    <tr>\n      <th>min</th>\n      <td>9.987400e+04</td>\n      <td>NaN</td>\n      <td>0.000000</td>\n      <td>0.000000</td>\n      <td>0.000000</td>\n      <td>48.742290</td>\n      <td>2.210241</td>\n    </tr>\n    <tr>\n      <th>25%</th>\n      <td>1.559270e+05</td>\n      <td>NaN</td>\n      <td>30.000000</td>\n      <td>5.000000</td>\n      <td>0.000000</td>\n      <td>48.835021</td>\n      <td>2.307530</td>\n    </tr>\n    <tr>\n      <th>50%</th>\n      <td>2.210780e+05</td>\n      <td>NaN</td>\n      <td>70.000000</td>\n      <td>8.000000</td>\n      <td>0.000000</td>\n      <td>48.854162</td>\n      <td>2.351095</td>\n    </tr>\n    <tr>\n      <th>75%</th>\n      <td>2.741020e+05</td>\n      <td>NaN</td>\n      <td>115.000000</td>\n      <td>12.000000</td>\n      <td>0.000000</td>\n      <td>48.876447</td>\n      <td>2.386838</td>\n    </tr>\n    <tr>\n      <th>max</th>\n      <td>2.024745e+06</td>\n      <td>NaN</td>\n      <td>250255.000000</td>\n      <td>881818.000000</td>\n      <td>1.000000</td>\n      <td>48.911485</td>\n      <td>2.469759</td>\n    </tr>\n  </tbody>\n</table>\n</div>"
     },
     "execution_count": 5,
     "metadata": {},
     "output_type": "execute_result"
    }
   ],
   "source": [
    "arbres.describe()"
   ],
   "metadata": {
    "collapsed": false,
    "pycharm": {
     "name": "#%%\n"
    }
   }
  },
  {
   "cell_type": "markdown",
   "metadata": {},
   "source": []
  },
  {
   "cell_type": "markdown",
   "metadata": {},
   "source": [
    "## Recherche et somme des valeurs manquante du DataFrame dans chaque colonne\n",
    "L'utilisation de la fonction [pandas.DataFrame.isna](https://pandas.pydata.org/docs/reference/api/pandas.DataFrame.isna.html) ou [pandas.DataFrame.isnull](https://pandas.pydata.org/docs/reference/api/pandas.DataFrame.isnull.html), nous retourne un tableau de valeurs booléennes de même taille, oû chaque cellule\n",
    "est testée et s'il y a bien une donnée présente.\n",
    "\n"
   ]
  },
  {
   "cell_type": "code",
   "execution_count": 6,
   "metadata": {
    "pycharm": {
     "name": "#%%\n"
    }
   },
   "outputs": [
    {
     "data": {
      "text/plain": "id                          0\ntype_emplacement            0\ndomanialite                 1\narrondissement              0\ncomplement_addresse    169235\nnumero                 200137\nlieu                        0\nid_emplacement              0\nlibelle_francais         1497\ngenre                      16\nespece                   1752\nvariete                163360\ncirconference_cm            0\nhauteur_m                   0\nstade_developpement     67205\nremarquable             63098\ngeo_point_2d_a              0\ngeo_point_2d_b              0\ndtype: int64"
     },
     "execution_count": 6,
     "metadata": {},
     "output_type": "execute_result"
    }
   ],
   "source": [
    "arbres.isnull().sum()"
   ]
  },
  {
   "cell_type": "code",
   "execution_count": 7,
   "outputs": [
    {
     "data": {
      "text/plain": "array(['Jardin', 'Alignement', 'DJS', 'DFPE', 'CIMETIERE', 'DASCO', 'DAC',\n       'PERIPHERIQUE', 'DASES', nan], dtype=object)"
     },
     "execution_count": 7,
     "metadata": {},
     "output_type": "execute_result"
    }
   ],
   "source": [
    "arbres.domanialite.unique()"
   ],
   "metadata": {
    "collapsed": false,
    "pycharm": {
     "name": "#%%\n"
    }
   }
  },
  {
   "cell_type": "markdown",
   "metadata": {
    "pycharm": {
     "name": "#%% md\n"
    }
   },
   "source": [
    "Dans l'exemple ci-dessous, on peut constater que la valeur de la 'dominialite' manquante est renseigné dans le lieu, qui fait partie des valeurs possibles de la colonne"
   ]
  },
  {
   "cell_type": "code",
   "execution_count": 8,
   "metadata": {
    "pycharm": {
     "name": "#%%\n"
    }
   },
   "outputs": [
    {
     "data": {
      "text/plain": "             id type_emplacement domanialite   arrondissement  \\\n197239  2020911            Arbre         NaN  PARIS 20E ARRDT   \n\n       complement_addresse  numero  \\\n197239                 NaN     NaN   \n\n                                                     lieu id_emplacement  \\\n197239  JARDINS D IMMEUBLES PORTE DE VINCENNES NORD / ...         203006   \n\n       libelle_francais         genre   espece variete  circonference_cm  \\\n197239      Chimonanthe  Chimonanthus  praecox     NaN                35   \n\n        hauteur_m stade_developpement  remarquable  geo_point_2d_a  \\\n197239          4                  JA          0.0       48.849547   \n\n        geo_point_2d_b  \n197239         2.41419  ",
      "text/html": "<div>\n<style scoped>\n    .dataframe tbody tr th:only-of-type {\n        vertical-align: middle;\n    }\n\n    .dataframe tbody tr th {\n        vertical-align: top;\n    }\n\n    .dataframe thead th {\n        text-align: right;\n    }\n</style>\n<table border=\"1\" class=\"dataframe\">\n  <thead>\n    <tr style=\"text-align: right;\">\n      <th></th>\n      <th>id</th>\n      <th>type_emplacement</th>\n      <th>domanialite</th>\n      <th>arrondissement</th>\n      <th>complement_addresse</th>\n      <th>numero</th>\n      <th>lieu</th>\n      <th>id_emplacement</th>\n      <th>libelle_francais</th>\n      <th>genre</th>\n      <th>espece</th>\n      <th>variete</th>\n      <th>circonference_cm</th>\n      <th>hauteur_m</th>\n      <th>stade_developpement</th>\n      <th>remarquable</th>\n      <th>geo_point_2d_a</th>\n      <th>geo_point_2d_b</th>\n    </tr>\n  </thead>\n  <tbody>\n    <tr>\n      <th>197239</th>\n      <td>2020911</td>\n      <td>Arbre</td>\n      <td>NaN</td>\n      <td>PARIS 20E ARRDT</td>\n      <td>NaN</td>\n      <td>NaN</td>\n      <td>JARDINS D IMMEUBLES PORTE DE VINCENNES NORD / ...</td>\n      <td>203006</td>\n      <td>Chimonanthe</td>\n      <td>Chimonanthus</td>\n      <td>praecox</td>\n      <td>NaN</td>\n      <td>35</td>\n      <td>4</td>\n      <td>JA</td>\n      <td>0.0</td>\n      <td>48.849547</td>\n      <td>2.41419</td>\n    </tr>\n  </tbody>\n</table>\n</div>"
     },
     "execution_count": 8,
     "metadata": {},
     "output_type": "execute_result"
    }
   ],
   "source": [
    "arbres[arbres.domanialite.isna()]"
   ]
  },
  {
   "cell_type": "code",
   "execution_count": 9,
   "outputs": [
    {
     "data": {
      "text/plain": "id                     46262\ntype_emplacement       46262\ndomanialite            46262\narrondissement         46262\ncomplement_addresse     1199\nnumero                     0\nlieu                   46262\nid_emplacement         46262\nlibelle_francais       45886\ngenre                  46246\nespece                 45796\nvariete                 7402\ncirconference_cm       46262\nhauteur_m              46262\nstade_developpement    15798\nremarquable            21326\ngeo_point_2d_a         46262\ngeo_point_2d_b         46262\ndtype: int64"
     },
     "execution_count": 9,
     "metadata": {},
     "output_type": "execute_result"
    }
   ],
   "source": [
    "arbres.where(arbres.domanialite=='Jardin').count()"
   ],
   "metadata": {
    "collapsed": false,
    "pycharm": {
     "name": "#%%\n"
    }
   }
  },
  {
   "cell_type": "code",
   "execution_count": 10,
   "outputs": [],
   "source": [
    "arbres.fillna(\"Jardin\", axis=1, inplace=True, limit=1 )"
   ],
   "metadata": {
    "collapsed": false,
    "pycharm": {
     "name": "#%%\n"
    }
   }
  },
  {
   "cell_type": "code",
   "execution_count": 11,
   "outputs": [
    {
     "data": {
      "text/plain": "id                     46263\ntype_emplacement       46263\ndomanialite            46263\narrondissement         46263\ncomplement_addresse     1200\nnumero                     1\nlieu                   46263\nid_emplacement         46263\nlibelle_francais       45888\ngenre                  46248\nespece                 45798\nvariete                 7403\ncirconference_cm       46263\nhauteur_m              46263\nstade_developpement    15800\nremarquable            21328\ngeo_point_2d_a         46263\ngeo_point_2d_b         46263\ndtype: int64"
     },
     "execution_count": 11,
     "metadata": {},
     "output_type": "execute_result"
    }
   ],
   "source": [
    "arbres.where(arbres.domanialite=='Jardin').count()"
   ],
   "metadata": {
    "collapsed": false,
    "pycharm": {
     "name": "#%%\n"
    }
   }
  },
  {
   "cell_type": "code",
   "execution_count": 12,
   "metadata": {
    "pycharm": {
     "name": "#%%\n"
    }
   },
   "outputs": [
    {
     "data": {
      "text/plain": "array(['Jardin', 'Alignement', 'DJS', 'DFPE', 'CIMETIERE', 'DASCO', 'DAC',\n       'PERIPHERIQUE', 'DASES'], dtype=object)"
     },
     "execution_count": 12,
     "metadata": {},
     "output_type": "execute_result"
    }
   ],
   "source": [
    "arbres.domanialite.unique()"
   ]
  },
  {
   "cell_type": "markdown",
   "source": [
    "Recherche de doublons l'utilisation de la geo-localisation peut-être un bon critère, car en un point precis ne peut avoir théoriquement qu'un seul arbre"
   ],
   "metadata": {
    "collapsed": false
   }
  },
  {
   "cell_type": "code",
   "execution_count": 13,
   "outputs": [
    {
     "data": {
      "text/plain": "11"
     },
     "execution_count": 13,
     "metadata": {},
     "output_type": "execute_result"
    }
   ],
   "source": [
    "geo_a = pa.DataFrame(arbres.geo_point_2d_a)\n",
    "geo_b = pa.DataFrame(arbres.geo_point_2d_b)\n",
    "coordonnees = geo_a.join(geo_b)\n",
    "coordonnees_dupliquees = coordonnees.duplicated()\n",
    "coordonnees_dupliquees.sum()"
   ],
   "metadata": {
    "collapsed": false,
    "pycharm": {
     "name": "#%%\n"
    }
   }
  },
  {
   "cell_type": "code",
   "execution_count": 14,
   "outputs": [
    {
     "data": {
      "text/plain": "             id type_emplacement   domanialite     arrondissement  \\\n10100    112287            Arbre        Jardin    PARIS 12E ARRDT   \n76385    195525            Arbre  PERIPHERIQUE    PARIS 19E ARRDT   \n76386    195526            Arbre  PERIPHERIQUE    PARIS 19E ARRDT   \n76387    195527            Arbre  PERIPHERIQUE    PARIS 19E ARRDT   \n185480  2006188            Arbre    Alignement  BOIS DE VINCENNES   \n188304  2010609            Arbre        Jardin  BOIS DE VINCENNES   \n189134  2011523            Arbre        Jardin  BOIS DE VINCENNES   \n193017  2015806            Arbre        Jardin  BOIS DE VINCENNES   \n193577  2016369            Arbre        Jardin  BOIS DE VINCENNES   \n193586  2016378            Arbre        Jardin  BOIS DE VINCENNES   \n193587  2016379            Arbre        Jardin  BOIS DE VINCENNES   \n\n       complement_addresse numero  \\\n10100                  NaN    NaN   \n76385                  NaN    NaN   \n76386                  NaN    NaN   \n76387                  NaN    NaN   \n185480                 NaN    NaN   \n188304                 NaN    NaN   \n189134                 NaN    NaN   \n193017                 NaN    NaN   \n193577                 NaN    NaN   \n193586                 NaN    NaN   \n193587                 NaN    NaN   \n\n                                               lieu id_emplacement  \\\n10100                        JARDIN PARTAGE BEL-AIR              6   \n76385                                    VOIE DF/19      09VO19001   \n76386                                    VOIE DF/19      09VO19002   \n76387                                    VOIE DF/19      09VO19003   \n185480                               ROUTE DAUPHINE         402030   \n188304  PARC FLORAL DE PARIS / ROUTE DE LA PYRAMIDE          20023   \n189134  PARC FLORAL DE PARIS / ROUTE DE LA PYRAMIDE         190042   \n193017  PARC FLORAL DE PARIS / ROUTE DE LA PYRAMIDE        3120005   \n193577  PARC FLORAL DE PARIS / ROUTE DE LA PYRAMIDE         210035   \n193586  PARC FLORAL DE PARIS / ROUTE DE LA PYRAMIDE          20128   \n193587  PARC FLORAL DE PARIS / ROUTE DE LA PYRAMIDE          20129   \n\n        libelle_francais      genre                   espece   variete  \\\n10100            Ailante  Ailanthus                altissima       NaN   \n76385           Peuplier    Populus                    nigra  Italica'   \n76386           Peuplier    Populus                    nigra  Italica'   \n76387           Peuplier    Populus                    nigra  Italica'   \n185480           Tilleul      Tilia             platyphyllos       NaN   \n188304           Platane   Platanus              x hispanica       NaN   \n189134          Peuplier    Populus                    nigra  Italica'   \n193017               Pin      Pinus                    nigra       NaN   \n193577  Pommier à fleurs      Malus                trilobata       NaN   \n193586             Cèdre     Cedrus  libani subsp. atlantica       NaN   \n193587             Cèdre     Cedrus  libani subsp. atlantica       NaN   \n\n        circonference_cm  hauteur_m stade_developpement remarquable  \\\n10100                  0          0                 NaN         NaN   \n76385                120         20                 NaN         NaN   \n76386                100         20                 NaN         NaN   \n76387                165         20                 NaN         NaN   \n185480                 0          0                 NaN         0.0   \n188304               190         24                   A         0.0   \n189134               100         22                   A         0.0   \n193017                 0          0                 NaN         0.0   \n193577                 0          0                 NaN         0.0   \n193586                 0          0                 NaN         0.0   \n193587                 0          0                 NaN         0.0   \n\n        geo_point_2d_a  geo_point_2d_b  \n10100        48.838318        2.406610  \n76385        48.900332        2.386441  \n76386        48.900290        2.386442  \n76387        48.900253        2.386444  \n185480       48.829912        2.439665  \n188304       48.839118        2.438810  \n189134       48.836416        2.446277  \n193017       48.839561        2.446210  \n193577       48.836862        2.446518  \n193586       48.838550        2.439268  \n193587       48.838539        2.439350  ",
      "text/html": "<div>\n<style scoped>\n    .dataframe tbody tr th:only-of-type {\n        vertical-align: middle;\n    }\n\n    .dataframe tbody tr th {\n        vertical-align: top;\n    }\n\n    .dataframe thead th {\n        text-align: right;\n    }\n</style>\n<table border=\"1\" class=\"dataframe\">\n  <thead>\n    <tr style=\"text-align: right;\">\n      <th></th>\n      <th>id</th>\n      <th>type_emplacement</th>\n      <th>domanialite</th>\n      <th>arrondissement</th>\n      <th>complement_addresse</th>\n      <th>numero</th>\n      <th>lieu</th>\n      <th>id_emplacement</th>\n      <th>libelle_francais</th>\n      <th>genre</th>\n      <th>espece</th>\n      <th>variete</th>\n      <th>circonference_cm</th>\n      <th>hauteur_m</th>\n      <th>stade_developpement</th>\n      <th>remarquable</th>\n      <th>geo_point_2d_a</th>\n      <th>geo_point_2d_b</th>\n    </tr>\n  </thead>\n  <tbody>\n    <tr>\n      <th>10100</th>\n      <td>112287</td>\n      <td>Arbre</td>\n      <td>Jardin</td>\n      <td>PARIS 12E ARRDT</td>\n      <td>NaN</td>\n      <td>NaN</td>\n      <td>JARDIN PARTAGE BEL-AIR</td>\n      <td>6</td>\n      <td>Ailante</td>\n      <td>Ailanthus</td>\n      <td>altissima</td>\n      <td>NaN</td>\n      <td>0</td>\n      <td>0</td>\n      <td>NaN</td>\n      <td>NaN</td>\n      <td>48.838318</td>\n      <td>2.406610</td>\n    </tr>\n    <tr>\n      <th>76385</th>\n      <td>195525</td>\n      <td>Arbre</td>\n      <td>PERIPHERIQUE</td>\n      <td>PARIS 19E ARRDT</td>\n      <td>NaN</td>\n      <td>NaN</td>\n      <td>VOIE DF/19</td>\n      <td>09VO19001</td>\n      <td>Peuplier</td>\n      <td>Populus</td>\n      <td>nigra</td>\n      <td>Italica'</td>\n      <td>120</td>\n      <td>20</td>\n      <td>NaN</td>\n      <td>NaN</td>\n      <td>48.900332</td>\n      <td>2.386441</td>\n    </tr>\n    <tr>\n      <th>76386</th>\n      <td>195526</td>\n      <td>Arbre</td>\n      <td>PERIPHERIQUE</td>\n      <td>PARIS 19E ARRDT</td>\n      <td>NaN</td>\n      <td>NaN</td>\n      <td>VOIE DF/19</td>\n      <td>09VO19002</td>\n      <td>Peuplier</td>\n      <td>Populus</td>\n      <td>nigra</td>\n      <td>Italica'</td>\n      <td>100</td>\n      <td>20</td>\n      <td>NaN</td>\n      <td>NaN</td>\n      <td>48.900290</td>\n      <td>2.386442</td>\n    </tr>\n    <tr>\n      <th>76387</th>\n      <td>195527</td>\n      <td>Arbre</td>\n      <td>PERIPHERIQUE</td>\n      <td>PARIS 19E ARRDT</td>\n      <td>NaN</td>\n      <td>NaN</td>\n      <td>VOIE DF/19</td>\n      <td>09VO19003</td>\n      <td>Peuplier</td>\n      <td>Populus</td>\n      <td>nigra</td>\n      <td>Italica'</td>\n      <td>165</td>\n      <td>20</td>\n      <td>NaN</td>\n      <td>NaN</td>\n      <td>48.900253</td>\n      <td>2.386444</td>\n    </tr>\n    <tr>\n      <th>185480</th>\n      <td>2006188</td>\n      <td>Arbre</td>\n      <td>Alignement</td>\n      <td>BOIS DE VINCENNES</td>\n      <td>NaN</td>\n      <td>NaN</td>\n      <td>ROUTE DAUPHINE</td>\n      <td>402030</td>\n      <td>Tilleul</td>\n      <td>Tilia</td>\n      <td>platyphyllos</td>\n      <td>NaN</td>\n      <td>0</td>\n      <td>0</td>\n      <td>NaN</td>\n      <td>0.0</td>\n      <td>48.829912</td>\n      <td>2.439665</td>\n    </tr>\n    <tr>\n      <th>188304</th>\n      <td>2010609</td>\n      <td>Arbre</td>\n      <td>Jardin</td>\n      <td>BOIS DE VINCENNES</td>\n      <td>NaN</td>\n      <td>NaN</td>\n      <td>PARC FLORAL DE PARIS / ROUTE DE LA PYRAMIDE</td>\n      <td>20023</td>\n      <td>Platane</td>\n      <td>Platanus</td>\n      <td>x hispanica</td>\n      <td>NaN</td>\n      <td>190</td>\n      <td>24</td>\n      <td>A</td>\n      <td>0.0</td>\n      <td>48.839118</td>\n      <td>2.438810</td>\n    </tr>\n    <tr>\n      <th>189134</th>\n      <td>2011523</td>\n      <td>Arbre</td>\n      <td>Jardin</td>\n      <td>BOIS DE VINCENNES</td>\n      <td>NaN</td>\n      <td>NaN</td>\n      <td>PARC FLORAL DE PARIS / ROUTE DE LA PYRAMIDE</td>\n      <td>190042</td>\n      <td>Peuplier</td>\n      <td>Populus</td>\n      <td>nigra</td>\n      <td>Italica'</td>\n      <td>100</td>\n      <td>22</td>\n      <td>A</td>\n      <td>0.0</td>\n      <td>48.836416</td>\n      <td>2.446277</td>\n    </tr>\n    <tr>\n      <th>193017</th>\n      <td>2015806</td>\n      <td>Arbre</td>\n      <td>Jardin</td>\n      <td>BOIS DE VINCENNES</td>\n      <td>NaN</td>\n      <td>NaN</td>\n      <td>PARC FLORAL DE PARIS / ROUTE DE LA PYRAMIDE</td>\n      <td>3120005</td>\n      <td>Pin</td>\n      <td>Pinus</td>\n      <td>nigra</td>\n      <td>NaN</td>\n      <td>0</td>\n      <td>0</td>\n      <td>NaN</td>\n      <td>0.0</td>\n      <td>48.839561</td>\n      <td>2.446210</td>\n    </tr>\n    <tr>\n      <th>193577</th>\n      <td>2016369</td>\n      <td>Arbre</td>\n      <td>Jardin</td>\n      <td>BOIS DE VINCENNES</td>\n      <td>NaN</td>\n      <td>NaN</td>\n      <td>PARC FLORAL DE PARIS / ROUTE DE LA PYRAMIDE</td>\n      <td>210035</td>\n      <td>Pommier à fleurs</td>\n      <td>Malus</td>\n      <td>trilobata</td>\n      <td>NaN</td>\n      <td>0</td>\n      <td>0</td>\n      <td>NaN</td>\n      <td>0.0</td>\n      <td>48.836862</td>\n      <td>2.446518</td>\n    </tr>\n    <tr>\n      <th>193586</th>\n      <td>2016378</td>\n      <td>Arbre</td>\n      <td>Jardin</td>\n      <td>BOIS DE VINCENNES</td>\n      <td>NaN</td>\n      <td>NaN</td>\n      <td>PARC FLORAL DE PARIS / ROUTE DE LA PYRAMIDE</td>\n      <td>20128</td>\n      <td>Cèdre</td>\n      <td>Cedrus</td>\n      <td>libani subsp. atlantica</td>\n      <td>NaN</td>\n      <td>0</td>\n      <td>0</td>\n      <td>NaN</td>\n      <td>0.0</td>\n      <td>48.838550</td>\n      <td>2.439268</td>\n    </tr>\n    <tr>\n      <th>193587</th>\n      <td>2016379</td>\n      <td>Arbre</td>\n      <td>Jardin</td>\n      <td>BOIS DE VINCENNES</td>\n      <td>NaN</td>\n      <td>NaN</td>\n      <td>PARC FLORAL DE PARIS / ROUTE DE LA PYRAMIDE</td>\n      <td>20129</td>\n      <td>Cèdre</td>\n      <td>Cedrus</td>\n      <td>libani subsp. atlantica</td>\n      <td>NaN</td>\n      <td>0</td>\n      <td>0</td>\n      <td>NaN</td>\n      <td>0.0</td>\n      <td>48.838539</td>\n      <td>2.439350</td>\n    </tr>\n  </tbody>\n</table>\n</div>"
     },
     "execution_count": 14,
     "metadata": {},
     "output_type": "execute_result"
    }
   ],
   "source": [
    "arbres[coordonnees_dupliquees]"
   ],
   "metadata": {
    "collapsed": false,
    "pycharm": {
     "name": "#%%\n"
    }
   }
  },
  {
   "cell_type": "markdown",
   "source": [
    "Pour supprimer les doublons panda propose la methode [drop_duplicate()](https://pandas.pydata.org/docs/reference/api/pandas.DataFrame.drop_duplicates.html#pandas.DataFrame.drop_duplicates) et dans le cas ci-dessous la dernière instance est conservée."
   ],
   "metadata": {
    "collapsed": false
   }
  },
  {
   "cell_type": "code",
   "execution_count": 15,
   "outputs": [
    {
     "data": {
      "text/plain": "             id type_emplacement domanialite     arrondissement  \\\n0         99874            Arbre      Jardin     PARIS 7E ARRDT   \n1         99875            Arbre      Jardin     PARIS 7E ARRDT   \n2         99876            Arbre      Jardin     PARIS 7E ARRDT   \n3         99877            Arbre      Jardin     PARIS 7E ARRDT   \n4         99878            Arbre      Jardin    PARIS 17E ARRDT   \n...         ...              ...         ...                ...   \n200132  2024741            Arbre      Jardin  BOIS DE VINCENNES   \n200133  2024742            Arbre      Jardin  BOIS DE VINCENNES   \n200134  2024743            Arbre      Jardin  BOIS DE VINCENNES   \n200135  2024744            Arbre      Jardin  BOIS DE VINCENNES   \n200136  2024745            Arbre      Jardin  BOIS DE VINCENNES   \n\n       complement_addresse  numero  \\\n0                   Jardin  Jardin   \n1                      NaN     NaN   \n2                      NaN     NaN   \n3                      NaN     NaN   \n4                      NaN     NaN   \n...                    ...     ...   \n200132                 NaN     NaN   \n200133                 NaN     NaN   \n200134                 NaN     NaN   \n200135                 NaN     NaN   \n200136                 NaN     NaN   \n\n                                                     lieu id_emplacement  \\\n0               MAIRIE DU 7E 116 RUE DE GRENELLE PARIS 7E             19   \n1               MAIRIE DU 7E 116 RUE DE GRENELLE PARIS 7E             20   \n2               MAIRIE DU 7E 116 RUE DE GRENELLE PARIS 7E             21   \n3               MAIRIE DU 7E 116 RUE DE GRENELLE PARIS 7E             22   \n4              PARC CLICHY-BATIGNOLLES-MARTIN LUTHER KING       000G0037   \n...                                                   ...            ...   \n200132  ARBORETUM DE L ECOLE DU BREUIL - ROUTE DE LA F...      720170151   \n200133  ARBORETUM DE L ECOLE DU BREUIL - ROUTE DE LA F...      720170152   \n200134  ARBORETUM DE L ECOLE DU BREUIL - ROUTE DE LA F...      720170153   \n200135  ARBORETUM DE L ECOLE DU BREUIL - ROUTE DE LA F...      720170154   \n200136  ARBORETUM DE L ECOLE DU BREUIL - ROUTE DE LA F...      720170155   \n\n           libelle_francais      genre         espece variete  \\\n0                Marronnier   Aesculus  hippocastanum  Jardin   \n1                        If      Taxus        baccata     NaN   \n2                        If      Taxus        baccata     NaN   \n3                    Erable       Acer        negundo     NaN   \n4              Arbre à miel  Tetradium      daniellii     NaN   \n...                     ...        ...            ...     ...   \n200132                  NaN   Castanea       fargesii     NaN   \n200133  Arbre aux mouchoirs    Davidia    involucrata     NaN   \n200134             Peuplier    Populus        simonii     NaN   \n200135                Chêne    Quercus         n. sp.     NaN   \n200136            Raisinier    Hovenia         dulcis     NaN   \n\n        circonference_cm  hauteur_m stade_developpement remarquable  \\\n0                     20          5              Jardin         0.0   \n1                     65          8                   A      Jardin   \n2                     90         10                   A         NaN   \n3                     60          8                   A         NaN   \n4                     38          0                 NaN         NaN   \n...                  ...        ...                 ...         ...   \n200132                 0          0                 NaN         0.0   \n200133                 0          0                 NaN         0.0   \n200134                 0          0                 NaN         0.0   \n200135                 0          0                 NaN         0.0   \n200136                 0          0                 NaN         0.0   \n\n        geo_point_2d_a  geo_point_2d_b  \n0            48.857620        2.320962  \n1            48.857656        2.321031  \n2            48.857705        2.321061  \n3            48.857722        2.321006  \n4            48.890435        2.315289  \n...                ...             ...  \n200132       48.821957        2.456264  \n200133       48.823254        2.457935  \n200134       48.822907        2.457970  \n200135       48.822522        2.455956  \n200136       48.820445        2.454856  \n\n[200126 rows x 18 columns]",
      "text/html": "<div>\n<style scoped>\n    .dataframe tbody tr th:only-of-type {\n        vertical-align: middle;\n    }\n\n    .dataframe tbody tr th {\n        vertical-align: top;\n    }\n\n    .dataframe thead th {\n        text-align: right;\n    }\n</style>\n<table border=\"1\" class=\"dataframe\">\n  <thead>\n    <tr style=\"text-align: right;\">\n      <th></th>\n      <th>id</th>\n      <th>type_emplacement</th>\n      <th>domanialite</th>\n      <th>arrondissement</th>\n      <th>complement_addresse</th>\n      <th>numero</th>\n      <th>lieu</th>\n      <th>id_emplacement</th>\n      <th>libelle_francais</th>\n      <th>genre</th>\n      <th>espece</th>\n      <th>variete</th>\n      <th>circonference_cm</th>\n      <th>hauteur_m</th>\n      <th>stade_developpement</th>\n      <th>remarquable</th>\n      <th>geo_point_2d_a</th>\n      <th>geo_point_2d_b</th>\n    </tr>\n  </thead>\n  <tbody>\n    <tr>\n      <th>0</th>\n      <td>99874</td>\n      <td>Arbre</td>\n      <td>Jardin</td>\n      <td>PARIS 7E ARRDT</td>\n      <td>Jardin</td>\n      <td>Jardin</td>\n      <td>MAIRIE DU 7E 116 RUE DE GRENELLE PARIS 7E</td>\n      <td>19</td>\n      <td>Marronnier</td>\n      <td>Aesculus</td>\n      <td>hippocastanum</td>\n      <td>Jardin</td>\n      <td>20</td>\n      <td>5</td>\n      <td>Jardin</td>\n      <td>0.0</td>\n      <td>48.857620</td>\n      <td>2.320962</td>\n    </tr>\n    <tr>\n      <th>1</th>\n      <td>99875</td>\n      <td>Arbre</td>\n      <td>Jardin</td>\n      <td>PARIS 7E ARRDT</td>\n      <td>NaN</td>\n      <td>NaN</td>\n      <td>MAIRIE DU 7E 116 RUE DE GRENELLE PARIS 7E</td>\n      <td>20</td>\n      <td>If</td>\n      <td>Taxus</td>\n      <td>baccata</td>\n      <td>NaN</td>\n      <td>65</td>\n      <td>8</td>\n      <td>A</td>\n      <td>Jardin</td>\n      <td>48.857656</td>\n      <td>2.321031</td>\n    </tr>\n    <tr>\n      <th>2</th>\n      <td>99876</td>\n      <td>Arbre</td>\n      <td>Jardin</td>\n      <td>PARIS 7E ARRDT</td>\n      <td>NaN</td>\n      <td>NaN</td>\n      <td>MAIRIE DU 7E 116 RUE DE GRENELLE PARIS 7E</td>\n      <td>21</td>\n      <td>If</td>\n      <td>Taxus</td>\n      <td>baccata</td>\n      <td>NaN</td>\n      <td>90</td>\n      <td>10</td>\n      <td>A</td>\n      <td>NaN</td>\n      <td>48.857705</td>\n      <td>2.321061</td>\n    </tr>\n    <tr>\n      <th>3</th>\n      <td>99877</td>\n      <td>Arbre</td>\n      <td>Jardin</td>\n      <td>PARIS 7E ARRDT</td>\n      <td>NaN</td>\n      <td>NaN</td>\n      <td>MAIRIE DU 7E 116 RUE DE GRENELLE PARIS 7E</td>\n      <td>22</td>\n      <td>Erable</td>\n      <td>Acer</td>\n      <td>negundo</td>\n      <td>NaN</td>\n      <td>60</td>\n      <td>8</td>\n      <td>A</td>\n      <td>NaN</td>\n      <td>48.857722</td>\n      <td>2.321006</td>\n    </tr>\n    <tr>\n      <th>4</th>\n      <td>99878</td>\n      <td>Arbre</td>\n      <td>Jardin</td>\n      <td>PARIS 17E ARRDT</td>\n      <td>NaN</td>\n      <td>NaN</td>\n      <td>PARC CLICHY-BATIGNOLLES-MARTIN LUTHER KING</td>\n      <td>000G0037</td>\n      <td>Arbre à miel</td>\n      <td>Tetradium</td>\n      <td>daniellii</td>\n      <td>NaN</td>\n      <td>38</td>\n      <td>0</td>\n      <td>NaN</td>\n      <td>NaN</td>\n      <td>48.890435</td>\n      <td>2.315289</td>\n    </tr>\n    <tr>\n      <th>...</th>\n      <td>...</td>\n      <td>...</td>\n      <td>...</td>\n      <td>...</td>\n      <td>...</td>\n      <td>...</td>\n      <td>...</td>\n      <td>...</td>\n      <td>...</td>\n      <td>...</td>\n      <td>...</td>\n      <td>...</td>\n      <td>...</td>\n      <td>...</td>\n      <td>...</td>\n      <td>...</td>\n      <td>...</td>\n      <td>...</td>\n    </tr>\n    <tr>\n      <th>200132</th>\n      <td>2024741</td>\n      <td>Arbre</td>\n      <td>Jardin</td>\n      <td>BOIS DE VINCENNES</td>\n      <td>NaN</td>\n      <td>NaN</td>\n      <td>ARBORETUM DE L ECOLE DU BREUIL - ROUTE DE LA F...</td>\n      <td>720170151</td>\n      <td>NaN</td>\n      <td>Castanea</td>\n      <td>fargesii</td>\n      <td>NaN</td>\n      <td>0</td>\n      <td>0</td>\n      <td>NaN</td>\n      <td>0.0</td>\n      <td>48.821957</td>\n      <td>2.456264</td>\n    </tr>\n    <tr>\n      <th>200133</th>\n      <td>2024742</td>\n      <td>Arbre</td>\n      <td>Jardin</td>\n      <td>BOIS DE VINCENNES</td>\n      <td>NaN</td>\n      <td>NaN</td>\n      <td>ARBORETUM DE L ECOLE DU BREUIL - ROUTE DE LA F...</td>\n      <td>720170152</td>\n      <td>Arbre aux mouchoirs</td>\n      <td>Davidia</td>\n      <td>involucrata</td>\n      <td>NaN</td>\n      <td>0</td>\n      <td>0</td>\n      <td>NaN</td>\n      <td>0.0</td>\n      <td>48.823254</td>\n      <td>2.457935</td>\n    </tr>\n    <tr>\n      <th>200134</th>\n      <td>2024743</td>\n      <td>Arbre</td>\n      <td>Jardin</td>\n      <td>BOIS DE VINCENNES</td>\n      <td>NaN</td>\n      <td>NaN</td>\n      <td>ARBORETUM DE L ECOLE DU BREUIL - ROUTE DE LA F...</td>\n      <td>720170153</td>\n      <td>Peuplier</td>\n      <td>Populus</td>\n      <td>simonii</td>\n      <td>NaN</td>\n      <td>0</td>\n      <td>0</td>\n      <td>NaN</td>\n      <td>0.0</td>\n      <td>48.822907</td>\n      <td>2.457970</td>\n    </tr>\n    <tr>\n      <th>200135</th>\n      <td>2024744</td>\n      <td>Arbre</td>\n      <td>Jardin</td>\n      <td>BOIS DE VINCENNES</td>\n      <td>NaN</td>\n      <td>NaN</td>\n      <td>ARBORETUM DE L ECOLE DU BREUIL - ROUTE DE LA F...</td>\n      <td>720170154</td>\n      <td>Chêne</td>\n      <td>Quercus</td>\n      <td>n. sp.</td>\n      <td>NaN</td>\n      <td>0</td>\n      <td>0</td>\n      <td>NaN</td>\n      <td>0.0</td>\n      <td>48.822522</td>\n      <td>2.455956</td>\n    </tr>\n    <tr>\n      <th>200136</th>\n      <td>2024745</td>\n      <td>Arbre</td>\n      <td>Jardin</td>\n      <td>BOIS DE VINCENNES</td>\n      <td>NaN</td>\n      <td>NaN</td>\n      <td>ARBORETUM DE L ECOLE DU BREUIL - ROUTE DE LA F...</td>\n      <td>720170155</td>\n      <td>Raisinier</td>\n      <td>Hovenia</td>\n      <td>dulcis</td>\n      <td>NaN</td>\n      <td>0</td>\n      <td>0</td>\n      <td>NaN</td>\n      <td>0.0</td>\n      <td>48.820445</td>\n      <td>2.454856</td>\n    </tr>\n  </tbody>\n</table>\n<p>200126 rows × 18 columns</p>\n</div>"
     },
     "execution_count": 15,
     "metadata": {},
     "output_type": "execute_result"
    }
   ],
   "source": [
    "arbres_cp = arbres.drop_duplicates(subset=['geo_point_2d_a','geo_point_2d_b'],keep='last').copy()\n",
    "arbres_cp"
   ],
   "metadata": {
    "collapsed": false,
    "pycharm": {
     "name": "#%%\n"
    }
   }
  },
  {
   "cell_type": "markdown",
   "source": [
    "cellule manquante genre,espece.\n",
    "dans le cas de la colonne genre nous constatons qu'aucunes données de taille, circonférence et d'identification sont renseignées."
   ],
   "metadata": {
    "collapsed": false
   }
  },
  {
   "cell_type": "code",
   "execution_count": 68,
   "outputs": [
    {
     "data": {
      "text/plain": "               id type_emplacement domanialite   arrondissement  \\\n195409  2018853.0            Arbre      Jardin  PARIS 13E ARRDT   \n195410  2018854.0            Arbre      Jardin  PARIS 13E ARRDT   \n195475  2018919.0            Arbre      Jardin  PARIS 13E ARRDT   \n195476  2018920.0            Arbre      Jardin  PARIS 13E ARRDT   \n195487  2018932.0            Arbre      Jardin  PARIS 13E ARRDT   \n195496  2018942.0            Arbre      Jardin  PARIS 13E ARRDT   \n195497  2018943.0            Arbre      Jardin  PARIS 13E ARRDT   \n195499  2018945.0            Arbre      Jardin  PARIS 13E ARRDT   \n195502  2018948.0            Arbre      Jardin  PARIS 13E ARRDT   \n195503  2018949.0            Arbre      Jardin  PARIS 13E ARRDT   \n195505  2018951.0            Arbre      Jardin  PARIS 13E ARRDT   \n195509  2018955.0            Arbre      Jardin  PARIS 13E ARRDT   \n195514  2018960.0            Arbre      Jardin  PARIS 13E ARRDT   \n195518  2018964.0            Arbre      Jardin  PARIS 13E ARRDT   \n195519  2018965.0            Arbre      Jardin  PARIS 13E ARRDT   \n\n       complement_addresse numero  \\\n195409                 NaN    NaN   \n195410                 NaN    NaN   \n195475                 NaN    NaN   \n195476                 NaN    NaN   \n195487                 NaN    NaN   \n195496                 NaN    NaN   \n195497                 NaN    NaN   \n195499                 NaN    NaN   \n195502                 NaN    NaN   \n195503                 NaN    NaN   \n195505                 NaN    NaN   \n195509                 NaN    NaN   \n195514                 NaN    NaN   \n195518                 NaN    NaN   \n195519                 NaN    NaN   \n\n                                                     lieu id_emplacement  \\\n195409  PC13 - JARDIN DE LA RUE DE LA POTERNE DES PEUP...         104005   \n195410  PC13 - JARDIN DE LA RUE DE LA POTERNE DES PEUP...         104006   \n195475  PC13 - JARDIN DE LA RUE DE LA POTERNE DES PEUP...         104030   \n195476  PC13 - JARDIN DE LA RUE DE LA POTERNE DES PEUP...         104031   \n195487  PC13 - JARDIN DE LA RUE DE LA POTERNE DES PEUP...         105006   \n195496  PC13 - JARDIN DE LA RUE DE LA POTERNE DES PEUP...         105017   \n195497  PC13 - JARDIN DE LA RUE DE LA POTERNE DES PEUP...         105019   \n195499  PC13 - JARDIN DE LA RUE DE LA POTERNE DES PEUP...         105022   \n195502  PC13 - JARDIN DE LA RUE DE LA POTERNE DES PEUP...         105025   \n195503  PC13 - JARDIN DE LA RUE DE LA POTERNE DES PEUP...         106001   \n195505  PC13 - JARDIN DE LA RUE DE LA POTERNE DES PEUP...         106003   \n195509  PC13 - JARDIN DE LA RUE DE LA POTERNE DES PEUP...         104009   \n195514  PC13 - JARDIN DE LA RUE DE LA POTERNE DES PEUP...         104019   \n195518  PC13 - JARDIN DE LA RUE DE LA POTERNE DES PEUP...         104023   \n195519  PC13 - JARDIN DE LA RUE DE LA POTERNE DES PEUP...         104025   \n\n       libelle_francais genre espece variete  circonference_cm  hauteur_m  \\\n195409              NaN   NaN    NaN     NaN               0.0        0.0   \n195410              NaN   NaN    NaN     NaN               0.0        0.0   \n195475              NaN   NaN    NaN     NaN               0.0        0.0   \n195476              NaN   NaN    NaN     NaN               0.0        0.0   \n195487              NaN   NaN    NaN     NaN               0.0        0.0   \n195496              NaN   NaN    NaN     NaN               0.0        0.0   \n195497              NaN   NaN    NaN     NaN               0.0        0.0   \n195499              NaN   NaN    NaN     NaN               0.0        0.0   \n195502              NaN   NaN    NaN     NaN               0.0        0.0   \n195503              NaN   NaN    NaN     NaN               0.0        0.0   \n195505              NaN   NaN    NaN     NaN               0.0        0.0   \n195509              NaN   NaN    NaN     NaN               0.0        0.0   \n195514              NaN   NaN    NaN     NaN               0.0        0.0   \n195518              NaN   NaN    NaN     NaN               0.0        0.0   \n195519              NaN   NaN    NaN     NaN               0.0        0.0   \n\n       stade_developpement remarquable  geo_point_2d_a  geo_point_2d_b  \n195409                 NaN         0.0       48.821259        2.354242  \n195410                 NaN         0.0       48.821229        2.354212  \n195475                 NaN         0.0       48.821281        2.353322  \n195476                 NaN         0.0       48.821289        2.353228  \n195487                 NaN         0.0       48.821294        2.352001  \n195496                 NaN         0.0       48.821292        2.351425  \n195497                 NaN         0.0       48.821260        2.351363  \n195499                 NaN         0.0       48.821261        2.351296  \n195502                 NaN         0.0       48.821283        2.351094  \n195503                 NaN         0.0       48.821401        2.350885  \n195505                 NaN         0.0       48.821404        2.351217  \n195509                 NaN         0.0       48.821259        2.354079  \n195514                 NaN         0.0       48.821310        2.353883  \n195518                 NaN         0.0       48.821298        2.353718  \n195519                 NaN         0.0       48.821305        2.353505  ",
      "text/html": "<div>\n<style scoped>\n    .dataframe tbody tr th:only-of-type {\n        vertical-align: middle;\n    }\n\n    .dataframe tbody tr th {\n        vertical-align: top;\n    }\n\n    .dataframe thead th {\n        text-align: right;\n    }\n</style>\n<table border=\"1\" class=\"dataframe\">\n  <thead>\n    <tr style=\"text-align: right;\">\n      <th></th>\n      <th>id</th>\n      <th>type_emplacement</th>\n      <th>domanialite</th>\n      <th>arrondissement</th>\n      <th>complement_addresse</th>\n      <th>numero</th>\n      <th>lieu</th>\n      <th>id_emplacement</th>\n      <th>libelle_francais</th>\n      <th>genre</th>\n      <th>espece</th>\n      <th>variete</th>\n      <th>circonference_cm</th>\n      <th>hauteur_m</th>\n      <th>stade_developpement</th>\n      <th>remarquable</th>\n      <th>geo_point_2d_a</th>\n      <th>geo_point_2d_b</th>\n    </tr>\n  </thead>\n  <tbody>\n    <tr>\n      <th>195409</th>\n      <td>2018853.0</td>\n      <td>Arbre</td>\n      <td>Jardin</td>\n      <td>PARIS 13E ARRDT</td>\n      <td>NaN</td>\n      <td>NaN</td>\n      <td>PC13 - JARDIN DE LA RUE DE LA POTERNE DES PEUP...</td>\n      <td>104005</td>\n      <td>NaN</td>\n      <td>NaN</td>\n      <td>NaN</td>\n      <td>NaN</td>\n      <td>0.0</td>\n      <td>0.0</td>\n      <td>NaN</td>\n      <td>0.0</td>\n      <td>48.821259</td>\n      <td>2.354242</td>\n    </tr>\n    <tr>\n      <th>195410</th>\n      <td>2018854.0</td>\n      <td>Arbre</td>\n      <td>Jardin</td>\n      <td>PARIS 13E ARRDT</td>\n      <td>NaN</td>\n      <td>NaN</td>\n      <td>PC13 - JARDIN DE LA RUE DE LA POTERNE DES PEUP...</td>\n      <td>104006</td>\n      <td>NaN</td>\n      <td>NaN</td>\n      <td>NaN</td>\n      <td>NaN</td>\n      <td>0.0</td>\n      <td>0.0</td>\n      <td>NaN</td>\n      <td>0.0</td>\n      <td>48.821229</td>\n      <td>2.354212</td>\n    </tr>\n    <tr>\n      <th>195475</th>\n      <td>2018919.0</td>\n      <td>Arbre</td>\n      <td>Jardin</td>\n      <td>PARIS 13E ARRDT</td>\n      <td>NaN</td>\n      <td>NaN</td>\n      <td>PC13 - JARDIN DE LA RUE DE LA POTERNE DES PEUP...</td>\n      <td>104030</td>\n      <td>NaN</td>\n      <td>NaN</td>\n      <td>NaN</td>\n      <td>NaN</td>\n      <td>0.0</td>\n      <td>0.0</td>\n      <td>NaN</td>\n      <td>0.0</td>\n      <td>48.821281</td>\n      <td>2.353322</td>\n    </tr>\n    <tr>\n      <th>195476</th>\n      <td>2018920.0</td>\n      <td>Arbre</td>\n      <td>Jardin</td>\n      <td>PARIS 13E ARRDT</td>\n      <td>NaN</td>\n      <td>NaN</td>\n      <td>PC13 - JARDIN DE LA RUE DE LA POTERNE DES PEUP...</td>\n      <td>104031</td>\n      <td>NaN</td>\n      <td>NaN</td>\n      <td>NaN</td>\n      <td>NaN</td>\n      <td>0.0</td>\n      <td>0.0</td>\n      <td>NaN</td>\n      <td>0.0</td>\n      <td>48.821289</td>\n      <td>2.353228</td>\n    </tr>\n    <tr>\n      <th>195487</th>\n      <td>2018932.0</td>\n      <td>Arbre</td>\n      <td>Jardin</td>\n      <td>PARIS 13E ARRDT</td>\n      <td>NaN</td>\n      <td>NaN</td>\n      <td>PC13 - JARDIN DE LA RUE DE LA POTERNE DES PEUP...</td>\n      <td>105006</td>\n      <td>NaN</td>\n      <td>NaN</td>\n      <td>NaN</td>\n      <td>NaN</td>\n      <td>0.0</td>\n      <td>0.0</td>\n      <td>NaN</td>\n      <td>0.0</td>\n      <td>48.821294</td>\n      <td>2.352001</td>\n    </tr>\n    <tr>\n      <th>195496</th>\n      <td>2018942.0</td>\n      <td>Arbre</td>\n      <td>Jardin</td>\n      <td>PARIS 13E ARRDT</td>\n      <td>NaN</td>\n      <td>NaN</td>\n      <td>PC13 - JARDIN DE LA RUE DE LA POTERNE DES PEUP...</td>\n      <td>105017</td>\n      <td>NaN</td>\n      <td>NaN</td>\n      <td>NaN</td>\n      <td>NaN</td>\n      <td>0.0</td>\n      <td>0.0</td>\n      <td>NaN</td>\n      <td>0.0</td>\n      <td>48.821292</td>\n      <td>2.351425</td>\n    </tr>\n    <tr>\n      <th>195497</th>\n      <td>2018943.0</td>\n      <td>Arbre</td>\n      <td>Jardin</td>\n      <td>PARIS 13E ARRDT</td>\n      <td>NaN</td>\n      <td>NaN</td>\n      <td>PC13 - JARDIN DE LA RUE DE LA POTERNE DES PEUP...</td>\n      <td>105019</td>\n      <td>NaN</td>\n      <td>NaN</td>\n      <td>NaN</td>\n      <td>NaN</td>\n      <td>0.0</td>\n      <td>0.0</td>\n      <td>NaN</td>\n      <td>0.0</td>\n      <td>48.821260</td>\n      <td>2.351363</td>\n    </tr>\n    <tr>\n      <th>195499</th>\n      <td>2018945.0</td>\n      <td>Arbre</td>\n      <td>Jardin</td>\n      <td>PARIS 13E ARRDT</td>\n      <td>NaN</td>\n      <td>NaN</td>\n      <td>PC13 - JARDIN DE LA RUE DE LA POTERNE DES PEUP...</td>\n      <td>105022</td>\n      <td>NaN</td>\n      <td>NaN</td>\n      <td>NaN</td>\n      <td>NaN</td>\n      <td>0.0</td>\n      <td>0.0</td>\n      <td>NaN</td>\n      <td>0.0</td>\n      <td>48.821261</td>\n      <td>2.351296</td>\n    </tr>\n    <tr>\n      <th>195502</th>\n      <td>2018948.0</td>\n      <td>Arbre</td>\n      <td>Jardin</td>\n      <td>PARIS 13E ARRDT</td>\n      <td>NaN</td>\n      <td>NaN</td>\n      <td>PC13 - JARDIN DE LA RUE DE LA POTERNE DES PEUP...</td>\n      <td>105025</td>\n      <td>NaN</td>\n      <td>NaN</td>\n      <td>NaN</td>\n      <td>NaN</td>\n      <td>0.0</td>\n      <td>0.0</td>\n      <td>NaN</td>\n      <td>0.0</td>\n      <td>48.821283</td>\n      <td>2.351094</td>\n    </tr>\n    <tr>\n      <th>195503</th>\n      <td>2018949.0</td>\n      <td>Arbre</td>\n      <td>Jardin</td>\n      <td>PARIS 13E ARRDT</td>\n      <td>NaN</td>\n      <td>NaN</td>\n      <td>PC13 - JARDIN DE LA RUE DE LA POTERNE DES PEUP...</td>\n      <td>106001</td>\n      <td>NaN</td>\n      <td>NaN</td>\n      <td>NaN</td>\n      <td>NaN</td>\n      <td>0.0</td>\n      <td>0.0</td>\n      <td>NaN</td>\n      <td>0.0</td>\n      <td>48.821401</td>\n      <td>2.350885</td>\n    </tr>\n    <tr>\n      <th>195505</th>\n      <td>2018951.0</td>\n      <td>Arbre</td>\n      <td>Jardin</td>\n      <td>PARIS 13E ARRDT</td>\n      <td>NaN</td>\n      <td>NaN</td>\n      <td>PC13 - JARDIN DE LA RUE DE LA POTERNE DES PEUP...</td>\n      <td>106003</td>\n      <td>NaN</td>\n      <td>NaN</td>\n      <td>NaN</td>\n      <td>NaN</td>\n      <td>0.0</td>\n      <td>0.0</td>\n      <td>NaN</td>\n      <td>0.0</td>\n      <td>48.821404</td>\n      <td>2.351217</td>\n    </tr>\n    <tr>\n      <th>195509</th>\n      <td>2018955.0</td>\n      <td>Arbre</td>\n      <td>Jardin</td>\n      <td>PARIS 13E ARRDT</td>\n      <td>NaN</td>\n      <td>NaN</td>\n      <td>PC13 - JARDIN DE LA RUE DE LA POTERNE DES PEUP...</td>\n      <td>104009</td>\n      <td>NaN</td>\n      <td>NaN</td>\n      <td>NaN</td>\n      <td>NaN</td>\n      <td>0.0</td>\n      <td>0.0</td>\n      <td>NaN</td>\n      <td>0.0</td>\n      <td>48.821259</td>\n      <td>2.354079</td>\n    </tr>\n    <tr>\n      <th>195514</th>\n      <td>2018960.0</td>\n      <td>Arbre</td>\n      <td>Jardin</td>\n      <td>PARIS 13E ARRDT</td>\n      <td>NaN</td>\n      <td>NaN</td>\n      <td>PC13 - JARDIN DE LA RUE DE LA POTERNE DES PEUP...</td>\n      <td>104019</td>\n      <td>NaN</td>\n      <td>NaN</td>\n      <td>NaN</td>\n      <td>NaN</td>\n      <td>0.0</td>\n      <td>0.0</td>\n      <td>NaN</td>\n      <td>0.0</td>\n      <td>48.821310</td>\n      <td>2.353883</td>\n    </tr>\n    <tr>\n      <th>195518</th>\n      <td>2018964.0</td>\n      <td>Arbre</td>\n      <td>Jardin</td>\n      <td>PARIS 13E ARRDT</td>\n      <td>NaN</td>\n      <td>NaN</td>\n      <td>PC13 - JARDIN DE LA RUE DE LA POTERNE DES PEUP...</td>\n      <td>104023</td>\n      <td>NaN</td>\n      <td>NaN</td>\n      <td>NaN</td>\n      <td>NaN</td>\n      <td>0.0</td>\n      <td>0.0</td>\n      <td>NaN</td>\n      <td>0.0</td>\n      <td>48.821298</td>\n      <td>2.353718</td>\n    </tr>\n    <tr>\n      <th>195519</th>\n      <td>2018965.0</td>\n      <td>Arbre</td>\n      <td>Jardin</td>\n      <td>PARIS 13E ARRDT</td>\n      <td>NaN</td>\n      <td>NaN</td>\n      <td>PC13 - JARDIN DE LA RUE DE LA POTERNE DES PEUP...</td>\n      <td>104025</td>\n      <td>NaN</td>\n      <td>NaN</td>\n      <td>NaN</td>\n      <td>NaN</td>\n      <td>0.0</td>\n      <td>0.0</td>\n      <td>NaN</td>\n      <td>0.0</td>\n      <td>48.821305</td>\n      <td>2.353505</td>\n    </tr>\n  </tbody>\n</table>\n</div>"
     },
     "execution_count": 68,
     "metadata": {},
     "output_type": "execute_result"
    }
   ],
   "source": [
    "arbres_cp[arbres_cp.lieu==\"PC13 - JARDIN DE LA RUE DE LA POTERNE DES PEUPLIERS / 62 RUE DAMESME\"]\n",
    "arbres_cp_genre_na = arbres_cp.where(arbres_cp.genre.isnull()).dropna(subset=['lieu'])\n",
    "arbres_cp_drop_genre_na= arbres_cp.drop(index=list(arbres_cp_genre_na.index)).copy()\n",
    "arbres_cp_drop_genre_na.isnull().sum()\n",
    "arbres_cp_genre_na"
   ],
   "metadata": {
    "collapsed": false,
    "pycharm": {
     "name": "#%%\n"
    }
   }
  },
  {
   "cell_type": "code",
   "execution_count": 67,
   "outputs": [
    {
     "data": {
      "text/plain": "               id type_emplacement domanialite   arrondissement  \\\n2323     102582.0            Arbre      Jardin  PARIS 16E ARRDT   \n2733     103215.0            Arbre      Jardin  PARIS 17E ARRDT   \n2742     103224.0            Arbre      Jardin  PARIS 17E ARRDT   \n3944     104827.0            Arbre      Jardin  PARIS 13E ARRDT   \n6946     108516.0            Arbre      Jardin  PARIS 16E ARRDT   \n...           ...              ...         ...              ...   \n198681  2022754.0            Arbre  Alignement  PARIS 11E ARRDT   \n198770  2023014.0            Arbre      Jardin   PARIS 4E ARRDT   \n198779  2023023.0            Arbre      Jardin   PARIS 4E ARRDT   \n198784  2023029.0            Arbre  Alignement  PARIS 1ER ARRDT   \n198785  2023030.0            Arbre  Alignement  PARIS 1ER ARRDT   \n\n       complement_addresse numero  \\\n2323               82 à 90    NaN   \n2733                   NaN    NaN   \n2742                   NaN    NaN   \n3944                   NaN    NaN   \n6946                    79    NaN   \n...                    ...    ...   \n198681                 NaN    NaN   \n198770                 NaN    NaN   \n198779                 NaN    NaN   \n198784                 NaN    NaN   \n198785                 NaN    NaN   \n\n                                                     lieu id_emplacement  \\\n2323             JARDIN DE L AVENUE FOCH / 10 AVENUE FOCH         408032   \n2733           PARC CLICHY-BATIGNOLLES-MARTIN LUTHER KING       000B0167   \n2742           PARC CLICHY-BATIGNOLLES-MARTIN LUTHER KING       000B0188   \n3944                                  SQUARE RENE LE GALL          10255   \n6946             JARDIN DE L AVENUE FOCH / 10 AVENUE FOCH         309018   \n...                                                   ...            ...   \n198681                            BOULEVARD DE BELLEVILLE         101001   \n198770  SQUARE DE LA TOUR SAINT JACQUES / 1 BIS RUE SA...         101002   \n198779  SQUARE DE LA TOUR SAINT JACQUES / 1 BIS RUE SA...         103002   \n198784                                 PORT DES TUILERIES         101044   \n198785                                 PORT DES TUILERIES         101047   \n\n         libelle_francais         genre espece                       variete  \\\n2323          Cornouiller        Cornus    NaN         Eddie's White Wonder'   \n2733    Cerisier à fleurs        Prunus    NaN                     Accolade'   \n2742    Cerisier à fleurs        Prunus    NaN                     Accolade'   \n3944     Pommier à fleurs         Malus    NaN                Golden Hornet'   \n6946                 Orme         Ulmus    NaN  Sapporo Autumn Gold' RESISTA   \n...                   ...           ...    ...                           ...   \n198681               Orme         Ulmus    NaN               Nanguen' LUTECE   \n198770                NaN          Acer    NaN                           NaN   \n198779                NaN          Acer    NaN                           NaN   \n198784                NaN         Pyrus    NaN                           NaN   \n198785                NaN  Non spécifié    NaN                           NaN   \n\n        circonference_cm  hauteur_m stade_developpement remarquable  \\\n2323                25.0        3.0                  JA         0.0   \n2733                32.0        0.0                 NaN         NaN   \n2742                60.0        0.0                 NaN         NaN   \n3944                40.0        4.0                 NaN         NaN   \n6946               120.0       12.0                   A         0.0   \n...                  ...        ...                 ...         ...   \n198681              35.0        7.0                 NaN         0.0   \n198770              20.0        5.0                 NaN         0.0   \n198779              20.0        5.0                 NaN         0.0   \n198784              20.0        5.0                 NaN         0.0   \n198785              20.0        5.0                 NaN         0.0   \n\n        geo_point_2d_a  geo_point_2d_b  \n2323         48.872087        2.277040  \n2733         48.890072        2.316124  \n2742         48.890239        2.315838  \n3944         48.832854        2.350704  \n6946         48.871752        2.277867  \n...                ...             ...  \n198681       48.867032        2.382681  \n198770       48.857891        2.349423  \n198779       48.857907        2.348225  \n198784       48.862171        2.325637  \n198785       48.862258        2.325389  \n\n[1736 rows x 18 columns]",
      "text/html": "<div>\n<style scoped>\n    .dataframe tbody tr th:only-of-type {\n        vertical-align: middle;\n    }\n\n    .dataframe tbody tr th {\n        vertical-align: top;\n    }\n\n    .dataframe thead th {\n        text-align: right;\n    }\n</style>\n<table border=\"1\" class=\"dataframe\">\n  <thead>\n    <tr style=\"text-align: right;\">\n      <th></th>\n      <th>id</th>\n      <th>type_emplacement</th>\n      <th>domanialite</th>\n      <th>arrondissement</th>\n      <th>complement_addresse</th>\n      <th>numero</th>\n      <th>lieu</th>\n      <th>id_emplacement</th>\n      <th>libelle_francais</th>\n      <th>genre</th>\n      <th>espece</th>\n      <th>variete</th>\n      <th>circonference_cm</th>\n      <th>hauteur_m</th>\n      <th>stade_developpement</th>\n      <th>remarquable</th>\n      <th>geo_point_2d_a</th>\n      <th>geo_point_2d_b</th>\n    </tr>\n  </thead>\n  <tbody>\n    <tr>\n      <th>2323</th>\n      <td>102582.0</td>\n      <td>Arbre</td>\n      <td>Jardin</td>\n      <td>PARIS 16E ARRDT</td>\n      <td>82 à 90</td>\n      <td>NaN</td>\n      <td>JARDIN DE L AVENUE FOCH / 10 AVENUE FOCH</td>\n      <td>408032</td>\n      <td>Cornouiller</td>\n      <td>Cornus</td>\n      <td>NaN</td>\n      <td>Eddie's White Wonder'</td>\n      <td>25.0</td>\n      <td>3.0</td>\n      <td>JA</td>\n      <td>0.0</td>\n      <td>48.872087</td>\n      <td>2.277040</td>\n    </tr>\n    <tr>\n      <th>2733</th>\n      <td>103215.0</td>\n      <td>Arbre</td>\n      <td>Jardin</td>\n      <td>PARIS 17E ARRDT</td>\n      <td>NaN</td>\n      <td>NaN</td>\n      <td>PARC CLICHY-BATIGNOLLES-MARTIN LUTHER KING</td>\n      <td>000B0167</td>\n      <td>Cerisier à fleurs</td>\n      <td>Prunus</td>\n      <td>NaN</td>\n      <td>Accolade'</td>\n      <td>32.0</td>\n      <td>0.0</td>\n      <td>NaN</td>\n      <td>NaN</td>\n      <td>48.890072</td>\n      <td>2.316124</td>\n    </tr>\n    <tr>\n      <th>2742</th>\n      <td>103224.0</td>\n      <td>Arbre</td>\n      <td>Jardin</td>\n      <td>PARIS 17E ARRDT</td>\n      <td>NaN</td>\n      <td>NaN</td>\n      <td>PARC CLICHY-BATIGNOLLES-MARTIN LUTHER KING</td>\n      <td>000B0188</td>\n      <td>Cerisier à fleurs</td>\n      <td>Prunus</td>\n      <td>NaN</td>\n      <td>Accolade'</td>\n      <td>60.0</td>\n      <td>0.0</td>\n      <td>NaN</td>\n      <td>NaN</td>\n      <td>48.890239</td>\n      <td>2.315838</td>\n    </tr>\n    <tr>\n      <th>3944</th>\n      <td>104827.0</td>\n      <td>Arbre</td>\n      <td>Jardin</td>\n      <td>PARIS 13E ARRDT</td>\n      <td>NaN</td>\n      <td>NaN</td>\n      <td>SQUARE RENE LE GALL</td>\n      <td>10255</td>\n      <td>Pommier à fleurs</td>\n      <td>Malus</td>\n      <td>NaN</td>\n      <td>Golden Hornet'</td>\n      <td>40.0</td>\n      <td>4.0</td>\n      <td>NaN</td>\n      <td>NaN</td>\n      <td>48.832854</td>\n      <td>2.350704</td>\n    </tr>\n    <tr>\n      <th>6946</th>\n      <td>108516.0</td>\n      <td>Arbre</td>\n      <td>Jardin</td>\n      <td>PARIS 16E ARRDT</td>\n      <td>79</td>\n      <td>NaN</td>\n      <td>JARDIN DE L AVENUE FOCH / 10 AVENUE FOCH</td>\n      <td>309018</td>\n      <td>Orme</td>\n      <td>Ulmus</td>\n      <td>NaN</td>\n      <td>Sapporo Autumn Gold' RESISTA</td>\n      <td>120.0</td>\n      <td>12.0</td>\n      <td>A</td>\n      <td>0.0</td>\n      <td>48.871752</td>\n      <td>2.277867</td>\n    </tr>\n    <tr>\n      <th>...</th>\n      <td>...</td>\n      <td>...</td>\n      <td>...</td>\n      <td>...</td>\n      <td>...</td>\n      <td>...</td>\n      <td>...</td>\n      <td>...</td>\n      <td>...</td>\n      <td>...</td>\n      <td>...</td>\n      <td>...</td>\n      <td>...</td>\n      <td>...</td>\n      <td>...</td>\n      <td>...</td>\n      <td>...</td>\n      <td>...</td>\n    </tr>\n    <tr>\n      <th>198681</th>\n      <td>2022754.0</td>\n      <td>Arbre</td>\n      <td>Alignement</td>\n      <td>PARIS 11E ARRDT</td>\n      <td>NaN</td>\n      <td>NaN</td>\n      <td>BOULEVARD DE BELLEVILLE</td>\n      <td>101001</td>\n      <td>Orme</td>\n      <td>Ulmus</td>\n      <td>NaN</td>\n      <td>Nanguen' LUTECE</td>\n      <td>35.0</td>\n      <td>7.0</td>\n      <td>NaN</td>\n      <td>0.0</td>\n      <td>48.867032</td>\n      <td>2.382681</td>\n    </tr>\n    <tr>\n      <th>198770</th>\n      <td>2023014.0</td>\n      <td>Arbre</td>\n      <td>Jardin</td>\n      <td>PARIS 4E ARRDT</td>\n      <td>NaN</td>\n      <td>NaN</td>\n      <td>SQUARE DE LA TOUR SAINT JACQUES / 1 BIS RUE SA...</td>\n      <td>101002</td>\n      <td>NaN</td>\n      <td>Acer</td>\n      <td>NaN</td>\n      <td>NaN</td>\n      <td>20.0</td>\n      <td>5.0</td>\n      <td>NaN</td>\n      <td>0.0</td>\n      <td>48.857891</td>\n      <td>2.349423</td>\n    </tr>\n    <tr>\n      <th>198779</th>\n      <td>2023023.0</td>\n      <td>Arbre</td>\n      <td>Jardin</td>\n      <td>PARIS 4E ARRDT</td>\n      <td>NaN</td>\n      <td>NaN</td>\n      <td>SQUARE DE LA TOUR SAINT JACQUES / 1 BIS RUE SA...</td>\n      <td>103002</td>\n      <td>NaN</td>\n      <td>Acer</td>\n      <td>NaN</td>\n      <td>NaN</td>\n      <td>20.0</td>\n      <td>5.0</td>\n      <td>NaN</td>\n      <td>0.0</td>\n      <td>48.857907</td>\n      <td>2.348225</td>\n    </tr>\n    <tr>\n      <th>198784</th>\n      <td>2023029.0</td>\n      <td>Arbre</td>\n      <td>Alignement</td>\n      <td>PARIS 1ER ARRDT</td>\n      <td>NaN</td>\n      <td>NaN</td>\n      <td>PORT DES TUILERIES</td>\n      <td>101044</td>\n      <td>NaN</td>\n      <td>Pyrus</td>\n      <td>NaN</td>\n      <td>NaN</td>\n      <td>20.0</td>\n      <td>5.0</td>\n      <td>NaN</td>\n      <td>0.0</td>\n      <td>48.862171</td>\n      <td>2.325637</td>\n    </tr>\n    <tr>\n      <th>198785</th>\n      <td>2023030.0</td>\n      <td>Arbre</td>\n      <td>Alignement</td>\n      <td>PARIS 1ER ARRDT</td>\n      <td>NaN</td>\n      <td>NaN</td>\n      <td>PORT DES TUILERIES</td>\n      <td>101047</td>\n      <td>NaN</td>\n      <td>Non spécifié</td>\n      <td>NaN</td>\n      <td>NaN</td>\n      <td>20.0</td>\n      <td>5.0</td>\n      <td>NaN</td>\n      <td>0.0</td>\n      <td>48.862258</td>\n      <td>2.325389</td>\n    </tr>\n  </tbody>\n</table>\n<p>1736 rows × 18 columns</p>\n</div>"
     },
     "execution_count": 67,
     "metadata": {},
     "output_type": "execute_result"
    }
   ],
   "source": [
    "arbres_cp_espece_na = arbres_cp_drop_genre_na.where(arbres_cp.espece.isnull())\n",
    "arbres_cp_espece_na.dropna(subset=['lieu'])\n"
   ],
   "metadata": {
    "collapsed": false,
    "pycharm": {
     "name": "#%%\n"
    }
   }
  },
  {
   "cell_type": "markdown",
   "source": [
    "Pour la colonnes numéros, qui est quasi pas renseigné (1 ligne et avec une valeur d'erronée), devrait être supprimé."
   ],
   "metadata": {
    "collapsed": false
   }
  },
  {
   "cell_type": "code",
   "execution_count": 73,
   "outputs": [
    {
     "data": {
      "text/plain": "             id type_emplacement domanialite     arrondissement  \\\n0         99874            Arbre      Jardin     PARIS 7E ARRDT   \n1         99875            Arbre      Jardin     PARIS 7E ARRDT   \n2         99876            Arbre      Jardin     PARIS 7E ARRDT   \n3         99877            Arbre      Jardin     PARIS 7E ARRDT   \n4         99878            Arbre      Jardin    PARIS 17E ARRDT   \n...         ...              ...         ...                ...   \n200132  2024741            Arbre      Jardin  BOIS DE VINCENNES   \n200133  2024742            Arbre      Jardin  BOIS DE VINCENNES   \n200134  2024743            Arbre      Jardin  BOIS DE VINCENNES   \n200135  2024744            Arbre      Jardin  BOIS DE VINCENNES   \n200136  2024745            Arbre      Jardin  BOIS DE VINCENNES   \n\n       complement_addresse                                               lieu  \\\n0                   Jardin          MAIRIE DU 7E 116 RUE DE GRENELLE PARIS 7E   \n1                      NaN          MAIRIE DU 7E 116 RUE DE GRENELLE PARIS 7E   \n2                      NaN          MAIRIE DU 7E 116 RUE DE GRENELLE PARIS 7E   \n3                      NaN          MAIRIE DU 7E 116 RUE DE GRENELLE PARIS 7E   \n4                      NaN         PARC CLICHY-BATIGNOLLES-MARTIN LUTHER KING   \n...                    ...                                                ...   \n200132                 NaN  ARBORETUM DE L ECOLE DU BREUIL - ROUTE DE LA F...   \n200133                 NaN  ARBORETUM DE L ECOLE DU BREUIL - ROUTE DE LA F...   \n200134                 NaN  ARBORETUM DE L ECOLE DU BREUIL - ROUTE DE LA F...   \n200135                 NaN  ARBORETUM DE L ECOLE DU BREUIL - ROUTE DE LA F...   \n200136                 NaN  ARBORETUM DE L ECOLE DU BREUIL - ROUTE DE LA F...   \n\n       id_emplacement     libelle_francais      genre         espece variete  \\\n0                  19           Marronnier   Aesculus  hippocastanum  Jardin   \n1                  20                   If      Taxus        baccata     NaN   \n2                  21                   If      Taxus        baccata     NaN   \n3                  22               Erable       Acer        negundo     NaN   \n4            000G0037         Arbre à miel  Tetradium      daniellii     NaN   \n...               ...                  ...        ...            ...     ...   \n200132      720170151                  NaN   Castanea       fargesii     NaN   \n200133      720170152  Arbre aux mouchoirs    Davidia    involucrata     NaN   \n200134      720170153             Peuplier    Populus        simonii     NaN   \n200135      720170154                Chêne    Quercus         n. sp.     NaN   \n200136      720170155            Raisinier    Hovenia         dulcis     NaN   \n\n        circonference_cm  hauteur_m stade_developpement remarquable  \\\n0                     20          5              Jardin         0.0   \n1                     65          8                   A      Jardin   \n2                     90         10                   A         NaN   \n3                     60          8                   A         NaN   \n4                     38          0                 NaN         NaN   \n...                  ...        ...                 ...         ...   \n200132                 0          0                 NaN         0.0   \n200133                 0          0                 NaN         0.0   \n200134                 0          0                 NaN         0.0   \n200135                 0          0                 NaN         0.0   \n200136                 0          0                 NaN         0.0   \n\n        geo_point_2d_a  geo_point_2d_b  \n0            48.857620        2.320962  \n1            48.857656        2.321031  \n2            48.857705        2.321061  \n3            48.857722        2.321006  \n4            48.890435        2.315289  \n...                ...             ...  \n200132       48.821957        2.456264  \n200133       48.823254        2.457935  \n200134       48.822907        2.457970  \n200135       48.822522        2.455956  \n200136       48.820445        2.454856  \n\n[200111 rows x 17 columns]",
      "text/html": "<div>\n<style scoped>\n    .dataframe tbody tr th:only-of-type {\n        vertical-align: middle;\n    }\n\n    .dataframe tbody tr th {\n        vertical-align: top;\n    }\n\n    .dataframe thead th {\n        text-align: right;\n    }\n</style>\n<table border=\"1\" class=\"dataframe\">\n  <thead>\n    <tr style=\"text-align: right;\">\n      <th></th>\n      <th>id</th>\n      <th>type_emplacement</th>\n      <th>domanialite</th>\n      <th>arrondissement</th>\n      <th>complement_addresse</th>\n      <th>lieu</th>\n      <th>id_emplacement</th>\n      <th>libelle_francais</th>\n      <th>genre</th>\n      <th>espece</th>\n      <th>variete</th>\n      <th>circonference_cm</th>\n      <th>hauteur_m</th>\n      <th>stade_developpement</th>\n      <th>remarquable</th>\n      <th>geo_point_2d_a</th>\n      <th>geo_point_2d_b</th>\n    </tr>\n  </thead>\n  <tbody>\n    <tr>\n      <th>0</th>\n      <td>99874</td>\n      <td>Arbre</td>\n      <td>Jardin</td>\n      <td>PARIS 7E ARRDT</td>\n      <td>Jardin</td>\n      <td>MAIRIE DU 7E 116 RUE DE GRENELLE PARIS 7E</td>\n      <td>19</td>\n      <td>Marronnier</td>\n      <td>Aesculus</td>\n      <td>hippocastanum</td>\n      <td>Jardin</td>\n      <td>20</td>\n      <td>5</td>\n      <td>Jardin</td>\n      <td>0.0</td>\n      <td>48.857620</td>\n      <td>2.320962</td>\n    </tr>\n    <tr>\n      <th>1</th>\n      <td>99875</td>\n      <td>Arbre</td>\n      <td>Jardin</td>\n      <td>PARIS 7E ARRDT</td>\n      <td>NaN</td>\n      <td>MAIRIE DU 7E 116 RUE DE GRENELLE PARIS 7E</td>\n      <td>20</td>\n      <td>If</td>\n      <td>Taxus</td>\n      <td>baccata</td>\n      <td>NaN</td>\n      <td>65</td>\n      <td>8</td>\n      <td>A</td>\n      <td>Jardin</td>\n      <td>48.857656</td>\n      <td>2.321031</td>\n    </tr>\n    <tr>\n      <th>2</th>\n      <td>99876</td>\n      <td>Arbre</td>\n      <td>Jardin</td>\n      <td>PARIS 7E ARRDT</td>\n      <td>NaN</td>\n      <td>MAIRIE DU 7E 116 RUE DE GRENELLE PARIS 7E</td>\n      <td>21</td>\n      <td>If</td>\n      <td>Taxus</td>\n      <td>baccata</td>\n      <td>NaN</td>\n      <td>90</td>\n      <td>10</td>\n      <td>A</td>\n      <td>NaN</td>\n      <td>48.857705</td>\n      <td>2.321061</td>\n    </tr>\n    <tr>\n      <th>3</th>\n      <td>99877</td>\n      <td>Arbre</td>\n      <td>Jardin</td>\n      <td>PARIS 7E ARRDT</td>\n      <td>NaN</td>\n      <td>MAIRIE DU 7E 116 RUE DE GRENELLE PARIS 7E</td>\n      <td>22</td>\n      <td>Erable</td>\n      <td>Acer</td>\n      <td>negundo</td>\n      <td>NaN</td>\n      <td>60</td>\n      <td>8</td>\n      <td>A</td>\n      <td>NaN</td>\n      <td>48.857722</td>\n      <td>2.321006</td>\n    </tr>\n    <tr>\n      <th>4</th>\n      <td>99878</td>\n      <td>Arbre</td>\n      <td>Jardin</td>\n      <td>PARIS 17E ARRDT</td>\n      <td>NaN</td>\n      <td>PARC CLICHY-BATIGNOLLES-MARTIN LUTHER KING</td>\n      <td>000G0037</td>\n      <td>Arbre à miel</td>\n      <td>Tetradium</td>\n      <td>daniellii</td>\n      <td>NaN</td>\n      <td>38</td>\n      <td>0</td>\n      <td>NaN</td>\n      <td>NaN</td>\n      <td>48.890435</td>\n      <td>2.315289</td>\n    </tr>\n    <tr>\n      <th>...</th>\n      <td>...</td>\n      <td>...</td>\n      <td>...</td>\n      <td>...</td>\n      <td>...</td>\n      <td>...</td>\n      <td>...</td>\n      <td>...</td>\n      <td>...</td>\n      <td>...</td>\n      <td>...</td>\n      <td>...</td>\n      <td>...</td>\n      <td>...</td>\n      <td>...</td>\n      <td>...</td>\n      <td>...</td>\n    </tr>\n    <tr>\n      <th>200132</th>\n      <td>2024741</td>\n      <td>Arbre</td>\n      <td>Jardin</td>\n      <td>BOIS DE VINCENNES</td>\n      <td>NaN</td>\n      <td>ARBORETUM DE L ECOLE DU BREUIL - ROUTE DE LA F...</td>\n      <td>720170151</td>\n      <td>NaN</td>\n      <td>Castanea</td>\n      <td>fargesii</td>\n      <td>NaN</td>\n      <td>0</td>\n      <td>0</td>\n      <td>NaN</td>\n      <td>0.0</td>\n      <td>48.821957</td>\n      <td>2.456264</td>\n    </tr>\n    <tr>\n      <th>200133</th>\n      <td>2024742</td>\n      <td>Arbre</td>\n      <td>Jardin</td>\n      <td>BOIS DE VINCENNES</td>\n      <td>NaN</td>\n      <td>ARBORETUM DE L ECOLE DU BREUIL - ROUTE DE LA F...</td>\n      <td>720170152</td>\n      <td>Arbre aux mouchoirs</td>\n      <td>Davidia</td>\n      <td>involucrata</td>\n      <td>NaN</td>\n      <td>0</td>\n      <td>0</td>\n      <td>NaN</td>\n      <td>0.0</td>\n      <td>48.823254</td>\n      <td>2.457935</td>\n    </tr>\n    <tr>\n      <th>200134</th>\n      <td>2024743</td>\n      <td>Arbre</td>\n      <td>Jardin</td>\n      <td>BOIS DE VINCENNES</td>\n      <td>NaN</td>\n      <td>ARBORETUM DE L ECOLE DU BREUIL - ROUTE DE LA F...</td>\n      <td>720170153</td>\n      <td>Peuplier</td>\n      <td>Populus</td>\n      <td>simonii</td>\n      <td>NaN</td>\n      <td>0</td>\n      <td>0</td>\n      <td>NaN</td>\n      <td>0.0</td>\n      <td>48.822907</td>\n      <td>2.457970</td>\n    </tr>\n    <tr>\n      <th>200135</th>\n      <td>2024744</td>\n      <td>Arbre</td>\n      <td>Jardin</td>\n      <td>BOIS DE VINCENNES</td>\n      <td>NaN</td>\n      <td>ARBORETUM DE L ECOLE DU BREUIL - ROUTE DE LA F...</td>\n      <td>720170154</td>\n      <td>Chêne</td>\n      <td>Quercus</td>\n      <td>n. sp.</td>\n      <td>NaN</td>\n      <td>0</td>\n      <td>0</td>\n      <td>NaN</td>\n      <td>0.0</td>\n      <td>48.822522</td>\n      <td>2.455956</td>\n    </tr>\n    <tr>\n      <th>200136</th>\n      <td>2024745</td>\n      <td>Arbre</td>\n      <td>Jardin</td>\n      <td>BOIS DE VINCENNES</td>\n      <td>NaN</td>\n      <td>ARBORETUM DE L ECOLE DU BREUIL - ROUTE DE LA F...</td>\n      <td>720170155</td>\n      <td>Raisinier</td>\n      <td>Hovenia</td>\n      <td>dulcis</td>\n      <td>NaN</td>\n      <td>0</td>\n      <td>0</td>\n      <td>NaN</td>\n      <td>0.0</td>\n      <td>48.820445</td>\n      <td>2.454856</td>\n    </tr>\n  </tbody>\n</table>\n<p>200111 rows × 17 columns</p>\n</div>"
     },
     "execution_count": 73,
     "metadata": {},
     "output_type": "execute_result"
    }
   ],
   "source": [
    "arbres_cp_drop_genre_na.dropna(subset=['complement_addresse'])\n",
    "arbres_cp_drop_genre_na.dropna(subset=['numero'])\n",
    "arbres_cp_drop_genre_na_numero = arbres_cp_drop_genre_na.drop(columns=['numero'])\n",
    "arbres_cp_drop_genre_na_numero\n"
   ],
   "metadata": {
    "collapsed": false,
    "pycharm": {
     "name": "#%%\n"
    }
   }
  },
  {
   "cell_type": "markdown",
   "source": [
    "Les aberrations ou erreurs d'unité vont demander beaucoup plus de travail face à l'empirisme de la tache, certaines mesures sont évidentes, mais l'utilisation d'outils comme [OpenRefine](https://openrefine.org/) ou encore des graphiques permettant de voir les outlier comme les boites à moustaches, seraient utiles.\n",
    "Il serait possible de coder un programme qui pourrait en fonction du taux d'erreur de convertir certaines saisies dans la bonne unitée.\n",
    "par exemple si on se [renseigne](https://www.unjourdeplusaparis.com/paris-vert/arbres-remarquables-paris), on peut définir certaine limite."
   ],
   "metadata": {
    "collapsed": false,
    "pycharm": {
     "name": "#%% md\n"
    }
   }
  },
  {
   "cell_type": "code",
   "execution_count": 74,
   "outputs": [
    {
     "data": {
      "text/plain": "(199652, 2)"
     },
     "execution_count": 74,
     "metadata": {},
     "output_type": "execute_result"
    }
   ],
   "source": [
    "hauteur = pa.DataFrame(arbres_cp_drop_genre_na_numero.hauteur_m)\n",
    "circonference =  pa.DataFrame(arbres_cp_drop_genre_na_numero.circonference_cm)\n",
    "hauteur.where(hauteur > 46).dropna().count()\n",
    "dimmension =  hauteur.where(hauteur>46).dropna().join(circonference.where(circonference>695).dropna())\n",
    "dimmension.count()\n",
    "# taux_er_dim = dimmension.count()/len(arbres)*100\n",
    "# taux_er_dim\n",
    "arbres_data_clean = hauteur.where(hauteur<=46).dropna().join(circonference.where(circonference<=695).dropna())\n",
    "arbres_data_clean.shape"
   ],
   "metadata": {
    "collapsed": false,
    "pycharm": {
     "name": "#%%\n"
    }
   }
  }
 ],
 "metadata": {
  "kernelspec": {
   "display_name": "Python 3 (ipykernel)",
   "language": "python",
   "name": "python3"
  },
  "language_info": {
   "codemirror_mode": {
    "name": "ipython",
    "version": 3
   },
   "file_extension": ".py",
   "mimetype": "text/x-python",
   "name": "python",
   "nbconvert_exporter": "python",
   "pygments_lexer": "ipython3",
   "version": "3.9.7"
  }
 },
 "nbformat": 4,
 "nbformat_minor": 1
}