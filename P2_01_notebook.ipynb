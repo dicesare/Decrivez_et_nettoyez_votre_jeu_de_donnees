{
 "cells": [
  {
   "cell_type": "markdown",
   "metadata": {},
   "source": [
    "# Manipulation des données avec Pandas\n",
    "\n",
    "---\n",
    "## Présentation\n",
    "\n",
    "Pandas est une librairie Python spécialisée dans l’analyse des données. Nous nous intéresserons\n",
    "surtout aux fonctionnalités de manipulations de données qu’elle propose. Un objet de type \"data frame\", qui permet de réaliser de nombreuses opérations de filtrage, prétraitements, etc., préalables à la modélisation statistique.\n",
    "La [librairie est très largement documentée](https://pandas.pydata.org/).\n",
    "<img src=\"https://upload.wikimedia.org/wikipedia/commons/thumb/e/ed/Pandas_logo.svg/1920px-Pandas_logo.svg.png\" alt=\"Logo Librairie Panda\" title=\"Librairie Panda\" width=\"256\">\n",
    "\n",
    "Pour commencer, nous utiliserons la fonction de 🐼 pour lire ou écrire un fichier, dans notre cas un csv, mais 🐼 accepte d'autre format : [JSON, SQL, ...](https://pandas.pydata.org/docs/user_guide/io.html?highlight=read)\n",
    "\n",
    "> *La fonction `.read_csv()` accepte plusieurs [arguments](https://pandas.pydata.org/docs/user_guide/io.html?highlight=read#io-read-csv-table), (qui vont permettre, avec la maitrise de cette librairie, de pouvoir commencer un pré-traitement de la donnée selon le type d'extension, les possibilitées sont tres vastes). Dans notre cas nous ne définirons le symbole de separation car par default \",\".*"
   ]
  },
  {
   "cell_type": "markdown",
   "metadata": {},
   "source": []
  },
  {
   "cell_type": "code",
   "execution_count": 251,
   "metadata": {},
   "outputs": [
    {
     "name": "stdout",
     "output_type": "stream",
     "text": [
      "<class 'pandas.core.frame.DataFrame'>\n"
     ]
    }
   ],
   "source": [
    "import pandas as pa\n",
    "import numpy as np\n",
    "import matplotlib.pyplot as plt\n",
    "import seaborn as sns\n",
    "\n",
    "arbres_df = pa.read_csv(\"./p2-arbres-fr.csv\", sep=\";\")\n",
    "#vérifions le type de df\n",
    "print(type(arbres_df))"
   ]
  },
  {
   "cell_type": "markdown",
   "metadata": {},
   "source": [
    "## Structure DataFrame\n",
    "Une matrice DataFrame correspond à une matrice individus-variables où les lignes correspondent à des observations, les colonnes à des attributs décrivant les individus.\n",
    "Nous allons maintenant afficher différente fonction pour analyser la structure\n",
    "### shape\n",
    "< *`.shape` : qui retourne un tuple qui représente les dimensions de notre Dataframe.*"
   ]
  },
  {
   "cell_type": "code",
   "execution_count": 252,
   "metadata": {
    "pycharm": {
     "name": "#%%\n"
    }
   },
   "outputs": [
    {
     "data": {
      "text/plain": "(200137, 18)"
     },
     "execution_count": 252,
     "metadata": {},
     "output_type": "execute_result"
    }
   ],
   "source": [
    "arbres_df.shape"
   ]
  },
  {
   "cell_type": "markdown",
   "metadata": {},
   "source": [
    "### head\n",
    "Avec [🐼.head()](https://pandas.pydata.org/docs/reference/api/pandas.DataFrame.head.html?highlight=head#pandas.DataFrame.head), nous allons pouvoir observer un rapide aperçu de notre DataFrame:`notre_variable.head()`\n",
    "> *La fonction  `.tail()`  est le pendant de la fonction `.head()`  . Elle permet d'afficher les derniers éléments du DataFrame.*\n",
    "\n",
    "Ici, nous pouvons déjà observer que certaines colonnes &| lignes possèdent des valeurs vides représentées par `NaN`.\n",
    "On peut définir le nombre de lignes afficher(par défaut 5)"
   ]
  },
  {
   "cell_type": "code",
   "execution_count": 253,
   "metadata": {
    "pycharm": {
     "name": "#%%\n"
    }
   },
   "outputs": [
    {
     "data": {
      "text/plain": "      id type_emplacement domanialite  arrondissement complement_addresse  \\\n0  99874            Arbre      Jardin  PARIS 7E ARRDT                 NaN   \n1  99875            Arbre      Jardin  PARIS 7E ARRDT                 NaN   \n2  99876            Arbre      Jardin  PARIS 7E ARRDT                 NaN   \n3  99877            Arbre      Jardin  PARIS 7E ARRDT                 NaN   \n\n   numero                                       lieu id_emplacement  \\\n0     NaN  MAIRIE DU 7E 116 RUE DE GRENELLE PARIS 7E             19   \n1     NaN  MAIRIE DU 7E 116 RUE DE GRENELLE PARIS 7E             20   \n2     NaN  MAIRIE DU 7E 116 RUE DE GRENELLE PARIS 7E             21   \n3     NaN  MAIRIE DU 7E 116 RUE DE GRENELLE PARIS 7E             22   \n\n  libelle_francais     genre         espece variete  circonference_cm  \\\n0       Marronnier  Aesculus  hippocastanum     NaN                20   \n1               If     Taxus        baccata     NaN                65   \n2               If     Taxus        baccata     NaN                90   \n3           Erable      Acer        negundo     NaN                60   \n\n   hauteur_m stade_developpement  remarquable  geo_point_2d_a  geo_point_2d_b  \n0          5                 NaN          0.0       48.857620        2.320962  \n1          8                   A          NaN       48.857656        2.321031  \n2         10                   A          NaN       48.857705        2.321061  \n3          8                   A          NaN       48.857722        2.321006  ",
      "text/html": "<div>\n<style scoped>\n    .dataframe tbody tr th:only-of-type {\n        vertical-align: middle;\n    }\n\n    .dataframe tbody tr th {\n        vertical-align: top;\n    }\n\n    .dataframe thead th {\n        text-align: right;\n    }\n</style>\n<table border=\"1\" class=\"dataframe\">\n  <thead>\n    <tr style=\"text-align: right;\">\n      <th></th>\n      <th>id</th>\n      <th>type_emplacement</th>\n      <th>domanialite</th>\n      <th>arrondissement</th>\n      <th>complement_addresse</th>\n      <th>numero</th>\n      <th>lieu</th>\n      <th>id_emplacement</th>\n      <th>libelle_francais</th>\n      <th>genre</th>\n      <th>espece</th>\n      <th>variete</th>\n      <th>circonference_cm</th>\n      <th>hauteur_m</th>\n      <th>stade_developpement</th>\n      <th>remarquable</th>\n      <th>geo_point_2d_a</th>\n      <th>geo_point_2d_b</th>\n    </tr>\n  </thead>\n  <tbody>\n    <tr>\n      <th>0</th>\n      <td>99874</td>\n      <td>Arbre</td>\n      <td>Jardin</td>\n      <td>PARIS 7E ARRDT</td>\n      <td>NaN</td>\n      <td>NaN</td>\n      <td>MAIRIE DU 7E 116 RUE DE GRENELLE PARIS 7E</td>\n      <td>19</td>\n      <td>Marronnier</td>\n      <td>Aesculus</td>\n      <td>hippocastanum</td>\n      <td>NaN</td>\n      <td>20</td>\n      <td>5</td>\n      <td>NaN</td>\n      <td>0.0</td>\n      <td>48.857620</td>\n      <td>2.320962</td>\n    </tr>\n    <tr>\n      <th>1</th>\n      <td>99875</td>\n      <td>Arbre</td>\n      <td>Jardin</td>\n      <td>PARIS 7E ARRDT</td>\n      <td>NaN</td>\n      <td>NaN</td>\n      <td>MAIRIE DU 7E 116 RUE DE GRENELLE PARIS 7E</td>\n      <td>20</td>\n      <td>If</td>\n      <td>Taxus</td>\n      <td>baccata</td>\n      <td>NaN</td>\n      <td>65</td>\n      <td>8</td>\n      <td>A</td>\n      <td>NaN</td>\n      <td>48.857656</td>\n      <td>2.321031</td>\n    </tr>\n    <tr>\n      <th>2</th>\n      <td>99876</td>\n      <td>Arbre</td>\n      <td>Jardin</td>\n      <td>PARIS 7E ARRDT</td>\n      <td>NaN</td>\n      <td>NaN</td>\n      <td>MAIRIE DU 7E 116 RUE DE GRENELLE PARIS 7E</td>\n      <td>21</td>\n      <td>If</td>\n      <td>Taxus</td>\n      <td>baccata</td>\n      <td>NaN</td>\n      <td>90</td>\n      <td>10</td>\n      <td>A</td>\n      <td>NaN</td>\n      <td>48.857705</td>\n      <td>2.321061</td>\n    </tr>\n    <tr>\n      <th>3</th>\n      <td>99877</td>\n      <td>Arbre</td>\n      <td>Jardin</td>\n      <td>PARIS 7E ARRDT</td>\n      <td>NaN</td>\n      <td>NaN</td>\n      <td>MAIRIE DU 7E 116 RUE DE GRENELLE PARIS 7E</td>\n      <td>22</td>\n      <td>Erable</td>\n      <td>Acer</td>\n      <td>negundo</td>\n      <td>NaN</td>\n      <td>60</td>\n      <td>8</td>\n      <td>A</td>\n      <td>NaN</td>\n      <td>48.857722</td>\n      <td>2.321006</td>\n    </tr>\n  </tbody>\n</table>\n</div>"
     },
     "execution_count": 253,
     "metadata": {},
     "output_type": "execute_result"
    }
   ],
   "source": [
    "arbres_df.head(n=4)"
   ]
  },
  {
   "cell_type": "markdown",
   "metadata": {},
   "source": [
    "### isnull & sum\n",
    "Profitons du fait de voir des `NaN` pour utiliser la combinaison de commande pratique de 🐼 `.isnull()` & `sum()`.\n",
    "> [Isnull](https://pandas.pydata.org/docs/reference/api/pandas.DataFrame.isnull.html?highlight=isnull#pandas.DataFrame.isnull) nous retourne un tableau de booléens de même taille que notre Dataframe Les valeurs `NaN`, telles que None ou [numpy.NaN](https://numpy.org/doc/stable/reference/constants.html?highlight=nan#numpy.NaN), sont mappées aux valeurs `True`. Tout le reste est mappé sur des valeurs ``False``.\n",
    "> [Sum](https://pandas.pydata.org/docs/reference/api/pandas.DataFrame.sum.html?highlight=sum#pandas.DataFrame.sum) Renvoie la somme des valeurs sur l'axe demandé.\n",
    "> > *par defaut : `DataFrame.sum(axis=None, skipna=None, level=None, numeric_only=None, min_count=0, **kwargs)`*"
   ]
  },
  {
   "cell_type": "code",
   "execution_count": 254,
   "metadata": {
    "pycharm": {
     "name": "#%%\n"
    }
   },
   "outputs": [
    {
     "data": {
      "text/plain": "id                          0\ntype_emplacement            0\ndomanialite                 1\narrondissement              0\ncomplement_addresse    169235\nnumero                 200137\nlieu                        0\nid_emplacement              0\nlibelle_francais         1497\ngenre                      16\nespece                   1752\nvariete                163360\ncirconference_cm            0\nhauteur_m                   0\nstade_developpement     67205\nremarquable             63098\ngeo_point_2d_a              0\ngeo_point_2d_b              0\ndtype: int64"
     },
     "execution_count": 254,
     "metadata": {},
     "output_type": "execute_result"
    }
   ],
   "source": [
    "arbres_df.isnull().sum()"
   ]
  },
  {
   "cell_type": "markdown",
   "metadata": {},
   "source": [
    "#### type de chaque colonne\n",
    "Afin de définir nos types de variables, et nous permettre de savoir comment les traiter dans notre etude ultérieurement.\n",
    "\n",
    "<img src=\"https://user.oc-static.com/upload/2017/10/30/15094028245878_Variables.jpeg\" width=\"512\">\n",
    "\n",
    "> *Dans notre Dataframe le Type Objet est bien sûr un String 😉.*"
   ]
  },
  {
   "cell_type": "code",
   "execution_count": 255,
   "metadata": {
    "pycharm": {
     "name": "#%%\n"
    }
   },
   "outputs": [
    {
     "name": "stdout",
     "output_type": "stream",
     "text": [
      "id                       int64\n",
      "type_emplacement        object\n",
      "domanialite             object\n",
      "arrondissement          object\n",
      "complement_addresse     object\n",
      "numero                 float64\n",
      "lieu                    object\n",
      "id_emplacement          object\n",
      "libelle_francais        object\n",
      "genre                   object\n",
      "espece                  object\n",
      "variete                 object\n",
      "circonference_cm         int64\n",
      "hauteur_m                int64\n",
      "stade_developpement     object\n",
      "remarquable            float64\n",
      "geo_point_2d_a         float64\n",
      "geo_point_2d_b         float64\n",
      "dtype: object\n"
     ]
    }
   ],
   "source": [
    "print(arbres_df.dtypes)"
   ]
  },
  {
   "cell_type": "markdown",
   "metadata": {},
   "source": [
    "### Describe\n",
    "\n",
    "#### Génération des statistiques descriptive\n",
    "\n",
    "Les [statistiques descriptives](https://pandas.pydata.org/docs/reference/api/pandas.DataFrame.describe.html?highlight=describe#pandas.DataFrame.describe) incluent celles qui résument la tendance centrale, la dispersion et la forme de la distribution d'un ensemble de données, à l'exclusion des `NaN` valeurs.\n",
    "\n",
    "Analyse à la fois les séries numériques (Quantitative) et les séries d'objets (Qualitative), ainsi que les DataFrame ensembles de colonnes de types de données mixtes. La sortie varie en fonction de ce qui est fourni.\n",
    "> *DataFrame.describe(percentiles=None, include=None, exclude=None, datetime_is_numeric=False)*\n",
    "\n",
    "<p><b>count :</b> comptage du nombre de cellules de notre Dataframe</p>\n",
    "<p><b>mean :</b> moyenne des valeurs :\n",
    "$$\n",
    "\\overline{X}_n=\\frac{1}{n}\\sum^{n}_{i=1}X_{i}\n",
    "$$\n",
    "</p>\n",
    "<p><b>std :</b> ecart type :\n",
    "$$\n",
    "\\sigma \\ ou \\ s=\\sqrt{v},\\\\ avec \\ v=\\frac{1}{n}\\sum^n_{i=1}(x_i-\\overline{x})^{2}\n",
    "$$\n",
    "</p>\n",
    "<p><b>percentile :</b> centiles inclut à la sortie, celui de 50% nous indique la mediane représentée par:\n",
    "$$\n",
    "\\ Med = x_{(\\frac{n+1}{2})}\n",
    "$$\n",
    "</p>\n",
    "<p><b>Min & Max :</b> comme leurs noms l'indique, mais permet d'avoir une première approche des valeurs aberrantes </p>\n",
    "\n",
    "> *dans notre exemple ci-dessous des arbres de \"0\" de hauteur ou de circonférence, à contrario de 800k m de haut ou circonférence de 250 m ! 😅*"
   ]
  },
  {
   "cell_type": "code",
   "execution_count": 256,
   "metadata": {
    "pycharm": {
     "name": "#%%\n"
    }
   },
   "outputs": [
    {
     "data": {
      "text/plain": "                 id  numero  circonference_cm      hauteur_m    remarquable  \\\ncount  2.001370e+05     0.0     200137.000000  200137.000000  137039.000000   \nmean   3.872027e+05     NaN         83.380479      13.110509       0.001343   \nstd    5.456032e+05     NaN        673.190213    1971.217387       0.036618   \nmin    9.987400e+04     NaN          0.000000       0.000000       0.000000   \n25%    1.559270e+05     NaN         30.000000       5.000000       0.000000   \n50%    2.210780e+05     NaN         70.000000       8.000000       0.000000   \n75%    2.741020e+05     NaN        115.000000      12.000000       0.000000   \nmax    2.024745e+06     NaN     250255.000000  881818.000000       1.000000   \n\n       geo_point_2d_a  geo_point_2d_b  \ncount   200137.000000   200137.000000  \nmean        48.854491        2.348208  \nstd          0.030234        0.051220  \nmin         48.742290        2.210241  \n25%         48.835021        2.307530  \n50%         48.854162        2.351095  \n75%         48.876447        2.386838  \nmax         48.911485        2.469759  ",
      "text/html": "<div>\n<style scoped>\n    .dataframe tbody tr th:only-of-type {\n        vertical-align: middle;\n    }\n\n    .dataframe tbody tr th {\n        vertical-align: top;\n    }\n\n    .dataframe thead th {\n        text-align: right;\n    }\n</style>\n<table border=\"1\" class=\"dataframe\">\n  <thead>\n    <tr style=\"text-align: right;\">\n      <th></th>\n      <th>id</th>\n      <th>numero</th>\n      <th>circonference_cm</th>\n      <th>hauteur_m</th>\n      <th>remarquable</th>\n      <th>geo_point_2d_a</th>\n      <th>geo_point_2d_b</th>\n    </tr>\n  </thead>\n  <tbody>\n    <tr>\n      <th>count</th>\n      <td>2.001370e+05</td>\n      <td>0.0</td>\n      <td>200137.000000</td>\n      <td>200137.000000</td>\n      <td>137039.000000</td>\n      <td>200137.000000</td>\n      <td>200137.000000</td>\n    </tr>\n    <tr>\n      <th>mean</th>\n      <td>3.872027e+05</td>\n      <td>NaN</td>\n      <td>83.380479</td>\n      <td>13.110509</td>\n      <td>0.001343</td>\n      <td>48.854491</td>\n      <td>2.348208</td>\n    </tr>\n    <tr>\n      <th>std</th>\n      <td>5.456032e+05</td>\n      <td>NaN</td>\n      <td>673.190213</td>\n      <td>1971.217387</td>\n      <td>0.036618</td>\n      <td>0.030234</td>\n      <td>0.051220</td>\n    </tr>\n    <tr>\n      <th>min</th>\n      <td>9.987400e+04</td>\n      <td>NaN</td>\n      <td>0.000000</td>\n      <td>0.000000</td>\n      <td>0.000000</td>\n      <td>48.742290</td>\n      <td>2.210241</td>\n    </tr>\n    <tr>\n      <th>25%</th>\n      <td>1.559270e+05</td>\n      <td>NaN</td>\n      <td>30.000000</td>\n      <td>5.000000</td>\n      <td>0.000000</td>\n      <td>48.835021</td>\n      <td>2.307530</td>\n    </tr>\n    <tr>\n      <th>50%</th>\n      <td>2.210780e+05</td>\n      <td>NaN</td>\n      <td>70.000000</td>\n      <td>8.000000</td>\n      <td>0.000000</td>\n      <td>48.854162</td>\n      <td>2.351095</td>\n    </tr>\n    <tr>\n      <th>75%</th>\n      <td>2.741020e+05</td>\n      <td>NaN</td>\n      <td>115.000000</td>\n      <td>12.000000</td>\n      <td>0.000000</td>\n      <td>48.876447</td>\n      <td>2.386838</td>\n    </tr>\n    <tr>\n      <th>max</th>\n      <td>2.024745e+06</td>\n      <td>NaN</td>\n      <td>250255.000000</td>\n      <td>881818.000000</td>\n      <td>1.000000</td>\n      <td>48.911485</td>\n      <td>2.469759</td>\n    </tr>\n  </tbody>\n</table>\n</div>"
     },
     "execution_count": 256,
     "metadata": {},
     "output_type": "execute_result"
    }
   ],
   "source": [
    "arbres_df.describe()"
   ]
  },
  {
   "cell_type": "markdown",
   "metadata": {},
   "source": [
    "## Recherche et somme des valeurs manquante du DataFrame dans chaque colonne\n",
    "> Précédemment nous avions utilisé la combinaison de fonction `.isnull().sum()`.\n",
    "> Il en ressort que certaines colonnes sont quasiment vides (numeros, varieté..) et d'autres avec quelques valeurs manquantes comme \"dominialité\" et \"genre\".\n",
    "\n",
    "commençons par \"dominialité\", nous affichons les valeurs qualitatives de cette colonne.\n",
    "> *on remarque au passage la facilité pour cibler une colonne en particulier et l'utilisation de la fonction `.unique()` [doc.](https://pandas.pydata.org/docs/reference/api/pandas.Series.unique.html?highlight=unique#pandas.Series.unique), qui retourne un tableau numpy.*\n",
    "\n",
    "En dernière position on retrouve notre `NaN`."
   ]
  },
  {
   "cell_type": "code",
   "execution_count": 257,
   "metadata": {
    "pycharm": {
     "name": "#%%\n"
    }
   },
   "outputs": [
    {
     "data": {
      "text/plain": "array(['Jardin', 'Alignement', 'DJS', 'DFPE', 'CIMETIERE', 'DASCO', 'DAC',\n       'PERIPHERIQUE', 'DASES', nan], dtype=object)"
     },
     "execution_count": 257,
     "metadata": {},
     "output_type": "execute_result"
    }
   ],
   "source": [
    "arbres_df.domanialite.unique()"
   ]
  },
  {
   "cell_type": "markdown",
   "metadata": {},
   "source": [
    "### Traitement\n",
    "Nous allons créer une requête dans notre Data Frame pour afficher l’individu en question.\n",
    "> *Pour ce faire, on utilise la fonction `.isna()` [doc](https://pandas.pydata.org/docs/reference/api/pandas.DataFrame.isna.html?highlight=isna#pandas.DataFrame.isna).*\n",
    "\n",
    "Dans le résultat ci-dessous, on peut constater que la valeur de la 'dominialite' manquante est renseigné dans le lieu, qui fait partie des valeurs possibles de la colonne."
   ]
  },
  {
   "cell_type": "code",
   "execution_count": 258,
   "metadata": {
    "pycharm": {
     "name": "#%%\n"
    }
   },
   "outputs": [
    {
     "data": {
      "text/plain": "             id type_emplacement domanialite   arrondissement  \\\n197239  2020911            Arbre         NaN  PARIS 20E ARRDT   \n\n       complement_addresse  numero  \\\n197239                 NaN     NaN   \n\n                                                     lieu id_emplacement  \\\n197239  JARDINS D IMMEUBLES PORTE DE VINCENNES NORD / ...         203006   \n\n       libelle_francais         genre   espece variete  circonference_cm  \\\n197239      Chimonanthe  Chimonanthus  praecox     NaN                35   \n\n        hauteur_m stade_developpement  remarquable  geo_point_2d_a  \\\n197239          4                  JA          0.0       48.849547   \n\n        geo_point_2d_b  \n197239         2.41419  ",
      "text/html": "<div>\n<style scoped>\n    .dataframe tbody tr th:only-of-type {\n        vertical-align: middle;\n    }\n\n    .dataframe tbody tr th {\n        vertical-align: top;\n    }\n\n    .dataframe thead th {\n        text-align: right;\n    }\n</style>\n<table border=\"1\" class=\"dataframe\">\n  <thead>\n    <tr style=\"text-align: right;\">\n      <th></th>\n      <th>id</th>\n      <th>type_emplacement</th>\n      <th>domanialite</th>\n      <th>arrondissement</th>\n      <th>complement_addresse</th>\n      <th>numero</th>\n      <th>lieu</th>\n      <th>id_emplacement</th>\n      <th>libelle_francais</th>\n      <th>genre</th>\n      <th>espece</th>\n      <th>variete</th>\n      <th>circonference_cm</th>\n      <th>hauteur_m</th>\n      <th>stade_developpement</th>\n      <th>remarquable</th>\n      <th>geo_point_2d_a</th>\n      <th>geo_point_2d_b</th>\n    </tr>\n  </thead>\n  <tbody>\n    <tr>\n      <th>197239</th>\n      <td>2020911</td>\n      <td>Arbre</td>\n      <td>NaN</td>\n      <td>PARIS 20E ARRDT</td>\n      <td>NaN</td>\n      <td>NaN</td>\n      <td>JARDINS D IMMEUBLES PORTE DE VINCENNES NORD / ...</td>\n      <td>203006</td>\n      <td>Chimonanthe</td>\n      <td>Chimonanthus</td>\n      <td>praecox</td>\n      <td>NaN</td>\n      <td>35</td>\n      <td>4</td>\n      <td>JA</td>\n      <td>0.0</td>\n      <td>48.849547</td>\n      <td>2.41419</td>\n    </tr>\n  </tbody>\n</table>\n</div>"
     },
     "execution_count": 258,
     "metadata": {},
     "output_type": "execute_result"
    }
   ],
   "source": [
    "arbres_df[arbres_df.domanialite.isna()]"
   ]
  },
  {
   "cell_type": "markdown",
   "metadata": {},
   "source": [
    "La solution retenue et en concordance avec notre colonne est le remplacement de cette valeur manquante.\n",
    "> *la fonction `.fillna()` permet de remplir les valeurs NA/NaN en utilisant la méthode spécifiée,\n",
    "> pour explication des paramètres utilisés :\n",
    "    <ul>\n",
    "    <li><b>inplace (bool), par défaut False</li>\n",
    "    Si True, remplis sur place. Remarque : cela modifiera toutes les autres vues sur cet objet (par exemple, une tranche sans copie pour une colonne dans un DataFrame).\n",
    "    <li><b>limit (int), par défaut Aucun </li>\n",
    "    Si la méthode est spécifiée, il s'agit du nombre maximum de valeurs NaN consécutives à remplir en avant/en arrière. Autrement dit, s'il existe un écart avec plus de ce nombre de NaN consécutifs, il ne sera que partiellement comblé. Si la méthode n'est pas spécifiée, il s'agit du nombre maximum d'entrées le long de l'axe entier où NaNs sera rempli. Doit être supérieur à 0 sinon aucun.\n",
    "    </ul>*"
   ]
  },
  {
   "cell_type": "code",
   "execution_count": 259,
   "metadata": {
    "pycharm": {
     "name": "#%%\n"
    }
   },
   "outputs": [
    {
     "data": {
      "text/plain": "array(['Jardin', 'Alignement', 'DJS', 'DFPE', 'CIMETIERE', 'DASCO', 'DAC',\n       'PERIPHERIQUE', 'DASES'], dtype=object)"
     },
     "execution_count": 259,
     "metadata": {},
     "output_type": "execute_result"
    }
   ],
   "source": [
    "arbres_df.fillna(\"Jardin\", axis=1, inplace=True, limit=1)\n",
    "arbres_df.domanialite.unique()"
   ]
  },
  {
   "cell_type": "markdown",
   "metadata": {
    "pycharm": {
     "name": "#%% md\n"
    }
   },
   "source": [
    "#### Cellule manquante genre,espece\n",
    "\n",
    "Après investigation, dans le cas de la colonne \"genre\", 7 des individus non renseignés, nous constatons qu’aucunes données de taille, circonférence et d’identification sont renseignées.\n",
    "Pour ce faire, comme dans la recherche précédente, nous allons créer une requête."
   ]
  },
  {
   "cell_type": "code",
   "execution_count": 260,
   "metadata": {
    "pycharm": {
     "name": "#%%\n"
    }
   },
   "outputs": [
    {
     "data": {
      "text/plain": "             id type_emplacement domanialite   arrondissement  \\\n195409  2018853            Arbre      Jardin  PARIS 13E ARRDT   \n195410  2018854            Arbre      Jardin  PARIS 13E ARRDT   \n195475  2018919            Arbre      Jardin  PARIS 13E ARRDT   \n195476  2018920            Arbre      Jardin  PARIS 13E ARRDT   \n195487  2018932            Arbre      Jardin  PARIS 13E ARRDT   \n195496  2018942            Arbre      Jardin  PARIS 13E ARRDT   \n195497  2018943            Arbre      Jardin  PARIS 13E ARRDT   \n195499  2018945            Arbre      Jardin  PARIS 13E ARRDT   \n195502  2018948            Arbre      Jardin  PARIS 13E ARRDT   \n195503  2018949            Arbre      Jardin  PARIS 13E ARRDT   \n195505  2018951            Arbre      Jardin  PARIS 13E ARRDT   \n195509  2018955            Arbre      Jardin  PARIS 13E ARRDT   \n195514  2018960            Arbre      Jardin  PARIS 13E ARRDT   \n195518  2018964            Arbre      Jardin  PARIS 13E ARRDT   \n195519  2018965            Arbre      Jardin  PARIS 13E ARRDT   \n\n       complement_addresse numero  \\\n195409                 NaN    NaN   \n195410                 NaN    NaN   \n195475                 NaN    NaN   \n195476                 NaN    NaN   \n195487                 NaN    NaN   \n195496                 NaN    NaN   \n195497                 NaN    NaN   \n195499                 NaN    NaN   \n195502                 NaN    NaN   \n195503                 NaN    NaN   \n195505                 NaN    NaN   \n195509                 NaN    NaN   \n195514                 NaN    NaN   \n195518                 NaN    NaN   \n195519                 NaN    NaN   \n\n                                                     lieu id_emplacement  \\\n195409  PC13 - JARDIN DE LA RUE DE LA POTERNE DES PEUP...         104005   \n195410  PC13 - JARDIN DE LA RUE DE LA POTERNE DES PEUP...         104006   \n195475  PC13 - JARDIN DE LA RUE DE LA POTERNE DES PEUP...         104030   \n195476  PC13 - JARDIN DE LA RUE DE LA POTERNE DES PEUP...         104031   \n195487  PC13 - JARDIN DE LA RUE DE LA POTERNE DES PEUP...         105006   \n195496  PC13 - JARDIN DE LA RUE DE LA POTERNE DES PEUP...         105017   \n195497  PC13 - JARDIN DE LA RUE DE LA POTERNE DES PEUP...         105019   \n195499  PC13 - JARDIN DE LA RUE DE LA POTERNE DES PEUP...         105022   \n195502  PC13 - JARDIN DE LA RUE DE LA POTERNE DES PEUP...         105025   \n195503  PC13 - JARDIN DE LA RUE DE LA POTERNE DES PEUP...         106001   \n195505  PC13 - JARDIN DE LA RUE DE LA POTERNE DES PEUP...         106003   \n195509  PC13 - JARDIN DE LA RUE DE LA POTERNE DES PEUP...         104009   \n195514  PC13 - JARDIN DE LA RUE DE LA POTERNE DES PEUP...         104019   \n195518  PC13 - JARDIN DE LA RUE DE LA POTERNE DES PEUP...         104023   \n195519  PC13 - JARDIN DE LA RUE DE LA POTERNE DES PEUP...         104025   \n\n       libelle_francais genre espece variete  circonference_cm  hauteur_m  \\\n195409              NaN   NaN    NaN     NaN                 0          0   \n195410              NaN   NaN    NaN     NaN                 0          0   \n195475              NaN   NaN    NaN     NaN                 0          0   \n195476              NaN   NaN    NaN     NaN                 0          0   \n195487              NaN   NaN    NaN     NaN                 0          0   \n195496              NaN   NaN    NaN     NaN                 0          0   \n195497              NaN   NaN    NaN     NaN                 0          0   \n195499              NaN   NaN    NaN     NaN                 0          0   \n195502              NaN   NaN    NaN     NaN                 0          0   \n195503              NaN   NaN    NaN     NaN                 0          0   \n195505              NaN   NaN    NaN     NaN                 0          0   \n195509              NaN   NaN    NaN     NaN                 0          0   \n195514              NaN   NaN    NaN     NaN                 0          0   \n195518              NaN   NaN    NaN     NaN                 0          0   \n195519              NaN   NaN    NaN     NaN                 0          0   \n\n       stade_developpement remarquable  geo_point_2d_a  geo_point_2d_b  \n195409                 NaN         0.0       48.821259        2.354242  \n195410                 NaN         0.0       48.821229        2.354212  \n195475                 NaN         0.0       48.821281        2.353322  \n195476                 NaN         0.0       48.821289        2.353228  \n195487                 NaN         0.0       48.821294        2.352001  \n195496                 NaN         0.0       48.821292        2.351425  \n195497                 NaN         0.0       48.821260        2.351363  \n195499                 NaN         0.0       48.821261        2.351296  \n195502                 NaN         0.0       48.821283        2.351094  \n195503                 NaN         0.0       48.821401        2.350885  \n195505                 NaN         0.0       48.821404        2.351217  \n195509                 NaN         0.0       48.821259        2.354079  \n195514                 NaN         0.0       48.821310        2.353883  \n195518                 NaN         0.0       48.821298        2.353718  \n195519                 NaN         0.0       48.821305        2.353505  ",
      "text/html": "<div>\n<style scoped>\n    .dataframe tbody tr th:only-of-type {\n        vertical-align: middle;\n    }\n\n    .dataframe tbody tr th {\n        vertical-align: top;\n    }\n\n    .dataframe thead th {\n        text-align: right;\n    }\n</style>\n<table border=\"1\" class=\"dataframe\">\n  <thead>\n    <tr style=\"text-align: right;\">\n      <th></th>\n      <th>id</th>\n      <th>type_emplacement</th>\n      <th>domanialite</th>\n      <th>arrondissement</th>\n      <th>complement_addresse</th>\n      <th>numero</th>\n      <th>lieu</th>\n      <th>id_emplacement</th>\n      <th>libelle_francais</th>\n      <th>genre</th>\n      <th>espece</th>\n      <th>variete</th>\n      <th>circonference_cm</th>\n      <th>hauteur_m</th>\n      <th>stade_developpement</th>\n      <th>remarquable</th>\n      <th>geo_point_2d_a</th>\n      <th>geo_point_2d_b</th>\n    </tr>\n  </thead>\n  <tbody>\n    <tr>\n      <th>195409</th>\n      <td>2018853</td>\n      <td>Arbre</td>\n      <td>Jardin</td>\n      <td>PARIS 13E ARRDT</td>\n      <td>NaN</td>\n      <td>NaN</td>\n      <td>PC13 - JARDIN DE LA RUE DE LA POTERNE DES PEUP...</td>\n      <td>104005</td>\n      <td>NaN</td>\n      <td>NaN</td>\n      <td>NaN</td>\n      <td>NaN</td>\n      <td>0</td>\n      <td>0</td>\n      <td>NaN</td>\n      <td>0.0</td>\n      <td>48.821259</td>\n      <td>2.354242</td>\n    </tr>\n    <tr>\n      <th>195410</th>\n      <td>2018854</td>\n      <td>Arbre</td>\n      <td>Jardin</td>\n      <td>PARIS 13E ARRDT</td>\n      <td>NaN</td>\n      <td>NaN</td>\n      <td>PC13 - JARDIN DE LA RUE DE LA POTERNE DES PEUP...</td>\n      <td>104006</td>\n      <td>NaN</td>\n      <td>NaN</td>\n      <td>NaN</td>\n      <td>NaN</td>\n      <td>0</td>\n      <td>0</td>\n      <td>NaN</td>\n      <td>0.0</td>\n      <td>48.821229</td>\n      <td>2.354212</td>\n    </tr>\n    <tr>\n      <th>195475</th>\n      <td>2018919</td>\n      <td>Arbre</td>\n      <td>Jardin</td>\n      <td>PARIS 13E ARRDT</td>\n      <td>NaN</td>\n      <td>NaN</td>\n      <td>PC13 - JARDIN DE LA RUE DE LA POTERNE DES PEUP...</td>\n      <td>104030</td>\n      <td>NaN</td>\n      <td>NaN</td>\n      <td>NaN</td>\n      <td>NaN</td>\n      <td>0</td>\n      <td>0</td>\n      <td>NaN</td>\n      <td>0.0</td>\n      <td>48.821281</td>\n      <td>2.353322</td>\n    </tr>\n    <tr>\n      <th>195476</th>\n      <td>2018920</td>\n      <td>Arbre</td>\n      <td>Jardin</td>\n      <td>PARIS 13E ARRDT</td>\n      <td>NaN</td>\n      <td>NaN</td>\n      <td>PC13 - JARDIN DE LA RUE DE LA POTERNE DES PEUP...</td>\n      <td>104031</td>\n      <td>NaN</td>\n      <td>NaN</td>\n      <td>NaN</td>\n      <td>NaN</td>\n      <td>0</td>\n      <td>0</td>\n      <td>NaN</td>\n      <td>0.0</td>\n      <td>48.821289</td>\n      <td>2.353228</td>\n    </tr>\n    <tr>\n      <th>195487</th>\n      <td>2018932</td>\n      <td>Arbre</td>\n      <td>Jardin</td>\n      <td>PARIS 13E ARRDT</td>\n      <td>NaN</td>\n      <td>NaN</td>\n      <td>PC13 - JARDIN DE LA RUE DE LA POTERNE DES PEUP...</td>\n      <td>105006</td>\n      <td>NaN</td>\n      <td>NaN</td>\n      <td>NaN</td>\n      <td>NaN</td>\n      <td>0</td>\n      <td>0</td>\n      <td>NaN</td>\n      <td>0.0</td>\n      <td>48.821294</td>\n      <td>2.352001</td>\n    </tr>\n    <tr>\n      <th>195496</th>\n      <td>2018942</td>\n      <td>Arbre</td>\n      <td>Jardin</td>\n      <td>PARIS 13E ARRDT</td>\n      <td>NaN</td>\n      <td>NaN</td>\n      <td>PC13 - JARDIN DE LA RUE DE LA POTERNE DES PEUP...</td>\n      <td>105017</td>\n      <td>NaN</td>\n      <td>NaN</td>\n      <td>NaN</td>\n      <td>NaN</td>\n      <td>0</td>\n      <td>0</td>\n      <td>NaN</td>\n      <td>0.0</td>\n      <td>48.821292</td>\n      <td>2.351425</td>\n    </tr>\n    <tr>\n      <th>195497</th>\n      <td>2018943</td>\n      <td>Arbre</td>\n      <td>Jardin</td>\n      <td>PARIS 13E ARRDT</td>\n      <td>NaN</td>\n      <td>NaN</td>\n      <td>PC13 - JARDIN DE LA RUE DE LA POTERNE DES PEUP...</td>\n      <td>105019</td>\n      <td>NaN</td>\n      <td>NaN</td>\n      <td>NaN</td>\n      <td>NaN</td>\n      <td>0</td>\n      <td>0</td>\n      <td>NaN</td>\n      <td>0.0</td>\n      <td>48.821260</td>\n      <td>2.351363</td>\n    </tr>\n    <tr>\n      <th>195499</th>\n      <td>2018945</td>\n      <td>Arbre</td>\n      <td>Jardin</td>\n      <td>PARIS 13E ARRDT</td>\n      <td>NaN</td>\n      <td>NaN</td>\n      <td>PC13 - JARDIN DE LA RUE DE LA POTERNE DES PEUP...</td>\n      <td>105022</td>\n      <td>NaN</td>\n      <td>NaN</td>\n      <td>NaN</td>\n      <td>NaN</td>\n      <td>0</td>\n      <td>0</td>\n      <td>NaN</td>\n      <td>0.0</td>\n      <td>48.821261</td>\n      <td>2.351296</td>\n    </tr>\n    <tr>\n      <th>195502</th>\n      <td>2018948</td>\n      <td>Arbre</td>\n      <td>Jardin</td>\n      <td>PARIS 13E ARRDT</td>\n      <td>NaN</td>\n      <td>NaN</td>\n      <td>PC13 - JARDIN DE LA RUE DE LA POTERNE DES PEUP...</td>\n      <td>105025</td>\n      <td>NaN</td>\n      <td>NaN</td>\n      <td>NaN</td>\n      <td>NaN</td>\n      <td>0</td>\n      <td>0</td>\n      <td>NaN</td>\n      <td>0.0</td>\n      <td>48.821283</td>\n      <td>2.351094</td>\n    </tr>\n    <tr>\n      <th>195503</th>\n      <td>2018949</td>\n      <td>Arbre</td>\n      <td>Jardin</td>\n      <td>PARIS 13E ARRDT</td>\n      <td>NaN</td>\n      <td>NaN</td>\n      <td>PC13 - JARDIN DE LA RUE DE LA POTERNE DES PEUP...</td>\n      <td>106001</td>\n      <td>NaN</td>\n      <td>NaN</td>\n      <td>NaN</td>\n      <td>NaN</td>\n      <td>0</td>\n      <td>0</td>\n      <td>NaN</td>\n      <td>0.0</td>\n      <td>48.821401</td>\n      <td>2.350885</td>\n    </tr>\n    <tr>\n      <th>195505</th>\n      <td>2018951</td>\n      <td>Arbre</td>\n      <td>Jardin</td>\n      <td>PARIS 13E ARRDT</td>\n      <td>NaN</td>\n      <td>NaN</td>\n      <td>PC13 - JARDIN DE LA RUE DE LA POTERNE DES PEUP...</td>\n      <td>106003</td>\n      <td>NaN</td>\n      <td>NaN</td>\n      <td>NaN</td>\n      <td>NaN</td>\n      <td>0</td>\n      <td>0</td>\n      <td>NaN</td>\n      <td>0.0</td>\n      <td>48.821404</td>\n      <td>2.351217</td>\n    </tr>\n    <tr>\n      <th>195509</th>\n      <td>2018955</td>\n      <td>Arbre</td>\n      <td>Jardin</td>\n      <td>PARIS 13E ARRDT</td>\n      <td>NaN</td>\n      <td>NaN</td>\n      <td>PC13 - JARDIN DE LA RUE DE LA POTERNE DES PEUP...</td>\n      <td>104009</td>\n      <td>NaN</td>\n      <td>NaN</td>\n      <td>NaN</td>\n      <td>NaN</td>\n      <td>0</td>\n      <td>0</td>\n      <td>NaN</td>\n      <td>0.0</td>\n      <td>48.821259</td>\n      <td>2.354079</td>\n    </tr>\n    <tr>\n      <th>195514</th>\n      <td>2018960</td>\n      <td>Arbre</td>\n      <td>Jardin</td>\n      <td>PARIS 13E ARRDT</td>\n      <td>NaN</td>\n      <td>NaN</td>\n      <td>PC13 - JARDIN DE LA RUE DE LA POTERNE DES PEUP...</td>\n      <td>104019</td>\n      <td>NaN</td>\n      <td>NaN</td>\n      <td>NaN</td>\n      <td>NaN</td>\n      <td>0</td>\n      <td>0</td>\n      <td>NaN</td>\n      <td>0.0</td>\n      <td>48.821310</td>\n      <td>2.353883</td>\n    </tr>\n    <tr>\n      <th>195518</th>\n      <td>2018964</td>\n      <td>Arbre</td>\n      <td>Jardin</td>\n      <td>PARIS 13E ARRDT</td>\n      <td>NaN</td>\n      <td>NaN</td>\n      <td>PC13 - JARDIN DE LA RUE DE LA POTERNE DES PEUP...</td>\n      <td>104023</td>\n      <td>NaN</td>\n      <td>NaN</td>\n      <td>NaN</td>\n      <td>NaN</td>\n      <td>0</td>\n      <td>0</td>\n      <td>NaN</td>\n      <td>0.0</td>\n      <td>48.821298</td>\n      <td>2.353718</td>\n    </tr>\n    <tr>\n      <th>195519</th>\n      <td>2018965</td>\n      <td>Arbre</td>\n      <td>Jardin</td>\n      <td>PARIS 13E ARRDT</td>\n      <td>NaN</td>\n      <td>NaN</td>\n      <td>PC13 - JARDIN DE LA RUE DE LA POTERNE DES PEUP...</td>\n      <td>104025</td>\n      <td>NaN</td>\n      <td>NaN</td>\n      <td>NaN</td>\n      <td>NaN</td>\n      <td>0</td>\n      <td>0</td>\n      <td>NaN</td>\n      <td>0.0</td>\n      <td>48.821305</td>\n      <td>2.353505</td>\n    </tr>\n  </tbody>\n</table>\n</div>"
     },
     "execution_count": 260,
     "metadata": {},
     "output_type": "execute_result"
    }
   ],
   "source": [
    "arbres_df[arbres_df.genre.isna()]"
   ]
  },
  {
   "cell_type": "markdown",
   "metadata": {
    "pycharm": {
     "name": "#%% md\n"
    }
   },
   "source": [
    "Comme ces données n’ont pas d'intérêt significatif dans notre jeu (représente 0.8% des valeurs et trop de colonne vide), il est préférable de les supprimer.\n",
    "Ceci étant, nous ne le feront pas sur notre csv ou notre Dataframe initial, sémantiquement déconseillé, on utilisera un ensemble de fonction 🐼 :\n",
    "+ `.where()`: la fonction [where](https://pandas.pydata.org/docs/reference/api/pandas.DataFrame.where.html?highlight=where#pandas.DataFrame.where), qui comme en Sql nous permet de remplacer les valeurs où la condition est False.\n",
    "+ `.copy()` : la fonction [copy](https://pandas.pydata.org/docs/reference/api/pandas.DataFrame.copy.html?highlight=copy#pandas.DataFrame.copy), qui crée avec une copie des données et des indices de l'objet appelant. Les modifications apportées aux données ou aux indices de la copie ne seront pas reflétées dans l'objet d'origine.\n",
    "+ `.dropna()` : la fonction[dropna](https://pandas.pydata.org/docs/reference/api/pandas.DataFrame.dropna.html?highlight=dropna#pandas.DataFrame.dropna), va être utilisé pour extraire les individus aux valeurs manquantes sur la colonne “genre” grâce au sous-ensemble et stocker ces derniers dans une variable.\n"
   ]
  },
  {
   "cell_type": "code",
   "execution_count": 261,
   "metadata": {
    "pycharm": {
     "name": "#%%\n"
    }
   },
   "outputs": [
    {
     "data": {
      "text/plain": "id                          0\ntype_emplacement            0\ndomanialite                 0\narrondissement              0\ncomplement_addresse    169219\nnumero                 200121\nlieu                        0\nid_emplacement              0\nlibelle_francais         1481\ngenre                       0\nespece                   1736\nvariete                163344\ncirconference_cm            0\nhauteur_m                   0\nstade_developpement     67189\nremarquable             63097\ngeo_point_2d_a              0\ngeo_point_2d_b              0\ndtype: int64"
     },
     "execution_count": 261,
     "metadata": {},
     "output_type": "execute_result"
    }
   ],
   "source": [
    "arbres_temp = arbres_df.copy()\n",
    "arbres_temp[arbres_temp.lieu==\"PC13 - JARDIN DE LA RUE DE LA POTERNE DES PEUPLIERS / 62 RUE DAMESME\"]\n",
    "arbres_genre_na = arbres_df.dropna(subset=['genre'])\n",
    "arbres_genre_na.isna().sum()"
   ]
  },
  {
   "cell_type": "markdown",
   "source": [],
   "metadata": {
    "collapsed": false
   }
  },
  {
   "cell_type": "markdown",
   "source": [
    "> *La colonne numeros est quasi vide et pour la seule valeur presente est erroné ainsi que dans variété et stade de développement*"
   ],
   "metadata": {
    "collapsed": false,
    "pycharm": {
     "name": "#%% md\n"
    }
   }
  },
  {
   "cell_type": "code",
   "execution_count": 262,
   "outputs": [
    {
     "data": {
      "text/plain": "        id type_emplacement domanialite  arrondissement complement_addresse  \\\n0  99874.0            Arbre      Jardin  PARIS 7E ARRDT              Jardin   \n\n   numero                                       lieu id_emplacement  \\\n0  Jardin  MAIRIE DU 7E 116 RUE DE GRENELLE PARIS 7E             19   \n\n  libelle_francais     genre         espece variete  circonference_cm  \\\n0       Marronnier  Aesculus  hippocastanum  Jardin              20.0   \n\n   hauteur_m stade_developpement remarquable  geo_point_2d_a  geo_point_2d_b  \n0        5.0              Jardin         0.0        48.85762        2.320962  ",
      "text/html": "<div>\n<style scoped>\n    .dataframe tbody tr th:only-of-type {\n        vertical-align: middle;\n    }\n\n    .dataframe tbody tr th {\n        vertical-align: top;\n    }\n\n    .dataframe thead th {\n        text-align: right;\n    }\n</style>\n<table border=\"1\" class=\"dataframe\">\n  <thead>\n    <tr style=\"text-align: right;\">\n      <th></th>\n      <th>id</th>\n      <th>type_emplacement</th>\n      <th>domanialite</th>\n      <th>arrondissement</th>\n      <th>complement_addresse</th>\n      <th>numero</th>\n      <th>lieu</th>\n      <th>id_emplacement</th>\n      <th>libelle_francais</th>\n      <th>genre</th>\n      <th>espece</th>\n      <th>variete</th>\n      <th>circonference_cm</th>\n      <th>hauteur_m</th>\n      <th>stade_developpement</th>\n      <th>remarquable</th>\n      <th>geo_point_2d_a</th>\n      <th>geo_point_2d_b</th>\n    </tr>\n  </thead>\n  <tbody>\n    <tr>\n      <th>0</th>\n      <td>99874.0</td>\n      <td>Arbre</td>\n      <td>Jardin</td>\n      <td>PARIS 7E ARRDT</td>\n      <td>Jardin</td>\n      <td>Jardin</td>\n      <td>MAIRIE DU 7E 116 RUE DE GRENELLE PARIS 7E</td>\n      <td>19</td>\n      <td>Marronnier</td>\n      <td>Aesculus</td>\n      <td>hippocastanum</td>\n      <td>Jardin</td>\n      <td>20.0</td>\n      <td>5.0</td>\n      <td>Jardin</td>\n      <td>0.0</td>\n      <td>48.85762</td>\n      <td>2.320962</td>\n    </tr>\n  </tbody>\n</table>\n</div>"
     },
     "execution_count": 262,
     "metadata": {},
     "output_type": "execute_result"
    }
   ],
   "source": [
    "arbres_genre_na.where(arbres_df.numero.notnull()).dropna()"
   ],
   "metadata": {
    "collapsed": false,
    "pycharm": {
     "name": "#%%\n"
    }
   }
  },
  {
   "cell_type": "markdown",
   "source": [
    "#### Valeur erronée\n",
    "+ `.loc()` la fonction [loc](https://pandas.pydata.org/docs/reference/api/pandas.DataFrame.loc.html?highlight=loc#pandas.DataFrame.loc) permet d'accéder à un groupe de lignes et de colonnes par étiquette(s) ou par tableau booléen.\n",
    "+ `.difference()` la fonction [difference](https://pandas.pydata.org/docs/reference/api/pandas.Index.difference.html?highlight=difference) renvoie un nouvel index avec des éléments d'index, sans ceux passer en paramètre. Il s'agit de la différence définie entre deux objets Index.\n",
    "+ `.ìnsert()` la fonction [insert](https://pandas.pydata.org/docs/reference/api/pandas.DataFrame.insert.html?highlight=insert#pandas.DataFrame.insert) permet d'insérer une colonne dans DataFrame à l'emplacement spécifié."
   ],
   "metadata": {
    "collapsed": false
   }
  },
  {
   "cell_type": "code",
   "execution_count": 263,
   "outputs": [
    {
     "data": {
      "text/plain": "id                          0\ntype_emplacement            0\ndomanialite                 0\ncomplement_addresse    169219\narrondissement              0\nnumero                 200122\nlieu                        0\nid_emplacement              0\nlibelle_francais         1482\ngenre                       1\nespece                   1737\nvariete                163345\ncirconference_cm            0\nhauteur_m                   0\nstade_developpement     67190\nremarquable             63098\ngeo_point_2d_a              0\ngeo_point_2d_b              0\ndtype: int64"
     },
     "execution_count": 263,
     "metadata": {},
     "output_type": "execute_result"
    }
   ],
   "source": [
    "arbre_erreur_valeur = arbres_genre_na.loc[:, arbres_genre_na.columns.difference(['domanialite','complement_addresse'],sort=False)].replace(to_replace =\"Jardin\", value = np.nan)\n",
    "arbre_erreur_valeur.insert(2,'domanialite',arbres_genre_na.domanialite)\n",
    "arbre_erreur_valeur.insert(3,'complement_addresse',arbres_genre_na.complement_addresse)\n",
    "arbre_erreur_valeur.isna().sum()"
   ],
   "metadata": {
    "collapsed": false,
    "pycharm": {
     "name": "#%%\n"
    }
   }
  },
  {
   "cell_type": "code",
   "execution_count": 264,
   "outputs": [],
   "source": [
    "arbres_index = arbre_erreur_valeur[arbre_erreur_valeur.genre.isna()].index\n",
    "arbre_erreur_valeur = arbre_erreur_valeur.drop(arbres_index).copy()"
   ],
   "metadata": {
    "collapsed": false,
    "pycharm": {
     "name": "#%%\n"
    }
   }
  },
  {
   "cell_type": "markdown",
   "source": [],
   "metadata": {
    "collapsed": false
   }
  },
  {
   "cell_type": "markdown",
   "metadata": {},
   "source": [
    "## Recherche des valeurs dupliquées du Dataframe\n",
    "\n",
    "### Critère\n",
    "\n",
    "Dans notre Data frame chaque arbre se trouve qu’il soit géolocalisé, ce qui rend notre recherche de duplicata fortement aisée (et le `.describe()` nous indique aucunes valeurs manquantes), car il va de soi que le croisement de coordonnées de géolocalisation oblige en l'unicité de l”entité.\n",
    "La méthode sera de joindre les colonnes de localisation pour obtenir théoriquement un point coordonné et de vérifier ensuite les duplicants.\n",
    "+ `.join()` fonction [join](https://pandas.pydata.org/docs/reference/api/pandas.DataFrame.join.html?highlight=join#pandas.DataFrame.join) qui une fois encore une méthode qui comme sql permet de joindre les colonnes d'un autre DataFrame sur l'index ou sur une colonne clé. Joignez efficacement plusieurs objets DataFrame par index à la fois en passant une liste.\n",
    "+ `.duplicated()` fonction [duplicated](https://pandas.pydata.org/docs/reference/api/pandas.DataFrame.duplicated.html?highlight=duplicated#pandas.DataFrame.duplicated) qui renvoie une série booléenne indiquant les lignes en double.\n",
    "+ `.drop_duplicates()` fonction [drop_duplicates](https://pandas.pydata.org/docs/reference/api/pandas.Series.drop_duplicates.html#pandas.Series.drop_duplicates) qui renvoie la série avec les valeurs en double supprimées.\n",
    "Méthode pour gérer la suppression des doublons :\n",
    " + `first` : Supprime les doublons sauf pour la première occurrence.\n",
    " + `last` : supprime les doublons à l'exception de la dernière occurrence.\n",
    " + `False` : supprimez tous les doublons."
   ]
  },
  {
   "cell_type": "code",
   "execution_count": 265,
   "metadata": {
    "pycharm": {
     "name": "#%%\n"
    }
   },
   "outputs": [
    {
     "data": {
      "text/plain": "11"
     },
     "execution_count": 265,
     "metadata": {},
     "output_type": "execute_result"
    }
   ],
   "source": [
    "geo_a = pa.DataFrame(arbre_erreur_valeur.geo_point_2d_a)\n",
    "geo_b = pa.DataFrame(arbre_erreur_valeur.geo_point_2d_b)\n",
    "coordonnees = geo_a.join(geo_b)\n",
    "coordonnees_dupliquees = coordonnees.duplicated()\n",
    "coordonnees_dupliquees.sum()"
   ]
  },
  {
   "cell_type": "markdown",
   "metadata": {},
   "source": [
    "> *affichons nos valeurs dupliquées pour controler la veracité*"
   ]
  },
  {
   "cell_type": "code",
   "execution_count": 266,
   "metadata": {
    "pycharm": {
     "name": "#%%\n"
    }
   },
   "outputs": [
    {
     "data": {
      "text/plain": "             id type_emplacement   domanialite complement_addresse  \\\n10100    112287            Arbre        Jardin                 NaN   \n76385    195525            Arbre  PERIPHERIQUE                 NaN   \n76386    195526            Arbre  PERIPHERIQUE                 NaN   \n76387    195527            Arbre  PERIPHERIQUE                 NaN   \n185480  2006188            Arbre    Alignement                 NaN   \n188304  2010609            Arbre        Jardin                 NaN   \n189134  2011523            Arbre        Jardin                 NaN   \n193017  2015806            Arbre        Jardin                 NaN   \n193577  2016369            Arbre        Jardin                 NaN   \n193586  2016378            Arbre        Jardin                 NaN   \n193587  2016379            Arbre        Jardin                 NaN   \n\n           arrondissement  numero  \\\n10100     PARIS 12E ARRDT     NaN   \n76385     PARIS 19E ARRDT     NaN   \n76386     PARIS 19E ARRDT     NaN   \n76387     PARIS 19E ARRDT     NaN   \n185480  BOIS DE VINCENNES     NaN   \n188304  BOIS DE VINCENNES     NaN   \n189134  BOIS DE VINCENNES     NaN   \n193017  BOIS DE VINCENNES     NaN   \n193577  BOIS DE VINCENNES     NaN   \n193586  BOIS DE VINCENNES     NaN   \n193587  BOIS DE VINCENNES     NaN   \n\n                                               lieu id_emplacement  \\\n10100                        JARDIN PARTAGE BEL-AIR              6   \n76385                                    VOIE DF/19      09VO19001   \n76386                                    VOIE DF/19      09VO19002   \n76387                                    VOIE DF/19      09VO19003   \n185480                               ROUTE DAUPHINE         402030   \n188304  PARC FLORAL DE PARIS / ROUTE DE LA PYRAMIDE          20023   \n189134  PARC FLORAL DE PARIS / ROUTE DE LA PYRAMIDE         190042   \n193017  PARC FLORAL DE PARIS / ROUTE DE LA PYRAMIDE        3120005   \n193577  PARC FLORAL DE PARIS / ROUTE DE LA PYRAMIDE         210035   \n193586  PARC FLORAL DE PARIS / ROUTE DE LA PYRAMIDE          20128   \n193587  PARC FLORAL DE PARIS / ROUTE DE LA PYRAMIDE          20129   \n\n        libelle_francais      genre                   espece   variete  \\\n10100            Ailante  Ailanthus                altissima       NaN   \n76385           Peuplier    Populus                    nigra  Italica'   \n76386           Peuplier    Populus                    nigra  Italica'   \n76387           Peuplier    Populus                    nigra  Italica'   \n185480           Tilleul      Tilia             platyphyllos       NaN   \n188304           Platane   Platanus              x hispanica       NaN   \n189134          Peuplier    Populus                    nigra  Italica'   \n193017               Pin      Pinus                    nigra       NaN   \n193577  Pommier à fleurs      Malus                trilobata       NaN   \n193586             Cèdre     Cedrus  libani subsp. atlantica       NaN   \n193587             Cèdre     Cedrus  libani subsp. atlantica       NaN   \n\n        circonference_cm  hauteur_m stade_developpement  remarquable  \\\n10100                  0          0                 NaN          NaN   \n76385                120         20                 NaN          NaN   \n76386                100         20                 NaN          NaN   \n76387                165         20                 NaN          NaN   \n185480                 0          0                 NaN          0.0   \n188304               190         24                   A          0.0   \n189134               100         22                   A          0.0   \n193017                 0          0                 NaN          0.0   \n193577                 0          0                 NaN          0.0   \n193586                 0          0                 NaN          0.0   \n193587                 0          0                 NaN          0.0   \n\n        geo_point_2d_a  geo_point_2d_b  \n10100        48.838318        2.406610  \n76385        48.900332        2.386441  \n76386        48.900290        2.386442  \n76387        48.900253        2.386444  \n185480       48.829912        2.439665  \n188304       48.839118        2.438810  \n189134       48.836416        2.446277  \n193017       48.839561        2.446210  \n193577       48.836862        2.446518  \n193586       48.838550        2.439268  \n193587       48.838539        2.439350  ",
      "text/html": "<div>\n<style scoped>\n    .dataframe tbody tr th:only-of-type {\n        vertical-align: middle;\n    }\n\n    .dataframe tbody tr th {\n        vertical-align: top;\n    }\n\n    .dataframe thead th {\n        text-align: right;\n    }\n</style>\n<table border=\"1\" class=\"dataframe\">\n  <thead>\n    <tr style=\"text-align: right;\">\n      <th></th>\n      <th>id</th>\n      <th>type_emplacement</th>\n      <th>domanialite</th>\n      <th>complement_addresse</th>\n      <th>arrondissement</th>\n      <th>numero</th>\n      <th>lieu</th>\n      <th>id_emplacement</th>\n      <th>libelle_francais</th>\n      <th>genre</th>\n      <th>espece</th>\n      <th>variete</th>\n      <th>circonference_cm</th>\n      <th>hauteur_m</th>\n      <th>stade_developpement</th>\n      <th>remarquable</th>\n      <th>geo_point_2d_a</th>\n      <th>geo_point_2d_b</th>\n    </tr>\n  </thead>\n  <tbody>\n    <tr>\n      <th>10100</th>\n      <td>112287</td>\n      <td>Arbre</td>\n      <td>Jardin</td>\n      <td>NaN</td>\n      <td>PARIS 12E ARRDT</td>\n      <td>NaN</td>\n      <td>JARDIN PARTAGE BEL-AIR</td>\n      <td>6</td>\n      <td>Ailante</td>\n      <td>Ailanthus</td>\n      <td>altissima</td>\n      <td>NaN</td>\n      <td>0</td>\n      <td>0</td>\n      <td>NaN</td>\n      <td>NaN</td>\n      <td>48.838318</td>\n      <td>2.406610</td>\n    </tr>\n    <tr>\n      <th>76385</th>\n      <td>195525</td>\n      <td>Arbre</td>\n      <td>PERIPHERIQUE</td>\n      <td>NaN</td>\n      <td>PARIS 19E ARRDT</td>\n      <td>NaN</td>\n      <td>VOIE DF/19</td>\n      <td>09VO19001</td>\n      <td>Peuplier</td>\n      <td>Populus</td>\n      <td>nigra</td>\n      <td>Italica'</td>\n      <td>120</td>\n      <td>20</td>\n      <td>NaN</td>\n      <td>NaN</td>\n      <td>48.900332</td>\n      <td>2.386441</td>\n    </tr>\n    <tr>\n      <th>76386</th>\n      <td>195526</td>\n      <td>Arbre</td>\n      <td>PERIPHERIQUE</td>\n      <td>NaN</td>\n      <td>PARIS 19E ARRDT</td>\n      <td>NaN</td>\n      <td>VOIE DF/19</td>\n      <td>09VO19002</td>\n      <td>Peuplier</td>\n      <td>Populus</td>\n      <td>nigra</td>\n      <td>Italica'</td>\n      <td>100</td>\n      <td>20</td>\n      <td>NaN</td>\n      <td>NaN</td>\n      <td>48.900290</td>\n      <td>2.386442</td>\n    </tr>\n    <tr>\n      <th>76387</th>\n      <td>195527</td>\n      <td>Arbre</td>\n      <td>PERIPHERIQUE</td>\n      <td>NaN</td>\n      <td>PARIS 19E ARRDT</td>\n      <td>NaN</td>\n      <td>VOIE DF/19</td>\n      <td>09VO19003</td>\n      <td>Peuplier</td>\n      <td>Populus</td>\n      <td>nigra</td>\n      <td>Italica'</td>\n      <td>165</td>\n      <td>20</td>\n      <td>NaN</td>\n      <td>NaN</td>\n      <td>48.900253</td>\n      <td>2.386444</td>\n    </tr>\n    <tr>\n      <th>185480</th>\n      <td>2006188</td>\n      <td>Arbre</td>\n      <td>Alignement</td>\n      <td>NaN</td>\n      <td>BOIS DE VINCENNES</td>\n      <td>NaN</td>\n      <td>ROUTE DAUPHINE</td>\n      <td>402030</td>\n      <td>Tilleul</td>\n      <td>Tilia</td>\n      <td>platyphyllos</td>\n      <td>NaN</td>\n      <td>0</td>\n      <td>0</td>\n      <td>NaN</td>\n      <td>0.0</td>\n      <td>48.829912</td>\n      <td>2.439665</td>\n    </tr>\n    <tr>\n      <th>188304</th>\n      <td>2010609</td>\n      <td>Arbre</td>\n      <td>Jardin</td>\n      <td>NaN</td>\n      <td>BOIS DE VINCENNES</td>\n      <td>NaN</td>\n      <td>PARC FLORAL DE PARIS / ROUTE DE LA PYRAMIDE</td>\n      <td>20023</td>\n      <td>Platane</td>\n      <td>Platanus</td>\n      <td>x hispanica</td>\n      <td>NaN</td>\n      <td>190</td>\n      <td>24</td>\n      <td>A</td>\n      <td>0.0</td>\n      <td>48.839118</td>\n      <td>2.438810</td>\n    </tr>\n    <tr>\n      <th>189134</th>\n      <td>2011523</td>\n      <td>Arbre</td>\n      <td>Jardin</td>\n      <td>NaN</td>\n      <td>BOIS DE VINCENNES</td>\n      <td>NaN</td>\n      <td>PARC FLORAL DE PARIS / ROUTE DE LA PYRAMIDE</td>\n      <td>190042</td>\n      <td>Peuplier</td>\n      <td>Populus</td>\n      <td>nigra</td>\n      <td>Italica'</td>\n      <td>100</td>\n      <td>22</td>\n      <td>A</td>\n      <td>0.0</td>\n      <td>48.836416</td>\n      <td>2.446277</td>\n    </tr>\n    <tr>\n      <th>193017</th>\n      <td>2015806</td>\n      <td>Arbre</td>\n      <td>Jardin</td>\n      <td>NaN</td>\n      <td>BOIS DE VINCENNES</td>\n      <td>NaN</td>\n      <td>PARC FLORAL DE PARIS / ROUTE DE LA PYRAMIDE</td>\n      <td>3120005</td>\n      <td>Pin</td>\n      <td>Pinus</td>\n      <td>nigra</td>\n      <td>NaN</td>\n      <td>0</td>\n      <td>0</td>\n      <td>NaN</td>\n      <td>0.0</td>\n      <td>48.839561</td>\n      <td>2.446210</td>\n    </tr>\n    <tr>\n      <th>193577</th>\n      <td>2016369</td>\n      <td>Arbre</td>\n      <td>Jardin</td>\n      <td>NaN</td>\n      <td>BOIS DE VINCENNES</td>\n      <td>NaN</td>\n      <td>PARC FLORAL DE PARIS / ROUTE DE LA PYRAMIDE</td>\n      <td>210035</td>\n      <td>Pommier à fleurs</td>\n      <td>Malus</td>\n      <td>trilobata</td>\n      <td>NaN</td>\n      <td>0</td>\n      <td>0</td>\n      <td>NaN</td>\n      <td>0.0</td>\n      <td>48.836862</td>\n      <td>2.446518</td>\n    </tr>\n    <tr>\n      <th>193586</th>\n      <td>2016378</td>\n      <td>Arbre</td>\n      <td>Jardin</td>\n      <td>NaN</td>\n      <td>BOIS DE VINCENNES</td>\n      <td>NaN</td>\n      <td>PARC FLORAL DE PARIS / ROUTE DE LA PYRAMIDE</td>\n      <td>20128</td>\n      <td>Cèdre</td>\n      <td>Cedrus</td>\n      <td>libani subsp. atlantica</td>\n      <td>NaN</td>\n      <td>0</td>\n      <td>0</td>\n      <td>NaN</td>\n      <td>0.0</td>\n      <td>48.838550</td>\n      <td>2.439268</td>\n    </tr>\n    <tr>\n      <th>193587</th>\n      <td>2016379</td>\n      <td>Arbre</td>\n      <td>Jardin</td>\n      <td>NaN</td>\n      <td>BOIS DE VINCENNES</td>\n      <td>NaN</td>\n      <td>PARC FLORAL DE PARIS / ROUTE DE LA PYRAMIDE</td>\n      <td>20129</td>\n      <td>Cèdre</td>\n      <td>Cedrus</td>\n      <td>libani subsp. atlantica</td>\n      <td>NaN</td>\n      <td>0</td>\n      <td>0</td>\n      <td>NaN</td>\n      <td>0.0</td>\n      <td>48.838539</td>\n      <td>2.439350</td>\n    </tr>\n  </tbody>\n</table>\n</div>"
     },
     "execution_count": 266,
     "metadata": {},
     "output_type": "execute_result"
    }
   ],
   "source": [
    "arbre_erreur_valeur[coordonnees_dupliquees]"
   ]
  },
  {
   "cell_type": "markdown",
   "metadata": {
    "pycharm": {
     "name": "#%% md\n"
    }
   },
   "source": [
    "> *procédons au nettoyage de notre dataframe*"
   ]
  },
  {
   "cell_type": "code",
   "execution_count": 267,
   "metadata": {
    "pycharm": {
     "name": "#%%\n"
    }
   },
   "outputs": [
    {
     "data": {
      "text/plain": "                 id  numero  circonference_cm      hauteur_m    remarquable  \\\ncount  2.001100e+05     0.0     200110.000000  200110.000000  137016.000000   \nmean   3.870209e+05     NaN         83.387107      13.111659       0.001343   \nstd    5.453590e+05     NaN        673.235009    1971.350362       0.036621   \nmin    9.987400e+04     NaN          0.000000       0.000000       0.000000   \n25%    1.559242e+05     NaN         30.000000       5.000000       0.000000   \n50%    2.210685e+05     NaN         70.000000       8.000000       0.000000   \n75%    2.740848e+05     NaN        115.000000      12.000000       0.000000   \nmax    2.024745e+06     NaN     250255.000000  881818.000000       1.000000   \n\n       geo_point_2d_a  geo_point_2d_b  \ncount   200110.000000   200110.000000  \nmean        48.854493        2.348203  \nstd          0.030234        0.051220  \nmin         48.742290        2.210241  \n25%         48.835024        2.307525  \n50%         48.854166        2.351087  \n75%         48.876450        2.386833  \nmax         48.911485        2.469759  ",
      "text/html": "<div>\n<style scoped>\n    .dataframe tbody tr th:only-of-type {\n        vertical-align: middle;\n    }\n\n    .dataframe tbody tr th {\n        vertical-align: top;\n    }\n\n    .dataframe thead th {\n        text-align: right;\n    }\n</style>\n<table border=\"1\" class=\"dataframe\">\n  <thead>\n    <tr style=\"text-align: right;\">\n      <th></th>\n      <th>id</th>\n      <th>numero</th>\n      <th>circonference_cm</th>\n      <th>hauteur_m</th>\n      <th>remarquable</th>\n      <th>geo_point_2d_a</th>\n      <th>geo_point_2d_b</th>\n    </tr>\n  </thead>\n  <tbody>\n    <tr>\n      <th>count</th>\n      <td>2.001100e+05</td>\n      <td>0.0</td>\n      <td>200110.000000</td>\n      <td>200110.000000</td>\n      <td>137016.000000</td>\n      <td>200110.000000</td>\n      <td>200110.000000</td>\n    </tr>\n    <tr>\n      <th>mean</th>\n      <td>3.870209e+05</td>\n      <td>NaN</td>\n      <td>83.387107</td>\n      <td>13.111659</td>\n      <td>0.001343</td>\n      <td>48.854493</td>\n      <td>2.348203</td>\n    </tr>\n    <tr>\n      <th>std</th>\n      <td>5.453590e+05</td>\n      <td>NaN</td>\n      <td>673.235009</td>\n      <td>1971.350362</td>\n      <td>0.036621</td>\n      <td>0.030234</td>\n      <td>0.051220</td>\n    </tr>\n    <tr>\n      <th>min</th>\n      <td>9.987400e+04</td>\n      <td>NaN</td>\n      <td>0.000000</td>\n      <td>0.000000</td>\n      <td>0.000000</td>\n      <td>48.742290</td>\n      <td>2.210241</td>\n    </tr>\n    <tr>\n      <th>25%</th>\n      <td>1.559242e+05</td>\n      <td>NaN</td>\n      <td>30.000000</td>\n      <td>5.000000</td>\n      <td>0.000000</td>\n      <td>48.835024</td>\n      <td>2.307525</td>\n    </tr>\n    <tr>\n      <th>50%</th>\n      <td>2.210685e+05</td>\n      <td>NaN</td>\n      <td>70.000000</td>\n      <td>8.000000</td>\n      <td>0.000000</td>\n      <td>48.854166</td>\n      <td>2.351087</td>\n    </tr>\n    <tr>\n      <th>75%</th>\n      <td>2.740848e+05</td>\n      <td>NaN</td>\n      <td>115.000000</td>\n      <td>12.000000</td>\n      <td>0.000000</td>\n      <td>48.876450</td>\n      <td>2.386833</td>\n    </tr>\n    <tr>\n      <th>max</th>\n      <td>2.024745e+06</td>\n      <td>NaN</td>\n      <td>250255.000000</td>\n      <td>881818.000000</td>\n      <td>1.000000</td>\n      <td>48.911485</td>\n      <td>2.469759</td>\n    </tr>\n  </tbody>\n</table>\n</div>"
     },
     "execution_count": 267,
     "metadata": {},
     "output_type": "execute_result"
    }
   ],
   "source": [
    "arbres_clean = arbre_erreur_valeur.drop_duplicates(subset=['geo_point_2d_a','geo_point_2d_b'],keep='last').copy()\n",
    "arbres_clean.describe()"
   ]
  },
  {
   "cell_type": "code",
   "execution_count": 268,
   "metadata": {
    "pycharm": {
     "name": "#%%\n"
    }
   },
   "outputs": [
    {
     "data": {
      "text/plain": "Index(['id', 'type_emplacement', 'domanialite', 'complement_addresse',\n       'arrondissement', 'numero', 'lieu', 'id_emplacement',\n       'libelle_francais', 'genre', 'espece', 'variete', 'circonference_cm',\n       'hauteur_m', 'stade_developpement', 'remarquable', 'geo_point_2d_a',\n       'geo_point_2d_b'],\n      dtype='object')"
     },
     "execution_count": 268,
     "metadata": {},
     "output_type": "execute_result"
    }
   ],
   "source": [
    "arbres_clean.columns"
   ]
  },
  {
   "cell_type": "code",
   "execution_count": 269,
   "metadata": {
    "pycharm": {
     "name": "#%%\n"
    }
   },
   "outputs": [
    {
     "data": {
      "text/plain": "id                     200110\ntype_emplacement       200110\ndomanialite            200110\ncomplement_addresse     30903\narrondissement         200110\nnumero                      0\nlieu                   200110\nid_emplacement         200110\nlibelle_francais       198629\ngenre                  200110\nespece                 198374\nvariete                 36776\ncirconference_cm       200110\nhauteur_m              200110\nstade_developpement    132928\nremarquable            137016\ngeo_point_2d_a         200110\ngeo_point_2d_b         200110\ndtype: int64"
     },
     "execution_count": 269,
     "metadata": {},
     "output_type": "execute_result"
    }
   ],
   "source": [
    "arbres_clean.count()"
   ]
  },
  {
   "cell_type": "code",
   "execution_count": 270,
   "metadata": {
    "pycharm": {
     "name": "#%%\n"
    }
   },
   "outputs": [],
   "source": [
    "def describe_columns(key_name):\n",
    "    column_name_counts = arbres_clean[key_name].value_counts()\n",
    "    for key,value in column_name_counts.iteritems():\n",
    "        subset = arbres_clean[arbres_clean[key_name] == key].drop(['id'],axis=1)\n",
    "        print(\"-\"*20)\n",
    "        print(f\"{column_name_counts.name} : {key}\")\n",
    "        print(subset.describe())"
   ]
  },
  {
   "cell_type": "code",
   "execution_count": 271,
   "metadata": {
    "pycharm": {
     "name": "#%%\n"
    }
   },
   "outputs": [],
   "source": [
    "def count_by_columns():\n",
    "    for key,value in arbres_clean.iteritems():\n",
    "        print(\"*\"*20)\n",
    "        print(value.describe())\n",
    "        print(f\"liste de valeur(s) unique : {value.sort_values().unique()}\")"
   ]
  },
  {
   "cell_type": "code",
   "execution_count": 272,
   "metadata": {
    "pycharm": {
     "name": "#%%\n"
    }
   },
   "outputs": [
    {
     "name": "stdout",
     "output_type": "stream",
     "text": [
      "********************\n",
      "count    2.001100e+05\n",
      "mean     3.870209e+05\n",
      "std      5.453590e+05\n",
      "min      9.987400e+04\n",
      "25%      1.559242e+05\n",
      "50%      2.210685e+05\n",
      "75%      2.740848e+05\n",
      "max      2.024745e+06\n",
      "Name: id, dtype: float64\n",
      "liste de valeur(s) unique : [  99874   99875   99876 ... 2024743 2024744 2024745]\n",
      "********************\n",
      "count     200110\n",
      "unique         1\n",
      "top        Arbre\n",
      "freq      200110\n",
      "Name: type_emplacement, dtype: object\n",
      "liste de valeur(s) unique : ['Arbre']\n",
      "********************\n",
      "count         200110\n",
      "unique             9\n",
      "top       Alignement\n",
      "freq          104948\n",
      "Name: domanialite, dtype: object\n",
      "liste de valeur(s) unique : ['Alignement' 'CIMETIERE' 'DAC' 'DASCO' 'DASES' 'DFPE' 'DJS' 'Jardin'\n",
      " 'PERIPHERIQUE']\n",
      "********************\n",
      "count     30903\n",
      "unique     3796\n",
      "top         SN°\n",
      "freq        557\n",
      "Name: complement_addresse, dtype: object\n",
      "liste de valeur(s) unique : ['0' '03-01' '03-04' ... 'école militaire' 'îlot unesco' nan]\n",
      "********************\n",
      "count              200110\n",
      "unique                 25\n",
      "top       PARIS 15E ARRDT\n",
      "freq                17151\n",
      "Name: arrondissement, dtype: object\n",
      "liste de valeur(s) unique : ['BOIS DE BOULOGNE' 'BOIS DE VINCENNES' 'HAUTS-DE-SEINE' 'PARIS 10E ARRDT'\n",
      " 'PARIS 11E ARRDT' 'PARIS 12E ARRDT' 'PARIS 13E ARRDT' 'PARIS 14E ARRDT'\n",
      " 'PARIS 15E ARRDT' 'PARIS 16E ARRDT' 'PARIS 17E ARRDT' 'PARIS 18E ARRDT'\n",
      " 'PARIS 19E ARRDT' 'PARIS 1ER ARRDT' 'PARIS 20E ARRDT' 'PARIS 2E ARRDT'\n",
      " 'PARIS 3E ARRDT' 'PARIS 4E ARRDT' 'PARIS 5E ARRDT' 'PARIS 6E ARRDT'\n",
      " 'PARIS 7E ARRDT' 'PARIS 8E ARRDT' 'PARIS 9E ARRDT' 'SEINE-SAINT-DENIS'\n",
      " 'VAL-DE-MARNE']\n",
      "********************\n",
      "count    0.0\n",
      "mean     NaN\n",
      "std      NaN\n",
      "min      NaN\n",
      "25%      NaN\n",
      "50%      NaN\n",
      "75%      NaN\n",
      "max      NaN\n",
      "Name: numero, dtype: float64\n",
      "liste de valeur(s) unique : [nan]\n",
      "********************\n",
      "count                                          200110\n",
      "unique                                           6921\n",
      "top       PARC FLORAL DE PARIS / ROUTE DE LA PYRAMIDE\n",
      "freq                                             2989\n",
      "Name: lieu, dtype: object\n",
      "liste de valeur(s) unique : ['28 BOULEVARD DE DOUAUMONT' \"44 ENFANTS D'IZIEU\"\n",
      " '48 BOULEVARD DE DOUAUMONT' ... 'WATTIGNIES (52) ELEM' 'WURTZ (16) ELEM'\n",
      " 'YEO THOMAS (5) MAT']\n",
      "********************\n",
      "count     200110\n",
      "unique     69039\n",
      "top       101001\n",
      "freq        1324\n",
      "Name: id_emplacement, dtype: object\n",
      "liste de valeur(s) unique : ['00010238b' '00010264 /' '00010270 /' ... 'Q9630004' 'Q9630005'\n",
      " 'Q9630006']\n",
      "********************\n",
      "count      198629\n",
      "unique        192\n",
      "top       Platane\n",
      "freq        42507\n",
      "Name: libelle_francais, dtype: object\n",
      "liste de valeur(s) unique : ['Abelia' 'Abricotier' 'Ailante' 'Alangium' 'Alisier' 'Althéa' 'Amandier'\n",
      " 'Amla' 'Amélanchier' 'Andromède' 'Angélique' 'Araucaria' 'Arbousier'\n",
      " 'Arbre aux mouchoirs' 'Arbre aux quarante écus' 'Arbre de Judée'\n",
      " 'Arbre à Gutta-Percha' 'Arbre à caramel' 'Arbre à miel'\n",
      " 'Arbre à perruque' 'Arbre à soie' 'Argousier' 'Aronie' 'Asiminier'\n",
      " 'Aubepine' 'Aubépine' 'Aulne' 'Bouleau' 'Buis' 'Cabrillet' 'Callistemon'\n",
      " 'Camphrier' 'Caragana' 'Caryer' 'Catalpa' 'Cedrele' 'Cerisier à fleurs'\n",
      " 'Cerisier à fruits' 'Cerisier à grappes' 'Charme' 'Charme-Houblon'\n",
      " 'Chicot du Canada' 'Chimonanthe' 'Chitalpa' 'Châtaignier' 'Chèvrefeuille'\n",
      " 'Chêne' 'Citronnier' 'Clerodendron' 'Cognassier' 'Copalme' 'Cordyline'\n",
      " 'Cormier' 'Cornouiller' 'Cotoneaster' 'Cryptomeria' 'Cunninghamia'\n",
      " 'Cyprès' 'Cyprès Chauve' 'Cytise' 'Cèdre' 'Céphalotaxe' 'Distylium'\n",
      " 'Eleagnus - Chalef' 'Epicéa' 'Erable' 'Eucalyptus' 'Euscaphis'\n",
      " 'Faux dattier' 'Faux-cyprès' 'Fevier' 'Figuier' 'Filaire' 'Fontanesia'\n",
      " 'Fremontia' 'Frêne' 'Frêne à fleurs' 'Fusain' \"Fustet d' Amérique\"\n",
      " 'Garrya' 'Genévrier' 'Genêt' 'Goyavier' 'Grenadier'\n",
      " 'Heptacodion de Chine' 'Hiba' 'Houx' 'Hêtre' 'Idesia' 'If' 'Jujubier'\n",
      " 'Kalopanax' 'Laburnum de Adam' 'Laurier' 'Laurier des Açores'\n",
      " 'Laurier des Iroquois' 'Laurier du Portugal' 'Laurier du caucase'\n",
      " 'Laurier sauce' 'Laurier-Cerise' 'Libocèdre' 'Lilas' 'Lilas de Perse'\n",
      " 'Lilas des indes' 'Maackie' 'Magnolia' 'Marronnier' 'Merisier'\n",
      " 'Metaséquoia' 'Micocoulier' 'Mimosa' 'Muscadier' 'Myrte du Chili'\n",
      " 'Mélèze' 'Mûrier' 'Nerprun' 'Noisetier' 'Noisetier de Byzance'\n",
      " 'Non spécifié' 'Nothofagus' 'Noyer' 'Nyssa' 'Néflier' 'Néflier commun'\n",
      " 'Olivier' 'Olivier odorant' 'Oranger des Osages' 'Orme' 'Orme de Samarie'\n",
      " 'Orme de Sibérie' 'Ormeau épineux' 'Ostryer' 'Palmier' 'Papayer'\n",
      " 'Parrotie de Perse' 'Parrotie de Perse - Arbre de fer' 'Parrotiopsis'\n",
      " 'Paulownia' 'Peuplier' 'Phellodendron' 'Photinia' 'Pin' 'Pistachier'\n",
      " 'Plaqueminier' 'Platane' 'Platycarya' 'Poirier' 'Poirier à fleurs'\n",
      " 'Poirier à fruits' 'Poivrier' 'Poliothyrsis' 'Pommier' 'Pommier à fleurs'\n",
      " 'Pommier à fruits' 'Prunellier' 'Prunier à fleurs' 'Prunier à fruits'\n",
      " 'Prunus Fleur n. sp.' 'Prunus Fruit n. sp.' 'Prunus n. sp.' 'Pterocarya'\n",
      " 'Pterostyrax' 'Pêcher' 'Raisinier' 'Rhododendron' 'Robinier' 'Sapin'\n",
      " 'Sapin Douglas' 'Saule' 'Savonnier' 'Sequoia' 'Seringas' 'Sophora'\n",
      " 'Sorbier' 'Staphylier' 'Sterculier' 'Stewartia' 'Styrax' 'Sumac' 'Sureau'\n",
      " 'Sycopsis' 'Tamaris' 'Tapiscia' 'Thuya' 'Tilleul' 'Troene' 'Troëne'\n",
      " 'Tsuga' 'Tulipier' 'Viorne' 'Virgilier' 'Xanthoceras' nan]\n",
      "********************\n",
      "count       200110\n",
      "unique         175\n",
      "top       Platanus\n",
      "freq         42590\n",
      "Name: genre, dtype: object\n",
      "liste de valeur(s) unique : ['Abelia' 'Abies' 'Acacia' 'Acca' 'Acer' 'Aesculus' 'Ailanthus' 'Alangium'\n",
      " 'Albizia' 'Alnus' 'Amelanchier' 'Aralia' 'Araucaria' 'Arbutus' 'Aronia'\n",
      " 'Asimina' 'Betula' 'Brachychiton' 'Brahea' 'Broussonetia' 'Buxus'\n",
      " 'Callistemon' 'Calocedrus' 'Caragana' 'Carica' 'Carpinus' 'Carya'\n",
      " 'Castanea' 'Catalpa' 'Cedrus' 'Celtis' 'Cephalotaxus' 'Cercidiphyllum'\n",
      " 'Cercis' 'Chamaecyparis' 'Chimonanthus' 'Chionanthus' 'Cinnamomum'\n",
      " 'Cladrastis' 'Clerodendrum' 'Cordyline' 'Cornus' 'Corylus' 'Cotinus'\n",
      " 'Cotoneaster' 'Crataegomespilus' 'Crataegus' 'Cryptomeria' 'Cunninghamia'\n",
      " 'Cupressus' 'Cydonia' 'Davidia' 'Diospyros' 'Distylium' 'Ehretia'\n",
      " 'Elaeagnus' 'Enkianthus' 'Eriobotrya' 'Eucalyptus' 'Eucommia' 'Euonymus'\n",
      " 'Euscaphis' 'Fagus' 'Ficus' 'Firmiana' 'Fontanesia' 'Fraxinus'\n",
      " 'Fremontodendron' 'Garrya' 'Genista' 'Ginkgo' 'Gleditsia' 'Gymnocladus'\n",
      " 'Hemiptelea' 'Heptacodium' 'Hibiscus' 'Hippophae' 'Hovenia' 'Idesia'\n",
      " 'Ilex' 'Juglans' 'Juniperus' 'Kalopanax' 'Koelreuteria' 'Laburnocytisus'\n",
      " 'Laburnum' 'Lagerstroemia' 'Larix' 'Laurus' 'Ligustrum' 'Liquidambar'\n",
      " 'Liriodendron' 'Lonicera' 'Luma' 'Maackia' 'Maclura' 'Magnolia' 'Malus'\n",
      " 'Melia' 'Mespilus' 'Metasequoia' 'Morus' 'Non spécifié' 'Nothofagus'\n",
      " 'Nyssa' 'Olea' 'Osmanthus' 'Ostrya' 'Paraserianthes' 'Parrotia'\n",
      " 'Parrotiopsis' 'Paulownia' 'Phellodendron' 'Philadelphus' 'Phillyrea'\n",
      " 'Phoenix' 'Photinia' 'Phyllanthus' 'Picea' 'Pinus' 'Pistacia' 'Platanus'\n",
      " 'Platycarya' 'Platycladus' 'Podocarpus' 'Poliothyrsis' 'Poncirus'\n",
      " 'Populus' 'Prunus' 'Pseudotsuga' 'Ptelea' 'Pterocarya' 'Pterostyrax'\n",
      " 'Punica' 'Pyrus' 'Quercus' 'Rhamnus' 'Rhododendron' 'Rhus' 'Robinia'\n",
      " 'Salix' 'Sambucus' 'Sassafras' 'Sciadopitys' 'Sequoia' 'Sequoiadendron'\n",
      " 'Sophora' 'Sorbus' 'Staphylea' 'Stewartia' 'Styrax' 'Sycopsis' 'Syringa'\n",
      " 'Tamarix' 'Tapiscia' 'Taxodium' 'Taxus' 'Tetradium' 'Thuja' 'Thujopsis'\n",
      " 'Tilia' 'Toona' 'Torreya' 'Trachycarpus' 'Tsuga' 'Ulmus' 'Viburnum'\n",
      " 'Washingtonia' 'Xanthoceras' 'Zanthoxylum' 'Zelkova' 'Ziziphus'\n",
      " 'x Chitalpa' 'x Cupressocyparis' 'x Sorbopyrus']\n",
      "********************\n",
      "count          198374\n",
      "unique            539\n",
      "top       x hispanica\n",
      "freq            36408\n",
      "Name: espece, dtype: object\n",
      "liste de valeur(s) unique : ['Fleur n. sp.' 'Fruit n. sp.' 'abies' 'acalycina' 'acerifolia'\n",
      " 'acerifolius' 'acuminata' 'acutifolia' 'acutissima' 'adamii'\n",
      " 'ailantifolia' 'alaternus' 'alba' 'albidum' 'albosinensis'\n",
      " 'alleghaniensis' 'altissima' 'ambigua' 'americana' 'americanum'\n",
      " 'amurense' 'amurensis' 'anagyroides' 'angustifolia' 'antarctica'\n",
      " 'antarctica var. uliginosa' 'aprica' 'aquifolium' 'araucana' 'arborea'\n",
      " 'arboreum' 'aria' 'arizonica' 'armata' 'armeniaca' 'asperata' 'aucuparia'\n",
      " 'aucuparia var. edulis' 'augustinii' 'aurita' 'australis' 'avellana'\n",
      " 'avium' 'azedarach' 'babylonica' 'babylonica var. pekinensis' 'baccata'\n",
      " 'baccata f. Aurea' 'baccata var. mandshurica' 'balearica' 'banksiana'\n",
      " 'betulus' 'bicolor' 'bignonioides' 'biloba' 'biltmoreana' 'biondii'\n",
      " 'bipinnata' 'bracteata' 'brevifolia' 'breweriana' 'buergerianum'\n",
      " 'bungeana' 'bungei' 'californica' 'californicum' 'calleryana' 'campestre'\n",
      " 'camphora' 'canadensis' 'canariensis' 'canbyi' 'capillipes'\n",
      " 'cappadocicum' 'caprea' 'carica' 'carpinifolia' 'carpinifolium'\n",
      " 'castaneifolia' 'cathartica' 'cathayana' 'cembra' 'cephalonica'\n",
      " 'cerasifera' 'cerris' 'champlainensis' 'chequen' 'chinense' 'chinensis'\n",
      " 'chrysocarpa var. phoenicea' 'cilicica' 'cinerea' 'circinatum'\n",
      " 'cissifolium' 'coccifera' 'coccinea' 'coggygria' 'colchica' 'colurna'\n",
      " 'communis' 'concolor' 'contorta var. latifolia' 'controversa' 'copallina'\n",
      " 'cordata' 'cordiformis' 'coronarius' 'corymbosa' 'coulteri' 'crus-galli'\n",
      " 'curdica' 'daniellii' 'dasystyla' 'dasystyla subsp. caucasica'\n",
      " 'davidiana' 'davidii' 'davurica' 'dealbata' 'decidua' 'decora'\n",
      " 'decurrens' 'delavayi subsp. potaninii' 'deltoides' 'densiflora'\n",
      " 'dentata' 'denudata' 'deodara' 'diabolicum' 'dicksonii' 'dioica'\n",
      " 'distichum' 'dolabrata' 'domestica' 'duclouxii' 'dulcis' 'elata'\n",
      " 'elliptica' 'engelmannii' 'ermanii' 'europaea' 'europaeus' 'europea'\n",
      " 'excelsior' 'exigua' 'faginea' 'falcata' 'fargesii' 'fecunda' 'flava'\n",
      " 'floribunda' 'florida' 'formosana' 'forrestii' 'fortunei' 'fragilis'\n",
      " 'frainetto' 'fraxinifolia' 'freemanii' 'fruticosa' 'funebris' 'gemmata'\n",
      " 'germanica' 'giganteum' 'giraldii' 'glabra' 'glabra Huds.' 'glandulosa'\n",
      " 'glauca' 'glaucus' 'glehnii' 'glutinosa' 'glyptostroboides' 'granatum'\n",
      " 'grandiflora' 'grandis' 'griseum' 'gunnii' 'halepensis' 'harringtonii'\n",
      " 'heldreichii' 'hemsleyanus' 'henryana' 'henryi' 'heterophylla'\n",
      " 'heterophyllus' 'hippocastanum' 'hirsuta' 'hispida' 'homolepis'\n",
      " 'horizontalis' 'humilis' 'hybrida' 'hypoleuca' 'hyrcanum' 'ilex'\n",
      " 'ilicifolia' 'illinoinensis' 'imbricaria' 'incana' 'incisa' 'indica'\n",
      " 'intermedia' 'involucrata' 'involucrata var. vilmoriniana' 'ioensis'\n",
      " 'ithaburensis var. macrolepis' 'jacquemontiana' 'japonica' 'japonicum'\n",
      " 'japonicus' 'jeffreyi' 'jessoensis' 'jujuba' 'julibrissin' 'kaempferi'\n",
      " 'kaki' 'kentukea' 'kiusiana' 'kobus' 'koraiensis' 'koreana' 'kousa'\n",
      " 'kousa var. chinensis' 'koyamai' 'labilis' 'laevigata' 'laevis'\n",
      " 'lamarckii' 'lanceolata' 'lasiocarpa' 'latifolia' 'laurocerasus'\n",
      " 'lawsoniana' 'lenta' 'leylandii' 'libani' 'libani subsp. atlantica'\n",
      " 'likiangensis' 'liliiflora' 'lobata' 'lophantha' 'lotus' 'lucidum'\n",
      " 'luminifera' 'lusitanica' 'lusitanica subsp.azorica' 'maackii'\n",
      " 'macranthera' 'macrocarpa' 'macrophylla' 'macrophyllum' 'macrophyllus'\n",
      " 'mahaleb' 'major' 'mandshurica' 'mariana' 'marilandica' 'mas' 'maxima'\n",
      " 'maximowicziana' 'maximowiczianum' 'medwediewii' 'menziesii'\n",
      " 'miconioides' 'microcarpa' 'microphylla' 'minor' 'minor var. vulgaris'\n",
      " 'miqueliana' 'mongolica' 'monogyna' 'monogyna var. monogyna' 'monophylla'\n",
      " 'monspessulanum' 'muehlenbergii' 'mugo' 'myrtilloides' 'n. sp.'\n",
      " 'nebrodensis' 'negundo' 'nigra' 'nigra subsp. laricio'\n",
      " 'nigra subsp. nigra' 'nigra subsp. salzmannii' 'nivalis' 'nobilis'\n",
      " 'nootkatensis' 'nordmanniana' 'numidica' 'obliqua' 'oblonga' 'obovata'\n",
      " 'obovatus' 'obtusa' 'occidentalis' 'occidentalis var. reticulata'\n",
      " 'odoratissimum' 'officinalis' 'oliveri' 'oliverianum' 'omorika' 'opalus'\n",
      " 'orientalis' 'ornus' 'ovalifolium' 'ovata' 'padus' 'palmatum' 'palustris'\n",
      " 'paniculata' 'papaya' 'papyrifera' 'pardei' 'parviflora' 'pauciflora'\n",
      " 'pavia' 'pekinensis' 'pendula' 'pendula var. pendula' 'pennsylvanica'\n",
      " 'pensylvanicum' 'persica' 'persica var.nucipersica' 'petraea' 'phellos'\n",
      " 'phillyreoides' 'phillyreoides subsp. fortunei' 'pictum' 'pinaster'\n",
      " 'pinea' 'pinsapo' 'piperitum' 'pisifera' 'platanifolium' 'platanoides'\n",
      " 'platyphylla' 'platyphyllos' 'plicata' 'polycarpa' 'pomifera' 'ponderosa'\n",
      " 'pontica' 'populifolia' 'potaninii' 'praecox' 'procera' 'prunifolia'\n",
      " 'pseudoacacia' 'pseudocamellia' 'pseudoplatanus' 'pubescens' 'pumila'\n",
      " 'pungens' 'pungens f. Glauca' 'purpurea' 'pyrenaica' 'pyrifolia'\n",
      " 'quadrangulata' 'racemosum' 'radiata' 'ramosissima' 'recurvata' 'regia'\n",
      " 'retusus' 'rhamnoides' 'rhoifolia' 'rhytidophyllum' 'rigida' 'robur'\n",
      " 'robusta' 'rosmarinifolia' 'rotundifolia var. aboriginum' 'rubra'\n",
      " 'rubrum' 'rufa' 'rufinerve' 'rysophylla' 'sabina' 'sabiniana'\n",
      " 'saccharinum' 'saccharum' 'salicifolia' 'sanguinea' 'sargentii' 'sativa'\n",
      " 'scalaris' 'schrenkiana' 'seguinii' 'sellowiana' 'sempervirens'\n",
      " 'septemlobus' 'serotina' 'serrata' 'serrula' 'serrulata' 'sieboldianum'\n",
      " 'sieboldii' 'siliquastrum' 'simonii' 'simplex' 'simulans' 'sinense'\n",
      " 'sinensis' 'sinensis Oliv.' 'sinica' 'sitchensis' 'smithiana'\n",
      " 'sorbifolium' 'spathulata' 'speciosa' 'spectabilis' 'spinosa' 'sprengeri'\n",
      " 'stellata' 'stenoptera' 'strobilacea' 'strobus' 'styraciflua' 'suber'\n",
      " 'suber subsp. Occidentalis' 'sylvatica' 'sylvestris' 'syriacus'\n",
      " 'szechuanica var. tibetica' 'tashkentensis' 'tataricum subsp. ginnala'\n",
      " 'taurica' 'tenuifolia' 'terebinthus' 'tetrandra' 'tinus' 'tomentosa'\n",
      " 'toringo' 'toringoides' 'torminalis' 'tournefortii' 'transitoria'\n",
      " 'tremula' 'triacanthos' 'triacanthos f. Inermis' 'trichocarpa'\n",
      " 'trichotomum' 'trichotomum var. fargesii' 'tricuspidata' 'triflora'\n",
      " 'triflorum' 'trifoliata' 'triloba' 'trilobata' 'tripetala' 'trojana'\n",
      " 'tschonoskii' 'tulipifera' 'turbinata' 'turczaninowii' 'typhina'\n",
      " 'udensis' 'ulmoides' 'umbellata' 'unedo' 'utilis' 'variabilis' 'velutina'\n",
      " 'venustula' 'verniciflua' 'verticillata' 'vestita' 'vilmoriniana'\n",
      " 'vilmorinii' 'viminalis' 'virginiana' 'viridis' 'viscosa' 'vulgare'\n",
      " 'vulgaris' 'wagnerianus' 'wallichiana' 'wilsonii' 'x Sepulcralis'\n",
      " 'x altaclerensis' 'x ambigua' 'x arnoldiana' 'x atrosanguinea'\n",
      " 'x berolinensis' 'x bixbyi' 'x blireana' 'x brooklynensis' 'x burkwoodii'\n",
      " 'x caerulea' 'x canadensis' 'x canescens' 'x carnea' 'x chinensis'\n",
      " 'x colurnoides' 'x conspicuum' 'x coriaceum' 'x durettii' 'x ebbingei'\n",
      " 'x erubescens' 'x europaea' 'x flaccida' 'x flavescens' 'x fraseri'\n",
      " 'x gondouinii' 'x heterophylla' 'x hillieri' 'x hispanica' 'x hollandica'\n",
      " 'x kewensis' 'x lavalleei' 'x lettermanii' 'x libanerris' 'x loebneri'\n",
      " 'x macrantha' 'x margaretta' 'x marschlinsii' 'x media' 'x mutabilis'\n",
      " 'x neglecta' 'x pendulina' 'x persimilis' 'x proctoriana' 'x purpurea'\n",
      " 'x rehderiana' 'x robusta' 'x rosacea' 'x schmittii' 'x sorbifolia'\n",
      " 'x soulangeana' 'x spaethii' 'x subhirtella' 'x thuringiaca' 'x turneri'\n",
      " 'x watereri' 'x yedoensis' 'x zoeschense' 'x zumi' 'xerubescens'\n",
      " 'yunnanensis' nan]\n",
      "********************\n",
      "count          36776\n",
      "unique           436\n",
      "top       Baumannii'\n",
      "freq            4538\n",
      "Name: variete, dtype: object\n",
      "liste de valeur(s) unique : [\"Aberdoniae'\" \"Accolade'\" \"Aconitifolium'\" \"Afghanica'\" \"Aglandau'\"\n",
      " \"Akane'\" \"Alaska'\" \"Alba Plena'\" \"Alba Superba'\" \"Alba'\" \"Albertii'\"\n",
      " \"Albomarginata'\" \"Album'\" \"Aldenhamensis'\" \"Altena'\" \"Alumii'\"\n",
      " \"Amanogawa'\" \"Amber Beauty'\" \"Ambrozyana'\" \"Amsden'\" \"Ananas Reinette'\"\n",
      " \"Annae'\" \"Api Rose'\" \"Aprikose von Nancy'\" \"Argentea Marginata'\"\n",
      " \"Argenteovariegata'\" \"Arie Peters'\" \"Aspleniifolia'\" \"Atlantica Aurea'\"\n",
      " \"Atlantica Glauca Pendula'\" \"Atlantica Glauca'\" \"Atropunicea'\"\n",
      " \"Atropurpurea'\" \"Atropurpureum'\" \"Atrovirens'\" \"Aucubifolia'\"\n",
      " \"Aurea Marginata'\" \"Aurea Pendula'\" \"Aurea'\" \"Aureomarginatum'\"\n",
      " \"Aureovariegata'\" \"Aureum'\" \"Austriaca'\" \"Autumn Flame'\"\n",
      " \"Autumnalis Rosea'\" \"Autumnalis'\" \"Balaton'\" \"Ballerina'\"\n",
      " \"Baumann's Reinette'\" \"Baumannii'\" \"Belle Fleur Jaune'\"\n",
      " \"Belle de Louvain'\" \"Belle de Pontoise'\" \"Bergeron'\" \"Bessoniana'\"\n",
      " \"Beurré Clairgeau'\" \"Beurré Hardy'\" \"Beurré Lebrun'\"\n",
      " \"Bigarreau Hatif Burlat'\" \"Bigarreau Napoleon' NAPOLEON\"\n",
      " \"Bigarreau blanc'\" \"Bloodgood'\" \"Blush'\" \"Bon Accueil'\"\n",
      " \"Bon chrétien Williams'\" \"Bondy'\" \"Bonne Louise d'Avranches'\"\n",
      " \"Bonne de Bry'\" \"Borowitsky'\" \"Boubri'\" \"Brabant'\" \"Bradford'\" \"Briotii'\"\n",
      " \"Bruchem'\" \"Buergeri'\" \"Calliprinos'\" \"Calville Rouge d'Hiver'\"\n",
      " \"Calville blanc'\" \"Calville rouge'\" \"Canada Rouge'\" \"Carrierei'\"\n",
      " \"Castanaefolia'\" \"Caucasica'\" \"Champion'\" \"Chantecler'\" \"Chanticleer'\"\n",
      " \"Chat rôti'\" \"Chermesina'\" \"Cimmzam'\" \"Cipressino Pyramidal'\"\n",
      " \"Clanbrassiliana'\" \"Clapp's Favourite'\" \"Cleveland'\" \"Cockleshell'\"\n",
      " \"Colorata'\" \"Columna'\" \"Columnare'\" \"Columnaris'\" \"Coluteoides'\"\n",
      " \"Comtesse de Paris'\" \"Concordia'\" \"Conference'\" \"Conseiller à la Cour'\"\n",
      " \"Conspicua'\" \"Contorta'\" \"Court Pendu Gris'\" \"Courtarou'\" \"Cox's Orange'\"\n",
      " \"Crimson King'\" \"Crispa'\" \"Dampieri'\" \"Dawyck Purple'\" \"Dawyck'\"\n",
      " \"De l'Estre'\" \"Deborah'\" \"Decaisneana'\" \"Descyr'\" \"Desmon'\" \"Digitata'\"\n",
      " \"Dissectum'\" \"Diversifolia'\" \"Docteur Jules Guyot'\" \"Doorenbos'\"\n",
      " \"Dovastoniana'\" \"Doyenné du Comice' COMICE\" \"Drap d'Or'\" \"Drummondii'\"\n",
      " \"Duc de Bordeaux'\" \"Duchesse d'Angoulême'\" \"Duclouxii'\"\n",
      " \"Eddie's White Wonder'\" \"Elegans'\" \"Elegantissima'\" \"Eleyi'\" \"Ellwoodii'\"\n",
      " \"Elsrijk'\" \"Elstar'\" \"Emerald Queen'\" \"Erecta viridis'\" \"Erecta'\"\n",
      " \"Erythrocladum'\" \"Esveld Select'\" \"Euchlora'\" \"Evereste'\" \"Fairview'\"\n",
      " \"Falicifolia'\" \"Farlake's Green'\" \"Fastigia'\" \"Fastigiata'\"\n",
      " \"Fastigiate Koster'\" \"Fastigiatum'\" \"Ferox'\" \"Flamingo'\" \"Flekova'\"\n",
      " \"Flekova' GREEN VASE\" \"Flore Pleno'\" \"Flore Roseo Pleno'\"\n",
      " \"Flying Dragon'\" \"Forest Pansy'\" \"Frans Fontaine'\" \"Frisia'\" \"Fruitless'\"\n",
      " \"Fugenzo'\" \"Fuji'\" \"Fukubana'\" \"Galissonnière'\" \"Gibsii'\"\n",
      " \"Glauca Elegans'\" \"Glauca Pendula'\" \"Glauca'\" \"Glenleven'\"\n",
      " \"Globosa Nana'\" \"Globosum'\" \"Gloster'\" \"Goblin'\" \"Gold Bark'\"\n",
      " \"Golden Delicious'\" \"Golden Hornet'\" \"Golden' n.sp.\" \"Gracilis'\"\n",
      " \"Grand Alexandre'\" \"Grand Champion'\" \"Grandidentata'\" \"Granny Smith'\"\n",
      " \"Green Spire'\" \"Greenspire'\" \"Groseille'\" \"Grosse Mignonne'\"\n",
      " \"Grosse Pomme Noire'\" \"Général Leclerc'\" \"Hamabo'\" \"Hatif Colomer'\"\n",
      " \"Heaven Scent'\" \"Hedelfingen Riesenkirsche'\" \"Henk Vink'\" \"Hibernica'\"\n",
      " \"Hillieri'\" \"Hilsop'\" \"Hizakura'\" \"Hokusai'\" \"Honey Dew'\" \"Idared'\"\n",
      " \"Imperialis'\" \"Induta'\" \"Italica'\" \"Jacqueline Hillier'\" \"Jacquemontii'\"\n",
      " \"Jaspidea'\" \"Jeffersred'\" \"Jeffersred' AUTUMN BLAZE\" \"John Downie'\"\n",
      " \"Jonagold'\" \"Joppi'\" \"Kanzan'\" \"Kidd's Orange Red'\"\n",
      " \"Kiku-shidare-zakura'\" \"King of the Pippins'\" \"Kkho1' HOT PINK\"\n",
      " \"Klara Mayer'\" \"Kojou-no-mai'\" \"Koster'\" \"Laciniata'\" \"Laciniatum Wieri'\"\n",
      " \"Laciniatum'\" \"Lambertin n°1'\" \"Lane'\" \"Le Curé'\" \"Lemoinei'\"\n",
      " \"Lemon Pippin'\" \"Lennei'\" \"Leoccino'\" \"Leonard messel'\" \"Leopoldii'\"\n",
      " \"Lico'\" \"Liempde'\" \"Lucombeana'\" \"Luisa Lady'\" \"Luizet'\" \"Lutea'\"\n",
      " \"Macrophylla'\" \"Macrophyllum'\" \"Madeleine des deux Saisons'\"\n",
      " \"Magnificum Nakai'\" \"Majestica'\" \"Marginata'\" \"Masu-kagami'\" \"Matsuma'\"\n",
      " \"Maya'\" \"Meczek'\" \"Melrose'\" \"Memmingeri'\" \"Merrill'\" \"Minaret'\"\n",
      " \"Minsum'\" \"Minsum' SUMMER BELLS\" \"Mirabelle de Nancy'\" \"Mirabelle'\"\n",
      " \"Monophylla'\" \"Monticola'\" \"Morton'\" \"Mostapfel President Descourt'\"\n",
      " \"Nana'\" \"Nanguen'\" \"Nanguen' LUTECE\" \"Nannetensis'\" \"Nanum'\" \"Naruto'\"\n",
      " \"Neapolitanum'\" \"Negenia'\" \"Nelly Stevens'\" \"New Horizon' RESISTA\"\n",
      " \"Nicoline'\" \"Niedzwetzkyana'\" \"Nigra'\" \"Nivea'\" \"Nizetii'\" \"Nociara'\"\n",
      " \"Nova'\" \"Obovata'\" \"October Glory'\" \"Oiseau Bleu'\" \"Okame'\" \"Olmsted'\"\n",
      " \"Ombrella'\" \"Osakazuki'\" \"Otto Luyken'\" \"Oxford'\" 'PLATANOR®' \"Pallida'\"\n",
      " \"Passe Crassane'\" \"Patte de Loup'\" \"Paul's Scarlet Hamlet'\"\n",
      " \"Paul's Scarlet'\" \"Paus Johannes-Paulus II'\" \"Peasgood's Nonsuch'\"\n",
      " \"Pembury Blue'\" \"Pendula Rubra'\" \"Pendula'\" \"Pink Cascade' CASQUE ROUGE\"\n",
      " \"Pissardii'\" \"Plena'\" \"Polonais'\" \"Porlock'\" \"Postelense'\" \"Princess'\"\n",
      " \"Princeton sentry'\" \"Prinz Handjery'\" \"Professeur Vilaine'\"\n",
      " \"Professor Sprenger'\" \"Profusion'\" \"Précoce de Saumur'\"\n",
      " \"Précoce de Trévoux'\" \"Pulverulenta'\" \"Punicea'\" \"Purpurea Pendula'\"\n",
      " \"Purpurea Tricolor'\" \"Purpurea'\" \"Purpureum'\" \"Pyramidale'\"\n",
      " \"Pyramidalis Alba'\" \"Pyramidalis'\" \"Quercifolia'\" \"Quetsche d'Alsace'\"\n",
      " 'RESISTA' \"Raket'\" \"Raywood'\" \"Red Robin'\" \"Red Sentinel'\" \"Redhaven'\"\n",
      " \"Redspire'\" \"Regent'\" \"Reine Claude Dorée'\"\n",
      " \"Reine Claude Tardive de Chambourcy'\" \"Reine Claude'\"\n",
      " \"Reine des Vergers'\" \"Reinette Abry'\" \"Reinette Blanche du Canada'\"\n",
      " \"Reinette Clochard'\" \"Reinette Grise du Canada'\" \"Reinette de Caux'\"\n",
      " \"Reinette du Canada'\" \"Reinette du Mans'\" \"Rheinland'\" \"Riversii'\"\n",
      " \"Robin Hill'\" \"Robusta'\" \"Rohanii'\" \"Rosea Nova'\" \"Roseum'\"\n",
      " \"Rotundifolia'\" \"Royal Burgundy'\" \"Royal red'\" \"Rubra Plena'\" \"Rubra'\"\n",
      " \"Rubrum'\" \"Rubylace'\" \"Rudolph'\" \"Sainte Catherine'\" \"Salicifolia'\"\n",
      " \"Sandraudiga'\" \"Sanguine Vineuse'\" \"Sapporo Autumn Gold' RESISTA\"\n",
      " \"Saratoga'\" \"Saugeana'\" \"Scanlon'\" \"Schlesingeri'\" \"Schnee'\"\n",
      " \"Schone van Boskoop' BELLE DE BOSKOOP\" \"Schouten'\" \"Schwedleri'\"\n",
      " \"Sericea'\" \"Shin-deshôjô'\" \"Shinseiki'\" \"Shirotae'\" \"Shubert'\"\n",
      " \"Shôgetsu'\" \"Skyline'\" \"Smaragd'\" \"Soldat Laboureur'\"\n",
      " \"Souvenir de Courson'\" \"Spaeth'\" \"Speciosa'\" \"Spire'\" \"Splendens'\"\n",
      " \"Splender Silhouette'\" \"Squarrosa'\" \"Starking'\" \"Stricta'\"\n",
      " \"Sucrée de Montluçon'\" \"Summit'\" \"Sunburst'\" \"Sundew'\"\n",
      " \"Sunset Boulevard'\" \"Susan'\" \"Taihaku'\" \"Tempelhof'\" \"Tenroy' ROYAL GALA\"\n",
      " \"Teton de Vénus'\" \"Theodonensis'\" \"Thornhayes Tansy'\" \"Thunberg'\"\n",
      " \"Tiefurt'\" \"Topred'\" \"Tortuosa'\" \"Totem'\" \"Transparente de Croncels'\"\n",
      " \"Triomphe de Vienne'\" \"Tristan'\" \"Umbraculifera'\" \"Umineko'\" \"Unifolia'\"\n",
      " \"Vanessa'\" \"Variegata'\" \"Variegatum'\" \"Vestita'\" \"Villa Taranto'\"\n",
      " \"Virginiana'\" \"Vossii'\" \"Vranja'\" \"Wageningeri'\" \"Wanoux' VADA\"\n",
      " \"Warrenred' PACIFIC SUNSET\" \"Watereri'\" \"Webb's Prize Cob'\" \"Weschcke'\"\n",
      " \"Westhof's Glorie'\" \"Williams'\" \"Williams' WILLIAMS ROUGE\"\n",
      " \"Winter Banana'\" \"Winter Gold'\" \"Worplesdon'\" \"Yellow Bird'\" \"Youngii'\"\n",
      " \"Zebrina'\" \"Zlatia'\" 'n. sp.' nan]\n",
      "********************\n",
      "count    200110.000000\n",
      "mean         83.387107\n",
      "std         673.235009\n",
      "min           0.000000\n",
      "25%          30.000000\n",
      "50%          70.000000\n",
      "75%         115.000000\n",
      "max      250255.000000\n",
      "Name: circonference_cm, dtype: float64\n",
      "liste de valeur(s) unique : [     0      1      2      3      4      5      6      7      8      9\n",
      "     10     11     12     13     14     15     16     17     18     19\n",
      "     20     21     22     23     24     25     26     27     28     29\n",
      "     30     31     32     33     34     35     36     37     38     39\n",
      "     40     41     42     43     44     45     46     47     48     49\n",
      "     50     51     52     53     54     55     56     57     58     59\n",
      "     60     61     62     63     64     65     66     67     68     69\n",
      "     70     71     72     73     74     75     76     77     78     79\n",
      "     80     81     82     83     84     85     86     87     88     89\n",
      "     90     91     92     93     94     95     96     97     98     99\n",
      "    100    101    102    103    104    105    106    107    108    109\n",
      "    110    111    112    113    114    115    116    117    118    119\n",
      "    120    121    122    123    124    125    126    127    128    129\n",
      "    130    131    132    133    134    135    136    137    138    139\n",
      "    140    141    142    143    144    145    146    147    148    149\n",
      "    150    151    152    153    154    155    156    157    158    159\n",
      "    160    161    162    163    164    165    166    167    168    169\n",
      "    170    171    172    173    174    175    176    177    178    179\n",
      "    180    181    182    183    184    185    186    187    188    189\n",
      "    190    191    192    193    194    195    196    197    198    199\n",
      "    200    201    202    203    204    205    206    207    208    209\n",
      "    210    211    212    213    214    215    216    217    218    219\n",
      "    220    221    222    223    224    225    226    227    228    229\n",
      "    230    231    232    233    234    235    236    237    238    239\n",
      "    240    241    242    243    244    245    246    247    248    249\n",
      "    250    251    252    253    254    255    256    257    258    259\n",
      "    260    261    262    263    264    265    266    267    268    269\n",
      "    270    271    272    273    274    275    276    277    278    279\n",
      "    280    281    282    283    284    285    286    287    288    289\n",
      "    290    291    292    293    294    295    296    297    298    299\n",
      "    300    301    302    303    304    305    306    307    308    309\n",
      "    310    311    312    313    314    315    316    317    318    319\n",
      "    320    321    322    323    324    325    326    327    328    330\n",
      "    331    332    334    335    336    337    338    340    342    343\n",
      "    344    345    346    347    349    350    351    354    355    356\n",
      "    357    358    360    361    362    363    365    366    367    368\n",
      "    370    371    372    374    375    376    378    380    381    382\n",
      "    383    385    388    390    391    395    397    398    399    400\n",
      "    401    404    405    407    408    409    410    411    414    415\n",
      "    416    418    420    422    425    426    430    435    440    442\n",
      "    443    445    448    449    450    453    458    460    464    465\n",
      "    468    470    472    475    478    479    480    482    485    490\n",
      "    493    495    500    502    504    505    511    520    525    527\n",
      "    530    532    534    535    539    540    542    545    549    550\n",
      "    555    558    565    570    575    577    585    590    595    600\n",
      "    604    607    608    634    645    650    660    675    680    686\n",
      "    695    700    710    759    770    784    790    830    835    900\n",
      "    965   1000   1054   1102   1120   1124   1125   1130   1133   1135\n",
      "   1138   1140   1150   1155   1160   1165   1170   1190   1200   1205\n",
      "   1220   1230   1240   1260   1337   1345   1360   1590   1801   2025\n",
      "   2090   2120   2130   2150   2196   2210   2290   2300   2439   2750\n",
      "   3120   3630   4090   5545   6085   6120   6125   6595   7540   8110\n",
      "   9035   9085   9095   9155  18589  20130  30140  65110  79120 120170\n",
      " 250255]\n",
      "********************\n",
      "count    200110.000000\n",
      "mean         13.111659\n",
      "std        1971.350362\n",
      "min           0.000000\n",
      "25%           5.000000\n",
      "50%           8.000000\n",
      "75%          12.000000\n",
      "max      881818.000000\n",
      "Name: hauteur_m, dtype: float64\n",
      "liste de valeur(s) unique : [     0      1      2      3      4      5      6      7      8      9\n",
      "     10     11     12     13     14     15     16     17     18     19\n",
      "     20     21     22     23     24     25     26     27     28     29\n",
      "     30     31     32     33     34     35     37     38     40     42\n",
      "     43     45     46     47     50     52     54     55     56     57\n",
      "     58     59     60     64     65     66     67     68     70     71\n",
      "     75     76     77     78     80     85     86     87     88     89\n",
      "     90     91     95     96     97     98     99    100    101    105\n",
      "    106    107    110    112    113    114    115    116    117    118\n",
      "    120    122    125    128    129    130    138    148    150    154\n",
      "    155    156    157    159    160    170    180    190    204    205\n",
      "    216    218    219    220    255    260    327    510    512    608\n",
      "    610    615    618    714    720    810    815    818   1010   1113\n",
      "   1211   1216   1510   1511   1512   1514   1515   1610   1815   2015\n",
      "   2525   5155 881818]\n",
      "********************\n",
      "count     132928\n",
      "unique         4\n",
      "top            A\n",
      "freq       64435\n",
      "Name: stade_developpement, dtype: object\n",
      "liste de valeur(s) unique : ['A' 'J' 'JA' 'M' nan]\n",
      "********************\n",
      "count    137016.000000\n",
      "mean          0.001343\n",
      "std           0.036621\n",
      "min           0.000000\n",
      "25%           0.000000\n",
      "50%           0.000000\n",
      "75%           0.000000\n",
      "max           1.000000\n",
      "Name: remarquable, dtype: float64\n",
      "liste de valeur(s) unique : [ 0.  1. nan]\n",
      "********************\n",
      "count    200110.000000\n",
      "mean         48.854493\n",
      "std           0.030234\n",
      "min          48.742290\n",
      "25%          48.835024\n",
      "50%          48.854166\n",
      "75%          48.876450\n",
      "max          48.911485\n",
      "Name: geo_point_2d_a, dtype: float64\n",
      "liste de valeur(s) unique : [48.7422903  48.74237121 48.74242053 ... 48.91147297 48.91147867\n",
      " 48.91148476]\n",
      "********************\n",
      "count    200110.000000\n",
      "mean          2.348203\n",
      "std           0.051220\n",
      "min           2.210241\n",
      "25%           2.307525\n",
      "50%           2.351087\n",
      "75%           2.386833\n",
      "max           2.469759\n",
      "Name: geo_point_2d_b, dtype: float64\n",
      "liste de valeur(s) unique : [2.21024123 2.21025054 2.21025859 ... 2.46975225 2.46975435 2.46975947]\n"
     ]
    }
   ],
   "source": [
    "count_by_columns()"
   ]
  },
  {
   "cell_type": "code",
   "execution_count": 273,
   "metadata": {
    "pycharm": {
     "name": "#%%\n"
    }
   },
   "outputs": [
    {
     "name": "stdout",
     "output_type": "stream",
     "text": [
      "--------------------\n",
      "stade_developpement : A\n",
      "       numero  circonference_cm     hauteur_m   remarquable  geo_point_2d_a  \\\n",
      "count     0.0      64435.000000  64435.000000  59943.000000    64435.000000   \n",
      "mean      NaN        132.761325     13.330116      0.000901       48.857051   \n",
      "std       NaN       1179.942345     22.256600      0.030001        0.024753   \n",
      "min       NaN          0.000000      0.000000      0.000000       48.742371   \n",
      "25%       NaN         90.000000     10.000000      0.000000       48.840102   \n",
      "50%       NaN        115.000000     12.000000      0.000000       48.857773   \n",
      "75%       NaN        150.000000     15.000000      0.000000       48.873827   \n",
      "max       NaN     250255.000000   2525.000000      1.000000       48.911050   \n",
      "\n",
      "       geo_point_2d_b  \n",
      "count    64435.000000  \n",
      "mean         2.344227  \n",
      "std          0.049449  \n",
      "min          2.211330  \n",
      "25%          2.304550  \n",
      "50%          2.345071  \n",
      "75%          2.383139  \n",
      "max          2.469752  \n",
      "--------------------\n",
      "stade_developpement : JA\n",
      "       numero  circonference_cm     hauteur_m   remarquable  geo_point_2d_a  \\\n",
      "count     0.0      35443.000000  35443.000000  30784.000000    35443.000000   \n",
      "mean      NaN         70.976497      9.986993      0.000032       48.854241   \n",
      "std       NaN         63.454491     35.426939      0.005700        0.023929   \n",
      "min       NaN          0.000000      0.000000      0.000000       48.742290   \n",
      "25%       NaN         51.000000      6.000000      0.000000       48.836690   \n",
      "50%       NaN         65.000000      9.000000      0.000000       48.853150   \n",
      "75%       NaN         85.000000     10.000000      0.000000       48.870452   \n",
      "max       NaN       7540.000000   5155.000000      1.000000       48.910689   \n",
      "\n",
      "       geo_point_2d_b  \n",
      "count    35443.000000  \n",
      "mean         2.344251  \n",
      "std          0.047971  \n",
      "min          2.212229  \n",
      "25%          2.306372  \n",
      "50%          2.345470  \n",
      "75%          2.379504  \n",
      "max          2.469718  \n",
      "--------------------\n",
      "stade_developpement : J\n",
      "       numero  circonference_cm      hauteur_m   remarquable  geo_point_2d_a  \\\n",
      "count     0.0      26937.000000   26937.000000  24444.000000    26937.000000   \n",
      "mean      NaN         39.419720      38.605932      0.000041       48.851984   \n",
      "std       NaN         73.082536    5372.815555      0.006396        0.024666   \n",
      "min       NaN          0.000000       0.000000      0.000000       48.759069   \n",
      "25%       NaN         25.000000       5.000000      0.000000       48.833242   \n",
      "50%       NaN         35.000000       5.000000      0.000000       48.847313   \n",
      "75%       NaN         45.000000       6.000000      0.000000       48.869577   \n",
      "max       NaN       9035.000000  881818.000000      1.000000       48.910713   \n",
      "\n",
      "       geo_point_2d_b  \n",
      "count    26937.000000  \n",
      "mean         2.353568  \n",
      "std          0.051922  \n",
      "min          2.212541  \n",
      "25%          2.315492  \n",
      "50%          2.349694  \n",
      "75%          2.390117  \n",
      "max          2.469759  \n",
      "--------------------\n",
      "stade_developpement : M\n",
      "       numero  circonference_cm    hauteur_m  remarquable  geo_point_2d_a  \\\n",
      "count     0.0       6113.000000  6113.000000  5669.000000     6113.000000   \n",
      "mean      NaN        219.526092    19.239653     0.022226       48.858447   \n",
      "std       NaN         78.276548     7.045963     0.147431        0.035401   \n",
      "min       NaN          0.000000     0.000000     0.000000       48.742421   \n",
      "25%       NaN        190.000000    15.000000     0.000000       48.835919   \n",
      "50%       NaN        215.000000    20.000000     0.000000       48.863210   \n",
      "75%       NaN        245.000000    22.000000     0.000000       48.886557   \n",
      "max       NaN       2439.000000   327.000000     1.000000       48.911003   \n",
      "\n",
      "       geo_point_2d_b  \n",
      "count     6113.000000  \n",
      "mean         2.345505  \n",
      "std          0.046124  \n",
      "min          2.211263  \n",
      "25%          2.314240  \n",
      "50%          2.349780  \n",
      "75%          2.374434  \n",
      "max          2.465116  \n"
     ]
    }
   ],
   "source": [
    "arbres_quantitative = arbres_clean.drop([\n",
    "    \"id\",\n",
    "    \"complement_addresse\",\n",
    "    \"numero\",\n",
    "    \"circonference_cm\",\n",
    "    \"hauteur_m\",\n",
    "    \"geo_point_2d_a\",\n",
    "    \"geo_point_2d_b\"\n",
    "],axis=1)\n",
    "for key,value in arbres_quantitative.iteritems():\n",
    "    describe_columns(key) if (key == 'stade_developpement') else ''"
   ]
  },
  {
   "cell_type": "markdown",
   "source": [
    "# recherche des valeur aberente"
   ],
   "metadata": {
    "collapsed": false
   }
  },
  {
   "cell_type": "code",
   "execution_count": 274,
   "outputs": [
    {
     "data": {
      "text/plain": "                 id  numero  circonference_cm      hauteur_m    remarquable  \\\ncount  2.001100e+05     0.0     200110.000000  200110.000000  137016.000000   \nmean   3.870209e+05     NaN         83.387107      13.111659       0.001343   \nstd    5.453590e+05     NaN        673.235009    1971.350362       0.036621   \nmin    9.987400e+04     NaN          0.000000       0.000000       0.000000   \n25%    1.559242e+05     NaN         30.000000       5.000000       0.000000   \n50%    2.210685e+05     NaN         70.000000       8.000000       0.000000   \n75%    2.740848e+05     NaN        115.000000      12.000000       0.000000   \nmax    2.024745e+06     NaN     250255.000000  881818.000000       1.000000   \n\n       geo_point_2d_a  geo_point_2d_b  \ncount   200110.000000   200110.000000  \nmean        48.854493        2.348203  \nstd          0.030234        0.051220  \nmin         48.742290        2.210241  \n25%         48.835024        2.307525  \n50%         48.854166        2.351087  \n75%         48.876450        2.386833  \nmax         48.911485        2.469759  ",
      "text/html": "<div>\n<style scoped>\n    .dataframe tbody tr th:only-of-type {\n        vertical-align: middle;\n    }\n\n    .dataframe tbody tr th {\n        vertical-align: top;\n    }\n\n    .dataframe thead th {\n        text-align: right;\n    }\n</style>\n<table border=\"1\" class=\"dataframe\">\n  <thead>\n    <tr style=\"text-align: right;\">\n      <th></th>\n      <th>id</th>\n      <th>numero</th>\n      <th>circonference_cm</th>\n      <th>hauteur_m</th>\n      <th>remarquable</th>\n      <th>geo_point_2d_a</th>\n      <th>geo_point_2d_b</th>\n    </tr>\n  </thead>\n  <tbody>\n    <tr>\n      <th>count</th>\n      <td>2.001100e+05</td>\n      <td>0.0</td>\n      <td>200110.000000</td>\n      <td>200110.000000</td>\n      <td>137016.000000</td>\n      <td>200110.000000</td>\n      <td>200110.000000</td>\n    </tr>\n    <tr>\n      <th>mean</th>\n      <td>3.870209e+05</td>\n      <td>NaN</td>\n      <td>83.387107</td>\n      <td>13.111659</td>\n      <td>0.001343</td>\n      <td>48.854493</td>\n      <td>2.348203</td>\n    </tr>\n    <tr>\n      <th>std</th>\n      <td>5.453590e+05</td>\n      <td>NaN</td>\n      <td>673.235009</td>\n      <td>1971.350362</td>\n      <td>0.036621</td>\n      <td>0.030234</td>\n      <td>0.051220</td>\n    </tr>\n    <tr>\n      <th>min</th>\n      <td>9.987400e+04</td>\n      <td>NaN</td>\n      <td>0.000000</td>\n      <td>0.000000</td>\n      <td>0.000000</td>\n      <td>48.742290</td>\n      <td>2.210241</td>\n    </tr>\n    <tr>\n      <th>25%</th>\n      <td>1.559242e+05</td>\n      <td>NaN</td>\n      <td>30.000000</td>\n      <td>5.000000</td>\n      <td>0.000000</td>\n      <td>48.835024</td>\n      <td>2.307525</td>\n    </tr>\n    <tr>\n      <th>50%</th>\n      <td>2.210685e+05</td>\n      <td>NaN</td>\n      <td>70.000000</td>\n      <td>8.000000</td>\n      <td>0.000000</td>\n      <td>48.854166</td>\n      <td>2.351087</td>\n    </tr>\n    <tr>\n      <th>75%</th>\n      <td>2.740848e+05</td>\n      <td>NaN</td>\n      <td>115.000000</td>\n      <td>12.000000</td>\n      <td>0.000000</td>\n      <td>48.876450</td>\n      <td>2.386833</td>\n    </tr>\n    <tr>\n      <th>max</th>\n      <td>2.024745e+06</td>\n      <td>NaN</td>\n      <td>250255.000000</td>\n      <td>881818.000000</td>\n      <td>1.000000</td>\n      <td>48.911485</td>\n      <td>2.469759</td>\n    </tr>\n  </tbody>\n</table>\n</div>"
     },
     "execution_count": 274,
     "metadata": {},
     "output_type": "execute_result"
    }
   ],
   "source": [
    "arbres_clean.describe()"
   ],
   "metadata": {
    "collapsed": false,
    "pycharm": {
     "name": "#%%\n"
    }
   }
  },
  {
   "cell_type": "markdown",
   "source": [
    "pour un visuel plus agreable nous utiliserons les valeur min, quartiles et max sur nos ordonnees"
   ],
   "metadata": {
    "collapsed": false
   }
  },
  {
   "cell_type": "code",
   "execution_count": 275,
   "outputs": [],
   "source": [
    "def value_groub_by(data_frame,column_name):\n",
    "    taille_classe = 9 # taille des classes pour la discrétisation\n",
    "\n",
    "    groupes = [] # va recevoir les données agrégées à afficher\n",
    "\n",
    "    # on calcule des tranches allant de 0 au solde maximum par paliers de taille taille_classe\n",
    "    tranches = np.arange(0, max(data_frame[column_name.name]), taille_classe)\n",
    "    # print(tranches)\n",
    "    tranches += int(taille_classe/2)# on décale les tranches d'une demi taille de classe\n",
    "    # print(tranches)\n",
    "    indices = np.digitize(data_frame[column_name.name], tranches) # associe chaque valeur à son numéro de classe\n",
    "    # print(indices)\n",
    "    for ind, tr in enumerate(tranches): # pour chaque tranche, ind reçoit le numéro de tranche et tr la tranche en question\n",
    "        valeurs = data_frame.loc[indices==ind,column_name.name] # sélection des individus de la tranche ind\n",
    "        if len(valeurs) > 0:\n",
    "            g = {\n",
    "                'valeurs': valeurs,\n",
    "                'centre_classe': tr-(taille_classe/2),\n",
    "                'taille': len(valeurs),\n",
    "                'quartiles': [np.percentile(valeurs,p) for p in [25,50,75]]\n",
    "            }\n",
    "            groupes.append(g)\n",
    "    return groupes"
   ],
   "metadata": {
    "collapsed": false,
    "pycharm": {
     "name": "#%%\n"
    }
   }
  },
  {
   "cell_type": "code",
   "execution_count": 276,
   "outputs": [
    {
     "data": {
      "text/plain": "min         0.0\n25%        30.0\n50%        70.0\n75%       115.0\nmax    250255.0\nName: circonference_cm, dtype: float64"
     },
     "execution_count": 276,
     "metadata": {},
     "output_type": "execute_result"
    }
   ],
   "source": [
    "x=arbres_clean.describe()\n",
    "x_value = x.circonference_cm[['min','25%','50%','75%','max']]\n",
    "x_value"
   ],
   "metadata": {
    "collapsed": false,
    "pycharm": {
     "name": "#%%\n"
    }
   }
  },
  {
   "cell_type": "markdown",
   "source": [
    "## circonference"
   ],
   "metadata": {
    "collapsed": false
   }
  },
  {
   "cell_type": "code",
   "execution_count": 276,
   "outputs": [],
   "source": [],
   "metadata": {
    "collapsed": false,
    "pycharm": {
     "name": "#%%\n"
    }
   }
  },
  {
   "cell_type": "code",
   "execution_count": 300,
   "outputs": [
    {
     "data": {
      "text/plain": "<seaborn.axisgrid.FacetGrid at 0x1c70cc37fa0>"
     },
     "execution_count": 300,
     "metadata": {},
     "output_type": "execute_result"
    },
    {
     "data": {
      "text/plain": "<Figure size 432x108 with 1 Axes>",
      "image/png": "[encoded data removed]"
     },
     "metadata": {},
     "output_type": "display_data"
    }
   ],
   "source": [
    "graph = sns.catplot(data=arbres_clean, x='circonference_cm', hue =\"circonference_cm\", kind=\"box\", height=1.5, aspect=4)\n",
    "graph.set(xscale=\"log\")"
   ],
   "metadata": {
    "collapsed": false,
    "pycharm": {
     "name": "#%%\n"
    }
   }
  },
  {
   "cell_type": "code",
   "execution_count": 305,
   "outputs": [
    {
     "data": {
      "text/plain": "<seaborn.axisgrid.FacetGrid at 0x1c73bf305b0>"
     },
     "execution_count": 305,
     "metadata": {},
     "output_type": "execute_result"
    },
    {
     "data": {
      "text/plain": "<Figure size 432x108 with 1 Axes>",
      "image/png": "[encoded data removed]"
     },
     "metadata": {},
     "output_type": "display_data"
    }
   ],
   "source": [
    "arbres_clean_circonference = arbres_clean.where(arbres_clean.circonference_cm < 650).where(arbres_clean.circonference_cm > 0)\n",
    "sns.catplot(data=arbres_clean_circonference, x='circonference_cm', hue =\"circonference_cm\", kind=\"box\", height=1.5, aspect=4 )"
   ],
   "metadata": {
    "collapsed": false,
    "pycharm": {
     "name": "#%%\n"
    }
   }
  },
  {
   "cell_type": "markdown",
   "source": [
    "## hauteur"
   ],
   "metadata": {
    "collapsed": false
   }
  },
  {
   "cell_type": "code",
   "execution_count": 302,
   "outputs": [
    {
     "data": {
      "text/plain": "<seaborn.axisgrid.FacetGrid at 0x1c7281f1e50>"
     },
     "execution_count": 302,
     "metadata": {},
     "output_type": "execute_result"
    },
    {
     "data": {
      "text/plain": "<Figure size 432x108 with 1 Axes>",
      "image/png": "[encoded data removed]"
     },
     "metadata": {},
     "output_type": "display_data"
    }
   ],
   "source": [
    "graph = sns.catplot(data=arbres_clean, x='hauteur_m', hue =\"hauteur_m\", kind=\"box\", height=1.5, aspect=4)\n",
    "graph.set(xscale=\"log\")"
   ],
   "metadata": {
    "collapsed": false,
    "pycharm": {
     "name": "#%%\n"
    }
   }
  },
  {
   "cell_type": "code",
   "execution_count": 311,
   "outputs": [
    {
     "data": {
      "text/plain": "<seaborn.axisgrid.FacetGrid at 0x1c71d10cd60>"
     },
     "execution_count": 311,
     "metadata": {},
     "output_type": "execute_result"
    },
    {
     "data": {
      "text/plain": "<Figure size 432x108 with 1 Axes>",
      "image/png": "[encoded data removed]"
     },
     "metadata": {},
     "output_type": "display_data"
    }
   ],
   "source": [
    "arbres_clean_hauteur = arbres_clean.where(arbres_clean.hauteur_m <= 46)\n",
    "sns.catplot(data=arbres_clean_hauteur, x='hauteur_m', hue =\"hauteur_m\", kind=\"box\", height=1.5, aspect=4)"
   ],
   "metadata": {
    "collapsed": false,
    "pycharm": {
     "name": "#%%\n"
    }
   }
  },
  {
   "cell_type": "markdown",
   "source": [],
   "metadata": {
    "collapsed": false
   }
  }
 ],
 "metadata": {
  "kernelspec": {
   "display_name": "Python 3 (ipykernel)",
   "language": "python",
   "name": "python3"
  },
  "language_info": {
   "codemirror_mode": {
    "name": "ipython",
    "version": 3
   },
   "file_extension": ".py",
   "mimetype": "text/x-python",
   "name": "python",
   "nbconvert_exporter": "python",
   "pygments_lexer": "ipython3",
   "version": "3.9.7"
  }
 },
 "nbformat": 4,
 "nbformat_minor": 1
}