{
 "cells": [
  {
   "cell_type": "code",
   "execution_count": 16,
   "metadata": {},
   "outputs": [],
   "source": [
    "import pandas as pa\n",
    "import sympy as sp\n",
    "\n",
    "arbres = pa.read_csv(\"./p2-arbres-fr.csv\", sep=\";\")"
   ]
  },
  {
   "cell_type": "markdown",
   "metadata": {
    "pycharm": {
     "name": "#%% md\n"
    }
   },
   "source": [
    "\n",
    "# [Cleaning Big Data: Most Time-Consuming, Least Enjoyable Data Science Task, Survey Says](https://www.forbes.com/sites/gilpress/2016/03/23/data-preparation-most-time-consuming-least-enjoyable-data-science-task-survey-says/?sh=271dee696f63)\n",
    "\n",
    "<img style=\"display: flex;\" src=\"https://thumbor.forbes.com/thumbor/960x0/https%3A%2F%2Fblogs-images.forbes.com%2Fgilpress%2Ffiles%2F2016%2F03%2FTime-1200x511.jpg\" alt=\"Time\" width=\"auto\" margin=\"200\">\n",
    "\n",
    "Sur [Wikipedia](https://fr.wikipedia.org/wiki/Nettoyage_de_donn%C3%A9es) nous trouvons un ensemble de definitions et de solutions\n",
    "parmi les erreurs :\n",
    "\n",
    "| type         |                                       |                  |               ||\n",
    "|:-------------|:-------------------------------------:|:-----------------|:--------------|:----------------|\n",
    "| syntaxe  :   |               lexicale                | formatage        | irrégularité  ||\n",
    "| sémantique : | Violation des contraintes d'intégrité | contradiction    | duplication   | donnée invalide |\n",
    "| couverture : |           valeur manquante            | donnée manquante |||\n",
    "\n",
    "\n",
    "\n",
    "les Methodes :\n",
    "- parsing (regex)\n",
    "- transformation de donnée\n",
    "- renforcement de contraintes d'integrité\n",
    "- statistique\n",
    "- crowdsourcing\n",
    "\n",
    "les solutions :\n",
    "- Potter's wheel\n",
    "- AJAX\n",
    "- IntelliClean\n",
    "- FraQl\n",
    "- ARKTOS\n",
    "- KATARA"
   ]
  }
 ],
 "metadata": {
  "kernelspec": {
   "display_name": "Python 3 (ipykernel)",
   "language": "python",
   "name": "python3"
  },
  "language_info": {
   "codemirror_mode": {
    "name": "ipython",
    "version": 3
   },
   "file_extension": ".py",
   "mimetype": "text/x-python",
   "name": "python",
   "nbconvert_exporter": "python",
   "pygments_lexer": "ipython3",
   "version": "3.9.7"
  }
 },
 "nbformat": 4,
 "nbformat_minor": 1
}