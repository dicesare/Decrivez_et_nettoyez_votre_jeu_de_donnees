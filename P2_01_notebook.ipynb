{
 "cells": [
  {
   "cell_type": "markdown",
   "metadata": {},
   "source": [
    "# Manipulation des données avec Pandas\n",
    "\n",
    "---\n",
    "## Présentation\n",
    "\n",
    "Pandas est une librairie Python spécialisée dans l’analyse des données. Nous nous intéresserons\n",
    "surtout aux fonctionnalités de manipulations de données qu’elle propose. Un objet de type \"data frame\", qui permet de réaliser de nombreuses opérations de filtrage, prétraitements, etc., préalables à la modélisation statistique.\n",
    "La [librairie est très largement documentée](https://pandas.pydata.org/).\n",
    "<img src=\"https://upload.wikimedia.org/wikipedia/commons/thumb/e/ed/Pandas_logo.svg/1920px-Pandas_logo.svg.png\" alt=\"Logo Librairie Panda\" title=\"Librairie Panda\" width=\"256\">\n",
    "\n",
    "Pour commencer, nous utiliserons la fonction de 🐼 pour lire ou écrire un fichier, dans notre cas un csv, mais 🐼 accepte d'autre format : [JSON, SQL, ...](https://pandas.pydata.org/docs/user_guide/io.html?highlight=read)\n",
    "\n",
    "> *La fonction `.read_csv()` accepte plusieurs [arguments](https://pandas.pydata.org/docs/user_guide/io.html?highlight=read#io-read-csv-table), (qui vont permettre, avec la maitrise de cette librairie, de pouvoir commencer un pré-traitement de la donnée selon le type d'extension, les possibilitées sont tres vastes). Dans notre cas nous ne définirons le symbole de separation car par default \",\".*"
   ]
  },
  {
   "cell_type": "markdown",
   "metadata": {},
   "source": []
  },
  {
   "cell_type": "code",
   "execution_count": 1,
   "metadata": {},
   "outputs": [
    {
     "name": "stdout",
     "output_type": "stream",
     "text": [
      "<class 'pandas.core.frame.DataFrame'>\n"
     ]
    }
   ],
   "source": [
    "import pandas as pa\n",
    "import numpy as np\n",
    "import matplotlib.pyplot as plt\n",
    "arbres_df = pa.read_csv(\"./p2-arbres-fr.csv\", sep=\";\")\n",
    "#vérifions le type de df\n",
    "print(type(arbres_df))"
   ]
  },
  {
   "cell_type": "markdown",
   "metadata": {},
   "source": [
    "## Structure DataFrame\n",
    "Une matrice DataFrame correspond à une matrice individus-variables où les lignes correspondent à des observations, les colonnes à des attributs décrivant les individus.\n",
    "Nous allons maintenant afficher différente fonction pour analyser la structure\n",
    "### shape\n",
    "< *`.shape` : qui retourne un tuple qui représente les dimensions de notre Dataframe.*"
   ]
  },
  {
   "cell_type": "code",
   "execution_count": 2,
   "metadata": {
    "pycharm": {
     "name": "#%%\n"
    }
   },
   "outputs": [
    {
     "data": {
      "text/plain": "(200137, 18)"
     },
     "execution_count": 2,
     "metadata": {},
     "output_type": "execute_result"
    }
   ],
   "source": [
    "arbres_df.shape"
   ]
  },
  {
   "cell_type": "markdown",
   "metadata": {},
   "source": [
    "### head\n",
    "Avec [🐼.head()](https://pandas.pydata.org/docs/reference/api/pandas.DataFrame.head.html?highlight=head#pandas.DataFrame.head), nous allons pouvoir observer un rapide aperçu de notre DataFrame:`notre_variable.head()`\n",
    "> *La fonction  `.tail()`  est le pendant de la fonction `.head()`  . Elle permet d'afficher les derniers éléments du DataFrame.*\n",
    "\n",
    "Ici, nous pouvons déjà observer que certaines colonnes &| lignes possèdent des valeurs vides représentées par `NaN`.\n",
    "On peut définir le nombre de lignes afficher(par défaut 5)"
   ]
  },
  {
   "cell_type": "code",
   "execution_count": 3,
   "metadata": {
    "pycharm": {
     "name": "#%%\n"
    }
   },
   "outputs": [
    {
     "data": {
      "text/plain": "      id type_emplacement domanialite  arrondissement complement_addresse  \\\n0  99874            Arbre      Jardin  PARIS 7E ARRDT                 NaN   \n1  99875            Arbre      Jardin  PARIS 7E ARRDT                 NaN   \n2  99876            Arbre      Jardin  PARIS 7E ARRDT                 NaN   \n3  99877            Arbre      Jardin  PARIS 7E ARRDT                 NaN   \n\n   numero                                       lieu id_emplacement  \\\n0     NaN  MAIRIE DU 7E 116 RUE DE GRENELLE PARIS 7E             19   \n1     NaN  MAIRIE DU 7E 116 RUE DE GRENELLE PARIS 7E             20   \n2     NaN  MAIRIE DU 7E 116 RUE DE GRENELLE PARIS 7E             21   \n3     NaN  MAIRIE DU 7E 116 RUE DE GRENELLE PARIS 7E             22   \n\n  libelle_francais     genre         espece variete  circonference_cm  \\\n0       Marronnier  Aesculus  hippocastanum     NaN                20   \n1               If     Taxus        baccata     NaN                65   \n2               If     Taxus        baccata     NaN                90   \n3           Erable      Acer        negundo     NaN                60   \n\n   hauteur_m stade_developpement  remarquable  geo_point_2d_a  geo_point_2d_b  \n0          5                 NaN          0.0       48.857620        2.320962  \n1          8                   A          NaN       48.857656        2.321031  \n2         10                   A          NaN       48.857705        2.321061  \n3          8                   A          NaN       48.857722        2.321006  ",
      "text/html": "<div>\n<style scoped>\n    .dataframe tbody tr th:only-of-type {\n        vertical-align: middle;\n    }\n\n    .dataframe tbody tr th {\n        vertical-align: top;\n    }\n\n    .dataframe thead th {\n        text-align: right;\n    }\n</style>\n<table border=\"1\" class=\"dataframe\">\n  <thead>\n    <tr style=\"text-align: right;\">\n      <th></th>\n      <th>id</th>\n      <th>type_emplacement</th>\n      <th>domanialite</th>\n      <th>arrondissement</th>\n      <th>complement_addresse</th>\n      <th>numero</th>\n      <th>lieu</th>\n      <th>id_emplacement</th>\n      <th>libelle_francais</th>\n      <th>genre</th>\n      <th>espece</th>\n      <th>variete</th>\n      <th>circonference_cm</th>\n      <th>hauteur_m</th>\n      <th>stade_developpement</th>\n      <th>remarquable</th>\n      <th>geo_point_2d_a</th>\n      <th>geo_point_2d_b</th>\n    </tr>\n  </thead>\n  <tbody>\n    <tr>\n      <th>0</th>\n      <td>99874</td>\n      <td>Arbre</td>\n      <td>Jardin</td>\n      <td>PARIS 7E ARRDT</td>\n      <td>NaN</td>\n      <td>NaN</td>\n      <td>MAIRIE DU 7E 116 RUE DE GRENELLE PARIS 7E</td>\n      <td>19</td>\n      <td>Marronnier</td>\n      <td>Aesculus</td>\n      <td>hippocastanum</td>\n      <td>NaN</td>\n      <td>20</td>\n      <td>5</td>\n      <td>NaN</td>\n      <td>0.0</td>\n      <td>48.857620</td>\n      <td>2.320962</td>\n    </tr>\n    <tr>\n      <th>1</th>\n      <td>99875</td>\n      <td>Arbre</td>\n      <td>Jardin</td>\n      <td>PARIS 7E ARRDT</td>\n      <td>NaN</td>\n      <td>NaN</td>\n      <td>MAIRIE DU 7E 116 RUE DE GRENELLE PARIS 7E</td>\n      <td>20</td>\n      <td>If</td>\n      <td>Taxus</td>\n      <td>baccata</td>\n      <td>NaN</td>\n      <td>65</td>\n      <td>8</td>\n      <td>A</td>\n      <td>NaN</td>\n      <td>48.857656</td>\n      <td>2.321031</td>\n    </tr>\n    <tr>\n      <th>2</th>\n      <td>99876</td>\n      <td>Arbre</td>\n      <td>Jardin</td>\n      <td>PARIS 7E ARRDT</td>\n      <td>NaN</td>\n      <td>NaN</td>\n      <td>MAIRIE DU 7E 116 RUE DE GRENELLE PARIS 7E</td>\n      <td>21</td>\n      <td>If</td>\n      <td>Taxus</td>\n      <td>baccata</td>\n      <td>NaN</td>\n      <td>90</td>\n      <td>10</td>\n      <td>A</td>\n      <td>NaN</td>\n      <td>48.857705</td>\n      <td>2.321061</td>\n    </tr>\n    <tr>\n      <th>3</th>\n      <td>99877</td>\n      <td>Arbre</td>\n      <td>Jardin</td>\n      <td>PARIS 7E ARRDT</td>\n      <td>NaN</td>\n      <td>NaN</td>\n      <td>MAIRIE DU 7E 116 RUE DE GRENELLE PARIS 7E</td>\n      <td>22</td>\n      <td>Erable</td>\n      <td>Acer</td>\n      <td>negundo</td>\n      <td>NaN</td>\n      <td>60</td>\n      <td>8</td>\n      <td>A</td>\n      <td>NaN</td>\n      <td>48.857722</td>\n      <td>2.321006</td>\n    </tr>\n  </tbody>\n</table>\n</div>"
     },
     "execution_count": 3,
     "metadata": {},
     "output_type": "execute_result"
    }
   ],
   "source": [
    "arbres_df.head(n=4)"
   ]
  },
  {
   "cell_type": "markdown",
   "metadata": {},
   "source": [
    "### isnull & sum\n",
    "Profitons du fait de voir des `NaN` pour utiliser la combinaison de commande pratique de 🐼 `.isnull()` & `sum()`.\n",
    "> [Isnull](https://pandas.pydata.org/docs/reference/api/pandas.DataFrame.isnull.html?highlight=isnull#pandas.DataFrame.isnull) nous retourne un tableau de booléens de même taille que notre Dataframe Les valeurs `NaN`, telles que None ou [numpy.NaN](https://numpy.org/doc/stable/reference/constants.html?highlight=nan#numpy.NaN), sont mappées aux valeurs `True`. Tout le reste est mappé sur des valeurs ``False``.\n",
    "> [Sum](https://pandas.pydata.org/docs/reference/api/pandas.DataFrame.sum.html?highlight=sum#pandas.DataFrame.sum) Renvoie la somme des valeurs sur l'axe demandé.\n",
    "> > *par defaut : `DataFrame.sum(axis=None, skipna=None, level=None, numeric_only=None, min_count=0, **kwargs)`*"
   ]
  },
  {
   "cell_type": "code",
   "execution_count": 4,
   "metadata": {
    "pycharm": {
     "name": "#%%\n"
    }
   },
   "outputs": [
    {
     "data": {
      "text/plain": "id                          0\ntype_emplacement            0\ndomanialite                 1\narrondissement              0\ncomplement_addresse    169235\nnumero                 200137\nlieu                        0\nid_emplacement              0\nlibelle_francais         1497\ngenre                      16\nespece                   1752\nvariete                163360\ncirconference_cm            0\nhauteur_m                   0\nstade_developpement     67205\nremarquable             63098\ngeo_point_2d_a              0\ngeo_point_2d_b              0\ndtype: int64"
     },
     "execution_count": 4,
     "metadata": {},
     "output_type": "execute_result"
    }
   ],
   "source": [
    "arbres_df.isnull().sum()"
   ]
  },
  {
   "cell_type": "markdown",
   "metadata": {},
   "source": [
    "#### type de chaque colonne\n",
    "Afin de définir nos types de variables, et nous permettre de savoir comment les traiter dans notre etude ultérieurement.\n",
    "\n",
    "<img src=\"https://user.oc-static.com/upload/2017/10/30/15094028245878_Variables.jpeg\" width=\"512\">\n",
    "\n",
    "> *Dans notre Dataframe le Type Objet est bien sûr un String 😉.*"
   ]
  },
  {
   "cell_type": "code",
   "execution_count": 5,
   "metadata": {
    "pycharm": {
     "name": "#%%\n"
    }
   },
   "outputs": [
    {
     "name": "stdout",
     "output_type": "stream",
     "text": [
      "id                       int64\n",
      "type_emplacement        object\n",
      "domanialite             object\n",
      "arrondissement          object\n",
      "complement_addresse     object\n",
      "numero                 float64\n",
      "lieu                    object\n",
      "id_emplacement          object\n",
      "libelle_francais        object\n",
      "genre                   object\n",
      "espece                  object\n",
      "variete                 object\n",
      "circonference_cm         int64\n",
      "hauteur_m                int64\n",
      "stade_developpement     object\n",
      "remarquable            float64\n",
      "geo_point_2d_a         float64\n",
      "geo_point_2d_b         float64\n",
      "dtype: object\n"
     ]
    }
   ],
   "source": [
    "print(arbres_df.dtypes)"
   ]
  },
  {
   "cell_type": "markdown",
   "metadata": {},
   "source": [
    "### Describe\n",
    "\n",
    "#### Génération des statistiques descriptive\n",
    "\n",
    "Les [statistiques descriptives](https://pandas.pydata.org/docs/reference/api/pandas.DataFrame.describe.html?highlight=describe#pandas.DataFrame.describe) incluent celles qui résument la tendance centrale, la dispersion et la forme de la distribution d'un ensemble de données, à l'exclusion des `NaN` valeurs.\n",
    "\n",
    "Analyse à la fois les séries numériques (Quantitative) et les séries d'objets (Qualitative), ainsi que les DataFrame ensembles de colonnes de types de données mixtes. La sortie varie en fonction de ce qui est fourni.\n",
    "> *DataFrame.describe(percentiles=None, include=None, exclude=None, datetime_is_numeric=False)*\n",
    "\n",
    "<p><b>count :</b> comptage du nombre de cellules de notre Dataframe</p>\n",
    "<p><b>mean :</b> moyenne des valeurs :\n",
    "$$\n",
    "\\overline{X}_n=\\frac{1}{n}\\sum^{n}_{i=1}X_{i}\n",
    "$$\n",
    "</p>\n",
    "<p><b>std :</b> ecart type :\n",
    "$$\n",
    "\\sigma \\ ou \\ s=\\sqrt{v},\\\\ avec \\ v=\\frac{1}{n}\\sum^n_{i=1}(x_i-\\overline{x})^{2}\n",
    "$$\n",
    "</p>\n",
    "<p><b>percentile :</b> centiles inclut à la sortie, celui de 50% nous indique la mediane représentée par:\n",
    "$$\n",
    "\\ Med = x_{(\\frac{n+1}{2})}\n",
    "$$\n",
    "</p>\n",
    "<p><b>Min & Max :</b> comme leurs noms l'indique, mais permet d'avoir une première approche des valeurs aberrantes </p>\n",
    "\n",
    "> *dans notre exemple ci-dessous des arbres de \"0\" de hauteur ou de circonférence, à contrario de 800k m de haut ou circonférence de 250 m ! 😅*"
   ]
  },
  {
   "cell_type": "code",
   "execution_count": 6,
   "metadata": {
    "pycharm": {
     "name": "#%%\n"
    }
   },
   "outputs": [
    {
     "data": {
      "text/plain": "                 id  numero  circonference_cm      hauteur_m    remarquable  \\\ncount  2.001370e+05     0.0     200137.000000  200137.000000  137039.000000   \nmean   3.872027e+05     NaN         83.380479      13.110509       0.001343   \nstd    5.456032e+05     NaN        673.190213    1971.217387       0.036618   \nmin    9.987400e+04     NaN          0.000000       0.000000       0.000000   \n25%    1.559270e+05     NaN         30.000000       5.000000       0.000000   \n50%    2.210780e+05     NaN         70.000000       8.000000       0.000000   \n75%    2.741020e+05     NaN        115.000000      12.000000       0.000000   \nmax    2.024745e+06     NaN     250255.000000  881818.000000       1.000000   \n\n       geo_point_2d_a  geo_point_2d_b  \ncount   200137.000000   200137.000000  \nmean        48.854491        2.348208  \nstd          0.030234        0.051220  \nmin         48.742290        2.210241  \n25%         48.835021        2.307530  \n50%         48.854162        2.351095  \n75%         48.876447        2.386838  \nmax         48.911485        2.469759  ",
      "text/html": "<div>\n<style scoped>\n    .dataframe tbody tr th:only-of-type {\n        vertical-align: middle;\n    }\n\n    .dataframe tbody tr th {\n        vertical-align: top;\n    }\n\n    .dataframe thead th {\n        text-align: right;\n    }\n</style>\n<table border=\"1\" class=\"dataframe\">\n  <thead>\n    <tr style=\"text-align: right;\">\n      <th></th>\n      <th>id</th>\n      <th>numero</th>\n      <th>circonference_cm</th>\n      <th>hauteur_m</th>\n      <th>remarquable</th>\n      <th>geo_point_2d_a</th>\n      <th>geo_point_2d_b</th>\n    </tr>\n  </thead>\n  <tbody>\n    <tr>\n      <th>count</th>\n      <td>2.001370e+05</td>\n      <td>0.0</td>\n      <td>200137.000000</td>\n      <td>200137.000000</td>\n      <td>137039.000000</td>\n      <td>200137.000000</td>\n      <td>200137.000000</td>\n    </tr>\n    <tr>\n      <th>mean</th>\n      <td>3.872027e+05</td>\n      <td>NaN</td>\n      <td>83.380479</td>\n      <td>13.110509</td>\n      <td>0.001343</td>\n      <td>48.854491</td>\n      <td>2.348208</td>\n    </tr>\n    <tr>\n      <th>std</th>\n      <td>5.456032e+05</td>\n      <td>NaN</td>\n      <td>673.190213</td>\n      <td>1971.217387</td>\n      <td>0.036618</td>\n      <td>0.030234</td>\n      <td>0.051220</td>\n    </tr>\n    <tr>\n      <th>min</th>\n      <td>9.987400e+04</td>\n      <td>NaN</td>\n      <td>0.000000</td>\n      <td>0.000000</td>\n      <td>0.000000</td>\n      <td>48.742290</td>\n      <td>2.210241</td>\n    </tr>\n    <tr>\n      <th>25%</th>\n      <td>1.559270e+05</td>\n      <td>NaN</td>\n      <td>30.000000</td>\n      <td>5.000000</td>\n      <td>0.000000</td>\n      <td>48.835021</td>\n      <td>2.307530</td>\n    </tr>\n    <tr>\n      <th>50%</th>\n      <td>2.210780e+05</td>\n      <td>NaN</td>\n      <td>70.000000</td>\n      <td>8.000000</td>\n      <td>0.000000</td>\n      <td>48.854162</td>\n      <td>2.351095</td>\n    </tr>\n    <tr>\n      <th>75%</th>\n      <td>2.741020e+05</td>\n      <td>NaN</td>\n      <td>115.000000</td>\n      <td>12.000000</td>\n      <td>0.000000</td>\n      <td>48.876447</td>\n      <td>2.386838</td>\n    </tr>\n    <tr>\n      <th>max</th>\n      <td>2.024745e+06</td>\n      <td>NaN</td>\n      <td>250255.000000</td>\n      <td>881818.000000</td>\n      <td>1.000000</td>\n      <td>48.911485</td>\n      <td>2.469759</td>\n    </tr>\n  </tbody>\n</table>\n</div>"
     },
     "execution_count": 6,
     "metadata": {},
     "output_type": "execute_result"
    }
   ],
   "source": [
    "arbres_df.describe()"
   ]
  },
  {
   "cell_type": "markdown",
   "metadata": {},
   "source": [
    "## Recherche et somme des valeurs manquante du DataFrame dans chaque colonne\n",
    "> Précédemment nous avions utilisé la combinaison de fonction `.isnull().sum()`.\n",
    "> Il en ressort que certaines colonnes sont quasiment vides (numeros, varieté..) et d'autres avec quelques valeurs manquantes comme \"dominialité\" et \"genre\".\n",
    "\n",
    "commençons par \"dominialité\", nous affichons les valeurs qualitatives de cette colonne.\n",
    "> *on remarque au passage la facilité pour cibler une colonne en particulier et l'utilisation de la fonction `.unique()` [doc.](https://pandas.pydata.org/docs/reference/api/pandas.Series.unique.html?highlight=unique#pandas.Series.unique), qui retourne un tableau numpy.*\n",
    "\n",
    "En dernière position on retrouve notre `NaN`."
   ]
  },
  {
   "cell_type": "code",
   "execution_count": 7,
   "metadata": {
    "pycharm": {
     "name": "#%%\n"
    }
   },
   "outputs": [
    {
     "data": {
      "text/plain": "array(['Jardin', 'Alignement', 'DJS', 'DFPE', 'CIMETIERE', 'DASCO', 'DAC',\n       'PERIPHERIQUE', 'DASES', nan], dtype=object)"
     },
     "execution_count": 7,
     "metadata": {},
     "output_type": "execute_result"
    }
   ],
   "source": [
    "arbres_df.domanialite.unique()"
   ]
  },
  {
   "cell_type": "markdown",
   "metadata": {},
   "source": [
    "### Traitement\n",
    "Nous allons créer une requête dans notre Data Frame pour afficher l’individu en question.\n",
    "> *Pour ce faire, on utilise la fonction `.isna()` [doc](https://pandas.pydata.org/docs/reference/api/pandas.DataFrame.isna.html?highlight=isna#pandas.DataFrame.isna).*\n",
    "\n",
    "Dans le résultat ci-dessous, on peut constater que la valeur de la 'dominialite' manquante est renseigné dans le lieu, qui fait partie des valeurs possibles de la colonne."
   ]
  },
  {
   "cell_type": "code",
   "execution_count": 8,
   "metadata": {
    "pycharm": {
     "name": "#%%\n"
    }
   },
   "outputs": [
    {
     "data": {
      "text/plain": "             id type_emplacement domanialite   arrondissement  \\\n197239  2020911            Arbre         NaN  PARIS 20E ARRDT   \n\n       complement_addresse  numero  \\\n197239                 NaN     NaN   \n\n                                                     lieu id_emplacement  \\\n197239  JARDINS D IMMEUBLES PORTE DE VINCENNES NORD / ...         203006   \n\n       libelle_francais         genre   espece variete  circonference_cm  \\\n197239      Chimonanthe  Chimonanthus  praecox     NaN                35   \n\n        hauteur_m stade_developpement  remarquable  geo_point_2d_a  \\\n197239          4                  JA          0.0       48.849547   \n\n        geo_point_2d_b  \n197239         2.41419  ",
      "text/html": "<div>\n<style scoped>\n    .dataframe tbody tr th:only-of-type {\n        vertical-align: middle;\n    }\n\n    .dataframe tbody tr th {\n        vertical-align: top;\n    }\n\n    .dataframe thead th {\n        text-align: right;\n    }\n</style>\n<table border=\"1\" class=\"dataframe\">\n  <thead>\n    <tr style=\"text-align: right;\">\n      <th></th>\n      <th>id</th>\n      <th>type_emplacement</th>\n      <th>domanialite</th>\n      <th>arrondissement</th>\n      <th>complement_addresse</th>\n      <th>numero</th>\n      <th>lieu</th>\n      <th>id_emplacement</th>\n      <th>libelle_francais</th>\n      <th>genre</th>\n      <th>espece</th>\n      <th>variete</th>\n      <th>circonference_cm</th>\n      <th>hauteur_m</th>\n      <th>stade_developpement</th>\n      <th>remarquable</th>\n      <th>geo_point_2d_a</th>\n      <th>geo_point_2d_b</th>\n    </tr>\n  </thead>\n  <tbody>\n    <tr>\n      <th>197239</th>\n      <td>2020911</td>\n      <td>Arbre</td>\n      <td>NaN</td>\n      <td>PARIS 20E ARRDT</td>\n      <td>NaN</td>\n      <td>NaN</td>\n      <td>JARDINS D IMMEUBLES PORTE DE VINCENNES NORD / ...</td>\n      <td>203006</td>\n      <td>Chimonanthe</td>\n      <td>Chimonanthus</td>\n      <td>praecox</td>\n      <td>NaN</td>\n      <td>35</td>\n      <td>4</td>\n      <td>JA</td>\n      <td>0.0</td>\n      <td>48.849547</td>\n      <td>2.41419</td>\n    </tr>\n  </tbody>\n</table>\n</div>"
     },
     "execution_count": 8,
     "metadata": {},
     "output_type": "execute_result"
    }
   ],
   "source": [
    "arbres_df[arbres_df.domanialite.isna()]"
   ]
  },
  {
   "cell_type": "markdown",
   "metadata": {},
   "source": [
    "La solution retenue et en concordance avec notre colonne est le remplacement de cette valeur manquante.\n",
    "> *la fonction `.fillna()` permet de remplir les valeurs NA/NaN en utilisant la méthode spécifiée,\n",
    "> pour explication des paramètres utilisés :\n",
    "    <ul>\n",
    "    <li><b>inplace (bool), par défaut False</li>\n",
    "    Si True, remplis sur place. Remarque : cela modifiera toutes les autres vues sur cet objet (par exemple, une tranche sans copie pour une colonne dans un DataFrame).\n",
    "    <li><b>limit (int), par défaut Aucun </li>\n",
    "    Si la méthode est spécifiée, il s'agit du nombre maximum de valeurs NaN consécutives à remplir en avant/en arrière. Autrement dit, s'il existe un écart avec plus de ce nombre de NaN consécutifs, il ne sera que partiellement comblé. Si la méthode n'est pas spécifiée, il s'agit du nombre maximum d'entrées le long de l'axe entier où NaNs sera rempli. Doit être supérieur à 0 sinon aucun.\n",
    "    </ul>*"
   ]
  },
  {
   "cell_type": "code",
   "execution_count": 9,
   "metadata": {
    "pycharm": {
     "name": "#%%\n"
    }
   },
   "outputs": [
    {
     "data": {
      "text/plain": "array(['Jardin', 'Alignement', 'DJS', 'DFPE', 'CIMETIERE', 'DASCO', 'DAC',\n       'PERIPHERIQUE', 'DASES'], dtype=object)"
     },
     "execution_count": 9,
     "metadata": {},
     "output_type": "execute_result"
    }
   ],
   "source": [
    "arbres_df.fillna(\"Jardin\", axis=1, inplace=True, limit=1)\n",
    "arbres_df.domanialite.unique()"
   ]
  },
  {
   "cell_type": "markdown",
   "metadata": {
    "pycharm": {
     "name": "#%% md\n"
    }
   },
   "source": [
    "#### Cellule manquante genre,espece\n",
    "\n",
    "Après investigation, dans le cas de la colonne \"genre\", 7 des individus non renseignés, nous constatons qu’aucunes données de taille, circonférence et d’identification sont renseignées.\n",
    "Pour ce faire, comme dans la recherche précédente, nous allons créer une requête."
   ]
  },
  {
   "cell_type": "code",
   "execution_count": 10,
   "metadata": {
    "pycharm": {
     "name": "#%%\n"
    }
   },
   "outputs": [
    {
     "data": {
      "text/plain": "             id type_emplacement domanialite   arrondissement  \\\n195409  2018853            Arbre      Jardin  PARIS 13E ARRDT   \n195410  2018854            Arbre      Jardin  PARIS 13E ARRDT   \n195475  2018919            Arbre      Jardin  PARIS 13E ARRDT   \n195476  2018920            Arbre      Jardin  PARIS 13E ARRDT   \n195487  2018932            Arbre      Jardin  PARIS 13E ARRDT   \n195496  2018942            Arbre      Jardin  PARIS 13E ARRDT   \n195497  2018943            Arbre      Jardin  PARIS 13E ARRDT   \n195499  2018945            Arbre      Jardin  PARIS 13E ARRDT   \n195502  2018948            Arbre      Jardin  PARIS 13E ARRDT   \n195503  2018949            Arbre      Jardin  PARIS 13E ARRDT   \n195505  2018951            Arbre      Jardin  PARIS 13E ARRDT   \n195509  2018955            Arbre      Jardin  PARIS 13E ARRDT   \n195514  2018960            Arbre      Jardin  PARIS 13E ARRDT   \n195518  2018964            Arbre      Jardin  PARIS 13E ARRDT   \n195519  2018965            Arbre      Jardin  PARIS 13E ARRDT   \n\n       complement_addresse numero  \\\n195409                 NaN    NaN   \n195410                 NaN    NaN   \n195475                 NaN    NaN   \n195476                 NaN    NaN   \n195487                 NaN    NaN   \n195496                 NaN    NaN   \n195497                 NaN    NaN   \n195499                 NaN    NaN   \n195502                 NaN    NaN   \n195503                 NaN    NaN   \n195505                 NaN    NaN   \n195509                 NaN    NaN   \n195514                 NaN    NaN   \n195518                 NaN    NaN   \n195519                 NaN    NaN   \n\n                                                     lieu id_emplacement  \\\n195409  PC13 - JARDIN DE LA RUE DE LA POTERNE DES PEUP...         104005   \n195410  PC13 - JARDIN DE LA RUE DE LA POTERNE DES PEUP...         104006   \n195475  PC13 - JARDIN DE LA RUE DE LA POTERNE DES PEUP...         104030   \n195476  PC13 - JARDIN DE LA RUE DE LA POTERNE DES PEUP...         104031   \n195487  PC13 - JARDIN DE LA RUE DE LA POTERNE DES PEUP...         105006   \n195496  PC13 - JARDIN DE LA RUE DE LA POTERNE DES PEUP...         105017   \n195497  PC13 - JARDIN DE LA RUE DE LA POTERNE DES PEUP...         105019   \n195499  PC13 - JARDIN DE LA RUE DE LA POTERNE DES PEUP...         105022   \n195502  PC13 - JARDIN DE LA RUE DE LA POTERNE DES PEUP...         105025   \n195503  PC13 - JARDIN DE LA RUE DE LA POTERNE DES PEUP...         106001   \n195505  PC13 - JARDIN DE LA RUE DE LA POTERNE DES PEUP...         106003   \n195509  PC13 - JARDIN DE LA RUE DE LA POTERNE DES PEUP...         104009   \n195514  PC13 - JARDIN DE LA RUE DE LA POTERNE DES PEUP...         104019   \n195518  PC13 - JARDIN DE LA RUE DE LA POTERNE DES PEUP...         104023   \n195519  PC13 - JARDIN DE LA RUE DE LA POTERNE DES PEUP...         104025   \n\n       libelle_francais genre espece variete  circonference_cm  hauteur_m  \\\n195409              NaN   NaN    NaN     NaN                 0          0   \n195410              NaN   NaN    NaN     NaN                 0          0   \n195475              NaN   NaN    NaN     NaN                 0          0   \n195476              NaN   NaN    NaN     NaN                 0          0   \n195487              NaN   NaN    NaN     NaN                 0          0   \n195496              NaN   NaN    NaN     NaN                 0          0   \n195497              NaN   NaN    NaN     NaN                 0          0   \n195499              NaN   NaN    NaN     NaN                 0          0   \n195502              NaN   NaN    NaN     NaN                 0          0   \n195503              NaN   NaN    NaN     NaN                 0          0   \n195505              NaN   NaN    NaN     NaN                 0          0   \n195509              NaN   NaN    NaN     NaN                 0          0   \n195514              NaN   NaN    NaN     NaN                 0          0   \n195518              NaN   NaN    NaN     NaN                 0          0   \n195519              NaN   NaN    NaN     NaN                 0          0   \n\n       stade_developpement remarquable  geo_point_2d_a  geo_point_2d_b  \n195409                 NaN         0.0       48.821259        2.354242  \n195410                 NaN         0.0       48.821229        2.354212  \n195475                 NaN         0.0       48.821281        2.353322  \n195476                 NaN         0.0       48.821289        2.353228  \n195487                 NaN         0.0       48.821294        2.352001  \n195496                 NaN         0.0       48.821292        2.351425  \n195497                 NaN         0.0       48.821260        2.351363  \n195499                 NaN         0.0       48.821261        2.351296  \n195502                 NaN         0.0       48.821283        2.351094  \n195503                 NaN         0.0       48.821401        2.350885  \n195505                 NaN         0.0       48.821404        2.351217  \n195509                 NaN         0.0       48.821259        2.354079  \n195514                 NaN         0.0       48.821310        2.353883  \n195518                 NaN         0.0       48.821298        2.353718  \n195519                 NaN         0.0       48.821305        2.353505  ",
      "text/html": "<div>\n<style scoped>\n    .dataframe tbody tr th:only-of-type {\n        vertical-align: middle;\n    }\n\n    .dataframe tbody tr th {\n        vertical-align: top;\n    }\n\n    .dataframe thead th {\n        text-align: right;\n    }\n</style>\n<table border=\"1\" class=\"dataframe\">\n  <thead>\n    <tr style=\"text-align: right;\">\n      <th></th>\n      <th>id</th>\n      <th>type_emplacement</th>\n      <th>domanialite</th>\n      <th>arrondissement</th>\n      <th>complement_addresse</th>\n      <th>numero</th>\n      <th>lieu</th>\n      <th>id_emplacement</th>\n      <th>libelle_francais</th>\n      <th>genre</th>\n      <th>espece</th>\n      <th>variete</th>\n      <th>circonference_cm</th>\n      <th>hauteur_m</th>\n      <th>stade_developpement</th>\n      <th>remarquable</th>\n      <th>geo_point_2d_a</th>\n      <th>geo_point_2d_b</th>\n    </tr>\n  </thead>\n  <tbody>\n    <tr>\n      <th>195409</th>\n      <td>2018853</td>\n      <td>Arbre</td>\n      <td>Jardin</td>\n      <td>PARIS 13E ARRDT</td>\n      <td>NaN</td>\n      <td>NaN</td>\n      <td>PC13 - JARDIN DE LA RUE DE LA POTERNE DES PEUP...</td>\n      <td>104005</td>\n      <td>NaN</td>\n      <td>NaN</td>\n      <td>NaN</td>\n      <td>NaN</td>\n      <td>0</td>\n      <td>0</td>\n      <td>NaN</td>\n      <td>0.0</td>\n      <td>48.821259</td>\n      <td>2.354242</td>\n    </tr>\n    <tr>\n      <th>195410</th>\n      <td>2018854</td>\n      <td>Arbre</td>\n      <td>Jardin</td>\n      <td>PARIS 13E ARRDT</td>\n      <td>NaN</td>\n      <td>NaN</td>\n      <td>PC13 - JARDIN DE LA RUE DE LA POTERNE DES PEUP...</td>\n      <td>104006</td>\n      <td>NaN</td>\n      <td>NaN</td>\n      <td>NaN</td>\n      <td>NaN</td>\n      <td>0</td>\n      <td>0</td>\n      <td>NaN</td>\n      <td>0.0</td>\n      <td>48.821229</td>\n      <td>2.354212</td>\n    </tr>\n    <tr>\n      <th>195475</th>\n      <td>2018919</td>\n      <td>Arbre</td>\n      <td>Jardin</td>\n      <td>PARIS 13E ARRDT</td>\n      <td>NaN</td>\n      <td>NaN</td>\n      <td>PC13 - JARDIN DE LA RUE DE LA POTERNE DES PEUP...</td>\n      <td>104030</td>\n      <td>NaN</td>\n      <td>NaN</td>\n      <td>NaN</td>\n      <td>NaN</td>\n      <td>0</td>\n      <td>0</td>\n      <td>NaN</td>\n      <td>0.0</td>\n      <td>48.821281</td>\n      <td>2.353322</td>\n    </tr>\n    <tr>\n      <th>195476</th>\n      <td>2018920</td>\n      <td>Arbre</td>\n      <td>Jardin</td>\n      <td>PARIS 13E ARRDT</td>\n      <td>NaN</td>\n      <td>NaN</td>\n      <td>PC13 - JARDIN DE LA RUE DE LA POTERNE DES PEUP...</td>\n      <td>104031</td>\n      <td>NaN</td>\n      <td>NaN</td>\n      <td>NaN</td>\n      <td>NaN</td>\n      <td>0</td>\n      <td>0</td>\n      <td>NaN</td>\n      <td>0.0</td>\n      <td>48.821289</td>\n      <td>2.353228</td>\n    </tr>\n    <tr>\n      <th>195487</th>\n      <td>2018932</td>\n      <td>Arbre</td>\n      <td>Jardin</td>\n      <td>PARIS 13E ARRDT</td>\n      <td>NaN</td>\n      <td>NaN</td>\n      <td>PC13 - JARDIN DE LA RUE DE LA POTERNE DES PEUP...</td>\n      <td>105006</td>\n      <td>NaN</td>\n      <td>NaN</td>\n      <td>NaN</td>\n      <td>NaN</td>\n      <td>0</td>\n      <td>0</td>\n      <td>NaN</td>\n      <td>0.0</td>\n      <td>48.821294</td>\n      <td>2.352001</td>\n    </tr>\n    <tr>\n      <th>195496</th>\n      <td>2018942</td>\n      <td>Arbre</td>\n      <td>Jardin</td>\n      <td>PARIS 13E ARRDT</td>\n      <td>NaN</td>\n      <td>NaN</td>\n      <td>PC13 - JARDIN DE LA RUE DE LA POTERNE DES PEUP...</td>\n      <td>105017</td>\n      <td>NaN</td>\n      <td>NaN</td>\n      <td>NaN</td>\n      <td>NaN</td>\n      <td>0</td>\n      <td>0</td>\n      <td>NaN</td>\n      <td>0.0</td>\n      <td>48.821292</td>\n      <td>2.351425</td>\n    </tr>\n    <tr>\n      <th>195497</th>\n      <td>2018943</td>\n      <td>Arbre</td>\n      <td>Jardin</td>\n      <td>PARIS 13E ARRDT</td>\n      <td>NaN</td>\n      <td>NaN</td>\n      <td>PC13 - JARDIN DE LA RUE DE LA POTERNE DES PEUP...</td>\n      <td>105019</td>\n      <td>NaN</td>\n      <td>NaN</td>\n      <td>NaN</td>\n      <td>NaN</td>\n      <td>0</td>\n      <td>0</td>\n      <td>NaN</td>\n      <td>0.0</td>\n      <td>48.821260</td>\n      <td>2.351363</td>\n    </tr>\n    <tr>\n      <th>195499</th>\n      <td>2018945</td>\n      <td>Arbre</td>\n      <td>Jardin</td>\n      <td>PARIS 13E ARRDT</td>\n      <td>NaN</td>\n      <td>NaN</td>\n      <td>PC13 - JARDIN DE LA RUE DE LA POTERNE DES PEUP...</td>\n      <td>105022</td>\n      <td>NaN</td>\n      <td>NaN</td>\n      <td>NaN</td>\n      <td>NaN</td>\n      <td>0</td>\n      <td>0</td>\n      <td>NaN</td>\n      <td>0.0</td>\n      <td>48.821261</td>\n      <td>2.351296</td>\n    </tr>\n    <tr>\n      <th>195502</th>\n      <td>2018948</td>\n      <td>Arbre</td>\n      <td>Jardin</td>\n      <td>PARIS 13E ARRDT</td>\n      <td>NaN</td>\n      <td>NaN</td>\n      <td>PC13 - JARDIN DE LA RUE DE LA POTERNE DES PEUP...</td>\n      <td>105025</td>\n      <td>NaN</td>\n      <td>NaN</td>\n      <td>NaN</td>\n      <td>NaN</td>\n      <td>0</td>\n      <td>0</td>\n      <td>NaN</td>\n      <td>0.0</td>\n      <td>48.821283</td>\n      <td>2.351094</td>\n    </tr>\n    <tr>\n      <th>195503</th>\n      <td>2018949</td>\n      <td>Arbre</td>\n      <td>Jardin</td>\n      <td>PARIS 13E ARRDT</td>\n      <td>NaN</td>\n      <td>NaN</td>\n      <td>PC13 - JARDIN DE LA RUE DE LA POTERNE DES PEUP...</td>\n      <td>106001</td>\n      <td>NaN</td>\n      <td>NaN</td>\n      <td>NaN</td>\n      <td>NaN</td>\n      <td>0</td>\n      <td>0</td>\n      <td>NaN</td>\n      <td>0.0</td>\n      <td>48.821401</td>\n      <td>2.350885</td>\n    </tr>\n    <tr>\n      <th>195505</th>\n      <td>2018951</td>\n      <td>Arbre</td>\n      <td>Jardin</td>\n      <td>PARIS 13E ARRDT</td>\n      <td>NaN</td>\n      <td>NaN</td>\n      <td>PC13 - JARDIN DE LA RUE DE LA POTERNE DES PEUP...</td>\n      <td>106003</td>\n      <td>NaN</td>\n      <td>NaN</td>\n      <td>NaN</td>\n      <td>NaN</td>\n      <td>0</td>\n      <td>0</td>\n      <td>NaN</td>\n      <td>0.0</td>\n      <td>48.821404</td>\n      <td>2.351217</td>\n    </tr>\n    <tr>\n      <th>195509</th>\n      <td>2018955</td>\n      <td>Arbre</td>\n      <td>Jardin</td>\n      <td>PARIS 13E ARRDT</td>\n      <td>NaN</td>\n      <td>NaN</td>\n      <td>PC13 - JARDIN DE LA RUE DE LA POTERNE DES PEUP...</td>\n      <td>104009</td>\n      <td>NaN</td>\n      <td>NaN</td>\n      <td>NaN</td>\n      <td>NaN</td>\n      <td>0</td>\n      <td>0</td>\n      <td>NaN</td>\n      <td>0.0</td>\n      <td>48.821259</td>\n      <td>2.354079</td>\n    </tr>\n    <tr>\n      <th>195514</th>\n      <td>2018960</td>\n      <td>Arbre</td>\n      <td>Jardin</td>\n      <td>PARIS 13E ARRDT</td>\n      <td>NaN</td>\n      <td>NaN</td>\n      <td>PC13 - JARDIN DE LA RUE DE LA POTERNE DES PEUP...</td>\n      <td>104019</td>\n      <td>NaN</td>\n      <td>NaN</td>\n      <td>NaN</td>\n      <td>NaN</td>\n      <td>0</td>\n      <td>0</td>\n      <td>NaN</td>\n      <td>0.0</td>\n      <td>48.821310</td>\n      <td>2.353883</td>\n    </tr>\n    <tr>\n      <th>195518</th>\n      <td>2018964</td>\n      <td>Arbre</td>\n      <td>Jardin</td>\n      <td>PARIS 13E ARRDT</td>\n      <td>NaN</td>\n      <td>NaN</td>\n      <td>PC13 - JARDIN DE LA RUE DE LA POTERNE DES PEUP...</td>\n      <td>104023</td>\n      <td>NaN</td>\n      <td>NaN</td>\n      <td>NaN</td>\n      <td>NaN</td>\n      <td>0</td>\n      <td>0</td>\n      <td>NaN</td>\n      <td>0.0</td>\n      <td>48.821298</td>\n      <td>2.353718</td>\n    </tr>\n    <tr>\n      <th>195519</th>\n      <td>2018965</td>\n      <td>Arbre</td>\n      <td>Jardin</td>\n      <td>PARIS 13E ARRDT</td>\n      <td>NaN</td>\n      <td>NaN</td>\n      <td>PC13 - JARDIN DE LA RUE DE LA POTERNE DES PEUP...</td>\n      <td>104025</td>\n      <td>NaN</td>\n      <td>NaN</td>\n      <td>NaN</td>\n      <td>NaN</td>\n      <td>0</td>\n      <td>0</td>\n      <td>NaN</td>\n      <td>0.0</td>\n      <td>48.821305</td>\n      <td>2.353505</td>\n    </tr>\n  </tbody>\n</table>\n</div>"
     },
     "execution_count": 10,
     "metadata": {},
     "output_type": "execute_result"
    }
   ],
   "source": [
    "arbres_df[arbres_df.genre.isna()]"
   ]
  },
  {
   "cell_type": "markdown",
   "metadata": {
    "pycharm": {
     "name": "#%% md\n"
    }
   },
   "source": [
    "Comme ces données n’ont pas d'intérêt significatif dans notre jeu (représente 0.8% des valeurs et trop de colonne vide), il est préférable de les supprimer.\n",
    "Ceci étant, nous ne le feront pas sur notre csv ou notre Dataframe initial, sémantiquement déconseillé, on utilisera un ensemble de fonction 🐼 :\n",
    "+ `.where()`: la fonction [where](https://pandas.pydata.org/docs/reference/api/pandas.DataFrame.where.html?highlight=where#pandas.DataFrame.where), qui comme en Sql nous permet de remplacer les valeurs où la condition est False.\n",
    "+ `.copy()` : la fonction [copy](https://pandas.pydata.org/docs/reference/api/pandas.DataFrame.copy.html?highlight=copy#pandas.DataFrame.copy), qui crée avec une copie des données et des indices de l'objet appelant. Les modifications apportées aux données ou aux indices de la copie ne seront pas reflétées dans l'objet d'origine.\n",
    "+ `.dropna()` : la fonction[dropna](https://pandas.pydata.org/docs/reference/api/pandas.DataFrame.dropna.html?highlight=dropna#pandas.DataFrame.dropna), va être utilisé pour extraire les individus aux valeurs manquantes sur la colonne “genre” grâce au sous-ensemble et stocker ces derniers dans une variable.\n"
   ]
  },
  {
   "cell_type": "code",
   "execution_count": 11,
   "metadata": {
    "pycharm": {
     "name": "#%%\n"
    }
   },
   "outputs": [
    {
     "data": {
      "text/plain": "id                          0\ntype_emplacement            0\ndomanialite                 0\narrondissement              0\ncomplement_addresse    169219\nnumero                 200121\nlieu                        0\nid_emplacement              0\nlibelle_francais         1481\ngenre                       0\nespece                   1736\nvariete                163344\ncirconference_cm            0\nhauteur_m                   0\nstade_developpement     67189\nremarquable             63097\ngeo_point_2d_a              0\ngeo_point_2d_b              0\ndtype: int64"
     },
     "execution_count": 11,
     "metadata": {},
     "output_type": "execute_result"
    }
   ],
   "source": [
    "arbres_temp = arbres_df.copy()\n",
    "arbres_temp[arbres_temp.lieu==\"PC13 - JARDIN DE LA RUE DE LA POTERNE DES PEUPLIERS / 62 RUE DAMESME\"]\n",
    "arbres_genre_na = arbres_df.dropna(subset=['genre'])\n",
    "arbres_genre_na.isna().sum()"
   ]
  },
  {
   "cell_type": "markdown",
   "metadata": {},
   "source": [
    "## Recherche des valeurs dupliquées du Dataframe\n",
    "\n",
    "### Critère\n",
    "\n",
    "Dans notre Data frame chaque arbre se trouve qu’il soit géolocalisé, ce qui rend notre recherche de duplicata fortement aisée (et le `.describe()` nous indique aucunes valeurs manquantes), car il va de soi que le croisement de coordonnées de géolocalisation oblige en l'unicité de l”entité.\n",
    "La méthode sera de joindre les colonnes de localisation pour obtenir théoriquement un point coordonné et de vérifier ensuite les duplicants.\n",
    "+ `.join()` fonction [join](https://pandas.pydata.org/docs/reference/api/pandas.DataFrame.join.html?highlight=join#pandas.DataFrame.join) qui une fois encore une méthode qui comme sql permet de joindre les colonnes d'un autre DataFrame sur l'index ou sur une colonne clé. Joignez efficacement plusieurs objets DataFrame par index à la fois en passant une liste.\n",
    "+ `.duplicated()` fonction [duplicated](https://pandas.pydata.org/docs/reference/api/pandas.DataFrame.duplicated.html?highlight=duplicated#pandas.DataFrame.duplicated) qui renvoie une série booléenne indiquant les lignes en double.\n",
    "+ `.drop_duplicates()` fonction [drop_duplicates](https://pandas.pydata.org/docs/reference/api/pandas.Series.drop_duplicates.html#pandas.Series.drop_duplicates) qui renvoie la série avec les valeurs en double supprimées.\n",
    "Méthode pour gérer la suppression des doublons :\n",
    " + 'first' : Supprime les doublons sauf pour la première occurrence.\n",
    " + 'last' : supprime les doublons à l'exception de la dernière occurrence.\n",
    " + False : supprimez tous les doublons."
   ]
  },
  {
   "cell_type": "code",
   "execution_count": 12,
   "metadata": {
    "pycharm": {
     "name": "#%%\n"
    }
   },
   "outputs": [
    {
     "data": {
      "text/plain": "11"
     },
     "execution_count": 12,
     "metadata": {},
     "output_type": "execute_result"
    }
   ],
   "source": [
    "geo_a = pa.DataFrame(arbres_genre_na.geo_point_2d_a)\n",
    "geo_b = pa.DataFrame(arbres_genre_na.geo_point_2d_b)\n",
    "coordonnees = geo_a.join(geo_b)\n",
    "coordonnees_dupliquees = coordonnees.duplicated()\n",
    "coordonnees_dupliquees.sum()"
   ]
  },
  {
   "cell_type": "markdown",
   "metadata": {},
   "source": [
    "> *affichons nos valeurs dupliquées pour controler la veracité*"
   ]
  },
  {
   "cell_type": "code",
   "execution_count": 13,
   "metadata": {
    "pycharm": {
     "name": "#%%\n"
    }
   },
   "outputs": [
    {
     "data": {
      "text/plain": "             id type_emplacement   domanialite     arrondissement  \\\n10100    112287            Arbre        Jardin    PARIS 12E ARRDT   \n76385    195525            Arbre  PERIPHERIQUE    PARIS 19E ARRDT   \n76386    195526            Arbre  PERIPHERIQUE    PARIS 19E ARRDT   \n76387    195527            Arbre  PERIPHERIQUE    PARIS 19E ARRDT   \n185480  2006188            Arbre    Alignement  BOIS DE VINCENNES   \n188304  2010609            Arbre        Jardin  BOIS DE VINCENNES   \n189134  2011523            Arbre        Jardin  BOIS DE VINCENNES   \n193017  2015806            Arbre        Jardin  BOIS DE VINCENNES   \n193577  2016369            Arbre        Jardin  BOIS DE VINCENNES   \n193586  2016378            Arbre        Jardin  BOIS DE VINCENNES   \n193587  2016379            Arbre        Jardin  BOIS DE VINCENNES   \n\n       complement_addresse numero  \\\n10100                  NaN    NaN   \n76385                  NaN    NaN   \n76386                  NaN    NaN   \n76387                  NaN    NaN   \n185480                 NaN    NaN   \n188304                 NaN    NaN   \n189134                 NaN    NaN   \n193017                 NaN    NaN   \n193577                 NaN    NaN   \n193586                 NaN    NaN   \n193587                 NaN    NaN   \n\n                                               lieu id_emplacement  \\\n10100                        JARDIN PARTAGE BEL-AIR              6   \n76385                                    VOIE DF/19      09VO19001   \n76386                                    VOIE DF/19      09VO19002   \n76387                                    VOIE DF/19      09VO19003   \n185480                               ROUTE DAUPHINE         402030   \n188304  PARC FLORAL DE PARIS / ROUTE DE LA PYRAMIDE          20023   \n189134  PARC FLORAL DE PARIS / ROUTE DE LA PYRAMIDE         190042   \n193017  PARC FLORAL DE PARIS / ROUTE DE LA PYRAMIDE        3120005   \n193577  PARC FLORAL DE PARIS / ROUTE DE LA PYRAMIDE         210035   \n193586  PARC FLORAL DE PARIS / ROUTE DE LA PYRAMIDE          20128   \n193587  PARC FLORAL DE PARIS / ROUTE DE LA PYRAMIDE          20129   \n\n        libelle_francais      genre                   espece   variete  \\\n10100            Ailante  Ailanthus                altissima       NaN   \n76385           Peuplier    Populus                    nigra  Italica'   \n76386           Peuplier    Populus                    nigra  Italica'   \n76387           Peuplier    Populus                    nigra  Italica'   \n185480           Tilleul      Tilia             platyphyllos       NaN   \n188304           Platane   Platanus              x hispanica       NaN   \n189134          Peuplier    Populus                    nigra  Italica'   \n193017               Pin      Pinus                    nigra       NaN   \n193577  Pommier à fleurs      Malus                trilobata       NaN   \n193586             Cèdre     Cedrus  libani subsp. atlantica       NaN   \n193587             Cèdre     Cedrus  libani subsp. atlantica       NaN   \n\n        circonference_cm  hauteur_m stade_developpement remarquable  \\\n10100                  0          0                 NaN         NaN   \n76385                120         20                 NaN         NaN   \n76386                100         20                 NaN         NaN   \n76387                165         20                 NaN         NaN   \n185480                 0          0                 NaN         0.0   \n188304               190         24                   A         0.0   \n189134               100         22                   A         0.0   \n193017                 0          0                 NaN         0.0   \n193577                 0          0                 NaN         0.0   \n193586                 0          0                 NaN         0.0   \n193587                 0          0                 NaN         0.0   \n\n        geo_point_2d_a  geo_point_2d_b  \n10100        48.838318        2.406610  \n76385        48.900332        2.386441  \n76386        48.900290        2.386442  \n76387        48.900253        2.386444  \n185480       48.829912        2.439665  \n188304       48.839118        2.438810  \n189134       48.836416        2.446277  \n193017       48.839561        2.446210  \n193577       48.836862        2.446518  \n193586       48.838550        2.439268  \n193587       48.838539        2.439350  ",
      "text/html": "<div>\n<style scoped>\n    .dataframe tbody tr th:only-of-type {\n        vertical-align: middle;\n    }\n\n    .dataframe tbody tr th {\n        vertical-align: top;\n    }\n\n    .dataframe thead th {\n        text-align: right;\n    }\n</style>\n<table border=\"1\" class=\"dataframe\">\n  <thead>\n    <tr style=\"text-align: right;\">\n      <th></th>\n      <th>id</th>\n      <th>type_emplacement</th>\n      <th>domanialite</th>\n      <th>arrondissement</th>\n      <th>complement_addresse</th>\n      <th>numero</th>\n      <th>lieu</th>\n      <th>id_emplacement</th>\n      <th>libelle_francais</th>\n      <th>genre</th>\n      <th>espece</th>\n      <th>variete</th>\n      <th>circonference_cm</th>\n      <th>hauteur_m</th>\n      <th>stade_developpement</th>\n      <th>remarquable</th>\n      <th>geo_point_2d_a</th>\n      <th>geo_point_2d_b</th>\n    </tr>\n  </thead>\n  <tbody>\n    <tr>\n      <th>10100</th>\n      <td>112287</td>\n      <td>Arbre</td>\n      <td>Jardin</td>\n      <td>PARIS 12E ARRDT</td>\n      <td>NaN</td>\n      <td>NaN</td>\n      <td>JARDIN PARTAGE BEL-AIR</td>\n      <td>6</td>\n      <td>Ailante</td>\n      <td>Ailanthus</td>\n      <td>altissima</td>\n      <td>NaN</td>\n      <td>0</td>\n      <td>0</td>\n      <td>NaN</td>\n      <td>NaN</td>\n      <td>48.838318</td>\n      <td>2.406610</td>\n    </tr>\n    <tr>\n      <th>76385</th>\n      <td>195525</td>\n      <td>Arbre</td>\n      <td>PERIPHERIQUE</td>\n      <td>PARIS 19E ARRDT</td>\n      <td>NaN</td>\n      <td>NaN</td>\n      <td>VOIE DF/19</td>\n      <td>09VO19001</td>\n      <td>Peuplier</td>\n      <td>Populus</td>\n      <td>nigra</td>\n      <td>Italica'</td>\n      <td>120</td>\n      <td>20</td>\n      <td>NaN</td>\n      <td>NaN</td>\n      <td>48.900332</td>\n      <td>2.386441</td>\n    </tr>\n    <tr>\n      <th>76386</th>\n      <td>195526</td>\n      <td>Arbre</td>\n      <td>PERIPHERIQUE</td>\n      <td>PARIS 19E ARRDT</td>\n      <td>NaN</td>\n      <td>NaN</td>\n      <td>VOIE DF/19</td>\n      <td>09VO19002</td>\n      <td>Peuplier</td>\n      <td>Populus</td>\n      <td>nigra</td>\n      <td>Italica'</td>\n      <td>100</td>\n      <td>20</td>\n      <td>NaN</td>\n      <td>NaN</td>\n      <td>48.900290</td>\n      <td>2.386442</td>\n    </tr>\n    <tr>\n      <th>76387</th>\n      <td>195527</td>\n      <td>Arbre</td>\n      <td>PERIPHERIQUE</td>\n      <td>PARIS 19E ARRDT</td>\n      <td>NaN</td>\n      <td>NaN</td>\n      <td>VOIE DF/19</td>\n      <td>09VO19003</td>\n      <td>Peuplier</td>\n      <td>Populus</td>\n      <td>nigra</td>\n      <td>Italica'</td>\n      <td>165</td>\n      <td>20</td>\n      <td>NaN</td>\n      <td>NaN</td>\n      <td>48.900253</td>\n      <td>2.386444</td>\n    </tr>\n    <tr>\n      <th>185480</th>\n      <td>2006188</td>\n      <td>Arbre</td>\n      <td>Alignement</td>\n      <td>BOIS DE VINCENNES</td>\n      <td>NaN</td>\n      <td>NaN</td>\n      <td>ROUTE DAUPHINE</td>\n      <td>402030</td>\n      <td>Tilleul</td>\n      <td>Tilia</td>\n      <td>platyphyllos</td>\n      <td>NaN</td>\n      <td>0</td>\n      <td>0</td>\n      <td>NaN</td>\n      <td>0.0</td>\n      <td>48.829912</td>\n      <td>2.439665</td>\n    </tr>\n    <tr>\n      <th>188304</th>\n      <td>2010609</td>\n      <td>Arbre</td>\n      <td>Jardin</td>\n      <td>BOIS DE VINCENNES</td>\n      <td>NaN</td>\n      <td>NaN</td>\n      <td>PARC FLORAL DE PARIS / ROUTE DE LA PYRAMIDE</td>\n      <td>20023</td>\n      <td>Platane</td>\n      <td>Platanus</td>\n      <td>x hispanica</td>\n      <td>NaN</td>\n      <td>190</td>\n      <td>24</td>\n      <td>A</td>\n      <td>0.0</td>\n      <td>48.839118</td>\n      <td>2.438810</td>\n    </tr>\n    <tr>\n      <th>189134</th>\n      <td>2011523</td>\n      <td>Arbre</td>\n      <td>Jardin</td>\n      <td>BOIS DE VINCENNES</td>\n      <td>NaN</td>\n      <td>NaN</td>\n      <td>PARC FLORAL DE PARIS / ROUTE DE LA PYRAMIDE</td>\n      <td>190042</td>\n      <td>Peuplier</td>\n      <td>Populus</td>\n      <td>nigra</td>\n      <td>Italica'</td>\n      <td>100</td>\n      <td>22</td>\n      <td>A</td>\n      <td>0.0</td>\n      <td>48.836416</td>\n      <td>2.446277</td>\n    </tr>\n    <tr>\n      <th>193017</th>\n      <td>2015806</td>\n      <td>Arbre</td>\n      <td>Jardin</td>\n      <td>BOIS DE VINCENNES</td>\n      <td>NaN</td>\n      <td>NaN</td>\n      <td>PARC FLORAL DE PARIS / ROUTE DE LA PYRAMIDE</td>\n      <td>3120005</td>\n      <td>Pin</td>\n      <td>Pinus</td>\n      <td>nigra</td>\n      <td>NaN</td>\n      <td>0</td>\n      <td>0</td>\n      <td>NaN</td>\n      <td>0.0</td>\n      <td>48.839561</td>\n      <td>2.446210</td>\n    </tr>\n    <tr>\n      <th>193577</th>\n      <td>2016369</td>\n      <td>Arbre</td>\n      <td>Jardin</td>\n      <td>BOIS DE VINCENNES</td>\n      <td>NaN</td>\n      <td>NaN</td>\n      <td>PARC FLORAL DE PARIS / ROUTE DE LA PYRAMIDE</td>\n      <td>210035</td>\n      <td>Pommier à fleurs</td>\n      <td>Malus</td>\n      <td>trilobata</td>\n      <td>NaN</td>\n      <td>0</td>\n      <td>0</td>\n      <td>NaN</td>\n      <td>0.0</td>\n      <td>48.836862</td>\n      <td>2.446518</td>\n    </tr>\n    <tr>\n      <th>193586</th>\n      <td>2016378</td>\n      <td>Arbre</td>\n      <td>Jardin</td>\n      <td>BOIS DE VINCENNES</td>\n      <td>NaN</td>\n      <td>NaN</td>\n      <td>PARC FLORAL DE PARIS / ROUTE DE LA PYRAMIDE</td>\n      <td>20128</td>\n      <td>Cèdre</td>\n      <td>Cedrus</td>\n      <td>libani subsp. atlantica</td>\n      <td>NaN</td>\n      <td>0</td>\n      <td>0</td>\n      <td>NaN</td>\n      <td>0.0</td>\n      <td>48.838550</td>\n      <td>2.439268</td>\n    </tr>\n    <tr>\n      <th>193587</th>\n      <td>2016379</td>\n      <td>Arbre</td>\n      <td>Jardin</td>\n      <td>BOIS DE VINCENNES</td>\n      <td>NaN</td>\n      <td>NaN</td>\n      <td>PARC FLORAL DE PARIS / ROUTE DE LA PYRAMIDE</td>\n      <td>20129</td>\n      <td>Cèdre</td>\n      <td>Cedrus</td>\n      <td>libani subsp. atlantica</td>\n      <td>NaN</td>\n      <td>0</td>\n      <td>0</td>\n      <td>NaN</td>\n      <td>0.0</td>\n      <td>48.838539</td>\n      <td>2.439350</td>\n    </tr>\n  </tbody>\n</table>\n</div>"
     },
     "execution_count": 13,
     "metadata": {},
     "output_type": "execute_result"
    }
   ],
   "source": [
    "arbres_genre_na[coordonnees_dupliquees]"
   ]
  },
  {
   "cell_type": "markdown",
   "metadata": {
    "pycharm": {
     "name": "#%% md\n"
    }
   },
   "source": [
    "> *procédons au nettoyage de notre dataframe*"
   ]
  },
  {
   "cell_type": "code",
   "execution_count": 14,
   "metadata": {
    "pycharm": {
     "name": "#%%\n"
    }
   },
   "outputs": [
    {
     "data": {
      "text/plain": "                 id  circonference_cm      hauteur_m  geo_point_2d_a  \\\ncount  2.001110e+05     200111.000000  200111.000000   200111.000000   \nmean   3.870290e+05         83.386690      13.111593       48.854493   \nstd    5.453698e+05        673.233353    1971.345437        0.030234   \nmin    9.987400e+04          0.000000       0.000000       48.742290   \n25%    1.559245e+05         30.000000       5.000000       48.835023   \n50%    2.210690e+05         70.000000       8.000000       48.854166   \n75%    2.740855e+05        115.000000      12.000000       48.876450   \nmax    2.024745e+06     250255.000000  881818.000000       48.911485   \n\n       geo_point_2d_b  \ncount   200111.000000  \nmean         2.348203  \nstd          0.051220  \nmin          2.210241  \n25%          2.307525  \n50%          2.351087  \n75%          2.386832  \nmax          2.469759  ",
      "text/html": "<div>\n<style scoped>\n    .dataframe tbody tr th:only-of-type {\n        vertical-align: middle;\n    }\n\n    .dataframe tbody tr th {\n        vertical-align: top;\n    }\n\n    .dataframe thead th {\n        text-align: right;\n    }\n</style>\n<table border=\"1\" class=\"dataframe\">\n  <thead>\n    <tr style=\"text-align: right;\">\n      <th></th>\n      <th>id</th>\n      <th>circonference_cm</th>\n      <th>hauteur_m</th>\n      <th>geo_point_2d_a</th>\n      <th>geo_point_2d_b</th>\n    </tr>\n  </thead>\n  <tbody>\n    <tr>\n      <th>count</th>\n      <td>2.001110e+05</td>\n      <td>200111.000000</td>\n      <td>200111.000000</td>\n      <td>200111.000000</td>\n      <td>200111.000000</td>\n    </tr>\n    <tr>\n      <th>mean</th>\n      <td>3.870290e+05</td>\n      <td>83.386690</td>\n      <td>13.111593</td>\n      <td>48.854493</td>\n      <td>2.348203</td>\n    </tr>\n    <tr>\n      <th>std</th>\n      <td>5.453698e+05</td>\n      <td>673.233353</td>\n      <td>1971.345437</td>\n      <td>0.030234</td>\n      <td>0.051220</td>\n    </tr>\n    <tr>\n      <th>min</th>\n      <td>9.987400e+04</td>\n      <td>0.000000</td>\n      <td>0.000000</td>\n      <td>48.742290</td>\n      <td>2.210241</td>\n    </tr>\n    <tr>\n      <th>25%</th>\n      <td>1.559245e+05</td>\n      <td>30.000000</td>\n      <td>5.000000</td>\n      <td>48.835023</td>\n      <td>2.307525</td>\n    </tr>\n    <tr>\n      <th>50%</th>\n      <td>2.210690e+05</td>\n      <td>70.000000</td>\n      <td>8.000000</td>\n      <td>48.854166</td>\n      <td>2.351087</td>\n    </tr>\n    <tr>\n      <th>75%</th>\n      <td>2.740855e+05</td>\n      <td>115.000000</td>\n      <td>12.000000</td>\n      <td>48.876450</td>\n      <td>2.386832</td>\n    </tr>\n    <tr>\n      <th>max</th>\n      <td>2.024745e+06</td>\n      <td>250255.000000</td>\n      <td>881818.000000</td>\n      <td>48.911485</td>\n      <td>2.469759</td>\n    </tr>\n  </tbody>\n</table>\n</div>"
     },
     "execution_count": 14,
     "metadata": {},
     "output_type": "execute_result"
    }
   ],
   "source": [
    "arbres_clean = arbres_genre_na.drop_duplicates(subset=['geo_point_2d_a','geo_point_2d_b'],keep='last').copy()\n",
    "arbres_clean.describe()"
   ]
  },
  {
   "cell_type": "code",
   "execution_count": 15,
   "outputs": [
    {
     "data": {
      "text/plain": "Index(['id', 'type_emplacement', 'domanialite', 'arrondissement',\n       'complement_addresse', 'numero', 'lieu', 'id_emplacement',\n       'libelle_francais', 'genre', 'espece', 'variete', 'circonference_cm',\n       'hauteur_m', 'stade_developpement', 'remarquable', 'geo_point_2d_a',\n       'geo_point_2d_b'],\n      dtype='object')"
     },
     "execution_count": 15,
     "metadata": {},
     "output_type": "execute_result"
    }
   ],
   "source": [
    "arbres_clean.columns"
   ],
   "metadata": {
    "collapsed": false,
    "pycharm": {
     "name": "#%%\n"
    }
   }
  },
  {
   "cell_type": "code",
   "execution_count": 16,
   "outputs": [
    {
     "data": {
      "text/plain": "id                     200111\ntype_emplacement       200111\ndomanialite            200111\narrondissement         200111\ncomplement_addresse     30903\nnumero                      1\nlieu                   200111\nid_emplacement         200111\nlibelle_francais       198630\ngenre                  200111\nespece                 198375\nvariete                 36777\ncirconference_cm       200111\nhauteur_m              200111\nstade_developpement    132929\nremarquable            137018\ngeo_point_2d_a         200111\ngeo_point_2d_b         200111\ndtype: int64"
     },
     "execution_count": 16,
     "metadata": {},
     "output_type": "execute_result"
    }
   ],
   "source": [
    "arbres_clean.count()"
   ],
   "metadata": {
    "collapsed": false,
    "pycharm": {
     "name": "#%%\n"
    }
   }
  },
  {
   "cell_type": "code",
   "execution_count": 17,
   "outputs": [],
   "source": [
    "def describe_columns(key_name):\n",
    "    column_name_counts = arbres_clean[key_name].value_counts()\n",
    "    for key,value in column_name_counts.iteritems():\n",
    "        subset = arbres_clean[arbres_clean[key_name] == key].drop(['id'],axis=1)\n",
    "        print(\"-\"*20)\n",
    "        print(f\"{column_name_counts.name} : {key}\")\n",
    "        print(subset.describe())\n",
    "        subset.hist()\n",
    "        plt.show()\n",
    "        subset.boxplot(vert=False)\n",
    "        plt.show()"
   ],
   "metadata": {
    "collapsed": false,
    "pycharm": {
     "name": "#%%\n"
    }
   }
  },
  {
   "cell_type": "code",
   "execution_count": 18,
   "outputs": [],
   "source": [
    "def count_by_columns():\n",
    "    for key,value in arbres_clean.iteritems():\n",
    "        print(\"*\"*20)\n",
    "        print(value.describe())\n",
    "        print(f\"liste de valeur(s) unique : {value.unique()}\")"
   ],
   "metadata": {
    "collapsed": false,
    "pycharm": {
     "name": "#%%\n"
    }
   }
  },
  {
   "cell_type": "code",
   "execution_count": 19,
   "outputs": [
    {
     "name": "stdout",
     "output_type": "stream",
     "text": [
      "********************\n",
      "count    2.001110e+05\n",
      "mean     3.870290e+05\n",
      "std      5.453698e+05\n",
      "min      9.987400e+04\n",
      "25%      1.559245e+05\n",
      "50%      2.210690e+05\n",
      "75%      2.740855e+05\n",
      "max      2.024745e+06\n",
      "Name: id, dtype: float64\n",
      "liste de valeur(s) unique : [  99874   99875   99876 ... 2024743 2024744 2024745]\n",
      "********************\n",
      "count     200111\n",
      "unique         1\n",
      "top        Arbre\n",
      "freq      200111\n",
      "Name: type_emplacement, dtype: object\n",
      "liste de valeur(s) unique : ['Arbre']\n",
      "********************\n",
      "count         200111\n",
      "unique             9\n",
      "top       Alignement\n",
      "freq          104948\n",
      "Name: domanialite, dtype: object\n",
      "liste de valeur(s) unique : ['Jardin' 'Alignement' 'DJS' 'DFPE' 'CIMETIERE' 'DASCO' 'DAC'\n",
      " 'PERIPHERIQUE' 'DASES']\n",
      "********************\n",
      "count              200111\n",
      "unique                 25\n",
      "top       PARIS 15E ARRDT\n",
      "freq                17151\n",
      "Name: arrondissement, dtype: object\n",
      "liste de valeur(s) unique : ['PARIS 7E ARRDT' 'PARIS 17E ARRDT' 'PARIS 16E ARRDT' 'PARIS 4E ARRDT'\n",
      " 'PARIS 13E ARRDT' 'PARIS 12E ARRDT' 'PARIS 19E ARRDT' 'PARIS 14E ARRDT'\n",
      " 'PARIS 15E ARRDT' 'PARIS 3E ARRDT' 'PARIS 20E ARRDT' 'PARIS 18E ARRDT'\n",
      " 'PARIS 6E ARRDT' 'PARIS 11E ARRDT' 'PARIS 1ER ARRDT' 'PARIS 2E ARRDT'\n",
      " 'PARIS 5E ARRDT' 'VAL-DE-MARNE' 'SEINE-SAINT-DENIS' 'HAUTS-DE-SEINE'\n",
      " 'PARIS 9E ARRDT' 'PARIS 10E ARRDT' 'PARIS 8E ARRDT' 'BOIS DE BOULOGNE'\n",
      " 'BOIS DE VINCENNES']\n",
      "********************\n",
      "count     30903\n",
      "unique     3796\n",
      "top         SN°\n",
      "freq        557\n",
      "Name: complement_addresse, dtype: object\n",
      "liste de valeur(s) unique : ['Jardin' nan 'c 12' ... 'au n.14' 'F2bis' '40face']\n",
      "********************\n",
      "count          1\n",
      "unique         1\n",
      "top       Jardin\n",
      "freq           1\n",
      "Name: numero, dtype: object\n",
      "liste de valeur(s) unique : ['Jardin' nan]\n",
      "********************\n",
      "count                                          200111\n",
      "unique                                           6921\n",
      "top       PARC FLORAL DE PARIS / ROUTE DE LA PYRAMIDE\n",
      "freq                                             2989\n",
      "Name: lieu, dtype: object\n",
      "liste de valeur(s) unique : ['MAIRIE DU 7E 116 RUE DE GRENELLE PARIS 7E'\n",
      " 'PARC CLICHY-BATIGNOLLES-MARTIN LUTHER KING'\n",
      " 'SQUARE ALEXANDRE ET RENE PARODI / 1 PLACE DE LA PORTE MAILLOT' ...\n",
      " 'TERRAIN D EDUCATION PHYSIQUE / 49 RUE OLIVIER METRA' 'RUE EDOUARD QUENU'\n",
      " 'RUE DU GENERAL NIESSEL']\n",
      "********************\n",
      "count     200111\n",
      "unique     69039\n",
      "top       101001\n",
      "freq        1324\n",
      "Name: id_emplacement, dtype: object\n",
      "liste de valeur(s) unique : ['19' '20' '21' ... '720170153' '720170154' '720170155']\n",
      "********************\n",
      "count      198630\n",
      "unique        193\n",
      "top       Platane\n",
      "freq        42507\n",
      "Name: libelle_francais, dtype: object\n",
      "liste de valeur(s) unique : ['Marronnier' 'If' 'Erable' 'Arbre à miel' 'Platane' 'Sophora'\n",
      " 'Prunus n. sp.' 'Hêtre' 'Micocoulier' 'Tilleul' 'Chêne' 'Savonnier'\n",
      " 'Copalme' 'Noyer' 'Arbre à caramel' 'Troene' 'Tulipier' 'Pin' 'Sapin'\n",
      " 'Cerisier à fleurs' 'Charme-Houblon' 'Cèdre' 'Paulownia' 'Thuya'\n",
      " 'Pommier à fleurs' 'Poirier' 'Pommier' 'Bouleau' 'Orme' 'Arbre de Judée'\n",
      " 'Robinier' 'Frêne' 'Aubépine' 'Fevier' 'Prunier à fleurs'\n",
      " 'Arbre aux quarante écus' 'Néflier commun' 'Saule' 'Magnolia'\n",
      " 'Prunier à fruits' 'Poirier à fleurs' 'Peuplier' 'Faux-cyprès' 'Aubepine'\n",
      " 'Jardin' 'Plaqueminier' 'Mûrier' 'Pêcher' 'Pterocarya' 'Merisier'\n",
      " 'Noisetier de Byzance' 'Alisier' 'Cognassier'\n",
      " 'Parrotie de Perse - Arbre de fer' 'Poirier à fruits' 'Orme de Sibérie'\n",
      " 'Frêne à fleurs' 'Aulne' 'Troëne' nan 'Fontanesia' 'Cornouiller'\n",
      " 'Cedrele' 'Catalpa' 'Houx' 'Buis' 'Metaséquoia' 'Chicot du Canada'\n",
      " 'Oranger des Osages' 'Céphalotaxe' 'Sumac' 'Châtaignier' 'Ailante'\n",
      " 'Sequoia' 'Lilas des indes' 'Pterostyrax' 'Eucalyptus' 'Olivier'\n",
      " 'Figuier' 'Charme' 'Sureau' 'Epicéa' 'Sorbier' 'Amélanchier' 'Cytise'\n",
      " 'Filaire' 'Angélique' 'Virgilier' 'Phellodendron' 'Eleagnus - Chalef'\n",
      " 'Pommier à fruits' 'Cabrillet' 'Citronnier' 'Arbre à soie'\n",
      " 'Lilas de Perse' 'Laurier-Cerise' 'Laurier du Portugal' 'Nothofagus'\n",
      " 'Cyprès' 'Noisetier' 'Palmier' 'Muscadier' 'Libocèdre' 'Abelia'\n",
      " 'Photinia' 'Clerodendron' 'Arbre aux mouchoirs' 'Sterculier' 'Poivrier'\n",
      " 'Cyprès Chauve' 'Arbre à Gutta-Percha' 'Nyssa' 'Cotoneaster'\n",
      " 'Olivier odorant' 'Non spécifié' 'Laurier sauce' 'Arbousier' 'Araucaria'\n",
      " 'Cryptomeria' 'Cerisier à grappes' 'Cunninghamia' 'Hiba' 'Chèvrefeuille'\n",
      " 'Raisinier' 'Chitalpa' 'Néflier' 'Pistachier' 'Laburnum de Adam'\n",
      " 'Tapiscia' 'Mélèze' 'Caryer' 'Parrotie de Perse' 'Distylium' 'Tamaris'\n",
      " 'Orme de Samarie' 'Arbre à perruque' 'Chimonanthe' 'Mimosa' 'Cordyline'\n",
      " 'Faux dattier' 'Althéa' 'Cerisier à fruits' 'Amandier' 'Tsuga'\n",
      " 'Stewartia' 'Argousier' 'Papayer' 'Styrax' 'Laurier des Iroquois'\n",
      " 'Laurier' 'Genévrier' 'Heptacodion de Chine' 'Grenadier' 'Sapin Douglas'\n",
      " 'Rhododendron' 'Viorne' 'Cormier' 'Prunellier' 'Poliothyrsis' 'Caragana'\n",
      " 'Asiminier' 'Platycarya' 'Amla' 'Alangium' 'Euscaphis' 'Andromède'\n",
      " 'Sycopsis' 'Camphrier' 'Jujubier' 'Maackie' 'Staphylier' 'Seringas'\n",
      " 'Lilas' 'Fusain' 'Fremontia' 'Nerprun' 'Callistemon' 'Aronie'\n",
      " 'Myrte du Chili' 'Goyavier' 'Genêt' 'Laurier du caucase'\n",
      " 'Prunus Fleur n. sp.' 'Abricotier' 'Prunus Fruit n. sp.'\n",
      " \"Fustet d' Amérique\" 'Idesia' 'Laurier des Açores' 'Kalopanax'\n",
      " 'Ormeau épineux' 'Ostryer' 'Xanthoceras' 'Parrotiopsis' 'Garrya']\n",
      "********************\n",
      "count       200111\n",
      "unique         176\n",
      "top       Platanus\n",
      "freq         42590\n",
      "Name: genre, dtype: object\n",
      "liste de valeur(s) unique : ['Aesculus' 'Taxus' 'Acer' 'Tetradium' 'Platanus' 'Sophora' 'Prunus'\n",
      " 'Fagus' 'Celtis' 'Tilia' 'Quercus' 'Koelreuteria' 'Liquidambar' 'Juglans'\n",
      " 'Cercidiphyllum' 'Ligustrum' 'Liriodendron' 'Pinus' 'Abies' 'Ostrya'\n",
      " 'Cedrus' 'Paulownia' 'Thuja' 'Malus' 'Pyrus' 'Betula' 'Ulmus' 'Cercis'\n",
      " 'Robinia' 'Fraxinus' 'Crataegus' 'Gleditsia' 'Ginkgo' 'Mespilus' 'Salix'\n",
      " 'Magnolia' 'Populus' 'Chamaecyparis' 'Diospyros' 'Morus' 'Pterocarya'\n",
      " 'Corylus' 'Sorbus' 'Cydonia' 'Parrotia' 'Zelkova' 'Alnus' 'Cladrastis'\n",
      " 'Fontanesia' 'Cornus' 'Toona' 'Catalpa' 'Ilex' 'Buxus' 'Metasequoia'\n",
      " 'Gymnocladus' 'Maclura' 'Cephalotaxus' 'Rhus' 'Castanea' 'Ailanthus'\n",
      " 'Broussonetia' 'Sequoiadendron' 'Lagerstroemia' 'Pterostyrax'\n",
      " 'Eucalyptus' 'Olea' 'Ficus' 'Carpinus' 'Sambucus' 'Picea' 'Amelanchier'\n",
      " 'Laburnum' 'Phillyrea' 'Sequoia' 'Aralia' 'Phellodendron' 'Elaeagnus'\n",
      " 'Ehretia' 'Poncirus' 'Albizia' 'Melia' 'Nothofagus' 'Cupressus'\n",
      " 'Trachycarpus' 'Platycladus' 'Torreya' 'Calocedrus' 'Abelia' 'Staphylea'\n",
      " 'Photinia' 'Clerodendrum' 'Davidia' 'Firmiana' 'Zanthoxylum' 'Taxodium'\n",
      " 'Eucommia' 'Nyssa' 'Cotoneaster' 'Osmanthus' 'x Cupressocyparis'\n",
      " 'Non spécifié' 'Laurus' 'Arbutus' 'Araucaria' 'Cryptomeria'\n",
      " 'Cunninghamia' 'Thujopsis' 'Lonicera' 'Hovenia' 'x Chitalpa' 'Eriobotrya'\n",
      " 'Pistacia' 'Laburnocytisus' 'Tapiscia' 'Larix' 'Carya' 'Distylium'\n",
      " 'Tamarix' 'Ptelea' 'Cotinus' 'Chimonanthus' 'Acacia' 'Washingtonia'\n",
      " 'Brahea' 'Cordyline' 'Phoenix' 'Hibiscus' 'Tsuga' 'Stewartia'\n",
      " 'Paraserianthes' 'Hippophae' 'Carica' 'Styrax' 'Sassafras' 'Juniperus'\n",
      " 'Heptacodium' 'Punica' 'Pseudotsuga' 'Rhododendron' 'Viburnum'\n",
      " 'Poliothyrsis' 'Caragana' 'Asimina' 'Platycarya' 'Phyllanthus' 'Alangium'\n",
      " 'Euscaphis' 'Enkianthus' 'Sycopsis' 'Cinnamomum' 'Ziziphus' 'Maackia'\n",
      " 'Philadelphus' 'Syringa' 'Euonymus' 'Acca' 'Fremontodendron' 'Rhamnus'\n",
      " 'Callistemon' 'Aronia' 'Luma' 'Genista' 'Brachychiton' 'Idesia'\n",
      " 'Kalopanax' 'Jardin' 'Hemiptelea' 'x Sorbopyrus' 'Xanthoceras'\n",
      " 'Sciadopitys' 'Parrotiopsis' 'Podocarpus' 'Chionanthus' 'Garrya'\n",
      " 'Crataegomespilus']\n",
      "********************\n",
      "count          198375\n",
      "unique            540\n",
      "top       x hispanica\n",
      "freq            36408\n",
      "Name: espece, dtype: object\n",
      "liste de valeur(s) unique : ['hippocastanum' 'baccata' 'negundo' 'daniellii' 'x hispanica' 'japonica'\n",
      " 'n. sp.' 'sylvatica' 'occidentalis' 'tomentosa' 'robur' 'paniculata'\n",
      " 'rufinerve' 'styraciflua' 'nigra' 'japonicum' 'lucidum' 'tulipifera'\n",
      " 'concolor' 'saccharinum' 'x europaea' 'platyphyllos' 'platanoides'\n",
      " 'serrulata' 'carpinifolia' 'libani' 'wallichiana' 'floribunda' 'pendula'\n",
      " 'siliquastrum' 'pseudoacacia' 'excelsior' 'laevigata' 'pseudoplatanus'\n",
      " 'triacanthos' 'cerasifera' 'campestre' 'biloba' 'buergerianum'\n",
      " 'germanica' 'cerris' 'regia' 'sylvestris' 'rubra' 'nigra subsp. nigra'\n",
      " 'alba' 'tataricum subsp. ginnala' 'domestica' 'calleryana' 'cappadocicum'\n",
      " 'x carnea' 'lawsoniana' 'x turneri' 'utilis' 'maackii' 'kaki' 'cordata'\n",
      " 'persica' 'fraxinifolia' 'frainetto' 'avium' 'x soulangeana' 'colurna'\n",
      " 'torminalis' 'petraea' 'ilex' 'oblonga' 'davidii' 'communis'\n",
      " 'monspessulanum' 'papyrifera' 'kobus' 'suber' 'phellos' 'canariensis'\n",
      " 'ornus' 'glutinosa' 'castaneifolia' 'babylonica' 'capillipes' 'minor'\n",
      " 'x media' 'henryana' 'phillyreoides' 'opalus' 'mas' 'sinensis'\n",
      " 'bignonioides' 'triacanthos f. Inermis' 'australis' 'aquifolium'\n",
      " 'grandiflora' 'sempervirens' 'incana' 'babylonica var. pekinensis'\n",
      " 'sargentii' 'macrophyllum' 'Jardin' 'glyptostroboides' 'deodara' 'dioica'\n",
      " 'pomifera' 'harringtonii' 'typhina' 'sativa' 'x subhirtella'\n",
      " 'heldreichii' 'giraldii' 'giganteum' 'indica' 'aria' 'hispida' 'caprea'\n",
      " 'mongolica' 'gunnii' 'europaea' 'monogyna' 'carica' 'betulus' nan\n",
      " 'pungens f. Glauca' 'x arnoldiana' 'x loebneri' 'lamarckii' 'controversa'\n",
      " 'salicifolia' 'anagyroides' 'latifolia' 'americana' 'spectabilis'\n",
      " 'spinosa' 'kousa' 'deltoides' 'amurense' 'angustifolia' 'pumila'\n",
      " 'altissima' 'dicksonii' 'aucuparia' 'lotus' 'trifoliata' 'julibrissin'\n",
      " 'azedarach' 'laurocerasus' 'mahaleb' 'kentukea' 'rubrum' 'lusitanica'\n",
      " 'trilobata' 'obliqua' 'abies' 'palmatum' 'pauciflora' 'plicata'\n",
      " 'arizonica' 'avellana' 'fortunei' 'pinsapo' 'orientalis' 'griseum'\n",
      " 'pungens' 'strobus' 'simonii' 'decurrens' 'x spaethii' 'triflorum'\n",
      " 'triflora' 'lasiocarpa' 'colchica' 'florida' 'x fraseri' 'tremula'\n",
      " 'trichotomum' 'libani subsp. atlantica' 'serrata' 'nigra subsp. laricio'\n",
      " 'imbricaria' 'nootkatensis' 'virginiana' 'dentata' 'stenoptera'\n",
      " 'xerubescens' 'involucrata' 'simplex' 'californica' 'simulans'\n",
      " 'distichum' 'ulmoides' 'rosmarinifolia' 'intermedia' 'x burkwoodii'\n",
      " 'leylandii' 'bungeana' 'incisa' 'nobilis' 'araucana' 'pensylvanicum'\n",
      " 'padus' 'x watereri' 'albosinensis' 'macrocarpa' 'flava' 'lanceolata'\n",
      " 'breweriana' 'Fruit n. sp.' 'toringoides' 'denudata' 'dolabrata'\n",
      " 'coccinea' 'dulcis' 'tashkentensis' 'involucrata var. vilmoriniana'\n",
      " 'engelmannii' 'x canadensis' 'variabilis' 'macranthera' 'ermanii'\n",
      " 'nivalis' 'sanguinea' 'x lavalleei' 'x purpurea' 'glabra' 'omorika'\n",
      " 'mariana' 'seguinii' 'funebris' 'numidica' 'crus-galli' 'macrophylla'\n",
      " 'speciosa' 'terebinthus' 'adamii' 'x altaclerensis' 'fargesii' 'pavia'\n",
      " 'acalycina' 'acuminata' 'sinensis Oliv.' 'decidua' 'pinaster'\n",
      " 'transitoria' 'acutissima' 'balearica' 'x rehderiana' 'ovata' 'pictum'\n",
      " 'koraiensis' 'racemosum' 'ramosissima' 'x margaretta' 'pennsylvanica'\n",
      " 'tschonoskii' 'heterophyllus' 'x berolinensis' 'coggygria'\n",
      " 'carpinifolium' 'pubescens' 'praecox' 'tetrandra' 'ioensis' 'stellata'\n",
      " 'arborea' 'ovalifolium' 'dealbata' 'prunifolia' 'parviflora'\n",
      " 'microphylla' 'aucuparia var. edulis' 'pinea' 'chinensis' 'nordmanniana'\n",
      " 'bracteata' 'toringo' 'x atrosanguinea' 'robusta' 'armata' 'wagnerianus'\n",
      " 'chinense' 'laevis' 'x yedoensis' 'canadensis' 'syriacus'\n",
      " 'phillyreoides subsp. fortunei' 'x zoeschense' 'heterophylla' 'kaempferi'\n",
      " 'mandshurica' 'cembra' 'banksiana' 'pyrenaica' 'rysophylla'\n",
      " 'pseudocamellia' 'x schmittii' 'x robusta' 'lenta' 'lophantha'\n",
      " 'populifolia' 'unedo' 'coccifera' 'rhamnoides' 'elata' 'papaya'\n",
      " 'x blireana' 'x zumi' 'officinalis' 'japonicus' 'x rosacea'\n",
      " 'x brooklynensis' 'palustris' 'antarctica var. uliginosa' 'albidum'\n",
      " 'viminalis' 'aurita' 'miconioides' 'purpurea' 'glandulosa' 'granatum'\n",
      " 'trichotomum var. fargesii' 'baccata f. Aurea' 'x thuringiaca' 'jeffreyi'\n",
      " 'alleghaniensis' 'menziesii' 'sieboldii' 'arboreum' 'radiata' 'europea'\n",
      " 'davidiana' 'serrula' 'x Sepulcralis' 'exigua' 'x pendulina' 'tripetala'\n",
      " 'halepensis' 'pisifera' 'pendula var. pendula' 'tinus' 'maximowicziana'\n",
      " 'udensis' 'saccharum' 'maxima' 'mugo' 'freemanii' 'cinerea' 'x canescens'\n",
      " 'fruticosa' 'pekinensis' 'triloba' 'pontica' 'scalaris' 'vilmorinii'\n",
      " 'viscosa' 'quadrangulata' 'umbellata' 'kousa var. chinensis' 'x durettii'\n",
      " 'bicolor' 'suber subsp. Occidentalis' 'augustinii' 'strobilacea'\n",
      " 'yunnanensis' 'glaucus' 'hemsleyanus' 'platanifolium' 'davurica'\n",
      " 'medwediewii' 'turczaninowii' 'henryi' 'x coriaceum' 'camphora' 'jujuba'\n",
      " 'copallina' 'amurensis' 'odoratissimum' 'coronarius'\n",
      " 'nigra subsp. salzmannii' 'humilis' 'antarctica' 'decora' 'x hollandica'\n",
      " 'monogyna var. monogyna' 'europaeus' 'sellowiana' 'vulgaris'\n",
      " 'californicum' 'alaternus' 'chequen' 'x chinensis' 'x ambigua'\n",
      " 'marilandica' 'Fleur n. sp.' 'sinense' 'armeniaca' 'bungei'\n",
      " 'glabra Huds.' 'minor var. vulgaris' 'obovatus' 'vulgare' 'x flavescens'\n",
      " 'illinoinensis' 'pyrifolia' 'x hillieri' 'dasystyla' 'x macrantha'\n",
      " 'acerifolius' 'horizontalis' 'formosana' 'polycarpa' 'x mutabilis'\n",
      " 'x gondouinii' 'lusitanica subsp.azorica' 'dasystyla subsp. caucasica'\n",
      " 'labilis' 'coulteri' 'faginea' 'grandis' 'piperitum' 'obtusa' 'kiusiana'\n",
      " 'oliveri' 'x libanerris' 'trojana' 'septemlobus' 'oliverianum' 'rufa'\n",
      " 'sieboldianum' 'liliiflora' 'sabiniana' 'hypoleuca' 'circinatum'\n",
      " 'sprengeri' 'x proctoriana' 'maximowiczianum' 'corymbosa' 'jessoensis'\n",
      " 'baccata var. mandshurica' 'sinica' 'potaninii' 'serotina'\n",
      " 'persica var.nucipersica' 'tricuspidata' 'biondii'\n",
      " 'occidentalis var. reticulata' 'diabolicum' 'turbinata' 'hyrcanum'\n",
      " 'x conspicuum' 'major' 'hirsuta' 'x colurnoides' 'x erubescens'\n",
      " 'tenuifolia' 'vestita' 'hybrida' 'acerifolia' 'bipinnata' 'americanum'\n",
      " 'duclouxii' 'velutina' 'x flaccida' 'sorbifolium' 'pardei' 'cilicica'\n",
      " 'koreana' 'nebrodensis' 'verticillata' 'cissifolium' 'wilsonii'\n",
      " 'jacquemontiana' 'cathayana' 'rigida' 'densiflora' 'ponderosa'\n",
      " 'monophylla' 'x ebbingei' 'vilmoriniana' 'cathartica' 'viridis'\n",
      " 'chrysocarpa var. phoenicea' 'x lettermanii' 'x sorbifolia'\n",
      " 'x persimilis' 'tournefortii' 'contorta var. latifolia' 'acutifolia'\n",
      " 'procera' 'ailantifolia' 'microcarpa' 'macrophyllus' 'sabina' 'gemmata'\n",
      " 'recurvata' 'cephalonica' 'homolepis' 'smithiana' 'koyamai' 'glauca'\n",
      " 'obovata' 'glehnii' 'likiangensis' 'sitchensis' 'asperata' 'schrenkiana'\n",
      " 'biltmoreana' 'retusus' 'rhytidophyllum' 'elliptica' 'brevifolia'\n",
      " 'miqueliana' 'x marschlinsii' 'verniciflua' 'myrtilloides' 'fragilis'\n",
      " 'x bixbyi' 'cordiformis' 'trichocarpa' 'rhoifolia' 'forrestii'\n",
      " 'luminifera' 'x caerulea' 'platyphylla' 'curdica' 'x neglecta' 'fecunda'\n",
      " 'canbyi' 'spathulata' 'aprica' 'ambigua' 'venustula'\n",
      " 'rotundifolia var. aboriginum' 'champlainensis'\n",
      " 'szechuanica var. tibetica' 'taurica' 'muehlenbergii'\n",
      " 'ithaburensis var. macrolepis' 'lobata' 'x kewensis' 'ilicifolia'\n",
      " 'x heterophylla' 'falcata' 'delavayi subsp. potaninii']\n",
      "********************\n",
      "count          36777\n",
      "unique           437\n",
      "top       Baumannii'\n",
      "freq            4538\n",
      "Name: variete, dtype: object\n",
      "liste de valeur(s) unique : ['Jardin' nan \"Atropunicea'\" \"Euchlora'\" \"Schwedleri'\" \"Pissardii'\"\n",
      " \"Pallida'\" 'n. sp.' \"Chanticleer'\" \"Purpureum'\" \"Italica'\"\n",
      " \"Aspleniifolia'\" \"Jacquemontii'\" \"Fastigiata'\" \"Fastigiate Koster'\"\n",
      " \"Imperialis'\" \"Honey Dew'\" \"Jacqueline Hillier'\" \"Rubra Plena'\"\n",
      " \"Diversifolia'\" \"Flamingo'\" \"Argentea Marginata'\" \"Pendula'\" \"Liempde'\"\n",
      " \"Pyramidalis'\" \"Tortuosa'\" \"Aurea'\" \"Frisia'\" \"Leopoldii'\"\n",
      " \"Aldenhamensis'\" \"Briotii'\" \"Kanzan'\" \"Variegata'\" \"Hizakura'\"\n",
      " \"Albomarginata'\" \"Bradford'\" \"Autumnalis Rosea'\" \"Atropurpurea'\"\n",
      " \"Castanaefolia'\" \"Eddie's White Wonder'\" \"Autumnalis'\" \"Heaven Scent'\"\n",
      " \"Schouten'\" \"Sundew'\" \"Leonard messel'\" \"Merrill'\" \"Plena'\" \"Unifolia'\"\n",
      " \"Accolade'\" \"Baumannii'\" \"Virginiana'\" \"Flying Dragon'\" \"Laciniata'\"\n",
      " \"Laciniatum'\" \"Globosum'\" \"Rohanii'\" \"Golden Hornet'\" \"Glauca'\"\n",
      " \"Youngii'\" \"Contorta'\" \"Umbraculifera'\" \"Jaspidea'\" \"Spaeth'\" \"Flekova'\"\n",
      " \"Regent'\" \"Atrovirens'\" \"Purpurea'\" \"Alba'\" \"Paul's Scarlet Hamlet'\"\n",
      " \"Lutea'\" \"Dawyck'\" \"Sapporo Autumn Gold' RESISTA\" \"Totem'\"\n",
      " \"Erythrocladum'\" \"Masu-kagami'\" \"Vossii'\" \"Atropurpureum'\"\n",
      " \"Farlake's Green'\" \"Elegans'\" \"Fugenzo'\" \"Shôgetsu'\" \"Elsrijk'\"\n",
      " \"Evereste'\" \"Alba Superba'\" \"Splendens'\" \"Raywood'\" \"Taihaku'\"\n",
      " \"Drummondii'\" \"Minsum' SUMMER BELLS\" \"Smaragd'\" \"Nanguen' LUTECE\"\n",
      " \"Laciniatum Wieri'\" \"Digitata'\" \"Sandraudiga'\" \"Bessoniana'\" \"Carrierei'\"\n",
      " \"Boubri'\" \"Niedzwetzkyana'\" \"John Downie'\" \"Meczek'\" \"Stricta'\"\n",
      " \"Doorenbos'\" \"Vestita'\" \"Robusta'\" \"Aurea Pendula'\" \"Salicifolia'\"\n",
      " \"Lane'\" \"Riversii'\" \"Prinz Handjery'\" \"Ambrozyana'\" \"Pulverulenta'\"\n",
      " \"Duclouxii'\" \"Obovata'\" \"Olmsted'\" \"Shirotae'\" \"Aberdoniae'\"\n",
      " \"Thornhayes Tansy'\" \"Purpurea Pendula'\" \"Weschcke'\" \"Hibernica'\"\n",
      " \"Vanessa'\" \"Neapolitanum'\" \"Coluteoides'\" \"Brabant'\" \"Amanogawa'\"\n",
      " \"Glauca Elegans'\" \"Memmingeri'\" \"Aureovariegata'\"\n",
      " \"Pink Cascade' CASQUE ROUGE\" \"Monophylla'\" \"Tiefurt'\" \"Watereri'\"\n",
      " \"Variegatum'\" \"Sunburst'\" \"Crimson King'\" \"Esveld Select'\"\n",
      " \"Amber Beauty'\" \"Shubert'\" \"Robin Hill'\" \"Punicea'\" \"Bon Accueil'\"\n",
      " \"Hilsop'\" \"Umineko'\" \"Ballerina'\" \"Kiku-shidare-zakura'\" \"Galissonnière'\"\n",
      " \"Negenia'\" \"Hokusai'\" \"Chermesina'\" \"Majestica'\" \"Arie Peters'\"\n",
      " \"Forest Pansy'\" \"Oiseau Bleu'\" \"Fairview'\" \"Naruto'\" \"Rubra'\"\n",
      " \"Paus Johannes-Paulus II'\" \"Annae'\" \"October Glory'\" \"Nova'\" \"Hillieri'\"\n",
      " \"Autumn Flame'\" \"Souvenir de Courson'\" \"Gibsii'\" \"Balaton'\" \"Scanlon'\"\n",
      " \"Rubrum'\" \"Schlesingeri'\" \"Cimmzam'\" \"Summit'\" \"Maya'\" \"Paul's Scarlet'\"\n",
      " \"Eleyi'\" \"Desmon'\" \"Courtarou'\" \"Saratoga'\" \"Raket'\" \"Worplesdon'\"\n",
      " \"Rudolph'\" \"Red Sentinel'\" \"Purpurea Tricolor'\" \"Klara Mayer'\" \"Minsum'\"\n",
      " \"Cleveland'\" \"Sericea'\" \"Crispa'\" \"Elegantissima'\" \"Calliprinos'\"\n",
      " \"Rosea Nova'\" \"Professor Sprenger'\" \"Columna'\" \"Falicifolia'\"\n",
      " \"Yellow Bird'\" \"Dovastoniana'\" \"Flore Pleno'\" \"Columnaris'\" \"Zebrina'\"\n",
      " \"Alumii'\" \"Descyr'\" \"Koster'\" \"Alba Plena'\" \"Redspire'\"\n",
      " \"Westhof's Glorie'\" \"Postelense'\" \"Joppi'\" \"Zlatia'\" \"Goblin'\"\n",
      " \"Grandidentata'\" \"Roseum'\" \"Aureomarginatum'\" \"Ombrella'\" \"Lennei'\"\n",
      " \"Fastigiatum'\" \"Okame'\" \"Aglandau'\" \"Macrophylla'\" \"Tempelhof'\"\n",
      " \"Magnificum Nakai'\" \"Squarrosa'\" \"Globosa Nana'\" \"Red Robin'\"\n",
      " \"Royal Burgundy'\" \"Lico'\" \"Dawyck Purple'\" \"Ferox'\" \"Jeffersred'\"\n",
      " \"Skyline'\" \"Pyramidale'\" \"Afghanica'\" \"Aucubifolia'\" \"Deborah'\"\n",
      " \"Albertii'\" \"Colorata'\" \"Luisa Lady'\" \"Atlantica Aurea'\"\n",
      " \"Princeton sentry'\" \"Blush'\" \"Quercifolia'\" \"Wageningeri'\" \"Gracilis'\"\n",
      " \"Tristan'\" \"Nizetii'\" \"Kojou-no-mai'\" \"Concordia'\" \"Rotundifolia'\"\n",
      " \"Conspicua'\" \"Aureum'\" \"Theodonensis'\" \"Thunberg'\" \"Matsuma'\"\n",
      " \"Erecta viridis'\" \"Clanbrassiliana'\" \"Macrophyllum'\"\n",
      " \"Cipressino Pyramidal'\" \"Nociara'\" \"Leoccino'\" \"Gold Bark'\" \"Speciosa'\"\n",
      " \"Buergeri'\" \"Nannetensis'\" \"Royal red'\" \"Pendula Rubra'\" \"Lemoinei'\"\n",
      " \"Bigarreau blanc'\" \"Bigarreau Hatif Burlat'\"\n",
      " \"Bigarreau Napoleon' NAPOLEON\" \"Hedelfingen Riesenkirsche'\"\n",
      " \"Beurré Hardy'\" \"Bon chrétien Williams'\" \"Soldat Laboureur'\" \"Chat rôti'\"\n",
      " \"Transparente de Croncels'\" \"King of the Pippins'\" \"Peasgood's Nonsuch'\"\n",
      " \"Calville blanc'\" \"Glauca Pendula'\" \"Pembury Blue'\" \"Dampieri'\" \"Vranja'\"\n",
      " \"Mostapfel President Descourt'\" \"Flekova' GREEN VASE\" \"Columnare'\"\n",
      " \"Greenspire'\" \"Ellwoodii'\" \"Reine Claude'\" \"Altena'\" \"Hamabo'\"\n",
      " \"Argenteovariegata'\" \"Kkho1' HOT PINK\" \"Saugeana'\" \"Alaska'\" \"Porlock'\"\n",
      " \"Quetsche d'Alsace'\" \"Nicoline'\" \"Mirabelle'\" \"Flore Roseo Pleno'\"\n",
      " \"Nigra'\" \"Caucasica'\" \"Otto Luyken'\" \"Decaisneana'\" \"Marginata'\"\n",
      " 'RESISTA' \"Wanoux' VADA\" \"Nanguen'\" \"New Horizon' RESISTA\"\n",
      " \"Jeffersred' AUTUMN BLAZE\" \"Schone van Boskoop' BELLE DE BOSKOOP\"\n",
      " 'PLATANOR®' \"Fruitless'\" \"Granny Smith'\" \"Conference'\" \"Golden' n.sp.\"\n",
      " \"Bergeron'\" \"Warrenred' PACIFIC SUNSET\" \"Bonne Louise d'Avranches'\"\n",
      " \"Champion'\" \"Sanguine Vineuse'\" \"Oxford'\" \"Sainte Catherine'\"\n",
      " \"Kidd's Orange Red'\" \"Polonais'\" \"Luizet'\" \"Winter Gold'\" \"Dissectum'\"\n",
      " \"Austriaca'\" \"Nelly Stevens'\" \"Profusion'\" \"Atlantica Glauca'\" \"Nanum'\"\n",
      " \"Frans Fontaine'\" \"Glenleven'\" \"Minaret'\" \"Erecta'\" \"Spire'\"\n",
      " \"Sunset Boulevard'\" \"Henk Vink'\" \"Rheinland'\" \"Jonagold'\" \"Album'\"\n",
      " \"Bloodgood'\" \"Emerald Queen'\" \"Aconitifolium'\" \"Nivea'\"\n",
      " \"Splender Silhouette'\" \"Monticola'\" \"Nana'\" \"Induta'\" \"Schnee'\"\n",
      " \"Bruchem'\" \"Teton de Vénus'\" \"Reine des Vergers'\" \"Bondy'\"\n",
      " \"Belle de Pontoise'\" \"Melrose'\" \"Court Pendu Gris'\" \"Lambertin n°1'\"\n",
      " \"Le Curé'\" \"Comtesse de Paris'\" \"Conseiller à la Cour'\"\n",
      " \"Ananas Reinette'\" \"Bonne de Bry'\" \"Mirabelle de Nancy'\"\n",
      " \"Reine Claude Tardive de Chambourcy'\" \"Williams'\" \"Cox's Orange'\"\n",
      " \"Reinette Abry'\" \"Groseille'\" \"Beurré Clairgeau'\"\n",
      " \"Doyenné du Comice' COMICE\" \"Reinette Clochard'\" \"Hatif Colomer'\"\n",
      " \"Susan'\" \"Reinette du Mans'\" \"Cockleshell'\" \"Lucombeana'\" \"Rubylace'\"\n",
      " \"Fukubana'\" \"Williams' WILLIAMS ROUGE\" \"Borowitsky'\"\n",
      " \"Baumann's Reinette'\" \"Fastigia'\" \"Aurea Marginata'\" \"Green Spire'\"\n",
      " \"Atlantica Glauca Pendula'\" \"Villa Taranto'\" \"Osakazuki'\" \"Shin-deshôjô'\"\n",
      " \"Starking'\" \"Grand Champion'\" \"Reinette Grise du Canada'\"\n",
      " \"Duc de Bordeaux'\" \"Reinette de Caux'\" \"Shinseiki'\" \"Grand Alexandre'\"\n",
      " \"De l'Estre'\" \"Akane'\" \"Winter Banana'\" \"Drap d'Or'\" \"Belle de Louvain'\"\n",
      " \"Redhaven'\" \"Grosse Mignonne'\" \"Idared'\" \"Gloster'\" \"Belle Fleur Jaune'\"\n",
      " \"Duchesse d'Angoulême'\" \"Calville Rouge d'Hiver'\" \"Elstar'\"\n",
      " \"Général Leclerc'\" \"Calville rouge'\" \"Reinette du Canada'\"\n",
      " \"Golden Delicious'\" \"Beurré Lebrun'\" \"Précoce de Saumur'\"\n",
      " \"Aprikose von Nancy'\" \"Princess'\" \"Clapp's Favourite'\" \"Api Rose'\"\n",
      " \"Canada Rouge'\" \"Madeleine des deux Saisons'\" \"Fuji'\" \"Passe Crassane'\"\n",
      " \"Sucrée de Montluçon'\" \"Reinette Blanche du Canada'\" \"Pyramidalis Alba'\"\n",
      " \"Lemon Pippin'\" \"Docteur Jules Guyot'\" \"Patte de Loup'\"\n",
      " \"Reine Claude Dorée'\" \"Topred'\" \"Précoce de Trévoux'\" \"Morton'\" \"Amsden'\"\n",
      " \"Tenroy' ROYAL GALA\" \"Webb's Prize Cob'\" \"Triomphe de Vienne'\"\n",
      " \"Chantecler'\" \"Professeur Vilaine'\" \"Grosse Pomme Noire'\"]\n",
      "********************\n",
      "count    200111.000000\n",
      "mean         83.386690\n",
      "std         673.233353\n",
      "min           0.000000\n",
      "25%          30.000000\n",
      "50%          70.000000\n",
      "75%         115.000000\n",
      "max      250255.000000\n",
      "Name: circonference_cm, dtype: float64\n",
      "liste de valeur(s) unique : [    20     65     90     60     38     37    260    145    135     15\n",
      "     30    205    155     25    185    200    100     35    130     75\n",
      "    120    325    115     70     80     50     45     10    235    210\n",
      "    125    330     85    105    310    190     55    240    290     40\n",
      "     95    110    165    175    160    140    152    150    104    265\n",
      "    225    195    390    170    245    230    370    220    133    167\n",
      "    118    116    127    168    215    360    345    112     56    101\n",
      "     82     57     63     66     67    131    183     87     77     74\n",
      "    107     24     23     31    103     46     59    206     43     47\n",
      "    136     73    305    285    280    270    300    275    400    415\n",
      "    380    425    420    320    502    365    340    315    520    250\n",
      "    180    355    335    255    460    480    410    295    565    138\n",
      "    350    375    269    408    385      0    248    453    323    527\n",
      "    157    271    106    137    178     78    292    539    577    686\n",
      "     98     97     53     54     34     64     48     58     42     68\n",
      "     36     88     93     52    142    146    163    308    273    311\n",
      "    109    158    102    253    294    111    117     96     86    449\n",
      "     72     44     61     69    505    184    405     71     32     51\n",
      "     62    192     41     99     84     16    124     14    361     18\n",
      "    151    122    108    114     28     27    166     33    128     26\n",
      "    172    123    156    188    213    113    226    204    214    208\n",
      "    224    223    173    162    186    395    351     91    132    119\n",
      "    129    139     83     76    121     92     21    147    144    143\n",
      "    202     81    134    149    196    179    153    171    126    141\n",
      "     94     79    154    219     22    193    207     89    148     39\n",
      "    194    189     17   2439     13    233    164    181     29    239\n",
      "    198    197    278    161     49    176    222     19    241    182\n",
      "    334    307    418    177    263    228    266    244    354    411\n",
      "    169    218    264   1133    159    246    338    258    357    328\n",
      "    187    238     11    236    217    174   1138    232    203   2300\n",
      "    212    464    234    211   1120    363    247    482    274    283\n",
      "    216    276    209    231   2196    322    327    472    343    532\n",
      "    695      8    282    313    314    227    479    440    450    525\n",
      "    478     12    249    401    371    398    404    448    378    293\n",
      "    254    242    324    261      7    259    281    268    443    435\n",
      "      5    316    237    243    368    284    319    475    288    326\n",
      "    358    286    409    279    367    302    426    495    356    299\n",
      "    458    309    221    604    318    272    201    416    485    530\n",
      "    545    430    287    312    349    262    301    306    277    376\n",
      "    500    229    267      1    251    374    256    298    700    550\n",
      "    252    347    383   1140    650    191    332    342    303    317\n",
      "    331    391    337    257    388    442    608    595    297    540\n",
      "    321    289    900    296    372   1150      4      3    382    346\n",
      "    555    199    291    304    366    344    362      6   1000  18589\n",
      "   1130      2   1160   1230   5545   1155  20130    542  30140    585\n",
      "   8110   1260   1801   1345   1240    407   9035   1590    600   1165\n",
      "   1170   1190    465    660   4090    381   2210   2290      9    965\n",
      "    830   9155    835   2120  65110    570   6595    680   6120    575\n",
      "    675    590   2025 250255   1124   7540   1205   3120   1360   9085\n",
      "    790    759    336   1135 120170   1220    445   6085   9095    710\n",
      "   1125   2090   3630   6125  79120    470    549    493    645    468\n",
      "    511    504    397    399    607    414    422    534    634    558\n",
      "   1102    770    490   1054   1337   1200   2150    535    784   2750\n",
      "   2130]\n",
      "********************\n",
      "count    200111.000000\n",
      "mean         13.111593\n",
      "std        1971.345437\n",
      "min           0.000000\n",
      "25%           5.000000\n",
      "50%           8.000000\n",
      "75%          12.000000\n",
      "max      881818.000000\n",
      "Name: hauteur_m, dtype: float64\n",
      "liste de valeur(s) unique : [     5      8     10      0     17     14      3      6      4     11\n",
      "      7     15      9     18     12     16     19     20     13     27\n",
      "     25     22     30     35     28      2     32     23     24     31\n",
      "     26     21     40     45   1510     65     68    117     29      1\n",
      "     42    255     47     96     38     34     37     54    810    125\n",
      "     95     91     50    510     67     33     59    219     98    216\n",
      "    113     78    116     75   1211     80     64    118     58    120\n",
      "     57     60    101    205     70     86    106     56     76     89\n",
      "    155    112    110    105     55   1511     66     43    128     77\n",
      "    220   2015   1010    610    107     52    150    115    100     90\n",
      "     71    159    180   1512    114   1610     97   5155    815   1515\n",
      "    218   2525   1815     85    818    720   1514    204    130   1113\n",
      "    148    122    618    190    160   1216     88    138    714     99\n",
      "    129    615     46    156    512    327 881818     87    154    170\n",
      "    260    608    157]\n",
      "********************\n",
      "count     132929\n",
      "unique         5\n",
      "top            A\n",
      "freq       64435\n",
      "Name: stade_developpement, dtype: object\n",
      "liste de valeur(s) unique : ['Jardin' 'A' nan 'J' 'M' 'JA']\n",
      "********************\n",
      "count     137018.0\n",
      "unique         3.0\n",
      "top            0.0\n",
      "freq      136833.0\n",
      "Name: remarquable, dtype: float64\n",
      "liste de valeur(s) unique : [0.0 'Jardin' nan 1.0]\n",
      "********************\n",
      "count    200111.000000\n",
      "mean         48.854493\n",
      "std           0.030234\n",
      "min          48.742290\n",
      "25%          48.835023\n",
      "50%          48.854166\n",
      "75%          48.876450\n",
      "max          48.911485\n",
      "Name: geo_point_2d_a, dtype: float64\n",
      "liste de valeur(s) unique : [48.85761995 48.85765607 48.85770501 ... 48.82290714 48.82252234\n",
      " 48.82044479]\n",
      "********************\n",
      "count    200111.000000\n",
      "mean          2.348203\n",
      "std           0.051220\n",
      "min           2.210241\n",
      "25%           2.307525\n",
      "50%           2.351087\n",
      "75%           2.386832\n",
      "max           2.469759\n",
      "Name: geo_point_2d_b, dtype: float64\n",
      "liste de valeur(s) unique : [2.32096211 2.32103142 2.32106057 ... 2.45797007 2.45595555 2.45485622]\n"
     ]
    }
   ],
   "source": [
    "count_by_columns()"
   ],
   "metadata": {
    "collapsed": false,
    "pycharm": {
     "name": "#%%\n"
    }
   }
  },
  {
   "cell_type": "code",
   "execution_count": 20,
   "outputs": [
    {
     "data": {
      "text/plain": "      id type_emplacement domanialite  arrondissement complement_addresse  \\\n0  99874            Arbre      Jardin  PARIS 7E ARRDT              Jardin   \n\n   numero                                       lieu id_emplacement  \\\n0  Jardin  MAIRIE DU 7E 116 RUE DE GRENELLE PARIS 7E             19   \n\n  libelle_francais     genre         espece variete  circonference_cm  \\\n0       Marronnier  Aesculus  hippocastanum  Jardin                20   \n\n   hauteur_m stade_developpement remarquable  geo_point_2d_a  geo_point_2d_b  \n0          5              Jardin         0.0        48.85762        2.320962  ",
      "text/html": "<div>\n<style scoped>\n    .dataframe tbody tr th:only-of-type {\n        vertical-align: middle;\n    }\n\n    .dataframe tbody tr th {\n        vertical-align: top;\n    }\n\n    .dataframe thead th {\n        text-align: right;\n    }\n</style>\n<table border=\"1\" class=\"dataframe\">\n  <thead>\n    <tr style=\"text-align: right;\">\n      <th></th>\n      <th>id</th>\n      <th>type_emplacement</th>\n      <th>domanialite</th>\n      <th>arrondissement</th>\n      <th>complement_addresse</th>\n      <th>numero</th>\n      <th>lieu</th>\n      <th>id_emplacement</th>\n      <th>libelle_francais</th>\n      <th>genre</th>\n      <th>espece</th>\n      <th>variete</th>\n      <th>circonference_cm</th>\n      <th>hauteur_m</th>\n      <th>stade_developpement</th>\n      <th>remarquable</th>\n      <th>geo_point_2d_a</th>\n      <th>geo_point_2d_b</th>\n    </tr>\n  </thead>\n  <tbody>\n    <tr>\n      <th>0</th>\n      <td>99874</td>\n      <td>Arbre</td>\n      <td>Jardin</td>\n      <td>PARIS 7E ARRDT</td>\n      <td>Jardin</td>\n      <td>Jardin</td>\n      <td>MAIRIE DU 7E 116 RUE DE GRENELLE PARIS 7E</td>\n      <td>19</td>\n      <td>Marronnier</td>\n      <td>Aesculus</td>\n      <td>hippocastanum</td>\n      <td>Jardin</td>\n      <td>20</td>\n      <td>5</td>\n      <td>Jardin</td>\n      <td>0.0</td>\n      <td>48.85762</td>\n      <td>2.320962</td>\n    </tr>\n  </tbody>\n</table>\n</div>"
     },
     "execution_count": 20,
     "metadata": {},
     "output_type": "execute_result"
    }
   ],
   "source": [
    "arbres_clean[arbres_clean.stade_developpement=='Jardin']"
   ],
   "metadata": {
    "collapsed": false,
    "pycharm": {
     "name": "#%%\n"
    }
   }
  },
  {
   "cell_type": "code",
   "execution_count": 21,
   "outputs": [
    {
     "data": {
      "text/plain": "   arrondissement  circonference_cm complement_addresse         espece  \\\n0  PARIS 7E ARRDT              20.0                      hippocastanum   \n\n      genre  geo_point_2d_a  geo_point_2d_b  hauteur_m       id  \\\n0  Aesculus        48.85762        2.320962        5.0  99874.0   \n\n  id_emplacement libelle_francais                                       lieu  \\\n0             19       Marronnier  MAIRIE DU 7E 116 RUE DE GRENELLE PARIS 7E   \n\n  numero remarquable stade_developpement type_emplacement variete  \n0                0.0                                Arbre          ",
      "text/html": "<div>\n<style scoped>\n    .dataframe tbody tr th:only-of-type {\n        vertical-align: middle;\n    }\n\n    .dataframe tbody tr th {\n        vertical-align: top;\n    }\n\n    .dataframe thead th {\n        text-align: right;\n    }\n</style>\n<table border=\"1\" class=\"dataframe\">\n  <thead>\n    <tr style=\"text-align: right;\">\n      <th></th>\n      <th>arrondissement</th>\n      <th>circonference_cm</th>\n      <th>complement_addresse</th>\n      <th>espece</th>\n      <th>genre</th>\n      <th>geo_point_2d_a</th>\n      <th>geo_point_2d_b</th>\n      <th>hauteur_m</th>\n      <th>id</th>\n      <th>id_emplacement</th>\n      <th>libelle_francais</th>\n      <th>lieu</th>\n      <th>numero</th>\n      <th>remarquable</th>\n      <th>stade_developpement</th>\n      <th>type_emplacement</th>\n      <th>variete</th>\n    </tr>\n  </thead>\n  <tbody>\n    <tr>\n      <th>0</th>\n      <td>PARIS 7E ARRDT</td>\n      <td>20.0</td>\n      <td></td>\n      <td>hippocastanum</td>\n      <td>Aesculus</td>\n      <td>48.85762</td>\n      <td>2.320962</td>\n      <td>5.0</td>\n      <td>99874.0</td>\n      <td>19</td>\n      <td>Marronnier</td>\n      <td>MAIRIE DU 7E 116 RUE DE GRENELLE PARIS 7E</td>\n      <td></td>\n      <td>0.0</td>\n      <td></td>\n      <td>Arbre</td>\n      <td></td>\n    </tr>\n  </tbody>\n</table>\n</div>"
     },
     "execution_count": 21,
     "metadata": {},
     "output_type": "execute_result"
    }
   ],
   "source": [
    "arbre_temp = arbres_clean[arbres_clean.columns.difference([\"domanialite\"])].replace(\"Jardin\", \"\").where(arbres_clean.stade_developpement=='Jardin')\n",
    "arbre_temp.dropna()"
   ],
   "metadata": {
    "collapsed": false,
    "pycharm": {
     "name": "#%%\n"
    }
   }
  },
  {
   "cell_type": "code",
   "execution_count": 22,
   "outputs": [
    {
     "name": "stdout",
     "output_type": "stream",
     "text": [
      "--------------------\n",
      "stade_developpement : A\n",
      "       circonference_cm     hauteur_m  geo_point_2d_a  geo_point_2d_b\n",
      "count      64435.000000  64435.000000    64435.000000    64435.000000\n",
      "mean         132.761325     13.330116       48.857051        2.344227\n",
      "std         1179.942345     22.256600        0.024753        0.049449\n",
      "min            0.000000      0.000000       48.742371        2.211330\n",
      "25%           90.000000     10.000000       48.840102        2.304550\n",
      "50%          115.000000     12.000000       48.857773        2.345071\n",
      "75%          150.000000     15.000000       48.873827        2.383139\n",
      "max       250255.000000   2525.000000       48.911050        2.469752\n"
     ]
    },
    {
     "data": {
      "text/plain": "<Figure size 432x288 with 4 Axes>",
      "image/png": "[encoded data removed]"
     },
     "metadata": {
      "needs_background": "light"
     },
     "output_type": "display_data"
    },
    {
     "data": {
      "text/plain": "<Figure size 432x288 with 1 Axes>",
      "image/png": "[encoded data removed]"
     },
     "metadata": {
      "needs_background": "light"
     },
     "output_type": "display_data"
    },
    {
     "name": "stdout",
     "output_type": "stream",
     "text": [
      "--------------------\n",
      "stade_developpement : JA\n",
      "       circonference_cm     hauteur_m  geo_point_2d_a  geo_point_2d_b\n",
      "count      35443.000000  35443.000000    35443.000000    35443.000000\n",
      "mean          70.976497      9.986993       48.854241        2.344251\n",
      "std           63.454491     35.426939        0.023929        0.047971\n",
      "min            0.000000      0.000000       48.742290        2.212229\n",
      "25%           51.000000      6.000000       48.836690        2.306372\n",
      "50%           65.000000      9.000000       48.853150        2.345470\n",
      "75%           85.000000     10.000000       48.870452        2.379504\n",
      "max         7540.000000   5155.000000       48.910689        2.469718\n"
     ]
    },
    {
     "data": {
      "text/plain": "<Figure size 432x288 with 4 Axes>",
      "image/png": "[encoded data removed]"
     },
     "metadata": {
      "needs_background": "light"
     },
     "output_type": "display_data"
    },
    {
     "data": {
      "text/plain": "<Figure size 432x288 with 1 Axes>",
      "image/png": "[encoded data removed]"
     },
     "metadata": {
      "needs_background": "light"
     },
     "output_type": "display_data"
    },
    {
     "name": "stdout",
     "output_type": "stream",
     "text": [
      "--------------------\n",
      "stade_developpement : J\n",
      "       circonference_cm      hauteur_m  geo_point_2d_a  geo_point_2d_b\n",
      "count      26937.000000   26937.000000    26937.000000    26937.000000\n",
      "mean          39.419720      38.605932       48.851984        2.353568\n",
      "std           73.082536    5372.815555        0.024666        0.051922\n",
      "min            0.000000       0.000000       48.759069        2.212541\n",
      "25%           25.000000       5.000000       48.833242        2.315492\n",
      "50%           35.000000       5.000000       48.847313        2.349694\n",
      "75%           45.000000       6.000000       48.869577        2.390117\n",
      "max         9035.000000  881818.000000       48.910713        2.469759\n"
     ]
    },
    {
     "data": {
      "text/plain": "<Figure size 432x288 with 4 Axes>",
      "image/png": "[encoded data removed]"
     },
     "metadata": {
      "needs_background": "light"
     },
     "output_type": "display_data"
    },
    {
     "data": {
      "text/plain": "<Figure size 432x288 with 1 Axes>",
      "image/png": "[encoded data removed]"
     },
     "metadata": {
      "needs_background": "light"
     },
     "output_type": "display_data"
    },
    {
     "name": "stdout",
     "output_type": "stream",
     "text": [
      "--------------------\n",
      "stade_developpement : M\n",
      "       circonference_cm    hauteur_m  geo_point_2d_a  geo_point_2d_b\n",
      "count       6113.000000  6113.000000     6113.000000     6113.000000\n",
      "mean         219.526092    19.239653       48.858447        2.345505\n",
      "std           78.276548     7.045963        0.035401        0.046124\n",
      "min            0.000000     0.000000       48.742421        2.211263\n",
      "25%          190.000000    15.000000       48.835919        2.314240\n",
      "50%          215.000000    20.000000       48.863210        2.349780\n",
      "75%          245.000000    22.000000       48.886557        2.374434\n",
      "max         2439.000000   327.000000       48.911003        2.465116\n"
     ]
    },
    {
     "data": {
      "text/plain": "<Figure size 432x288 with 4 Axes>",
      "image/png": "[encoded data removed]"
     },
     "metadata": {
      "needs_background": "light"
     },
     "output_type": "display_data"
    },
    {
     "data": {
      "text/plain": "<Figure size 432x288 with 1 Axes>",
      "image/png": "[encoded data removed]"
     },
     "metadata": {
      "needs_background": "light"
     },
     "output_type": "display_data"
    },
    {
     "name": "stdout",
     "output_type": "stream",
     "text": [
      "--------------------\n",
      "stade_developpement : Jardin\n",
      "       circonference_cm  hauteur_m  geo_point_2d_a  geo_point_2d_b\n",
      "count               1.0        1.0         1.00000        1.000000\n",
      "mean               20.0        5.0        48.85762        2.320962\n",
      "std                 NaN        NaN             NaN             NaN\n",
      "min                20.0        5.0        48.85762        2.320962\n",
      "25%                20.0        5.0        48.85762        2.320962\n",
      "50%                20.0        5.0        48.85762        2.320962\n",
      "75%                20.0        5.0        48.85762        2.320962\n",
      "max                20.0        5.0        48.85762        2.320962\n"
     ]
    },
    {
     "data": {
      "text/plain": "<Figure size 432x288 with 4 Axes>",
      "image/png": "[encoded data removed]"
     },
     "metadata": {
      "needs_background": "light"
     },
     "output_type": "display_data"
    },
    {
     "data": {
      "text/plain": "<Figure size 432x288 with 1 Axes>",
      "image/png": "[encoded data removed]"
     },
     "metadata": {
      "needs_background": "light"
     },
     "output_type": "display_data"
    }
   ],
   "source": [
    "\n",
    "arbres_quantitative = arbres_clean.drop([\n",
    "    \"id\",\n",
    "    \"complement_addresse\",\n",
    "    \"numero\",\n",
    "    \"circonference_cm\",\n",
    "    \"hauteur_m\",\n",
    "    \"geo_point_2d_a\",\n",
    "    \"geo_point_2d_b\"\n",
    "],axis=1)\n",
    "for key,value in arbres_quantitative.iteritems():\n",
    "    describe_columns(key) if (key == 'stade_developpement') else ''"
   ],
   "metadata": {
    "collapsed": false,
    "pycharm": {
     "name": "#%%\n"
    }
   }
  }
 ],
 "metadata": {
  "kernelspec": {
   "display_name": "Python 3 (ipykernel)",
   "language": "python",
   "name": "python3"
  },
  "language_info": {
   "codemirror_mode": {
    "name": "ipython",
    "version": 3
   },
   "file_extension": ".py",
   "mimetype": "text/x-python",
   "name": "python",
   "nbconvert_exporter": "python",
   "pygments_lexer": "ipython3",
   "version": "3.9.7"
  }
 },
 "nbformat": 4,
 "nbformat_minor": 1
}