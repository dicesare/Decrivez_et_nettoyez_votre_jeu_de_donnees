{
 "cells": [
  {
   "cell_type": "code",
   "execution_count": null,
   "metadata": {
    "colab": {
     "base_uri": "https://localhost:8080/",
     "height": 514
    },
    "executionInfo": {
     "elapsed": 1049,
     "status": "ok",
     "timestamp": 1638866846320,
     "user": {
      "displayName": "antony coco",
      "photoUrl": "https://lh3.googleusercontent.com/a-/AOh14GjITzgEfRlstqx8C3JFJpWFO9o1MEq95k4SY2KPtg=s64",
      "userId": "10048713901788815038"
     },
     "user_tz": -60
    },
    "id": "Yzp3zdqlUbix",
    "outputId": "dd77330a-c6a6-4c4b-c9cf-9d92e0df4f52",
    "pycharm": {
     "is_executing": true
    }
   },
   "outputs": [],
   "source": [
    "import numpy\n",
    "import pandas as pa\n",
    "import numpy as np\n",
    "import matplotlib.pyplot as plt\n",
    "\n",
    "arbres = pa.read_csv(\"./p2-arbres-fr.csv\", sep=\";\")\n",
    "# print(arbres)\n",
    "arbres.head()"
   ]
  },
  {
   "cell_type": "code",
   "execution_count": null,
   "outputs": [],
   "source": [
    "arbres.libelle_francais.head(20).unique()"
   ],
   "metadata": {
    "collapsed": false,
    "pycharm": {
     "name": "#%%\n",
     "is_executing": true
    }
   }
  },
  {
   "cell_type": "code",
   "execution_count": null,
   "outputs": [],
   "source": [
    "from collections import Counter\n",
    "\n",
    "labels_unique=arbres.libelle_francais.unique()\n",
    "labels=arbres.libelle_francais\n",
    "somme_genre = arbres.libelle_francais.value_counts()\n",
    "somme_genre_norm = arbres.libelle_francais.value_counts(normalize=True)\n",
    "distribution = dict()\n",
    "total = somme_genre.sum()\n",
    "frequences_list = []\n",
    "values_list =[]\n",
    "names_list = []\n",
    "for key, value in somme_genre.items():\n",
    "  frequence = value/total\n",
    "  distribution[f\"{key}\"] = [value, frequence]\n",
    "distribution\n",
    "\n",
    "for key, value in somme_genre.items():\n",
    "   frequences_list.append(value/total)\n",
    "   values_list.append(value)\n",
    "   names_list.append(key)\n",
    "frequences_list\n",
    "values_list\n",
    "names_list\n",
    "somme_genre.describe()\n",
    "#test = somme_genre.where)(somme_genre.values < 3500).dropna()\n",
    "#test\n",
    "# total"
   ],
   "metadata": {
    "collapsed": false,
    "pycharm": {
     "name": "#%%\n",
     "is_executing": true
    }
   }
  },
  {
   "cell_type": "code",
   "execution_count": null,
   "outputs": [],
   "source": [
    "np_distr = np.array([[key,value] for (key,value) in somme_genre.iteritems()])\n",
    "np_distr[:5]"
   ],
   "metadata": {
    "collapsed": false,
    "pycharm": {
     "name": "#%%\n"
    }
   }
  },
  {
   "cell_type": "code",
   "execution_count": null,
   "metadata": {
    "colab": {
     "base_uri": "https://localhost:8080/"
    },
    "executionInfo": {
     "elapsed": 62,
     "status": "ok",
     "timestamp": 1638866846323,
     "user": {
      "displayName": "antony coco",
      "photoUrl": "https://lh3.googleusercontent.com/a-/AOh14GjITzgEfRlstqx8C3JFJpWFO9o1MEq95k4SY2KPtg=s64",
      "userId": "10048713901788815038"
     },
     "user_tz": -60
    },
    "id": "wv7Aq5WNCHJ8",
    "outputId": "0adb898d-b2f7-4861-8810-aee5c94c3df9",
    "pycharm": {
     "is_executing": true
    }
   },
   "outputs": [],
   "source": [
    "np_frequences = np.array([frequences_list])\n",
    "np_values = np.array([values_list])\n",
    "np_names = np.array([names_list])\n",
    "np_dtr_f_str = np.concatenate((np_distr,np_frequences.T),axis=1)\n",
    "np_dtr_f_str[:5]"
   ]
  },
  {
   "cell_type": "code",
   "execution_count": 100,
   "metadata": {
    "colab": {
     "base_uri": "https://localhost:8080/"
    },
    "executionInfo": {
     "elapsed": 63,
     "status": "ok",
     "timestamp": 1638866846325,
     "user": {
      "displayName": "antony coco",
      "photoUrl": "https://lh3.googleusercontent.com/a-/AOh14GjITzgEfRlstqx8C3JFJpWFO9o1MEq95k4SY2KPtg=s64",
      "userId": "10048713901788815038"
     },
     "user_tz": -60
    },
    "id": "out7dhLN9tYM",
    "outputId": "8b72653a-5c2a-4991-f779-1301ebf8319f"
   },
   "outputs": [],
   "source": [
    "var = np_frequences.dtype\n",
    "seuil_mini = 3500\n",
    "np_val_f = np.concatenate((np_values,np_frequences),axis=0)\n",
    "np.where(np_val_f>10000)\n",
    "np_val_f.dtype\n",
    "np_val_f.shape\n",
    "np_distribution = np.array([distribution])\n",
    "test3 = somme_genre[:(len(somme_genre)-10)]\n",
    "#test3mask[[occurence.where(somme_genre.values < seuil_mini)]] = False\n",
    "#result = occurence[test3mask,...]\n",
    "\n",
    "test1 = somme_genre.where(somme_genre.values < seuil_mini).sum()"
   ]
  },
  {
   "cell_type": "code",
   "execution_count": 101,
   "outputs": [],
   "source": [
    "test2 = somme_genre.head(10)\n",
    "test3\n",
    "autres_sommes = somme_genre.tail(len(somme_genre)-10).sum()\n"
   ],
   "metadata": {
    "collapsed": false,
    "pycharm": {
     "name": "#%%\n"
    }
   }
  },
  {
   "cell_type": "code",
   "execution_count": 102,
   "outputs": [],
   "source": [
    "test4 = ['autres',10]"
   ],
   "metadata": {
    "collapsed": false,
    "pycharm": {
     "name": "#%%\n"
    }
   }
  },
  {
   "cell_type": "code",
   "execution_count": null,
   "outputs": [],
   "source": [
    "test2.loc['autres']=test1\n",
    "#test3 = pa.DataFrame('libelle_francais':test2[0], 'somme':test2[1], frequence = np_frequences)\n",
    "\n",
    "np_frequences = np.array([frequences_list])\n",
    "np_values = np.array([values_list])\n",
    "np_names = np.array([names_list])\n",
    "type(np_frequences)\n",
    "np_frequences\n",
    "np_values\n",
    "# print(np_names[0])\n",
    "test5 = pa.DataFrame({'libelle_francais':np_names[0], 'somme_genre':np_values[0], 'frequence':np_frequences[0]})\n",
    "type(test5)\n",
    "test6 = pa.DataFrame({'somme_genre':somme_genre[:], 'frequence':np_frequences[0]})\n",
    "len(test6)\n",
    "type(test6)\n",
    "type(somme_genre)\n",
    "somme_genre\n",
    "test6"
   ],
   "metadata": {
    "collapsed": false,
    "pycharm": {
     "name": "#%%\n",
     "is_executing": true
    }
   }
  },
  {
   "cell_type": "code",
   "execution_count": null,
   "outputs": [],
   "source": [
    "somme_genre_df = pa.DataFrame({'somme_genre':somme_genre, 'frequence':np_frequences[0]})\n",
    "autres = somme_genre_df.where(somme_genre_df.values < 3500).dropna()\n",
    "valeur = somme_genre_df[:10].keys\n",
    "seuil_mini = 3500\n",
    "occur_sum = somme_genre_df.tail(len(somme_genre_df)-10).sum()\n",
    "occur_head = somme_genre_df.head(10)\n",
    "occur_head.loc['autres'] = occur_sum\n",
    "occur_head.sort_values('somme_genre')"
   ],
   "metadata": {
    "collapsed": false,
    "pycharm": {
     "name": "#%%\n",
     "is_executing": true
    }
   }
  },
  {
   "cell_type": "code",
   "execution_count": null,
   "outputs": [],
   "source": [
    "occur_head.plot.pie(\n",
    "    y='somme_genre',\n",
    "    figsize =(15,15),\n",
    "    subplots=False,\n",
    "    explode = [0, 0, 0, 0, 0, 0, 0, 0, 0, 0, 0.1],\n",
    "    autopct = lambda x: str(round(x, 2)) + '%',\n",
    "    center = (1,0),\n",
    "    labeldistance = 1.2,\n",
    "    pctdistance = 0.8,\n",
    "    shadow = True)\n"
   ],
   "metadata": {
    "collapsed": false,
    "pycharm": {
     "name": "#%%\n",
     "is_executing": true
    }
   }
  },
  {
   "cell_type": "markdown",
   "metadata": {
    "id": "pyxTWYuzFs52"
   },
   "source": [
    "a utulise pour la futur representation hauteur localisation densite sur le territoire\n"
   ]
  },
  {
   "cell_type": "code",
   "execution_count": null,
   "outputs": [],
   "source": [
    "occur_head.plot.bar(y='frequence')"
   ],
   "metadata": {
    "collapsed": false,
    "pycharm": {
     "name": "#%%\n",
     "is_executing": true
    }
   }
  },
  {
   "cell_type": "code",
   "execution_count": null,
   "outputs": [],
   "source": [
    "occur_head.plot.hist(y='frequence',density=True, bins=11)"
   ],
   "metadata": {
    "collapsed": false,
    "pycharm": {
     "name": "#%%\n",
     "is_executing": true
    }
   }
  },
  {
   "cell_type": "code",
   "execution_count": null,
   "outputs": [],
   "source": [
    "occur_head.plot.hist(y='somme_genre',bins=11)"
   ],
   "metadata": {
    "collapsed": false,
    "pycharm": {
     "name": "#%%\n",
     "is_executing": true
    }
   }
  },
  {
   "cell_type": "code",
   "execution_count": null,
   "outputs": [],
   "source": [
    "arbres.describe()"
   ],
   "metadata": {
    "collapsed": false,
    "pycharm": {
     "name": "#%%\n",
     "is_executing": true
    }
   }
  },
  {
   "cell_type": "code",
   "execution_count": null,
   "outputs": [],
   "source": [
    "arbres.head()"
   ],
   "metadata": {
    "collapsed": false,
    "pycharm": {
     "name": "#%%\n",
     "is_executing": true
    }
   }
  },
  {
   "cell_type": "code",
   "execution_count": null,
   "outputs": [],
   "source": [
    "hauteurs = arbres[\"hauteur_m\"]\n",
    "hauteurs_clean = hauteurs.where((0 < hauteurs) & (hauteurs <= 45))\n",
    "hauteurs_count = hauteurs_clean.value_counts()\n",
    "hauteurs_count"
   ],
   "metadata": {
    "collapsed": false,
    "pycharm": {
     "name": "#%%\n",
     "is_executing": true
    }
   }
  },
  {
   "cell_type": "markdown",
   "source": [],
   "metadata": {
    "collapsed": false
   }
  },
  {
   "cell_type": "code",
   "execution_count": null,
   "outputs": [],
   "source": [
    "modalites = hauteurs_count.index\n",
    "tab = pa.DataFrame(modalites, columns=[\"hauteur_m\"])\n",
    "tab"
   ],
   "metadata": {
    "collapsed": false,
    "pycharm": {
     "name": "#%%\n",
     "is_executing": true
    }
   }
  },
  {
   "cell_type": "code",
   "execution_count": null,
   "metadata": {
    "pycharm": {
     "is_executing": true
    }
   },
   "outputs": [],
   "source": [
    "tab[\"n\"] = hauteurs_count.values\n",
    "tab"
   ]
  },
  {
   "cell_type": "code",
   "execution_count": null,
   "outputs": [],
   "source": [
    "tab[\"f\"] = tab[\"n\"] / len(hauteurs_clean)\n",
    "tab"
   ],
   "metadata": {
    "collapsed": false,
    "pycharm": {
     "name": "#%%\n",
     "is_executing": true
    }
   }
  },
  {
   "cell_type": "code",
   "execution_count": null,
   "outputs": [],
   "source": [
    "tab = tab.sort_values(\"hauteur_m\")\n",
    "tab[\"F\"] = tab[\"f\"].cumsum()\n",
    "tab"
   ],
   "metadata": {
    "collapsed": false,
    "pycharm": {
     "name": "#%%\n",
     "is_executing": true
    }
   }
  },
  {
   "cell_type": "code",
   "execution_count": null,
   "outputs": [],
   "source": [
    "tab.describe()"
   ],
   "metadata": {
    "collapsed": false,
    "pycharm": {
     "name": "#%%\n",
     "is_executing": true
    }
   }
  },
  {
   "cell_type": "code",
   "execution_count": 134,
   "outputs": [
    {
     "data": {
      "text/plain": "<AxesSubplot:>"
     },
     "execution_count": 134,
     "metadata": {},
     "output_type": "execute_result"
    },
    {
     "data": {
      "text/plain": "<Figure size 432x288 with 1 Axes>",
      "image/png": "[encoded data removed]"
     },
     "metadata": {
      "needs_background": "light"
     },
     "output_type": "display_data"
    }
   ],
   "source": [
    "tab.boxplot('hauteur_m', vert=False)"
   ],
   "metadata": {
    "collapsed": false,
    "pycharm": {
     "name": "#%%\n"
    }
   }
  },
  {
   "cell_type": "code",
   "execution_count": null,
   "outputs": [],
   "source": [
    "for name in arbres['libelle_francais'].head(10).unique():\n",
    "    subset = arbres[arbres.libelle_francais == name]\n",
    "    print(\"-\"*20)\n",
    "    print(name)\n",
    "    # print(subset.describe())\n",
    "    print(\"moy:\\n\",subset['hauteur_m'].mean())\n",
    "    print(\"med:\\n\",subset['hauteur_m'].median())\n",
    "    print(\"mod:\\n\",subset['hauteur_m'].mode())\n",
    "    print(\"var:\\n\",subset['hauteur_m'].var(ddof=0))\n",
    "    print(\"e-t:\\n\",subset['hauteur_m'].std(ddof=0))\n",
    "    print(\"skw:\\n\",subset['hauteur_m'].skew())\n",
    "    print(\"kur:\\n\",subset['hauteur_m'].kurtosis())\n",
    "    subset[\"hauteur_m\"].hist()\n",
    "    plt.show()\n",
    "    subset.boxplot(column=\"hauteur_m\", vert=False)\n",
    "    plt.show()"
   ],
   "metadata": {
    "collapsed": false,
    "pycharm": {
     "name": "#%%\n",
     "is_executing": true
    }
   }
  },
  {
   "cell_type": "code",
   "execution_count": 196,
   "outputs": [
    {
     "data": {
      "text/plain": "<Figure size 432x288 with 1 Axes>",
      "image/png": "[encoded data removed]"
     },
     "metadata": {
      "needs_background": "light"
     },
     "output_type": "display_data"
    }
   ],
   "source": [
    "ht_moy = arbres.hauteur_m.mean()\n",
    "type(arbres.hauteur_m)\n",
    "hauteur_inf = arbres.where(arbres['hauteur_m']<ht_moy)\n",
    "\n",
    "ht_inf = ~np.isnan(hauteur_inf.hauteur_m.values)\n",
    "\n",
    "n = len(ht_inf)\n",
    "n\n",
    "lorenz = np.cumsum(np.sort(ht_inf)) / ht_inf.sum()\n",
    "np.mean(lorenz)\n",
    "lorenz = np.append([0],lorenz)\n",
    "plt.axes().axis('equal')\n",
    "xaxis = np.linspace(0-1/n,1+1/n,n+1)\n",
    "plt.plot(xaxis,lorenz,drawstyle='steps-post')\n",
    "plt.show()"
   ],
   "metadata": {
    "collapsed": false,
    "pycharm": {
     "name": "#%%\n"
    }
   }
  },
  {
   "cell_type": "code",
   "execution_count": 221,
   "outputs": [
    {
     "name": "stdout",
     "output_type": "stream",
     "text": [
      "0.10878798023353997\n"
     ]
    },
    {
     "data": {
      "text/plain": "0.21757596046707994"
     },
     "execution_count": 221,
     "metadata": {},
     "output_type": "execute_result"
    }
   ],
   "source": [
    "AUC = (lorenz.sum() -lorenz[-1]/2 -lorenz[0]/2)/n # Surface sous la courbe de Lorenz. Le premier segment (lorenz[0]) est à moitié en dessous de 0, on le coupe donc en 2, on fait de même pour le dernier segment lorenz[-1] qui est à moitié au dessus de 1.\n",
    "\n",
    "S = 0.5 - AUC # surface entre la première bissectrice et le courbe de Lorenz\n",
    "print(S)\n",
    "gini = 2*S\n",
    "\n",
    "gini"
   ],
   "metadata": {
    "collapsed": false,
    "pycharm": {
     "name": "#%%\n"
    }
   }
  },
  {
   "cell_type": "code",
   "execution_count": 242,
   "outputs": [
    {
     "name": "stdout",
     "output_type": "stream",
     "text": [
      "var A:    0    1.0\n",
      "dtype: float64\n",
      "var B:    0    2.25\n",
      "dtype: float64\n"
     ]
    },
    {
     "data": {
      "text/plain": "               0\ncount  10.000000\nmean    4.000000\nstd     3.651484\nmin     1.000000\n25%     1.000000\n50%     3.000000\n75%     5.000000\nmax    10.000000",
      "text/html": "<div>\n<style scoped>\n    .dataframe tbody tr th:only-of-type {\n        vertical-align: middle;\n    }\n\n    .dataframe tbody tr th {\n        vertical-align: top;\n    }\n\n    .dataframe thead th {\n        text-align: right;\n    }\n</style>\n<table border=\"1\" class=\"dataframe\">\n  <thead>\n    <tr style=\"text-align: right;\">\n      <th></th>\n      <th>0</th>\n    </tr>\n  </thead>\n  <tbody>\n    <tr>\n      <th>count</th>\n      <td>10.000000</td>\n    </tr>\n    <tr>\n      <th>mean</th>\n      <td>4.000000</td>\n    </tr>\n    <tr>\n      <th>std</th>\n      <td>3.651484</td>\n    </tr>\n    <tr>\n      <th>min</th>\n      <td>1.000000</td>\n    </tr>\n    <tr>\n      <th>25%</th>\n      <td>1.000000</td>\n    </tr>\n    <tr>\n      <th>50%</th>\n      <td>3.000000</td>\n    </tr>\n    <tr>\n      <th>75%</th>\n      <td>5.000000</td>\n    </tr>\n    <tr>\n      <th>max</th>\n      <td>10.000000</td>\n    </tr>\n  </tbody>\n</table>\n</div>"
     },
     "execution_count": 242,
     "metadata": {},
     "output_type": "execute_result"
    }
   ],
   "source": [
    "x = np.array([1,10,1,10,1,1,5,1,5,5])\n",
    "y = np.array([6,4,6,4,6,4,6,4])\n",
    "z = np.array([1,4,1,4,1,4,1,4])\n",
    "x_df = pa.DataFrame(x)\n",
    "y_df = pa.DataFrame(y)\n",
    "z_df = pa.DataFrame(z)\n",
    "print(f\"var A:    {y_df.var(ddof=0)}\")\n",
    "print(f\"var B:    {z_df.var(ddof=0)}\")\n",
    "type(x_df)\n",
    "x_df.describe()"
   ],
   "metadata": {
    "collapsed": false,
    "pycharm": {
     "name": "#%%\n"
    }
   }
  },
  {
   "cell_type": "code",
   "execution_count": 243,
   "outputs": [
    {
     "name": "stdout",
     "output_type": "stream",
     "text": [
      "moy:    0    4.0\n",
      "dtype: float64\n",
      "med:    0    3.0\n",
      "dtype: float64\n",
      "mod:       0\n",
      "0  1\n",
      "var:    0    12.0\n",
      "dtype: float64\n",
      "e-t:    0    3.464102\n",
      "dtype: float64\n",
      "skw:    0    0.0\n",
      "dtype: float64\n",
      "kur:    0   -0.65625\n",
      "dtype: float64\n"
     ]
    }
   ],
   "source": [
    "print(f\"moy:    {x_df.mean()}\")\n",
    "print(f\"med:    {x_df.median()}\")\n",
    "print(f\"mod:    {x_df.mode()}\")\n",
    "print(f\"var:    {x_df.var(ddof=0)}\")\n",
    "print(f\"e-t:    {x_df.std(ddof=0)}\")\n",
    "print(f\"skw:    {z_df.skew()}\")\n",
    "print(f\"kur:    {x_df.kurtosis()}\")"
   ],
   "metadata": {
    "collapsed": false,
    "pycharm": {
     "name": "#%%\n"
    }
   }
  }
 ],
 "metadata": {
  "colab": {
   "authorship_tag": "ABX9TyP8wcrIAeefeU3Xuq/z9CLl",
   "collapsed_sections": [],
   "history_visible": true,
   "mount_file_id": "1MCJ_8itezFpXEzEo_t418DhCeD9DZdTw",
   "name": "Smart-city-cours.ipynb",
   "provenance": []
  },
  "kernelspec": {
   "display_name": "Python 3 (ipykernel)",
   "language": "python",
   "name": "python3"
  },
  "language_info": {
   "codemirror_mode": {
    "name": "ipython",
    "version": 3
   },
   "file_extension": ".py",
   "mimetype": "text/x-python",
   "name": "python",
   "nbconvert_exporter": "python",
   "pygments_lexer": "ipython3",
   "version": "3.9.7"
  }
 },
 "nbformat": 4,
 "nbformat_minor": 1
}