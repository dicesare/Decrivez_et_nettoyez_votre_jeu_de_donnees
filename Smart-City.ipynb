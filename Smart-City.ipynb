{
 "cells": [
  {
   "cell_type": "code",
   "execution_count": 20,
   "metadata": {
    "id": "ivkeW5oNY0Bb"
   },
   "outputs": [],
   "source": [
    "import numpy as np\n",
    "import pandas as pd\n",
    "import seaborn as sns\n",
    "import matplotlib.pyplot as plt\n",
    "from sklearn.linear_model import LinearRegression as lregr\n",
    "arbres = pd.read_csv(\"p2-arbres-fr.csv\", sep=\";\")"
   ]
  },
  {
   "cell_type": "markdown",
   "metadata": {
    "id": "MJyWWf1KeK0w"
   },
   "source": [
    "# Apercu rapide\n",
    "\n",
    "---\n",
    "Grace à Panda 🐼, nous allons pouvoir observer un rapide aperçu de notre DataFrame et ceux par la fonction suivante:\n",
    "```\n",
    "notre_variable.head()\n",
    "```\n",
    "\n",
    "\n",
    "> *La fonction  `.tail()`  est le pendant de la fonction `.head()`  . Elle permet d'afficher les derniers éléments du DataFrame.*\n",
    "\n",
    "Ici, nous pouvons déjà observer que certaines colonnes &| lignes possèdent des valeurs vides 🕳 representées par `NaN`.\n",
    " \n",
    "\n"
   ]
  },
  {
   "cell_type": "code",
   "execution_count": 21,
   "metadata": {
    "colab": {
     "base_uri": "https://localhost:8080/"
    },
    "executionInfo": {
     "elapsed": 212,
     "status": "ok",
     "timestamp": 1638883630469,
     "user": {
      "displayName": "antony coco",
      "photoUrl": "https://lh3.googleusercontent.com/a-/AOh14GjITzgEfRlstqx8C3JFJpWFO9o1MEq95k4SY2KPtg=s64",
      "userId": "10048713901788815038"
     },
     "user_tz": -60
    },
    "id": "SUYQpUSJE0FN",
    "outputId": "d1ec4d7d-630c-4c39-d9ad-9e222e0d2ba0"
   },
   "outputs": [
    {
     "data": {
      "text/plain": "(200137, 18)"
     },
     "execution_count": 21,
     "metadata": {},
     "output_type": "execute_result"
    }
   ],
   "source": [
    "arbres.shape"
   ]
  },
  {
   "cell_type": "code",
   "execution_count": 22,
   "metadata": {
    "colab": {
     "base_uri": "https://localhost:8080/"
    },
    "executionInfo": {
     "elapsed": 221,
     "status": "ok",
     "timestamp": 1638883540646,
     "user": {
      "displayName": "antony coco",
      "photoUrl": "https://lh3.googleusercontent.com/a-/AOh14GjITzgEfRlstqx8C3JFJpWFO9o1MEq95k4SY2KPtg=s64",
      "userId": "10048713901788815038"
     },
     "user_tz": -60
    },
    "id": "VvAislT9EZp2",
    "outputId": "ea391cd2-e2e4-4068-f2c1-2742251aac5f"
   },
   "outputs": [
    {
     "data": {
      "text/plain": "id                          0\ntype_emplacement            0\ndomanialite                 1\narrondissement              0\ncomplement_addresse    169235\nnumero                 200137\nlieu                        0\nid_emplacement              0\nlibelle_francais         1497\ngenre                      16\nespece                   1752\nvariete                163360\ncirconference_cm            0\nhauteur_m                   0\nstade_developpement     67205\nremarquable             63098\ngeo_point_2d_a              0\ngeo_point_2d_b              0\ndtype: int64"
     },
     "execution_count": 22,
     "metadata": {},
     "output_type": "execute_result"
    }
   ],
   "source": [
    "arbres.isnull().sum()"
   ]
  },
  {
   "cell_type": "code",
   "execution_count": 23,
   "metadata": {
    "colab": {
     "base_uri": "https://localhost:8080/",
     "height": 487
    },
    "executionInfo": {
     "elapsed": 21,
     "status": "ok",
     "timestamp": 1638883079627,
     "user": {
      "displayName": "antony coco",
      "photoUrl": "https://lh3.googleusercontent.com/a-/AOh14GjITzgEfRlstqx8C3JFJpWFO9o1MEq95k4SY2KPtg=s64",
      "userId": "10048713901788815038"
     },
     "user_tz": -60
    },
    "id": "3kGG6OtHcP7W",
    "outputId": "89bd2ca4-ec7c-46db-99a0-752c78d1e769"
   },
   "outputs": [
    {
     "data": {
      "text/plain": "      id type_emplacement domanialite   arrondissement complement_addresse  \\\n0  99874            Arbre      Jardin   PARIS 7E ARRDT                 NaN   \n1  99875            Arbre      Jardin   PARIS 7E ARRDT                 NaN   \n2  99876            Arbre      Jardin   PARIS 7E ARRDT                 NaN   \n3  99877            Arbre      Jardin   PARIS 7E ARRDT                 NaN   \n4  99878            Arbre      Jardin  PARIS 17E ARRDT                 NaN   \n\n   numero                                        lieu id_emplacement  \\\n0     NaN   MAIRIE DU 7E 116 RUE DE GRENELLE PARIS 7E             19   \n1     NaN   MAIRIE DU 7E 116 RUE DE GRENELLE PARIS 7E             20   \n2     NaN   MAIRIE DU 7E 116 RUE DE GRENELLE PARIS 7E             21   \n3     NaN   MAIRIE DU 7E 116 RUE DE GRENELLE PARIS 7E             22   \n4     NaN  PARC CLICHY-BATIGNOLLES-MARTIN LUTHER KING       000G0037   \n\n  libelle_francais      genre         espece variete  circonference_cm  \\\n0       Marronnier   Aesculus  hippocastanum     NaN                20   \n1               If      Taxus        baccata     NaN                65   \n2               If      Taxus        baccata     NaN                90   \n3           Erable       Acer        negundo     NaN                60   \n4     Arbre à miel  Tetradium      daniellii     NaN                38   \n\n   hauteur_m stade_developpement  remarquable  geo_point_2d_a  geo_point_2d_b  \n0          5                 NaN          0.0       48.857620        2.320962  \n1          8                   A          NaN       48.857656        2.321031  \n2         10                   A          NaN       48.857705        2.321061  \n3          8                   A          NaN       48.857722        2.321006  \n4          0                 NaN          NaN       48.890435        2.315289  ",
      "text/html": "<div>\n<style scoped>\n    .dataframe tbody tr th:only-of-type {\n        vertical-align: middle;\n    }\n\n    .dataframe tbody tr th {\n        vertical-align: top;\n    }\n\n    .dataframe thead th {\n        text-align: right;\n    }\n</style>\n<table border=\"1\" class=\"dataframe\">\n  <thead>\n    <tr style=\"text-align: right;\">\n      <th></th>\n      <th>id</th>\n      <th>type_emplacement</th>\n      <th>domanialite</th>\n      <th>arrondissement</th>\n      <th>complement_addresse</th>\n      <th>numero</th>\n      <th>lieu</th>\n      <th>id_emplacement</th>\n      <th>libelle_francais</th>\n      <th>genre</th>\n      <th>espece</th>\n      <th>variete</th>\n      <th>circonference_cm</th>\n      <th>hauteur_m</th>\n      <th>stade_developpement</th>\n      <th>remarquable</th>\n      <th>geo_point_2d_a</th>\n      <th>geo_point_2d_b</th>\n    </tr>\n  </thead>\n  <tbody>\n    <tr>\n      <th>0</th>\n      <td>99874</td>\n      <td>Arbre</td>\n      <td>Jardin</td>\n      <td>PARIS 7E ARRDT</td>\n      <td>NaN</td>\n      <td>NaN</td>\n      <td>MAIRIE DU 7E 116 RUE DE GRENELLE PARIS 7E</td>\n      <td>19</td>\n      <td>Marronnier</td>\n      <td>Aesculus</td>\n      <td>hippocastanum</td>\n      <td>NaN</td>\n      <td>20</td>\n      <td>5</td>\n      <td>NaN</td>\n      <td>0.0</td>\n      <td>48.857620</td>\n      <td>2.320962</td>\n    </tr>\n    <tr>\n      <th>1</th>\n      <td>99875</td>\n      <td>Arbre</td>\n      <td>Jardin</td>\n      <td>PARIS 7E ARRDT</td>\n      <td>NaN</td>\n      <td>NaN</td>\n      <td>MAIRIE DU 7E 116 RUE DE GRENELLE PARIS 7E</td>\n      <td>20</td>\n      <td>If</td>\n      <td>Taxus</td>\n      <td>baccata</td>\n      <td>NaN</td>\n      <td>65</td>\n      <td>8</td>\n      <td>A</td>\n      <td>NaN</td>\n      <td>48.857656</td>\n      <td>2.321031</td>\n    </tr>\n    <tr>\n      <th>2</th>\n      <td>99876</td>\n      <td>Arbre</td>\n      <td>Jardin</td>\n      <td>PARIS 7E ARRDT</td>\n      <td>NaN</td>\n      <td>NaN</td>\n      <td>MAIRIE DU 7E 116 RUE DE GRENELLE PARIS 7E</td>\n      <td>21</td>\n      <td>If</td>\n      <td>Taxus</td>\n      <td>baccata</td>\n      <td>NaN</td>\n      <td>90</td>\n      <td>10</td>\n      <td>A</td>\n      <td>NaN</td>\n      <td>48.857705</td>\n      <td>2.321061</td>\n    </tr>\n    <tr>\n      <th>3</th>\n      <td>99877</td>\n      <td>Arbre</td>\n      <td>Jardin</td>\n      <td>PARIS 7E ARRDT</td>\n      <td>NaN</td>\n      <td>NaN</td>\n      <td>MAIRIE DU 7E 116 RUE DE GRENELLE PARIS 7E</td>\n      <td>22</td>\n      <td>Erable</td>\n      <td>Acer</td>\n      <td>negundo</td>\n      <td>NaN</td>\n      <td>60</td>\n      <td>8</td>\n      <td>A</td>\n      <td>NaN</td>\n      <td>48.857722</td>\n      <td>2.321006</td>\n    </tr>\n    <tr>\n      <th>4</th>\n      <td>99878</td>\n      <td>Arbre</td>\n      <td>Jardin</td>\n      <td>PARIS 17E ARRDT</td>\n      <td>NaN</td>\n      <td>NaN</td>\n      <td>PARC CLICHY-BATIGNOLLES-MARTIN LUTHER KING</td>\n      <td>000G0037</td>\n      <td>Arbre à miel</td>\n      <td>Tetradium</td>\n      <td>daniellii</td>\n      <td>NaN</td>\n      <td>38</td>\n      <td>0</td>\n      <td>NaN</td>\n      <td>NaN</td>\n      <td>48.890435</td>\n      <td>2.315289</td>\n    </tr>\n  </tbody>\n</table>\n</div>"
     },
     "execution_count": 23,
     "metadata": {},
     "output_type": "execute_result"
    }
   ],
   "source": [
    "arbres.head()"
   ]
  },
  {
   "cell_type": "markdown",
   "metadata": {
    "id": "H2lHKXs9g5Ro"
   },
   "source": [
    "## **Demonstration de fonction**\n",
    "\n",
    "[🐼 toute la doc des Fonctions ](https://pandas.pydata.org/pandas-docs/stable/reference/general_functions.html)\n",
    "\n",
    "> **.unique()**\n",
    "```\n",
    "notre_variable.selection_entete.unique()\n",
    "```\n",
    "Qui comme son nom l'indique retourne des valeurs sans doublons"
   ]
  },
  {
   "cell_type": "code",
   "execution_count": 24,
   "metadata": {
    "colab": {
     "base_uri": "https://localhost:8080/"
    },
    "executionInfo": {
     "elapsed": 17,
     "status": "ok",
     "timestamp": 1638883079628,
     "user": {
      "displayName": "antony coco",
      "photoUrl": "https://lh3.googleusercontent.com/a-/AOh14GjITzgEfRlstqx8C3JFJpWFO9o1MEq95k4SY2KPtg=s64",
      "userId": "10048713901788815038"
     },
     "user_tz": -60
    },
    "id": "4ZyIoEQ6dF5T",
    "outputId": "89ea320e-8566-4ff1-fcff-df963b25129a"
   },
   "outputs": [
    {
     "data": {
      "text/plain": "array(['Marronnier', 'If', 'Erable', 'Arbre à miel', 'Platane', 'Sophora',\n       'Prunus n. sp.', 'Hêtre', 'Micocoulier', 'Tilleul', 'Chêne',\n       'Savonnier', 'Copalme', 'Noyer', 'Arbre à caramel', 'Troene',\n       'Tulipier', 'Pin', 'Sapin', 'Cerisier à fleurs', 'Charme-Houblon',\n       'Cèdre', 'Paulownia', 'Thuya', 'Pommier à fleurs', 'Poirier',\n       'Pommier', 'Bouleau', 'Orme', 'Arbre de Judée', 'Robinier',\n       'Frêne', 'Aubépine', 'Fevier', 'Prunier à fleurs',\n       'Arbre aux quarante écus', 'Néflier commun', 'Saule', 'Magnolia',\n       'Prunier à fruits', 'Poirier à fleurs', 'Peuplier', 'Faux-cyprès',\n       'Aubepine', nan, 'Plaqueminier', 'Mûrier', 'Pêcher', 'Pterocarya',\n       'Merisier', 'Noisetier de Byzance', 'Alisier', 'Cognassier',\n       'Parrotie de Perse - Arbre de fer', 'Poirier à fruits',\n       'Orme de Sibérie', 'Frêne à fleurs', 'Aulne', 'Troëne',\n       'Fontanesia', 'Cornouiller', 'Cedrele', 'Catalpa', 'Houx', 'Buis',\n       'Metaséquoia', 'Chicot du Canada', 'Oranger des Osages',\n       'Céphalotaxe', 'Sumac', 'Châtaignier', 'Ailante', 'Sequoia',\n       'Lilas des indes', 'Pterostyrax', 'Eucalyptus', 'Olivier',\n       'Figuier', 'Charme', 'Sureau', 'Epicéa', 'Sorbier', 'Amélanchier',\n       'Cytise', 'Filaire', 'Angélique', 'Virgilier', 'Phellodendron',\n       'Eleagnus - Chalef', 'Pommier à fruits', 'Cabrillet', 'Citronnier',\n       'Arbre à soie', 'Lilas de Perse', 'Laurier-Cerise',\n       'Laurier du Portugal', 'Nothofagus', 'Cyprès', 'Noisetier',\n       'Palmier', 'Muscadier', 'Libocèdre', 'Abelia', 'Photinia',\n       'Clerodendron', 'Arbre aux mouchoirs', 'Sterculier', 'Poivrier',\n       'Cyprès Chauve', 'Arbre à Gutta-Percha', 'Nyssa', 'Cotoneaster',\n       'Olivier odorant', 'Non spécifié', 'Laurier sauce', 'Arbousier',\n       'Araucaria', 'Cryptomeria', 'Cerisier à grappes', 'Cunninghamia',\n       'Hiba', 'Chèvrefeuille', 'Raisinier', 'Chitalpa', 'Néflier',\n       'Pistachier', 'Laburnum de Adam', 'Tapiscia', 'Mélèze', 'Caryer',\n       'Parrotie de Perse', 'Distylium', 'Tamaris', 'Orme de Samarie',\n       'Arbre à perruque', 'Chimonanthe', 'Mimosa', 'Cordyline',\n       'Faux dattier', 'Althéa', 'Cerisier à fruits', 'Amandier', 'Tsuga',\n       'Stewartia', 'Argousier', 'Papayer', 'Styrax',\n       'Laurier des Iroquois', 'Laurier', 'Genévrier',\n       'Heptacodion de Chine', 'Grenadier', 'Sapin Douglas',\n       'Rhododendron', 'Viorne', 'Cormier', 'Prunellier', 'Poliothyrsis',\n       'Caragana', 'Asiminier', 'Platycarya', 'Amla', 'Alangium',\n       'Euscaphis', 'Andromède', 'Sycopsis', 'Camphrier', 'Jujubier',\n       'Maackie', 'Staphylier', 'Seringas', 'Lilas', 'Fusain',\n       'Fremontia', 'Nerprun', 'Callistemon', 'Aronie', 'Myrte du Chili',\n       'Goyavier', 'Genêt', 'Laurier du caucase', 'Prunus Fleur n. sp.',\n       'Abricotier', 'Prunus Fruit n. sp.', \"Fustet d' Amérique\",\n       'Idesia', 'Laurier des Açores', 'Kalopanax', 'Ormeau épineux',\n       'Ostryer', 'Xanthoceras', 'Parrotiopsis', 'Garrya'], dtype=object)"
     },
     "execution_count": 24,
     "metadata": {},
     "output_type": "execute_result"
    }
   ],
   "source": [
    "arbres.libelle_francais.unique()"
   ]
  },
  {
   "cell_type": "markdown",
   "metadata": {
    "id": "-Iy19MDqkO_n"
   },
   "source": [
    ">**.describe()**\n",
    "```\n",
    "notre_variable.describe()\n",
    "```\n",
    "Fonction des plus interessantes, qui va nous donner différentes statistiques sur les données contenues dans chaque colonne."
   ]
  },
  {
   "cell_type": "code",
   "execution_count": 25,
   "metadata": {
    "colab": {
     "base_uri": "https://localhost:8080/",
     "height": 300
    },
    "executionInfo": {
     "elapsed": 16,
     "status": "ok",
     "timestamp": 1638883079629,
     "user": {
      "displayName": "antony coco",
      "photoUrl": "https://lh3.googleusercontent.com/a-/AOh14GjITzgEfRlstqx8C3JFJpWFO9o1MEq95k4SY2KPtg=s64",
      "userId": "10048713901788815038"
     },
     "user_tz": -60
    },
    "id": "fzo3VXEJdo_u",
    "outputId": "3b7b7f5c-7f92-489f-8f0c-44151d1b01e9"
   },
   "outputs": [
    {
     "data": {
      "text/plain": "                 id  numero  circonference_cm      hauteur_m    remarquable  \\\ncount  2.001370e+05     0.0     200137.000000  200137.000000  137039.000000   \nmean   3.872027e+05     NaN         83.380479      13.110509       0.001343   \nstd    5.456032e+05     NaN        673.190213    1971.217387       0.036618   \nmin    9.987400e+04     NaN          0.000000       0.000000       0.000000   \n25%    1.559270e+05     NaN         30.000000       5.000000       0.000000   \n50%    2.210780e+05     NaN         70.000000       8.000000       0.000000   \n75%    2.741020e+05     NaN        115.000000      12.000000       0.000000   \nmax    2.024745e+06     NaN     250255.000000  881818.000000       1.000000   \n\n       geo_point_2d_a  geo_point_2d_b  \ncount   200137.000000   200137.000000  \nmean        48.854491        2.348208  \nstd          0.030234        0.051220  \nmin         48.742290        2.210241  \n25%         48.835021        2.307530  \n50%         48.854162        2.351095  \n75%         48.876447        2.386838  \nmax         48.911485        2.469759  ",
      "text/html": "<div>\n<style scoped>\n    .dataframe tbody tr th:only-of-type {\n        vertical-align: middle;\n    }\n\n    .dataframe tbody tr th {\n        vertical-align: top;\n    }\n\n    .dataframe thead th {\n        text-align: right;\n    }\n</style>\n<table border=\"1\" class=\"dataframe\">\n  <thead>\n    <tr style=\"text-align: right;\">\n      <th></th>\n      <th>id</th>\n      <th>numero</th>\n      <th>circonference_cm</th>\n      <th>hauteur_m</th>\n      <th>remarquable</th>\n      <th>geo_point_2d_a</th>\n      <th>geo_point_2d_b</th>\n    </tr>\n  </thead>\n  <tbody>\n    <tr>\n      <th>count</th>\n      <td>2.001370e+05</td>\n      <td>0.0</td>\n      <td>200137.000000</td>\n      <td>200137.000000</td>\n      <td>137039.000000</td>\n      <td>200137.000000</td>\n      <td>200137.000000</td>\n    </tr>\n    <tr>\n      <th>mean</th>\n      <td>3.872027e+05</td>\n      <td>NaN</td>\n      <td>83.380479</td>\n      <td>13.110509</td>\n      <td>0.001343</td>\n      <td>48.854491</td>\n      <td>2.348208</td>\n    </tr>\n    <tr>\n      <th>std</th>\n      <td>5.456032e+05</td>\n      <td>NaN</td>\n      <td>673.190213</td>\n      <td>1971.217387</td>\n      <td>0.036618</td>\n      <td>0.030234</td>\n      <td>0.051220</td>\n    </tr>\n    <tr>\n      <th>min</th>\n      <td>9.987400e+04</td>\n      <td>NaN</td>\n      <td>0.000000</td>\n      <td>0.000000</td>\n      <td>0.000000</td>\n      <td>48.742290</td>\n      <td>2.210241</td>\n    </tr>\n    <tr>\n      <th>25%</th>\n      <td>1.559270e+05</td>\n      <td>NaN</td>\n      <td>30.000000</td>\n      <td>5.000000</td>\n      <td>0.000000</td>\n      <td>48.835021</td>\n      <td>2.307530</td>\n    </tr>\n    <tr>\n      <th>50%</th>\n      <td>2.210780e+05</td>\n      <td>NaN</td>\n      <td>70.000000</td>\n      <td>8.000000</td>\n      <td>0.000000</td>\n      <td>48.854162</td>\n      <td>2.351095</td>\n    </tr>\n    <tr>\n      <th>75%</th>\n      <td>2.741020e+05</td>\n      <td>NaN</td>\n      <td>115.000000</td>\n      <td>12.000000</td>\n      <td>0.000000</td>\n      <td>48.876447</td>\n      <td>2.386838</td>\n    </tr>\n    <tr>\n      <th>max</th>\n      <td>2.024745e+06</td>\n      <td>NaN</td>\n      <td>250255.000000</td>\n      <td>881818.000000</td>\n      <td>1.000000</td>\n      <td>48.911485</td>\n      <td>2.469759</td>\n    </tr>\n  </tbody>\n</table>\n</div>"
     },
     "execution_count": 25,
     "metadata": {},
     "output_type": "execute_result"
    }
   ],
   "source": [
    "# L'argument include=\"all\" sert à inclure les colonnes non-numérique dans \n",
    "# l'analyse\n",
    "#arbres.describe(include=\"all\")\n",
    "# sinon ci-dessous nous affiche seulement quand il y a une stat en retour.\n",
    "arbres.describe()\n"
   ]
  },
  {
   "cell_type": "code",
   "execution_count": 26,
   "metadata": {
    "colab": {
     "base_uri": "https://localhost:8080/",
     "height": 300
    },
    "executionInfo": {
     "elapsed": 15,
     "status": "ok",
     "timestamp": 1638883079630,
     "user": {
      "displayName": "antony coco",
      "photoUrl": "https://lh3.googleusercontent.com/a-/AOh14GjITzgEfRlstqx8C3JFJpWFO9o1MEq95k4SY2KPtg=s64",
      "userId": "10048713901788815038"
     },
     "user_tz": -60
    },
    "id": "vXVQnKci9192",
    "outputId": "90e2c3da-a6bc-49d4-e49a-0b01d96bc9c4"
   },
   "outputs": [
    {
     "data": {
      "text/plain": "                 id  numero  circonference_cm      hauteur_m    remarquable  \\\ncount  2.001370e+05     0.0     200137.000000  200137.000000  137039.000000   \nmean   3.872027e+05     NaN         83.380479      13.110509       0.001343   \nstd    5.456032e+05     NaN        673.190213    1971.217387       0.036618   \nmin    9.987400e+04     NaN          0.000000       0.000000       0.000000   \n25%    1.559270e+05     NaN         30.000000       5.000000       0.000000   \n50%    2.210780e+05     NaN         70.000000       8.000000       0.000000   \n75%    2.741020e+05     NaN        115.000000      12.000000       0.000000   \nmax    2.024745e+06     NaN     250255.000000  881818.000000       1.000000   \n\n       geo_point_2d_a  geo_point_2d_b  \ncount   200137.000000   200137.000000  \nmean        48.854491        2.348208  \nstd          0.030234        0.051220  \nmin         48.742290        2.210241  \n25%         48.835021        2.307530  \n50%         48.854162        2.351095  \n75%         48.876447        2.386838  \nmax         48.911485        2.469759  ",
      "text/html": "<div>\n<style scoped>\n    .dataframe tbody tr th:only-of-type {\n        vertical-align: middle;\n    }\n\n    .dataframe tbody tr th {\n        vertical-align: top;\n    }\n\n    .dataframe thead th {\n        text-align: right;\n    }\n</style>\n<table border=\"1\" class=\"dataframe\">\n  <thead>\n    <tr style=\"text-align: right;\">\n      <th></th>\n      <th>id</th>\n      <th>numero</th>\n      <th>circonference_cm</th>\n      <th>hauteur_m</th>\n      <th>remarquable</th>\n      <th>geo_point_2d_a</th>\n      <th>geo_point_2d_b</th>\n    </tr>\n  </thead>\n  <tbody>\n    <tr>\n      <th>count</th>\n      <td>2.001370e+05</td>\n      <td>0.0</td>\n      <td>200137.000000</td>\n      <td>200137.000000</td>\n      <td>137039.000000</td>\n      <td>200137.000000</td>\n      <td>200137.000000</td>\n    </tr>\n    <tr>\n      <th>mean</th>\n      <td>3.872027e+05</td>\n      <td>NaN</td>\n      <td>83.380479</td>\n      <td>13.110509</td>\n      <td>0.001343</td>\n      <td>48.854491</td>\n      <td>2.348208</td>\n    </tr>\n    <tr>\n      <th>std</th>\n      <td>5.456032e+05</td>\n      <td>NaN</td>\n      <td>673.190213</td>\n      <td>1971.217387</td>\n      <td>0.036618</td>\n      <td>0.030234</td>\n      <td>0.051220</td>\n    </tr>\n    <tr>\n      <th>min</th>\n      <td>9.987400e+04</td>\n      <td>NaN</td>\n      <td>0.000000</td>\n      <td>0.000000</td>\n      <td>0.000000</td>\n      <td>48.742290</td>\n      <td>2.210241</td>\n    </tr>\n    <tr>\n      <th>25%</th>\n      <td>1.559270e+05</td>\n      <td>NaN</td>\n      <td>30.000000</td>\n      <td>5.000000</td>\n      <td>0.000000</td>\n      <td>48.835021</td>\n      <td>2.307530</td>\n    </tr>\n    <tr>\n      <th>50%</th>\n      <td>2.210780e+05</td>\n      <td>NaN</td>\n      <td>70.000000</td>\n      <td>8.000000</td>\n      <td>0.000000</td>\n      <td>48.854162</td>\n      <td>2.351095</td>\n    </tr>\n    <tr>\n      <th>75%</th>\n      <td>2.741020e+05</td>\n      <td>NaN</td>\n      <td>115.000000</td>\n      <td>12.000000</td>\n      <td>0.000000</td>\n      <td>48.876447</td>\n      <td>2.386838</td>\n    </tr>\n    <tr>\n      <th>max</th>\n      <td>2.024745e+06</td>\n      <td>NaN</td>\n      <td>250255.000000</td>\n      <td>881818.000000</td>\n      <td>1.000000</td>\n      <td>48.911485</td>\n      <td>2.469759</td>\n    </tr>\n  </tbody>\n</table>\n</div>"
     },
     "execution_count": 26,
     "metadata": {},
     "output_type": "execute_result"
    }
   ],
   "source": [
    "arbres.describe()"
   ]
  },
  {
   "cell_type": "markdown",
   "metadata": {
    "id": "EUJP-3_ZmwMy"
   },
   "source": [
    "# Données manquantes\n",
    "\n",
    "---\n",
    "\n",
    "\n",
    "> Lors de l'affichage rapide on a remarqué l'absence de données par l'apparition de la valeur : `NaN` (plus précisément c'est que la valeur présente n'est pas en corrélation avec le type attendu : Not a Number)\n",
    "l'effet cascade dans les operations arithmétiques nous oblige à les gerer, plus exactement l'isoler.\n",
    "pour ce faire deux possibilités entre autres :\n",
    "\n",
    "\n",
    "*   remplacer les NaN par d'autres valeurs\n",
    "\n",
    "\n",
    "```\n",
    "notre_variable.fillna(value={\"Non_de_la_colonne\": valeur_de_remplacement}).nom_colonne.fonction()\n",
    "notre_variable.fillna(method=\"pad\").nom_colonne.fonction() # utilise la valeur précédente \n",
    "```"
   ]
  },
  {
   "cell_type": "code",
   "execution_count": 27,
   "metadata": {
    "colab": {
     "base_uri": "https://localhost:8080/"
    },
    "executionInfo": {
     "elapsed": 16,
     "status": "ok",
     "timestamp": 1638883079631,
     "user": {
      "displayName": "antony coco",
      "photoUrl": "https://lh3.googleusercontent.com/a-/AOh14GjITzgEfRlstqx8C3JFJpWFO9o1MEq95k4SY2KPtg=s64",
      "userId": "10048713901788815038"
     },
     "user_tz": -60
    },
    "id": "Z4YRvafWeCgW",
    "outputId": "fabcacb3-7964-43d3-bf06-022454a1d1c9"
   },
   "outputs": [
    {
     "data": {
      "text/plain": "200117                  Chêne\n200118                  Chêne\n200119           Plaqueminier\n200120                    NaN\n200121                    NaN\n200122                  Frêne\n200123                 Mélèze\n200124                 Mélèze\n200125                Tilleul\n200126                Tilleul\n200127             Marronnier\n200128                    NaN\n200129                    NaN\n200130                  Chêne\n200131                   Orme\n200132                    NaN\n200133    Arbre aux mouchoirs\n200134               Peuplier\n200135                  Chêne\n200136              Raisinier\nName: libelle_francais, dtype: object"
     },
     "execution_count": 27,
     "metadata": {},
     "output_type": "execute_result"
    }
   ],
   "source": [
    "arbres.libelle_francais.tail(20)"
   ]
  },
  {
   "cell_type": "code",
   "execution_count": 28,
   "metadata": {
    "colab": {
     "base_uri": "https://localhost:8080/"
    },
    "executionInfo": {
     "elapsed": 16,
     "status": "ok",
     "timestamp": 1638883079633,
     "user": {
      "displayName": "antony coco",
      "photoUrl": "https://lh3.googleusercontent.com/a-/AOh14GjITzgEfRlstqx8C3JFJpWFO9o1MEq95k4SY2KPtg=s64",
      "userId": "10048713901788815038"
     },
     "user_tz": -60
    },
    "id": "PVgkQhm1tnga",
    "outputId": "e3b648c7-e8a9-49a7-d939-9cbfae99244d"
   },
   "outputs": [
    {
     "data": {
      "text/plain": "200117                  Chêne\n200118                  Chêne\n200119           Plaqueminier\n200120                       \n200121                       \n200122                  Frêne\n200123                 Mélèze\n200124                 Mélèze\n200125                Tilleul\n200126                Tilleul\n200127             Marronnier\n200128                       \n200129                       \n200130                  Chêne\n200131                   Orme\n200132                       \n200133    Arbre aux mouchoirs\n200134               Peuplier\n200135                  Chêne\n200136              Raisinier\nName: libelle_francais, dtype: object"
     },
     "execution_count": 28,
     "metadata": {},
     "output_type": "execute_result"
    }
   ],
   "source": [
    "# remplacer par des chaines vides\n",
    "arbres.fillna(value={\"libelle_francais\": ''}).libelle_francais.tail(20)"
   ]
  },
  {
   "cell_type": "code",
   "execution_count": 29,
   "metadata": {
    "colab": {
     "base_uri": "https://localhost:8080/"
    },
    "executionInfo": {
     "elapsed": 16,
     "status": "ok",
     "timestamp": 1638883079634,
     "user": {
      "displayName": "antony coco",
      "photoUrl": "https://lh3.googleusercontent.com/a-/AOh14GjITzgEfRlstqx8C3JFJpWFO9o1MEq95k4SY2KPtg=s64",
      "userId": "10048713901788815038"
     },
     "user_tz": -60
    },
    "id": "LDKfcA3TuSAg",
    "outputId": "2a28243d-fc07-4022-e185-c55bc65f9026"
   },
   "outputs": [
    {
     "data": {
      "text/plain": "200117                  Chêne\n200118                  Chêne\n200119           Plaqueminier\n200120           Plaqueminier\n200121           Plaqueminier\n200122                  Frêne\n200123                 Mélèze\n200124                 Mélèze\n200125                Tilleul\n200126                Tilleul\n200127             Marronnier\n200128             Marronnier\n200129             Marronnier\n200130                  Chêne\n200131                   Orme\n200132                   Orme\n200133    Arbre aux mouchoirs\n200134               Peuplier\n200135                  Chêne\n200136              Raisinier\nName: libelle_francais, dtype: object"
     },
     "execution_count": 29,
     "metadata": {},
     "output_type": "execute_result"
    }
   ],
   "source": [
    "# pour l'exemple loin d'etre pertinant dans ce cas\n",
    "arbres.fillna(method=\"pad\").libelle_francais.tail(20)"
   ]
  },
  {
   "cell_type": "markdown",
   "metadata": {
    "id": "bz6AZZAVuqxR"
   },
   "source": [
    "\n",
    "*   la fonction  dropna  permet de supprimer les axes (colonnes ou lignes) qui contiennent des NaN. Par défaut, elle supprime les lignes concernées:\n",
    "```\n",
    "ma_variable.dropna().mafonction()\n",
    "```"
   ]
  },
  {
   "cell_type": "code",
   "execution_count": 30,
   "metadata": {
    "colab": {
     "base_uri": "https://localhost:8080/"
    },
    "executionInfo": {
     "elapsed": 15,
     "status": "ok",
     "timestamp": 1638883079634,
     "user": {
      "displayName": "antony coco",
      "photoUrl": "https://lh3.googleusercontent.com/a-/AOh14GjITzgEfRlstqx8C3JFJpWFO9o1MEq95k4SY2KPtg=s64",
      "userId": "10048713901788815038"
     },
     "user_tz": -60
    },
    "id": "vt5SnfVNvG44",
    "outputId": "29b0ce40-04d3-4b3e-f127-29f56b133d6e"
   },
   "outputs": [
    {
     "data": {
      "text/plain": "200112                  Chêne\n200113                  Chêne\n200114                  Chêne\n200115                  Chêne\n200116                  Chêne\n200117                  Chêne\n200118                  Chêne\n200119           Plaqueminier\n200122                  Frêne\n200123                 Mélèze\n200124                 Mélèze\n200125                Tilleul\n200126                Tilleul\n200127             Marronnier\n200130                  Chêne\n200131                   Orme\n200133    Arbre aux mouchoirs\n200134               Peuplier\n200135                  Chêne\n200136              Raisinier\nName: libelle_francais, dtype: object"
     },
     "execution_count": 30,
     "metadata": {},
     "output_type": "execute_result"
    }
   ],
   "source": [
    "arbres.libelle_francais.dropna().tail(20) # !!! attention à bien préciser la/les colonnes où l'on veut appliquer la fonction. le paramétre \"AXIS\" permet d'agir sur les colonnes."
   ]
  },
  {
   "cell_type": "markdown",
   "metadata": {
    "id": "G3tpxuF4wyo5"
   },
   "source": [
    "# Tableaux croisés dynamiques\n",
    "---\n",
    "Ou table pivot : la synthétisation  des données.\n",
    "\n",
    "\n",
    "```\n",
    "ma_variable.pivot_table('non_colonne', index='un_autre_colonne', columns='et_une_dernière') \n",
    "```\n",
    "[🐼 table pivot](https://pandas.pydata.org/pandas-docs/stable/reference/api/pandas.pivot_table.html)"
   ]
  },
  {
   "cell_type": "code",
   "execution_count": 31,
   "metadata": {
    "colab": {
     "base_uri": "https://localhost:8080/"
    },
    "executionInfo": {
     "elapsed": 16,
     "status": "ok",
     "timestamp": 1638883079635,
     "user": {
      "displayName": "antony coco",
      "photoUrl": "https://lh3.googleusercontent.com/a-/AOh14GjITzgEfRlstqx8C3JFJpWFO9o1MEq95k4SY2KPtg=s64",
      "userId": "10048713901788815038"
     },
     "user_tz": -60
    },
    "id": "YNnHwB_cx2bo",
    "outputId": "51c4f6a6-988f-4c46-b816-1042aca9d7fb"
   },
   "outputs": [
    {
     "data": {
      "text/plain": "count          198385\nunique            539\ntop       x hispanica\nfreq            36409\nName: espece, dtype: object"
     },
     "execution_count": 31,
     "metadata": {},
     "output_type": "execute_result"
    }
   ],
   "source": [
    "arbres.espece.describe(include=\"all\")"
   ]
  },
  {
   "cell_type": "code",
   "execution_count": 32,
   "metadata": {
    "colab": {
     "base_uri": "https://localhost:8080/"
    },
    "executionInfo": {
     "elapsed": 733,
     "status": "ok",
     "timestamp": 1638883080353,
     "user": {
      "displayName": "antony coco",
      "photoUrl": "https://lh3.googleusercontent.com/a-/AOh14GjITzgEfRlstqx8C3JFJpWFO9o1MEq95k4SY2KPtg=s64",
      "userId": "10048713901788815038"
     },
     "user_tz": -60
    },
    "id": "4W-rlqij0LCg",
    "outputId": "a38f54e1-0362-492f-acff-f181254b3775"
   },
   "outputs": [
    {
     "data": {
      "text/plain": "count       200121\nunique         175\ntop       Platanus\nfreq         42591\nName: genre, dtype: object"
     },
     "execution_count": 32,
     "metadata": {},
     "output_type": "execute_result"
    }
   ],
   "source": [
    "arbres.genre.describe(include=\"all\")"
   ]
  },
  {
   "cell_type": "code",
   "execution_count": 33,
   "metadata": {
    "colab": {
     "base_uri": "https://localhost:8080/"
    },
    "executionInfo": {
     "elapsed": 8,
     "status": "ok",
     "timestamp": 1638883080354,
     "user": {
      "displayName": "antony coco",
      "photoUrl": "https://lh3.googleusercontent.com/a-/AOh14GjITzgEfRlstqx8C3JFJpWFO9o1MEq95k4SY2KPtg=s64",
      "userId": "10048713901788815038"
     },
     "user_tz": -60
    },
    "id": "wnfhRRKM8tJt",
    "outputId": "012beb5f-6261-404e-925b-d269cee396f7"
   },
   "outputs": [
    {
     "data": {
      "text/plain": "count      198640\nunique        192\ntop       Platane\nfreq        42508\nName: libelle_francais, dtype: object"
     },
     "execution_count": 33,
     "metadata": {},
     "output_type": "execute_result"
    }
   ],
   "source": [
    "arbres.libelle_francais.describe(include=\"all\")"
   ]
  },
  {
   "cell_type": "code",
   "execution_count": 34,
   "metadata": {
    "colab": {
     "base_uri": "https://localhost:8080/"
    },
    "executionInfo": {
     "elapsed": 6,
     "status": "ok",
     "timestamp": 1638883080354,
     "user": {
      "displayName": "antony coco",
      "photoUrl": "https://lh3.googleusercontent.com/a-/AOh14GjITzgEfRlstqx8C3JFJpWFO9o1MEq95k4SY2KPtg=s64",
      "userId": "10048713901788815038"
     },
     "user_tz": -60
    },
    "id": "bk-4vlM30bqA",
    "outputId": "d0b2e3d8-c769-4d50-82b8-7156501ec2ba"
   },
   "outputs": [
    {
     "data": {
      "text/plain": "libelle_francais   Abelia  Abricotier  Ailante  Alangium  Alisier  Althéa  \\\narrondissement                                                              \nBOIS DE BOULOGNE        0           0        0         0        5       0   \nBOIS DE VINCENNES       0           0       16         0        6       0   \nHAUTS-DE-SEINE          0           0        0         0        0       0   \nPARIS 10E ARRDT         0           0       20         0        5       0   \nPARIS 11E ARRDT         0           2       20         0        0       0   \nPARIS 12E ARRDT         0           1      105         3        5       0   \nPARIS 13E ARRDT         0           5       20         0       17       4   \nPARIS 14E ARRDT         0           1       20         0        9       0   \nPARIS 15E ARRDT         0           3       16         0       14       0   \nPARIS 16E ARRDT         0           2       22         0       10       0   \nPARIS 17E ARRDT         0           6       20         0        7       3   \nPARIS 18E ARRDT         0           4      116         0        5       3   \nPARIS 19E ARRDT         0           3       20         0       15       0   \nPARIS 1ER ARRDT         0           0       15         0        5       0   \nPARIS 20E ARRDT         0           2       22         0        4       0   \nPARIS 2E ARRDT          0           0        0         0        0       0   \nPARIS 3E ARRDT          5           0        0         0        6       0   \nPARIS 4E ARRDT          0           0       20         0        0       0   \nPARIS 5E ARRDT          0           1       20         0        0       0   \nPARIS 6E ARRDT          0           0        0         0        0       0   \nPARIS 7E ARRDT          6           2       20         0        7       0   \nPARIS 8E ARRDT          0           0        8         0        5       0   \nPARIS 9E ARRDT          0           0        9         0        7       0   \nSEINE-SAINT-DENIS       0           5       15         0        4       0   \nVAL-DE-MARNE            0           0        8         0        4       0   \n\nlibelle_francais   Amandier  Amla  Amélanchier  Andromède  ...  Tapiscia  \\\narrondissement                                             ...             \nBOIS DE BOULOGNE          0     0            0          0  ...         0   \nBOIS DE VINCENNES         0     0            0          0  ...         0   \nHAUTS-DE-SEINE            0     0            0          0  ...         0   \nPARIS 10E ARRDT           3     0            0          0  ...         0   \nPARIS 11E ARRDT           5     0            6          0  ...         0   \nPARIS 12E ARRDT           5     0            5          0  ...         0   \nPARIS 13E ARRDT           5     0            5          0  ...         0   \nPARIS 14E ARRDT           0     0            5          0  ...         0   \nPARIS 15E ARRDT           0     0            8          0  ...         0   \nPARIS 16E ARRDT           0     0            5          0  ...         3   \nPARIS 17E ARRDT           4     0            8          0  ...         0   \nPARIS 18E ARRDT           5     0            4          0  ...         0   \nPARIS 19E ARRDT           0     0            6          0  ...         0   \nPARIS 1ER ARRDT           0     0            0          0  ...         0   \nPARIS 20E ARRDT           9     0            5          0  ...         0   \nPARIS 2E ARRDT            0     0            6          0  ...         0   \nPARIS 3E ARRDT            0     0            1          0  ...         0   \nPARIS 4E ARRDT            0     0            0          0  ...         0   \nPARIS 5E ARRDT            0     0            6          0  ...         0   \nPARIS 6E ARRDT            0     0            0          0  ...         0   \nPARIS 7E ARRDT            0     0            6          0  ...         0   \nPARIS 8E ARRDT            0     0            7          0  ...         0   \nPARIS 9E ARRDT            7     0            5          0  ...         0   \nSEINE-SAINT-DENIS         0     0            3          0  ...         0   \nVAL-DE-MARNE              0     0            4          0  ...         0   \n\nlibelle_francais   Thuya  Tilleul  Troene  Troëne  Tsuga  Tulipier  Viorne  \\\narrondissement                                                               \nBOIS DE BOULOGNE       0       54       0       0      0         0       0   \nBOIS DE VINCENNES     13   881818       7       8      0        20       0   \nHAUTS-DE-SEINE        12       18       0       0      0         5       0   \nPARIS 10E ARRDT       15       20       0       0      0         9       0   \nPARIS 11E ARRDT       10       65       8       0      0        15       0   \nPARIS 12E ARRDT       10       55       5       5      0        30       0   \nPARIS 13E ARRDT       14      120       7       4      0        45       0   \nPARIS 14E ARRDT       17       31       8       5      0        26       0   \nPARIS 15E ARRDT        8       70       7       0      0        14       0   \nPARIS 16E ARRDT       12       28       6       8      0        35       0   \nPARIS 17E ARRDT       16       21       7       7      0        26       0   \nPARIS 18E ARRDT       10       25       8       4      8        14       0   \nPARIS 19E ARRDT        8      610      15       8      0        20       0   \nPARIS 1ER ARRDT        0       54       0       0      0         0       0   \nPARIS 20E ARRDT       16       20       0       6      0        20       5   \nPARIS 2E ARRDT         0       86      12       0      0         0       0   \nPARIS 3E ARRDT         0       20       5       0      0         8       0   \nPARIS 4E ARRDT         0       17       5       8      0         5       0   \nPARIS 5E ARRDT         0       25      15       9      0        12       0   \nPARIS 6E ARRDT        12       20       9       7      0         0       0   \nPARIS 7E ARRDT        13     1815      10      12      0        17       0   \nPARIS 8E ARRDT        12       25      20       4      0        20       0   \nPARIS 9E ARRDT         0       14       5       0      0        11       0   \nSEINE-SAINT-DENIS     12       78       8       3      0         5       0   \nVAL-DE-MARNE          10       25       6       0      0         0       5   \n\nlibelle_francais   Virgilier  Xanthoceras  \narrondissement                             \nBOIS DE BOULOGNE           0            0  \nBOIS DE VINCENNES          0            0  \nHAUTS-DE-SEINE             0            0  \nPARIS 10E ARRDT            0            0  \nPARIS 11E ARRDT            0            0  \nPARIS 12E ARRDT            0            0  \nPARIS 13E ARRDT            0            0  \nPARIS 14E ARRDT            6            0  \nPARIS 15E ARRDT            5            0  \nPARIS 16E ARRDT            6            0  \nPARIS 17E ARRDT            7            0  \nPARIS 18E ARRDT            4            0  \nPARIS 19E ARRDT            8            0  \nPARIS 1ER ARRDT            0            0  \nPARIS 20E ARRDT            3            0  \nPARIS 2E ARRDT             0            0  \nPARIS 3E ARRDT             3            0  \nPARIS 4E ARRDT             4            0  \nPARIS 5E ARRDT             0            0  \nPARIS 6E ARRDT             0            0  \nPARIS 7E ARRDT             7            0  \nPARIS 8E ARRDT             6            0  \nPARIS 9E ARRDT             0            0  \nSEINE-SAINT-DENIS          7            0  \nVAL-DE-MARNE               7            0  \n\n[25 rows x 192 columns]",
      "text/html": "<div>\n<style scoped>\n    .dataframe tbody tr th:only-of-type {\n        vertical-align: middle;\n    }\n\n    .dataframe tbody tr th {\n        vertical-align: top;\n    }\n\n    .dataframe thead th {\n        text-align: right;\n    }\n</style>\n<table border=\"1\" class=\"dataframe\">\n  <thead>\n    <tr style=\"text-align: right;\">\n      <th>libelle_francais</th>\n      <th>Abelia</th>\n      <th>Abricotier</th>\n      <th>Ailante</th>\n      <th>Alangium</th>\n      <th>Alisier</th>\n      <th>Althéa</th>\n      <th>Amandier</th>\n      <th>Amla</th>\n      <th>Amélanchier</th>\n      <th>Andromède</th>\n      <th>...</th>\n      <th>Tapiscia</th>\n      <th>Thuya</th>\n      <th>Tilleul</th>\n      <th>Troene</th>\n      <th>Troëne</th>\n      <th>Tsuga</th>\n      <th>Tulipier</th>\n      <th>Viorne</th>\n      <th>Virgilier</th>\n      <th>Xanthoceras</th>\n    </tr>\n    <tr>\n      <th>arrondissement</th>\n      <th></th>\n      <th></th>\n      <th></th>\n      <th></th>\n      <th></th>\n      <th></th>\n      <th></th>\n      <th></th>\n      <th></th>\n      <th></th>\n      <th></th>\n      <th></th>\n      <th></th>\n      <th></th>\n      <th></th>\n      <th></th>\n      <th></th>\n      <th></th>\n      <th></th>\n      <th></th>\n      <th></th>\n    </tr>\n  </thead>\n  <tbody>\n    <tr>\n      <th>BOIS DE BOULOGNE</th>\n      <td>0</td>\n      <td>0</td>\n      <td>0</td>\n      <td>0</td>\n      <td>5</td>\n      <td>0</td>\n      <td>0</td>\n      <td>0</td>\n      <td>0</td>\n      <td>0</td>\n      <td>...</td>\n      <td>0</td>\n      <td>0</td>\n      <td>54</td>\n      <td>0</td>\n      <td>0</td>\n      <td>0</td>\n      <td>0</td>\n      <td>0</td>\n      <td>0</td>\n      <td>0</td>\n    </tr>\n    <tr>\n      <th>BOIS DE VINCENNES</th>\n      <td>0</td>\n      <td>0</td>\n      <td>16</td>\n      <td>0</td>\n      <td>6</td>\n      <td>0</td>\n      <td>0</td>\n      <td>0</td>\n      <td>0</td>\n      <td>0</td>\n      <td>...</td>\n      <td>0</td>\n      <td>13</td>\n      <td>881818</td>\n      <td>7</td>\n      <td>8</td>\n      <td>0</td>\n      <td>20</td>\n      <td>0</td>\n      <td>0</td>\n      <td>0</td>\n    </tr>\n    <tr>\n      <th>HAUTS-DE-SEINE</th>\n      <td>0</td>\n      <td>0</td>\n      <td>0</td>\n      <td>0</td>\n      <td>0</td>\n      <td>0</td>\n      <td>0</td>\n      <td>0</td>\n      <td>0</td>\n      <td>0</td>\n      <td>...</td>\n      <td>0</td>\n      <td>12</td>\n      <td>18</td>\n      <td>0</td>\n      <td>0</td>\n      <td>0</td>\n      <td>5</td>\n      <td>0</td>\n      <td>0</td>\n      <td>0</td>\n    </tr>\n    <tr>\n      <th>PARIS 10E ARRDT</th>\n      <td>0</td>\n      <td>0</td>\n      <td>20</td>\n      <td>0</td>\n      <td>5</td>\n      <td>0</td>\n      <td>3</td>\n      <td>0</td>\n      <td>0</td>\n      <td>0</td>\n      <td>...</td>\n      <td>0</td>\n      <td>15</td>\n      <td>20</td>\n      <td>0</td>\n      <td>0</td>\n      <td>0</td>\n      <td>9</td>\n      <td>0</td>\n      <td>0</td>\n      <td>0</td>\n    </tr>\n    <tr>\n      <th>PARIS 11E ARRDT</th>\n      <td>0</td>\n      <td>2</td>\n      <td>20</td>\n      <td>0</td>\n      <td>0</td>\n      <td>0</td>\n      <td>5</td>\n      <td>0</td>\n      <td>6</td>\n      <td>0</td>\n      <td>...</td>\n      <td>0</td>\n      <td>10</td>\n      <td>65</td>\n      <td>8</td>\n      <td>0</td>\n      <td>0</td>\n      <td>15</td>\n      <td>0</td>\n      <td>0</td>\n      <td>0</td>\n    </tr>\n    <tr>\n      <th>PARIS 12E ARRDT</th>\n      <td>0</td>\n      <td>1</td>\n      <td>105</td>\n      <td>3</td>\n      <td>5</td>\n      <td>0</td>\n      <td>5</td>\n      <td>0</td>\n      <td>5</td>\n      <td>0</td>\n      <td>...</td>\n      <td>0</td>\n      <td>10</td>\n      <td>55</td>\n      <td>5</td>\n      <td>5</td>\n      <td>0</td>\n      <td>30</td>\n      <td>0</td>\n      <td>0</td>\n      <td>0</td>\n    </tr>\n    <tr>\n      <th>PARIS 13E ARRDT</th>\n      <td>0</td>\n      <td>5</td>\n      <td>20</td>\n      <td>0</td>\n      <td>17</td>\n      <td>4</td>\n      <td>5</td>\n      <td>0</td>\n      <td>5</td>\n      <td>0</td>\n      <td>...</td>\n      <td>0</td>\n      <td>14</td>\n      <td>120</td>\n      <td>7</td>\n      <td>4</td>\n      <td>0</td>\n      <td>45</td>\n      <td>0</td>\n      <td>0</td>\n      <td>0</td>\n    </tr>\n    <tr>\n      <th>PARIS 14E ARRDT</th>\n      <td>0</td>\n      <td>1</td>\n      <td>20</td>\n      <td>0</td>\n      <td>9</td>\n      <td>0</td>\n      <td>0</td>\n      <td>0</td>\n      <td>5</td>\n      <td>0</td>\n      <td>...</td>\n      <td>0</td>\n      <td>17</td>\n      <td>31</td>\n      <td>8</td>\n      <td>5</td>\n      <td>0</td>\n      <td>26</td>\n      <td>0</td>\n      <td>6</td>\n      <td>0</td>\n    </tr>\n    <tr>\n      <th>PARIS 15E ARRDT</th>\n      <td>0</td>\n      <td>3</td>\n      <td>16</td>\n      <td>0</td>\n      <td>14</td>\n      <td>0</td>\n      <td>0</td>\n      <td>0</td>\n      <td>8</td>\n      <td>0</td>\n      <td>...</td>\n      <td>0</td>\n      <td>8</td>\n      <td>70</td>\n      <td>7</td>\n      <td>0</td>\n      <td>0</td>\n      <td>14</td>\n      <td>0</td>\n      <td>5</td>\n      <td>0</td>\n    </tr>\n    <tr>\n      <th>PARIS 16E ARRDT</th>\n      <td>0</td>\n      <td>2</td>\n      <td>22</td>\n      <td>0</td>\n      <td>10</td>\n      <td>0</td>\n      <td>0</td>\n      <td>0</td>\n      <td>5</td>\n      <td>0</td>\n      <td>...</td>\n      <td>3</td>\n      <td>12</td>\n      <td>28</td>\n      <td>6</td>\n      <td>8</td>\n      <td>0</td>\n      <td>35</td>\n      <td>0</td>\n      <td>6</td>\n      <td>0</td>\n    </tr>\n    <tr>\n      <th>PARIS 17E ARRDT</th>\n      <td>0</td>\n      <td>6</td>\n      <td>20</td>\n      <td>0</td>\n      <td>7</td>\n      <td>3</td>\n      <td>4</td>\n      <td>0</td>\n      <td>8</td>\n      <td>0</td>\n      <td>...</td>\n      <td>0</td>\n      <td>16</td>\n      <td>21</td>\n      <td>7</td>\n      <td>7</td>\n      <td>0</td>\n      <td>26</td>\n      <td>0</td>\n      <td>7</td>\n      <td>0</td>\n    </tr>\n    <tr>\n      <th>PARIS 18E ARRDT</th>\n      <td>0</td>\n      <td>4</td>\n      <td>116</td>\n      <td>0</td>\n      <td>5</td>\n      <td>3</td>\n      <td>5</td>\n      <td>0</td>\n      <td>4</td>\n      <td>0</td>\n      <td>...</td>\n      <td>0</td>\n      <td>10</td>\n      <td>25</td>\n      <td>8</td>\n      <td>4</td>\n      <td>8</td>\n      <td>14</td>\n      <td>0</td>\n      <td>4</td>\n      <td>0</td>\n    </tr>\n    <tr>\n      <th>PARIS 19E ARRDT</th>\n      <td>0</td>\n      <td>3</td>\n      <td>20</td>\n      <td>0</td>\n      <td>15</td>\n      <td>0</td>\n      <td>0</td>\n      <td>0</td>\n      <td>6</td>\n      <td>0</td>\n      <td>...</td>\n      <td>0</td>\n      <td>8</td>\n      <td>610</td>\n      <td>15</td>\n      <td>8</td>\n      <td>0</td>\n      <td>20</td>\n      <td>0</td>\n      <td>8</td>\n      <td>0</td>\n    </tr>\n    <tr>\n      <th>PARIS 1ER ARRDT</th>\n      <td>0</td>\n      <td>0</td>\n      <td>15</td>\n      <td>0</td>\n      <td>5</td>\n      <td>0</td>\n      <td>0</td>\n      <td>0</td>\n      <td>0</td>\n      <td>0</td>\n      <td>...</td>\n      <td>0</td>\n      <td>0</td>\n      <td>54</td>\n      <td>0</td>\n      <td>0</td>\n      <td>0</td>\n      <td>0</td>\n      <td>0</td>\n      <td>0</td>\n      <td>0</td>\n    </tr>\n    <tr>\n      <th>PARIS 20E ARRDT</th>\n      <td>0</td>\n      <td>2</td>\n      <td>22</td>\n      <td>0</td>\n      <td>4</td>\n      <td>0</td>\n      <td>9</td>\n      <td>0</td>\n      <td>5</td>\n      <td>0</td>\n      <td>...</td>\n      <td>0</td>\n      <td>16</td>\n      <td>20</td>\n      <td>0</td>\n      <td>6</td>\n      <td>0</td>\n      <td>20</td>\n      <td>5</td>\n      <td>3</td>\n      <td>0</td>\n    </tr>\n    <tr>\n      <th>PARIS 2E ARRDT</th>\n      <td>0</td>\n      <td>0</td>\n      <td>0</td>\n      <td>0</td>\n      <td>0</td>\n      <td>0</td>\n      <td>0</td>\n      <td>0</td>\n      <td>6</td>\n      <td>0</td>\n      <td>...</td>\n      <td>0</td>\n      <td>0</td>\n      <td>86</td>\n      <td>12</td>\n      <td>0</td>\n      <td>0</td>\n      <td>0</td>\n      <td>0</td>\n      <td>0</td>\n      <td>0</td>\n    </tr>\n    <tr>\n      <th>PARIS 3E ARRDT</th>\n      <td>5</td>\n      <td>0</td>\n      <td>0</td>\n      <td>0</td>\n      <td>6</td>\n      <td>0</td>\n      <td>0</td>\n      <td>0</td>\n      <td>1</td>\n      <td>0</td>\n      <td>...</td>\n      <td>0</td>\n      <td>0</td>\n      <td>20</td>\n      <td>5</td>\n      <td>0</td>\n      <td>0</td>\n      <td>8</td>\n      <td>0</td>\n      <td>3</td>\n      <td>0</td>\n    </tr>\n    <tr>\n      <th>PARIS 4E ARRDT</th>\n      <td>0</td>\n      <td>0</td>\n      <td>20</td>\n      <td>0</td>\n      <td>0</td>\n      <td>0</td>\n      <td>0</td>\n      <td>0</td>\n      <td>0</td>\n      <td>0</td>\n      <td>...</td>\n      <td>0</td>\n      <td>0</td>\n      <td>17</td>\n      <td>5</td>\n      <td>8</td>\n      <td>0</td>\n      <td>5</td>\n      <td>0</td>\n      <td>4</td>\n      <td>0</td>\n    </tr>\n    <tr>\n      <th>PARIS 5E ARRDT</th>\n      <td>0</td>\n      <td>1</td>\n      <td>20</td>\n      <td>0</td>\n      <td>0</td>\n      <td>0</td>\n      <td>0</td>\n      <td>0</td>\n      <td>6</td>\n      <td>0</td>\n      <td>...</td>\n      <td>0</td>\n      <td>0</td>\n      <td>25</td>\n      <td>15</td>\n      <td>9</td>\n      <td>0</td>\n      <td>12</td>\n      <td>0</td>\n      <td>0</td>\n      <td>0</td>\n    </tr>\n    <tr>\n      <th>PARIS 6E ARRDT</th>\n      <td>0</td>\n      <td>0</td>\n      <td>0</td>\n      <td>0</td>\n      <td>0</td>\n      <td>0</td>\n      <td>0</td>\n      <td>0</td>\n      <td>0</td>\n      <td>0</td>\n      <td>...</td>\n      <td>0</td>\n      <td>12</td>\n      <td>20</td>\n      <td>9</td>\n      <td>7</td>\n      <td>0</td>\n      <td>0</td>\n      <td>0</td>\n      <td>0</td>\n      <td>0</td>\n    </tr>\n    <tr>\n      <th>PARIS 7E ARRDT</th>\n      <td>6</td>\n      <td>2</td>\n      <td>20</td>\n      <td>0</td>\n      <td>7</td>\n      <td>0</td>\n      <td>0</td>\n      <td>0</td>\n      <td>6</td>\n      <td>0</td>\n      <td>...</td>\n      <td>0</td>\n      <td>13</td>\n      <td>1815</td>\n      <td>10</td>\n      <td>12</td>\n      <td>0</td>\n      <td>17</td>\n      <td>0</td>\n      <td>7</td>\n      <td>0</td>\n    </tr>\n    <tr>\n      <th>PARIS 8E ARRDT</th>\n      <td>0</td>\n      <td>0</td>\n      <td>8</td>\n      <td>0</td>\n      <td>5</td>\n      <td>0</td>\n      <td>0</td>\n      <td>0</td>\n      <td>7</td>\n      <td>0</td>\n      <td>...</td>\n      <td>0</td>\n      <td>12</td>\n      <td>25</td>\n      <td>20</td>\n      <td>4</td>\n      <td>0</td>\n      <td>20</td>\n      <td>0</td>\n      <td>6</td>\n      <td>0</td>\n    </tr>\n    <tr>\n      <th>PARIS 9E ARRDT</th>\n      <td>0</td>\n      <td>0</td>\n      <td>9</td>\n      <td>0</td>\n      <td>7</td>\n      <td>0</td>\n      <td>7</td>\n      <td>0</td>\n      <td>5</td>\n      <td>0</td>\n      <td>...</td>\n      <td>0</td>\n      <td>0</td>\n      <td>14</td>\n      <td>5</td>\n      <td>0</td>\n      <td>0</td>\n      <td>11</td>\n      <td>0</td>\n      <td>0</td>\n      <td>0</td>\n    </tr>\n    <tr>\n      <th>SEINE-SAINT-DENIS</th>\n      <td>0</td>\n      <td>5</td>\n      <td>15</td>\n      <td>0</td>\n      <td>4</td>\n      <td>0</td>\n      <td>0</td>\n      <td>0</td>\n      <td>3</td>\n      <td>0</td>\n      <td>...</td>\n      <td>0</td>\n      <td>12</td>\n      <td>78</td>\n      <td>8</td>\n      <td>3</td>\n      <td>0</td>\n      <td>5</td>\n      <td>0</td>\n      <td>7</td>\n      <td>0</td>\n    </tr>\n    <tr>\n      <th>VAL-DE-MARNE</th>\n      <td>0</td>\n      <td>0</td>\n      <td>8</td>\n      <td>0</td>\n      <td>4</td>\n      <td>0</td>\n      <td>0</td>\n      <td>0</td>\n      <td>4</td>\n      <td>0</td>\n      <td>...</td>\n      <td>0</td>\n      <td>10</td>\n      <td>25</td>\n      <td>6</td>\n      <td>0</td>\n      <td>0</td>\n      <td>0</td>\n      <td>5</td>\n      <td>7</td>\n      <td>0</td>\n    </tr>\n  </tbody>\n</table>\n<p>25 rows × 192 columns</p>\n</div>"
     },
     "execution_count": 34,
     "metadata": {},
     "output_type": "execute_result"
    }
   ],
   "source": [
    "arbres.pivot_table(\"hauteur_m\", index='arrondissement', columns='libelle_francais', aggfunc=np.max, fill_value=0, observed=True) # !! pas de valeur numérique \n",
    "# arbres.arrondissement"
   ]
  },
  {
   "cell_type": "markdown",
   "metadata": {
    "id": "HXcLJpjIDXsZ"
   },
   "source": [
    "### Le résultat est un DataFrame multi-indexé:"
   ]
  },
  {
   "cell_type": "code",
   "execution_count": 35,
   "metadata": {
    "colab": {
     "base_uri": "https://localhost:8080/"
    },
    "executionInfo": {
     "elapsed": 806,
     "status": "ok",
     "timestamp": 1638883081155,
     "user": {
      "displayName": "antony coco",
      "photoUrl": "https://lh3.googleusercontent.com/a-/AOh14GjITzgEfRlstqx8C3JFJpWFO9o1MEq95k4SY2KPtg=s64",
      "userId": "10048713901788815038"
     },
     "user_tz": -60
    },
    "id": "MHqsKJbA6SFe",
    "outputId": "d107105b-090c-4497-c8af-0fab4e378b1c"
   },
   "outputs": [
    {
     "data": {
      "text/plain": "libelle_francais             Abelia  Abricotier  Ailante  Alangium  Alisier  \\\narrondissement    hauteur_m                                                   \nBOIS DE BOULOGNE  (0, 15]         0           0        0         0       20   \n                  (15, 35]        0           0        0         0        0   \nBOIS DE VINCENNES (0, 15]         0           0        0         0       30   \n                  (15, 35]        0           0      110         0        0   \nHAUTS-DE-SEINE    (0, 15]         0           0        0         0        0   \n                  (15, 35]        0           0        0         0        0   \nPARIS 10E ARRDT   (0, 15]         0           0      180         0       20   \n                  (15, 35]        0           0      195         0        0   \nPARIS 11E ARRDT   (0, 15]         0          20       95         0        0   \n                  (15, 35]        0           0      150         0        0   \nPARIS 12E ARRDT   (0, 15]         0          15      170        20       55   \n                  (15, 35]        0           0      180         0        0   \nPARIS 13E ARRDT   (0, 15]         0          35      240         0       90   \n                  (15, 35]        0           0      230         0      115   \nPARIS 14E ARRDT   (0, 15]         0          15      320         0      195   \n                  (15, 35]        0           0      184         0        0   \nPARIS 15E ARRDT   (0, 15]         0          20      300         0      112   \n                  (15, 35]        0           0      165         0        0   \nPARIS 16E ARRDT   (0, 15]         0          10      290         0       50   \n                  (15, 35]        0           0      495         0        0   \nPARIS 17E ARRDT   (0, 15]         0          70      130         0       55   \n                  (15, 35]        0           0      150         0        0   \nPARIS 18E ARRDT   (0, 15]         0          20      170         0       15   \n                  (15, 35]        0           0      345         0        0   \nPARIS 19E ARRDT   (0, 15]         0          12      189         0      105   \n                  (15, 35]        0           0      250         0        0   \nPARIS 1ER ARRDT   (0, 15]         0           0      220         0       25   \n                  (15, 35]        0           0        0         0        0   \nPARIS 20E ARRDT   (0, 15]         0          20      430         0       20   \n                  (15, 35]        0           0      240         0        0   \nPARIS 2E ARRDT    (0, 15]         0           0        0         0        0   \n                  (15, 35]        0           0        0         0        0   \nPARIS 3E ARRDT    (0, 15]        20           0        0         0       45   \n                  (15, 35]        0           0        0         0        0   \nPARIS 4E ARRDT    (0, 15]         0           0        0         0        0   \n                  (15, 35]        0           0       85         0        0   \nPARIS 5E ARRDT    (0, 15]         0          15      150         0        0   \n                  (15, 35]        0           0      200         0        0   \nPARIS 6E ARRDT    (0, 15]         0           0        0         0        0   \n                  (15, 35]        0           0        0         0        0   \nPARIS 7E ARRDT    (0, 15]        75          15      140         0       76   \n                  (15, 35]        0           0      215         0        0   \nPARIS 8E ARRDT    (0, 15]         0           0       75         0       20   \n                  (15, 35]        0           0        0         0        0   \nPARIS 9E ARRDT    (0, 15]         0           0      100         0       63   \n                  (15, 35]        0           0        0         0        0   \nSEINE-SAINT-DENIS (0, 15]         0          20      270         0       52   \n                  (15, 35]        0           0        0         0        0   \nVAL-DE-MARNE      (0, 15]         0           0       55         0       40   \n                  (15, 35]        0           0        0         0        0   \n\nlibelle_francais             Althéa  Amandier  Amélanchier  Angélique  \\\narrondissement    hauteur_m                                             \nBOIS DE BOULOGNE  (0, 15]         0         0            0          0   \n                  (15, 35]        0         0            0          0   \nBOIS DE VINCENNES (0, 15]         0         0            0         50   \n                  (15, 35]        0         0            0          0   \nHAUTS-DE-SEINE    (0, 15]         0         0            0          0   \n                  (15, 35]        0         0            0          0   \nPARIS 10E ARRDT   (0, 15]         0        25            0          0   \n                  (15, 35]        0         0            0          0   \nPARIS 11E ARRDT   (0, 15]         0        20           40          0   \n                  (15, 35]        0         0            0          0   \nPARIS 12E ARRDT   (0, 15]         0        20           40          0   \n                  (15, 35]        0         0            0          0   \nPARIS 13E ARRDT   (0, 15]        40        30           50         22   \n                  (15, 35]        0         0            0          0   \nPARIS 14E ARRDT   (0, 15]         0         0           35          0   \n                  (15, 35]        0         0            0          0   \nPARIS 15E ARRDT   (0, 15]         0         0           40          0   \n                  (15, 35]        0         0            0          0   \nPARIS 16E ARRDT   (0, 15]         0         0           20          0   \n                  (15, 35]        0         0            0          0   \nPARIS 17E ARRDT   (0, 15]        28        50           70          0   \n                  (15, 35]        0         0            0          0   \nPARIS 18E ARRDT   (0, 15]        25        60           35          0   \n                  (15, 35]        0         0            0          0   \nPARIS 19E ARRDT   (0, 15]         0         0           50         20   \n                  (15, 35]        0         0            0          0   \nPARIS 1ER ARRDT   (0, 15]         0         0            0          0   \n                  (15, 35]        0         0            0          0   \nPARIS 20E ARRDT   (0, 15]         0       240           45          0   \n                  (15, 35]        0         0            0          0   \nPARIS 2E ARRDT    (0, 15]         0         0           25          0   \n                  (15, 35]        0         0            0          0   \nPARIS 3E ARRDT    (0, 15]         0         0           12          0   \n                  (15, 35]        0         0            0          0   \nPARIS 4E ARRDT    (0, 15]         0         0            0          0   \n                  (15, 35]        0         0            0          0   \nPARIS 5E ARRDT    (0, 15]         0         0           36          0   \n                  (15, 35]        0         0            0          0   \nPARIS 6E ARRDT    (0, 15]         0         0            0          0   \n                  (15, 35]        0         0            0          0   \nPARIS 7E ARRDT    (0, 15]         0         0           23          0   \n                  (15, 35]        0         0            0          0   \nPARIS 8E ARRDT    (0, 15]         0         0           46          0   \n                  (15, 35]        0         0            0          0   \nPARIS 9E ARRDT    (0, 15]         0        40           43          0   \n                  (15, 35]        0         0            0          0   \nSEINE-SAINT-DENIS (0, 15]         0         0           30          0   \n                  (15, 35]        0         0            0          0   \nVAL-DE-MARNE      (0, 15]         0         0           35          0   \n                  (15, 35]        0         0            0          0   \n\nlibelle_francais             Araucaria  ...  Tamaris  Tapiscia  Thuya  \\\narrondissement    hauteur_m             ...                             \nBOIS DE BOULOGNE  (0, 15]            0  ...        0         0      0   \n                  (15, 35]           0  ...        0         0      0   \nBOIS DE VINCENNES (0, 15]           20  ...        0         0    130   \n                  (15, 35]           0  ...        0         0      0   \nHAUTS-DE-SEINE    (0, 15]            0  ...        0         0    125   \n                  (15, 35]           0  ...        0         0      0   \nPARIS 10E ARRDT   (0, 15]            0  ...        0         0    125   \n                  (15, 35]           0  ...        0         0      0   \nPARIS 11E ARRDT   (0, 15]           35  ...        0         0     85   \n                  (15, 35]           0  ...        0         0      0   \nPARIS 12E ARRDT   (0, 15]            0  ...       75         0    115   \n                  (15, 35]           0  ...        0         0      0   \nPARIS 13E ARRDT   (0, 15]            0  ...        0         0    190   \n                  (15, 35]           0  ...        0         0      0   \nPARIS 14E ARRDT   (0, 15]            0  ...        0         0    190   \n                  (15, 35]           0  ...        0         0    195   \nPARIS 15E ARRDT   (0, 15]            0  ...        0         0     70   \n                  (15, 35]           0  ...        0         0      0   \nPARIS 16E ARRDT   (0, 15]          182  ...      120        15    140   \n                  (15, 35]           0  ...        0         0      0   \nPARIS 17E ARRDT   (0, 15]           35  ...        0         0     10   \n                  (15, 35]           0  ...        0         0    110   \nPARIS 18E ARRDT   (0, 15]            0  ...        0         0     90   \n                  (15, 35]           0  ...        0         0      0   \nPARIS 19E ARRDT   (0, 15]            0  ...        0         0     85   \n                  (15, 35]           0  ...        0         0      0   \nPARIS 1ER ARRDT   (0, 15]            0  ...        0         0      0   \n                  (15, 35]           0  ...        0         0      0   \nPARIS 20E ARRDT   (0, 15]            0  ...       30         0    180   \n                  (15, 35]           0  ...        0         0     95   \nPARIS 2E ARRDT    (0, 15]            0  ...        0         0      0   \n                  (15, 35]           0  ...        0         0      0   \nPARIS 3E ARRDT    (0, 15]            0  ...       35         0      0   \n                  (15, 35]           0  ...        0         0      0   \nPARIS 4E ARRDT    (0, 15]            0  ...      200         0      0   \n                  (15, 35]           0  ...        0         0      0   \nPARIS 5E ARRDT    (0, 15]           26  ...       67         0      0   \n                  (15, 35]           0  ...        0         0      0   \nPARIS 6E ARRDT    (0, 15]            0  ...        0         0     80   \n                  (15, 35]           0  ...        0         0      0   \nPARIS 7E ARRDT    (0, 15]           38  ...        0         0    140   \n                  (15, 35]           0  ...        0         0      0   \nPARIS 8E ARRDT    (0, 15]            0  ...        0         0    300   \n                  (15, 35]           0  ...        0         0      0   \nPARIS 9E ARRDT    (0, 15]            0  ...        0         0      0   \n                  (15, 35]           0  ...        0         0      0   \nSEINE-SAINT-DENIS (0, 15]            0  ...        0         0    145   \n                  (15, 35]           0  ...        0         0      0   \nVAL-DE-MARNE      (0, 15]            0  ...        0         0    120   \n                  (15, 35]           0  ...        0         0      0   \n\nlibelle_francais             Tilleul  Troene  Troëne  Tsuga  Tulipier  Viorne  \\\narrondissement    hauteur_m                                                     \nBOIS DE BOULOGNE  (0, 15]        110       0       0      0         0       0   \n                  (15, 35]       210       0       0      0         0       0   \nBOIS DE VINCENNES (0, 15]        230      40      60      0       110       0   \n                  (15, 35]       290       0       0      0       130       0   \nHAUTS-DE-SEINE    (0, 15]        240       0       0      0        25       0   \n                  (15, 35]       180       0       0      0         0       0   \nPARIS 10E ARRDT   (0, 15]        153       0       0      0        66       0   \n                  (15, 35]       192       0       0      0         0       0   \nPARIS 11E ARRDT   (0, 15]        185      75       0      0       105       0   \n                  (15, 35]       205       0       0      0         0       0   \nPARIS 12E ARRDT   (0, 15]        190      90      95      0       160       0   \n                  (15, 35]       150       0       0      0       298       0   \nPARIS 13E ARRDT   (0, 15]        230     165      30      0       133       0   \n                  (15, 35]       280       0       0      0         0       0   \nPARIS 14E ARRDT   (0, 15]       1230      80      90      0       239       0   \n                  (15, 35]       351       0       0      0       238       0   \nPARIS 15E ARRDT   (0, 15]        660      70       0      0       105       0   \n                  (15, 35]       250       0       0      0         0       0   \nPARIS 16E ARRDT   (0, 15]        440      70      90      0       140       0   \n                  (15, 35]       280       0       0      0       196       0   \nPARIS 17E ARRDT   (0, 15]        213      69      70      0       115       0   \n                  (15, 35]       280       0       0      0       240       0   \nPARIS 18E ARRDT   (0, 15]        250      80      30     50       130       0   \n                  (15, 35]       380       0       0      0         0       0   \nPARIS 19E ARRDT   (0, 15]        215      75      70      0       130       0   \n                  (15, 35]       345       0       0      0       270       0   \nPARIS 1ER ARRDT   (0, 15]        125       0       0      0         0       0   \n                  (15, 35]         0       0       0      0         0       0   \nPARIS 20E ARRDT   (0, 15]      18589       0      45      0       100      15   \n                  (15, 35]       265       0       0      0       145       0   \nPARIS 2E ARRDT    (0, 15]        124      82       0      0         0       0   \n                  (15, 35]       170       0       0      0         0       0   \nPARIS 3E ARRDT    (0, 15]        120      45       0      0        60       0   \n                  (15, 35]       215       0       0      0         0       0   \nPARIS 4E ARRDT    (0, 15]        185      55      72      0        45       0   \n                  (15, 35]       170       0       0      0         0       0   \nPARIS 5E ARRDT    (0, 15]        285      75      49      0        67       0   \n                  (15, 35]       195       0       0      0         0       0   \nPARIS 6E ARRDT    (0, 15]        280      80       0      0         0       0   \n                  (15, 35]       180       0       0      0         0       0   \nPARIS 7E ARRDT    (0, 15]       9085     235     100      0       130       0   \n                  (15, 35]      1140       0       0      0       100       0   \nPARIS 8E ARRDT    (0, 15]        347       0      37      0       119       0   \n                  (15, 35]       215       0       0      0       270       0   \nPARIS 9E ARRDT    (0, 15]        150      30       0      0        50       0   \n                  (15, 35]         0       0       0      0         0       0   \nSEINE-SAINT-DENIS (0, 15]        205     105      20      0        20       0   \n                  (15, 35]       280       0       0      0         0       0   \nVAL-DE-MARNE      (0, 15]       2130     250       0      0         0      45   \n                  (15, 35]       260       0       0      0         0       0   \n\nlibelle_francais             Virgilier  \narrondissement    hauteur_m             \nBOIS DE BOULOGNE  (0, 15]            0  \n                  (15, 35]           0  \nBOIS DE VINCENNES (0, 15]            0  \n                  (15, 35]           0  \nHAUTS-DE-SEINE    (0, 15]            0  \n                  (15, 35]           0  \nPARIS 10E ARRDT   (0, 15]            0  \n                  (15, 35]           0  \nPARIS 11E ARRDT   (0, 15]            0  \n                  (15, 35]           0  \nPARIS 12E ARRDT   (0, 15]            0  \n                  (15, 35]           0  \nPARIS 13E ARRDT   (0, 15]            0  \n                  (15, 35]           0  \nPARIS 14E ARRDT   (0, 15]           65  \n                  (15, 35]           0  \nPARIS 15E ARRDT   (0, 15]           25  \n                  (15, 35]           0  \nPARIS 16E ARRDT   (0, 15]           83  \n                  (15, 35]           0  \nPARIS 17E ARRDT   (0, 15]           55  \n                  (15, 35]           0  \nPARIS 18E ARRDT   (0, 15]           20  \n                  (15, 35]           0  \nPARIS 19E ARRDT   (0, 15]          130  \n                  (15, 35]           0  \nPARIS 1ER ARRDT   (0, 15]            0  \n                  (15, 35]           0  \nPARIS 20E ARRDT   (0, 15]           25  \n                  (15, 35]           0  \nPARIS 2E ARRDT    (0, 15]            0  \n                  (15, 35]           0  \nPARIS 3E ARRDT    (0, 15]           13  \n                  (15, 35]           0  \nPARIS 4E ARRDT    (0, 15]           30  \n                  (15, 35]           0  \nPARIS 5E ARRDT    (0, 15]            0  \n                  (15, 35]           0  \nPARIS 6E ARRDT    (0, 15]            0  \n                  (15, 35]           0  \nPARIS 7E ARRDT    (0, 15]           69  \n                  (15, 35]           0  \nPARIS 8E ARRDT    (0, 15]           30  \n                  (15, 35]           0  \nPARIS 9E ARRDT    (0, 15]            0  \n                  (15, 35]           0  \nSEINE-SAINT-DENIS (0, 15]           90  \n                  (15, 35]           0  \nVAL-DE-MARNE      (0, 15]           85  \n                  (15, 35]           0  \n\n[50 rows x 172 columns]",
      "text/html": "<div>\n<style scoped>\n    .dataframe tbody tr th:only-of-type {\n        vertical-align: middle;\n    }\n\n    .dataframe tbody tr th {\n        vertical-align: top;\n    }\n\n    .dataframe thead th {\n        text-align: right;\n    }\n</style>\n<table border=\"1\" class=\"dataframe\">\n  <thead>\n    <tr style=\"text-align: right;\">\n      <th></th>\n      <th>libelle_francais</th>\n      <th>Abelia</th>\n      <th>Abricotier</th>\n      <th>Ailante</th>\n      <th>Alangium</th>\n      <th>Alisier</th>\n      <th>Althéa</th>\n      <th>Amandier</th>\n      <th>Amélanchier</th>\n      <th>Angélique</th>\n      <th>Araucaria</th>\n      <th>...</th>\n      <th>Tamaris</th>\n      <th>Tapiscia</th>\n      <th>Thuya</th>\n      <th>Tilleul</th>\n      <th>Troene</th>\n      <th>Troëne</th>\n      <th>Tsuga</th>\n      <th>Tulipier</th>\n      <th>Viorne</th>\n      <th>Virgilier</th>\n    </tr>\n    <tr>\n      <th>arrondissement</th>\n      <th>hauteur_m</th>\n      <th></th>\n      <th></th>\n      <th></th>\n      <th></th>\n      <th></th>\n      <th></th>\n      <th></th>\n      <th></th>\n      <th></th>\n      <th></th>\n      <th></th>\n      <th></th>\n      <th></th>\n      <th></th>\n      <th></th>\n      <th></th>\n      <th></th>\n      <th></th>\n      <th></th>\n      <th></th>\n      <th></th>\n    </tr>\n  </thead>\n  <tbody>\n    <tr>\n      <th rowspan=\"2\" valign=\"top\">BOIS DE BOULOGNE</th>\n      <th>(0, 15]</th>\n      <td>0</td>\n      <td>0</td>\n      <td>0</td>\n      <td>0</td>\n      <td>20</td>\n      <td>0</td>\n      <td>0</td>\n      <td>0</td>\n      <td>0</td>\n      <td>0</td>\n      <td>...</td>\n      <td>0</td>\n      <td>0</td>\n      <td>0</td>\n      <td>110</td>\n      <td>0</td>\n      <td>0</td>\n      <td>0</td>\n      <td>0</td>\n      <td>0</td>\n      <td>0</td>\n    </tr>\n    <tr>\n      <th>(15, 35]</th>\n      <td>0</td>\n      <td>0</td>\n      <td>0</td>\n      <td>0</td>\n      <td>0</td>\n      <td>0</td>\n      <td>0</td>\n      <td>0</td>\n      <td>0</td>\n      <td>0</td>\n      <td>...</td>\n      <td>0</td>\n      <td>0</td>\n      <td>0</td>\n      <td>210</td>\n      <td>0</td>\n      <td>0</td>\n      <td>0</td>\n      <td>0</td>\n      <td>0</td>\n      <td>0</td>\n    </tr>\n    <tr>\n      <th rowspan=\"2\" valign=\"top\">BOIS DE VINCENNES</th>\n      <th>(0, 15]</th>\n      <td>0</td>\n      <td>0</td>\n      <td>0</td>\n      <td>0</td>\n      <td>30</td>\n      <td>0</td>\n      <td>0</td>\n      <td>0</td>\n      <td>50</td>\n      <td>20</td>\n      <td>...</td>\n      <td>0</td>\n      <td>0</td>\n      <td>130</td>\n      <td>230</td>\n      <td>40</td>\n      <td>60</td>\n      <td>0</td>\n      <td>110</td>\n      <td>0</td>\n      <td>0</td>\n    </tr>\n    <tr>\n      <th>(15, 35]</th>\n      <td>0</td>\n      <td>0</td>\n      <td>110</td>\n      <td>0</td>\n      <td>0</td>\n      <td>0</td>\n      <td>0</td>\n      <td>0</td>\n      <td>0</td>\n      <td>0</td>\n      <td>...</td>\n      <td>0</td>\n      <td>0</td>\n      <td>0</td>\n      <td>290</td>\n      <td>0</td>\n      <td>0</td>\n      <td>0</td>\n      <td>130</td>\n      <td>0</td>\n      <td>0</td>\n    </tr>\n    <tr>\n      <th rowspan=\"2\" valign=\"top\">HAUTS-DE-SEINE</th>\n      <th>(0, 15]</th>\n      <td>0</td>\n      <td>0</td>\n      <td>0</td>\n      <td>0</td>\n      <td>0</td>\n      <td>0</td>\n      <td>0</td>\n      <td>0</td>\n      <td>0</td>\n      <td>0</td>\n      <td>...</td>\n      <td>0</td>\n      <td>0</td>\n      <td>125</td>\n      <td>240</td>\n      <td>0</td>\n      <td>0</td>\n      <td>0</td>\n      <td>25</td>\n      <td>0</td>\n      <td>0</td>\n    </tr>\n    <tr>\n      <th>(15, 35]</th>\n      <td>0</td>\n      <td>0</td>\n      <td>0</td>\n      <td>0</td>\n      <td>0</td>\n      <td>0</td>\n      <td>0</td>\n      <td>0</td>\n      <td>0</td>\n      <td>0</td>\n      <td>...</td>\n      <td>0</td>\n      <td>0</td>\n      <td>0</td>\n      <td>180</td>\n      <td>0</td>\n      <td>0</td>\n      <td>0</td>\n      <td>0</td>\n      <td>0</td>\n      <td>0</td>\n    </tr>\n    <tr>\n      <th rowspan=\"2\" valign=\"top\">PARIS 10E ARRDT</th>\n      <th>(0, 15]</th>\n      <td>0</td>\n      <td>0</td>\n      <td>180</td>\n      <td>0</td>\n      <td>20</td>\n      <td>0</td>\n      <td>25</td>\n      <td>0</td>\n      <td>0</td>\n      <td>0</td>\n      <td>...</td>\n      <td>0</td>\n      <td>0</td>\n      <td>125</td>\n      <td>153</td>\n      <td>0</td>\n      <td>0</td>\n      <td>0</td>\n      <td>66</td>\n      <td>0</td>\n      <td>0</td>\n    </tr>\n    <tr>\n      <th>(15, 35]</th>\n      <td>0</td>\n      <td>0</td>\n      <td>195</td>\n      <td>0</td>\n      <td>0</td>\n      <td>0</td>\n      <td>0</td>\n      <td>0</td>\n      <td>0</td>\n      <td>0</td>\n      <td>...</td>\n      <td>0</td>\n      <td>0</td>\n      <td>0</td>\n      <td>192</td>\n      <td>0</td>\n      <td>0</td>\n      <td>0</td>\n      <td>0</td>\n      <td>0</td>\n      <td>0</td>\n    </tr>\n    <tr>\n      <th rowspan=\"2\" valign=\"top\">PARIS 11E ARRDT</th>\n      <th>(0, 15]</th>\n      <td>0</td>\n      <td>20</td>\n      <td>95</td>\n      <td>0</td>\n      <td>0</td>\n      <td>0</td>\n      <td>20</td>\n      <td>40</td>\n      <td>0</td>\n      <td>35</td>\n      <td>...</td>\n      <td>0</td>\n      <td>0</td>\n      <td>85</td>\n      <td>185</td>\n      <td>75</td>\n      <td>0</td>\n      <td>0</td>\n      <td>105</td>\n      <td>0</td>\n      <td>0</td>\n    </tr>\n    <tr>\n      <th>(15, 35]</th>\n      <td>0</td>\n      <td>0</td>\n      <td>150</td>\n      <td>0</td>\n      <td>0</td>\n      <td>0</td>\n      <td>0</td>\n      <td>0</td>\n      <td>0</td>\n      <td>0</td>\n      <td>...</td>\n      <td>0</td>\n      <td>0</td>\n      <td>0</td>\n      <td>205</td>\n      <td>0</td>\n      <td>0</td>\n      <td>0</td>\n      <td>0</td>\n      <td>0</td>\n      <td>0</td>\n    </tr>\n    <tr>\n      <th rowspan=\"2\" valign=\"top\">PARIS 12E ARRDT</th>\n      <th>(0, 15]</th>\n      <td>0</td>\n      <td>15</td>\n      <td>170</td>\n      <td>20</td>\n      <td>55</td>\n      <td>0</td>\n      <td>20</td>\n      <td>40</td>\n      <td>0</td>\n      <td>0</td>\n      <td>...</td>\n      <td>75</td>\n      <td>0</td>\n      <td>115</td>\n      <td>190</td>\n      <td>90</td>\n      <td>95</td>\n      <td>0</td>\n      <td>160</td>\n      <td>0</td>\n      <td>0</td>\n    </tr>\n    <tr>\n      <th>(15, 35]</th>\n      <td>0</td>\n      <td>0</td>\n      <td>180</td>\n      <td>0</td>\n      <td>0</td>\n      <td>0</td>\n      <td>0</td>\n      <td>0</td>\n      <td>0</td>\n      <td>0</td>\n      <td>...</td>\n      <td>0</td>\n      <td>0</td>\n      <td>0</td>\n      <td>150</td>\n      <td>0</td>\n      <td>0</td>\n      <td>0</td>\n      <td>298</td>\n      <td>0</td>\n      <td>0</td>\n    </tr>\n    <tr>\n      <th rowspan=\"2\" valign=\"top\">PARIS 13E ARRDT</th>\n      <th>(0, 15]</th>\n      <td>0</td>\n      <td>35</td>\n      <td>240</td>\n      <td>0</td>\n      <td>90</td>\n      <td>40</td>\n      <td>30</td>\n      <td>50</td>\n      <td>22</td>\n      <td>0</td>\n      <td>...</td>\n      <td>0</td>\n      <td>0</td>\n      <td>190</td>\n      <td>230</td>\n      <td>165</td>\n      <td>30</td>\n      <td>0</td>\n      <td>133</td>\n      <td>0</td>\n      <td>0</td>\n    </tr>\n    <tr>\n      <th>(15, 35]</th>\n      <td>0</td>\n      <td>0</td>\n      <td>230</td>\n      <td>0</td>\n      <td>115</td>\n      <td>0</td>\n      <td>0</td>\n      <td>0</td>\n      <td>0</td>\n      <td>0</td>\n      <td>...</td>\n      <td>0</td>\n      <td>0</td>\n      <td>0</td>\n      <td>280</td>\n      <td>0</td>\n      <td>0</td>\n      <td>0</td>\n      <td>0</td>\n      <td>0</td>\n      <td>0</td>\n    </tr>\n    <tr>\n      <th rowspan=\"2\" valign=\"top\">PARIS 14E ARRDT</th>\n      <th>(0, 15]</th>\n      <td>0</td>\n      <td>15</td>\n      <td>320</td>\n      <td>0</td>\n      <td>195</td>\n      <td>0</td>\n      <td>0</td>\n      <td>35</td>\n      <td>0</td>\n      <td>0</td>\n      <td>...</td>\n      <td>0</td>\n      <td>0</td>\n      <td>190</td>\n      <td>1230</td>\n      <td>80</td>\n      <td>90</td>\n      <td>0</td>\n      <td>239</td>\n      <td>0</td>\n      <td>65</td>\n    </tr>\n    <tr>\n      <th>(15, 35]</th>\n      <td>0</td>\n      <td>0</td>\n      <td>184</td>\n      <td>0</td>\n      <td>0</td>\n      <td>0</td>\n      <td>0</td>\n      <td>0</td>\n      <td>0</td>\n      <td>0</td>\n      <td>...</td>\n      <td>0</td>\n      <td>0</td>\n      <td>195</td>\n      <td>351</td>\n      <td>0</td>\n      <td>0</td>\n      <td>0</td>\n      <td>238</td>\n      <td>0</td>\n      <td>0</td>\n    </tr>\n    <tr>\n      <th rowspan=\"2\" valign=\"top\">PARIS 15E ARRDT</th>\n      <th>(0, 15]</th>\n      <td>0</td>\n      <td>20</td>\n      <td>300</td>\n      <td>0</td>\n      <td>112</td>\n      <td>0</td>\n      <td>0</td>\n      <td>40</td>\n      <td>0</td>\n      <td>0</td>\n      <td>...</td>\n      <td>0</td>\n      <td>0</td>\n      <td>70</td>\n      <td>660</td>\n      <td>70</td>\n      <td>0</td>\n      <td>0</td>\n      <td>105</td>\n      <td>0</td>\n      <td>25</td>\n    </tr>\n    <tr>\n      <th>(15, 35]</th>\n      <td>0</td>\n      <td>0</td>\n      <td>165</td>\n      <td>0</td>\n      <td>0</td>\n      <td>0</td>\n      <td>0</td>\n      <td>0</td>\n      <td>0</td>\n      <td>0</td>\n      <td>...</td>\n      <td>0</td>\n      <td>0</td>\n      <td>0</td>\n      <td>250</td>\n      <td>0</td>\n      <td>0</td>\n      <td>0</td>\n      <td>0</td>\n      <td>0</td>\n      <td>0</td>\n    </tr>\n    <tr>\n      <th rowspan=\"2\" valign=\"top\">PARIS 16E ARRDT</th>\n      <th>(0, 15]</th>\n      <td>0</td>\n      <td>10</td>\n      <td>290</td>\n      <td>0</td>\n      <td>50</td>\n      <td>0</td>\n      <td>0</td>\n      <td>20</td>\n      <td>0</td>\n      <td>182</td>\n      <td>...</td>\n      <td>120</td>\n      <td>15</td>\n      <td>140</td>\n      <td>440</td>\n      <td>70</td>\n      <td>90</td>\n      <td>0</td>\n      <td>140</td>\n      <td>0</td>\n      <td>83</td>\n    </tr>\n    <tr>\n      <th>(15, 35]</th>\n      <td>0</td>\n      <td>0</td>\n      <td>495</td>\n      <td>0</td>\n      <td>0</td>\n      <td>0</td>\n      <td>0</td>\n      <td>0</td>\n      <td>0</td>\n      <td>0</td>\n      <td>...</td>\n      <td>0</td>\n      <td>0</td>\n      <td>0</td>\n      <td>280</td>\n      <td>0</td>\n      <td>0</td>\n      <td>0</td>\n      <td>196</td>\n      <td>0</td>\n      <td>0</td>\n    </tr>\n    <tr>\n      <th rowspan=\"2\" valign=\"top\">PARIS 17E ARRDT</th>\n      <th>(0, 15]</th>\n      <td>0</td>\n      <td>70</td>\n      <td>130</td>\n      <td>0</td>\n      <td>55</td>\n      <td>28</td>\n      <td>50</td>\n      <td>70</td>\n      <td>0</td>\n      <td>35</td>\n      <td>...</td>\n      <td>0</td>\n      <td>0</td>\n      <td>10</td>\n      <td>213</td>\n      <td>69</td>\n      <td>70</td>\n      <td>0</td>\n      <td>115</td>\n      <td>0</td>\n      <td>55</td>\n    </tr>\n    <tr>\n      <th>(15, 35]</th>\n      <td>0</td>\n      <td>0</td>\n      <td>150</td>\n      <td>0</td>\n      <td>0</td>\n      <td>0</td>\n      <td>0</td>\n      <td>0</td>\n      <td>0</td>\n      <td>0</td>\n      <td>...</td>\n      <td>0</td>\n      <td>0</td>\n      <td>110</td>\n      <td>280</td>\n      <td>0</td>\n      <td>0</td>\n      <td>0</td>\n      <td>240</td>\n      <td>0</td>\n      <td>0</td>\n    </tr>\n    <tr>\n      <th rowspan=\"2\" valign=\"top\">PARIS 18E ARRDT</th>\n      <th>(0, 15]</th>\n      <td>0</td>\n      <td>20</td>\n      <td>170</td>\n      <td>0</td>\n      <td>15</td>\n      <td>25</td>\n      <td>60</td>\n      <td>35</td>\n      <td>0</td>\n      <td>0</td>\n      <td>...</td>\n      <td>0</td>\n      <td>0</td>\n      <td>90</td>\n      <td>250</td>\n      <td>80</td>\n      <td>30</td>\n      <td>50</td>\n      <td>130</td>\n      <td>0</td>\n      <td>20</td>\n    </tr>\n    <tr>\n      <th>(15, 35]</th>\n      <td>0</td>\n      <td>0</td>\n      <td>345</td>\n      <td>0</td>\n      <td>0</td>\n      <td>0</td>\n      <td>0</td>\n      <td>0</td>\n      <td>0</td>\n      <td>0</td>\n      <td>...</td>\n      <td>0</td>\n      <td>0</td>\n      <td>0</td>\n      <td>380</td>\n      <td>0</td>\n      <td>0</td>\n      <td>0</td>\n      <td>0</td>\n      <td>0</td>\n      <td>0</td>\n    </tr>\n    <tr>\n      <th rowspan=\"2\" valign=\"top\">PARIS 19E ARRDT</th>\n      <th>(0, 15]</th>\n      <td>0</td>\n      <td>12</td>\n      <td>189</td>\n      <td>0</td>\n      <td>105</td>\n      <td>0</td>\n      <td>0</td>\n      <td>50</td>\n      <td>20</td>\n      <td>0</td>\n      <td>...</td>\n      <td>0</td>\n      <td>0</td>\n      <td>85</td>\n      <td>215</td>\n      <td>75</td>\n      <td>70</td>\n      <td>0</td>\n      <td>130</td>\n      <td>0</td>\n      <td>130</td>\n    </tr>\n    <tr>\n      <th>(15, 35]</th>\n      <td>0</td>\n      <td>0</td>\n      <td>250</td>\n      <td>0</td>\n      <td>0</td>\n      <td>0</td>\n      <td>0</td>\n      <td>0</td>\n      <td>0</td>\n      <td>0</td>\n      <td>...</td>\n      <td>0</td>\n      <td>0</td>\n      <td>0</td>\n      <td>345</td>\n      <td>0</td>\n      <td>0</td>\n      <td>0</td>\n      <td>270</td>\n      <td>0</td>\n      <td>0</td>\n    </tr>\n    <tr>\n      <th rowspan=\"2\" valign=\"top\">PARIS 1ER ARRDT</th>\n      <th>(0, 15]</th>\n      <td>0</td>\n      <td>0</td>\n      <td>220</td>\n      <td>0</td>\n      <td>25</td>\n      <td>0</td>\n      <td>0</td>\n      <td>0</td>\n      <td>0</td>\n      <td>0</td>\n      <td>...</td>\n      <td>0</td>\n      <td>0</td>\n      <td>0</td>\n      <td>125</td>\n      <td>0</td>\n      <td>0</td>\n      <td>0</td>\n      <td>0</td>\n      <td>0</td>\n      <td>0</td>\n    </tr>\n    <tr>\n      <th>(15, 35]</th>\n      <td>0</td>\n      <td>0</td>\n      <td>0</td>\n      <td>0</td>\n      <td>0</td>\n      <td>0</td>\n      <td>0</td>\n      <td>0</td>\n      <td>0</td>\n      <td>0</td>\n      <td>...</td>\n      <td>0</td>\n      <td>0</td>\n      <td>0</td>\n      <td>0</td>\n      <td>0</td>\n      <td>0</td>\n      <td>0</td>\n      <td>0</td>\n      <td>0</td>\n      <td>0</td>\n    </tr>\n    <tr>\n      <th rowspan=\"2\" valign=\"top\">PARIS 20E ARRDT</th>\n      <th>(0, 15]</th>\n      <td>0</td>\n      <td>20</td>\n      <td>430</td>\n      <td>0</td>\n      <td>20</td>\n      <td>0</td>\n      <td>240</td>\n      <td>45</td>\n      <td>0</td>\n      <td>0</td>\n      <td>...</td>\n      <td>30</td>\n      <td>0</td>\n      <td>180</td>\n      <td>18589</td>\n      <td>0</td>\n      <td>45</td>\n      <td>0</td>\n      <td>100</td>\n      <td>15</td>\n      <td>25</td>\n    </tr>\n    <tr>\n      <th>(15, 35]</th>\n      <td>0</td>\n      <td>0</td>\n      <td>240</td>\n      <td>0</td>\n      <td>0</td>\n      <td>0</td>\n      <td>0</td>\n      <td>0</td>\n      <td>0</td>\n      <td>0</td>\n      <td>...</td>\n      <td>0</td>\n      <td>0</td>\n      <td>95</td>\n      <td>265</td>\n      <td>0</td>\n      <td>0</td>\n      <td>0</td>\n      <td>145</td>\n      <td>0</td>\n      <td>0</td>\n    </tr>\n    <tr>\n      <th rowspan=\"2\" valign=\"top\">PARIS 2E ARRDT</th>\n      <th>(0, 15]</th>\n      <td>0</td>\n      <td>0</td>\n      <td>0</td>\n      <td>0</td>\n      <td>0</td>\n      <td>0</td>\n      <td>0</td>\n      <td>25</td>\n      <td>0</td>\n      <td>0</td>\n      <td>...</td>\n      <td>0</td>\n      <td>0</td>\n      <td>0</td>\n      <td>124</td>\n      <td>82</td>\n      <td>0</td>\n      <td>0</td>\n      <td>0</td>\n      <td>0</td>\n      <td>0</td>\n    </tr>\n    <tr>\n      <th>(15, 35]</th>\n      <td>0</td>\n      <td>0</td>\n      <td>0</td>\n      <td>0</td>\n      <td>0</td>\n      <td>0</td>\n      <td>0</td>\n      <td>0</td>\n      <td>0</td>\n      <td>0</td>\n      <td>...</td>\n      <td>0</td>\n      <td>0</td>\n      <td>0</td>\n      <td>170</td>\n      <td>0</td>\n      <td>0</td>\n      <td>0</td>\n      <td>0</td>\n      <td>0</td>\n      <td>0</td>\n    </tr>\n    <tr>\n      <th rowspan=\"2\" valign=\"top\">PARIS 3E ARRDT</th>\n      <th>(0, 15]</th>\n      <td>20</td>\n      <td>0</td>\n      <td>0</td>\n      <td>0</td>\n      <td>45</td>\n      <td>0</td>\n      <td>0</td>\n      <td>12</td>\n      <td>0</td>\n      <td>0</td>\n      <td>...</td>\n      <td>35</td>\n      <td>0</td>\n      <td>0</td>\n      <td>120</td>\n      <td>45</td>\n      <td>0</td>\n      <td>0</td>\n      <td>60</td>\n      <td>0</td>\n      <td>13</td>\n    </tr>\n    <tr>\n      <th>(15, 35]</th>\n      <td>0</td>\n      <td>0</td>\n      <td>0</td>\n      <td>0</td>\n      <td>0</td>\n      <td>0</td>\n      <td>0</td>\n      <td>0</td>\n      <td>0</td>\n      <td>0</td>\n      <td>...</td>\n      <td>0</td>\n      <td>0</td>\n      <td>0</td>\n      <td>215</td>\n      <td>0</td>\n      <td>0</td>\n      <td>0</td>\n      <td>0</td>\n      <td>0</td>\n      <td>0</td>\n    </tr>\n    <tr>\n      <th rowspan=\"2\" valign=\"top\">PARIS 4E ARRDT</th>\n      <th>(0, 15]</th>\n      <td>0</td>\n      <td>0</td>\n      <td>0</td>\n      <td>0</td>\n      <td>0</td>\n      <td>0</td>\n      <td>0</td>\n      <td>0</td>\n      <td>0</td>\n      <td>0</td>\n      <td>...</td>\n      <td>200</td>\n      <td>0</td>\n      <td>0</td>\n      <td>185</td>\n      <td>55</td>\n      <td>72</td>\n      <td>0</td>\n      <td>45</td>\n      <td>0</td>\n      <td>30</td>\n    </tr>\n    <tr>\n      <th>(15, 35]</th>\n      <td>0</td>\n      <td>0</td>\n      <td>85</td>\n      <td>0</td>\n      <td>0</td>\n      <td>0</td>\n      <td>0</td>\n      <td>0</td>\n      <td>0</td>\n      <td>0</td>\n      <td>...</td>\n      <td>0</td>\n      <td>0</td>\n      <td>0</td>\n      <td>170</td>\n      <td>0</td>\n      <td>0</td>\n      <td>0</td>\n      <td>0</td>\n      <td>0</td>\n      <td>0</td>\n    </tr>\n    <tr>\n      <th rowspan=\"2\" valign=\"top\">PARIS 5E ARRDT</th>\n      <th>(0, 15]</th>\n      <td>0</td>\n      <td>15</td>\n      <td>150</td>\n      <td>0</td>\n      <td>0</td>\n      <td>0</td>\n      <td>0</td>\n      <td>36</td>\n      <td>0</td>\n      <td>26</td>\n      <td>...</td>\n      <td>67</td>\n      <td>0</td>\n      <td>0</td>\n      <td>285</td>\n      <td>75</td>\n      <td>49</td>\n      <td>0</td>\n      <td>67</td>\n      <td>0</td>\n      <td>0</td>\n    </tr>\n    <tr>\n      <th>(15, 35]</th>\n      <td>0</td>\n      <td>0</td>\n      <td>200</td>\n      <td>0</td>\n      <td>0</td>\n      <td>0</td>\n      <td>0</td>\n      <td>0</td>\n      <td>0</td>\n      <td>0</td>\n      <td>...</td>\n      <td>0</td>\n      <td>0</td>\n      <td>0</td>\n      <td>195</td>\n      <td>0</td>\n      <td>0</td>\n      <td>0</td>\n      <td>0</td>\n      <td>0</td>\n      <td>0</td>\n    </tr>\n    <tr>\n      <th rowspan=\"2\" valign=\"top\">PARIS 6E ARRDT</th>\n      <th>(0, 15]</th>\n      <td>0</td>\n      <td>0</td>\n      <td>0</td>\n      <td>0</td>\n      <td>0</td>\n      <td>0</td>\n      <td>0</td>\n      <td>0</td>\n      <td>0</td>\n      <td>0</td>\n      <td>...</td>\n      <td>0</td>\n      <td>0</td>\n      <td>80</td>\n      <td>280</td>\n      <td>80</td>\n      <td>0</td>\n      <td>0</td>\n      <td>0</td>\n      <td>0</td>\n      <td>0</td>\n    </tr>\n    <tr>\n      <th>(15, 35]</th>\n      <td>0</td>\n      <td>0</td>\n      <td>0</td>\n      <td>0</td>\n      <td>0</td>\n      <td>0</td>\n      <td>0</td>\n      <td>0</td>\n      <td>0</td>\n      <td>0</td>\n      <td>...</td>\n      <td>0</td>\n      <td>0</td>\n      <td>0</td>\n      <td>180</td>\n      <td>0</td>\n      <td>0</td>\n      <td>0</td>\n      <td>0</td>\n      <td>0</td>\n      <td>0</td>\n    </tr>\n    <tr>\n      <th rowspan=\"2\" valign=\"top\">PARIS 7E ARRDT</th>\n      <th>(0, 15]</th>\n      <td>75</td>\n      <td>15</td>\n      <td>140</td>\n      <td>0</td>\n      <td>76</td>\n      <td>0</td>\n      <td>0</td>\n      <td>23</td>\n      <td>0</td>\n      <td>38</td>\n      <td>...</td>\n      <td>0</td>\n      <td>0</td>\n      <td>140</td>\n      <td>9085</td>\n      <td>235</td>\n      <td>100</td>\n      <td>0</td>\n      <td>130</td>\n      <td>0</td>\n      <td>69</td>\n    </tr>\n    <tr>\n      <th>(15, 35]</th>\n      <td>0</td>\n      <td>0</td>\n      <td>215</td>\n      <td>0</td>\n      <td>0</td>\n      <td>0</td>\n      <td>0</td>\n      <td>0</td>\n      <td>0</td>\n      <td>0</td>\n      <td>...</td>\n      <td>0</td>\n      <td>0</td>\n      <td>0</td>\n      <td>1140</td>\n      <td>0</td>\n      <td>0</td>\n      <td>0</td>\n      <td>100</td>\n      <td>0</td>\n      <td>0</td>\n    </tr>\n    <tr>\n      <th rowspan=\"2\" valign=\"top\">PARIS 8E ARRDT</th>\n      <th>(0, 15]</th>\n      <td>0</td>\n      <td>0</td>\n      <td>75</td>\n      <td>0</td>\n      <td>20</td>\n      <td>0</td>\n      <td>0</td>\n      <td>46</td>\n      <td>0</td>\n      <td>0</td>\n      <td>...</td>\n      <td>0</td>\n      <td>0</td>\n      <td>300</td>\n      <td>347</td>\n      <td>0</td>\n      <td>37</td>\n      <td>0</td>\n      <td>119</td>\n      <td>0</td>\n      <td>30</td>\n    </tr>\n    <tr>\n      <th>(15, 35]</th>\n      <td>0</td>\n      <td>0</td>\n      <td>0</td>\n      <td>0</td>\n      <td>0</td>\n      <td>0</td>\n      <td>0</td>\n      <td>0</td>\n      <td>0</td>\n      <td>0</td>\n      <td>...</td>\n      <td>0</td>\n      <td>0</td>\n      <td>0</td>\n      <td>215</td>\n      <td>0</td>\n      <td>0</td>\n      <td>0</td>\n      <td>270</td>\n      <td>0</td>\n      <td>0</td>\n    </tr>\n    <tr>\n      <th rowspan=\"2\" valign=\"top\">PARIS 9E ARRDT</th>\n      <th>(0, 15]</th>\n      <td>0</td>\n      <td>0</td>\n      <td>100</td>\n      <td>0</td>\n      <td>63</td>\n      <td>0</td>\n      <td>40</td>\n      <td>43</td>\n      <td>0</td>\n      <td>0</td>\n      <td>...</td>\n      <td>0</td>\n      <td>0</td>\n      <td>0</td>\n      <td>150</td>\n      <td>30</td>\n      <td>0</td>\n      <td>0</td>\n      <td>50</td>\n      <td>0</td>\n      <td>0</td>\n    </tr>\n    <tr>\n      <th>(15, 35]</th>\n      <td>0</td>\n      <td>0</td>\n      <td>0</td>\n      <td>0</td>\n      <td>0</td>\n      <td>0</td>\n      <td>0</td>\n      <td>0</td>\n      <td>0</td>\n      <td>0</td>\n      <td>...</td>\n      <td>0</td>\n      <td>0</td>\n      <td>0</td>\n      <td>0</td>\n      <td>0</td>\n      <td>0</td>\n      <td>0</td>\n      <td>0</td>\n      <td>0</td>\n      <td>0</td>\n    </tr>\n    <tr>\n      <th rowspan=\"2\" valign=\"top\">SEINE-SAINT-DENIS</th>\n      <th>(0, 15]</th>\n      <td>0</td>\n      <td>20</td>\n      <td>270</td>\n      <td>0</td>\n      <td>52</td>\n      <td>0</td>\n      <td>0</td>\n      <td>30</td>\n      <td>0</td>\n      <td>0</td>\n      <td>...</td>\n      <td>0</td>\n      <td>0</td>\n      <td>145</td>\n      <td>205</td>\n      <td>105</td>\n      <td>20</td>\n      <td>0</td>\n      <td>20</td>\n      <td>0</td>\n      <td>90</td>\n    </tr>\n    <tr>\n      <th>(15, 35]</th>\n      <td>0</td>\n      <td>0</td>\n      <td>0</td>\n      <td>0</td>\n      <td>0</td>\n      <td>0</td>\n      <td>0</td>\n      <td>0</td>\n      <td>0</td>\n      <td>0</td>\n      <td>...</td>\n      <td>0</td>\n      <td>0</td>\n      <td>0</td>\n      <td>280</td>\n      <td>0</td>\n      <td>0</td>\n      <td>0</td>\n      <td>0</td>\n      <td>0</td>\n      <td>0</td>\n    </tr>\n    <tr>\n      <th rowspan=\"2\" valign=\"top\">VAL-DE-MARNE</th>\n      <th>(0, 15]</th>\n      <td>0</td>\n      <td>0</td>\n      <td>55</td>\n      <td>0</td>\n      <td>40</td>\n      <td>0</td>\n      <td>0</td>\n      <td>35</td>\n      <td>0</td>\n      <td>0</td>\n      <td>...</td>\n      <td>0</td>\n      <td>0</td>\n      <td>120</td>\n      <td>2130</td>\n      <td>250</td>\n      <td>0</td>\n      <td>0</td>\n      <td>0</td>\n      <td>45</td>\n      <td>85</td>\n    </tr>\n    <tr>\n      <th>(15, 35]</th>\n      <td>0</td>\n      <td>0</td>\n      <td>0</td>\n      <td>0</td>\n      <td>0</td>\n      <td>0</td>\n      <td>0</td>\n      <td>0</td>\n      <td>0</td>\n      <td>0</td>\n      <td>...</td>\n      <td>0</td>\n      <td>0</td>\n      <td>0</td>\n      <td>260</td>\n      <td>0</td>\n      <td>0</td>\n      <td>0</td>\n      <td>0</td>\n      <td>0</td>\n      <td>0</td>\n    </tr>\n  </tbody>\n</table>\n<p>50 rows × 172 columns</p>\n</div>"
     },
     "execution_count": 35,
     "metadata": {},
     "output_type": "execute_result"
    }
   ],
   "source": [
    "hauteur = pd.cut(arbres['hauteur_m'],[0,15,35])\n",
    "arbres.pivot_table('circonference_cm', ['arrondissement', hauteur], columns='libelle_francais', aggfunc=np.max, fill_value=0, observed=True)"
   ]
  },
  {
   "cell_type": "markdown",
   "metadata": {
    "id": "biyZ0W-3EJRO"
   },
   "source": [
    "# Graphique\n"
   ]
  },
  {
   "cell_type": "code",
   "execution_count": 36,
   "metadata": {
    "colab": {
     "base_uri": "https://localhost:8080/"
    },
    "executionInfo": {
     "elapsed": 17,
     "status": "ok",
     "timestamp": 1638883081156,
     "user": {
      "displayName": "antony coco",
      "photoUrl": "https://lh3.googleusercontent.com/a-/AOh14GjITzgEfRlstqx8C3JFJpWFO9o1MEq95k4SY2KPtg=s64",
      "userId": "10048713901788815038"
     },
     "user_tz": -60
    },
    "id": "g1r3gjq_EFiU",
    "outputId": "46853408-76ef-4427-ee92-9048540aff9a"
   },
   "outputs": [
    {
     "data": {
      "text/plain": "count    200137.000000\nmean         13.110509\nstd        1971.217387\nmin           0.000000\n25%           5.000000\n50%           8.000000\n75%          12.000000\nmax      881818.000000\nName: hauteur_m, dtype: float64"
     },
     "execution_count": 36,
     "metadata": {},
     "output_type": "execute_result"
    }
   ],
   "source": [
    "hauteur = arbres.hauteur_m\n",
    "arbres.hauteur_m.describe()"
   ]
  },
  {
   "cell_type": "code",
   "execution_count": 37,
   "metadata": {
    "colab": {
     "base_uri": "https://localhost:8080/"
    },
    "executionInfo": {
     "elapsed": 15,
     "status": "ok",
     "timestamp": 1638883081156,
     "user": {
      "displayName": "antony coco",
      "photoUrl": "https://lh3.googleusercontent.com/a-/AOh14GjITzgEfRlstqx8C3JFJpWFO9o1MEq95k4SY2KPtg=s64",
      "userId": "10048713901788815038"
     },
     "user_tz": -60
    },
    "id": "c3l0aA35Rtqn",
    "outputId": "d91fe691-7dc2-4d31-bf40-8f58cde6979a"
   },
   "outputs": [
    {
     "data": {
      "text/plain": "<AxesSubplot:>"
     },
     "execution_count": 37,
     "metadata": {},
     "output_type": "execute_result"
    },
    {
     "data": {
      "text/plain": "<Figure size 432x288 with 1 Axes>",
      "image/png": "[encoded data removed]"
     },
     "metadata": {
      "needs_background": "light"
     },
     "output_type": "display_data"
    }
   ],
   "source": [
    "hauteur.max(skipna=True)\n",
    "hauteur.hist()\n",
    "# circonference = arbres.circonference_cm.values.reshape(-1,1)\n",
    "# arbres.circonference_cm.values.reshape(-1,1)\n"
   ]
  },
  {
   "cell_type": "code",
   "execution_count": 37,
   "metadata": {
    "id": "MdWrbHwfR-wO"
   },
   "outputs": [],
   "source": []
  },
  {
   "cell_type": "code",
   "execution_count": 37,
   "metadata": {},
   "outputs": [],
   "source": []
  }
 ],
 "metadata": {
  "colab": {
   "authorship_tag": "ABX9TyMafbE/cCfT1ZtKsUd/ASmK",
   "collapsed_sections": [],
   "mount_file_id": "1SO0Vyo60ZRPJAvDp-CL7A2gKkVBm2wIq",
   "name": "Smart-City.ipynb",
   "provenance": []
  },
  "kernelspec": {
   "display_name": "Python 3 (ipykernel)",
   "language": "python",
   "name": "python3"
  },
  "language_info": {
   "codemirror_mode": {
    "name": "ipython",
    "version": 3
   },
   "file_extension": ".py",
   "mimetype": "text/x-python",
   "name": "python",
   "nbconvert_exporter": "python",
   "pygments_lexer": "ipython3",
   "version": "3.9.7"
  }
 },
 "nbformat": 4,
 "nbformat_minor": 1
}